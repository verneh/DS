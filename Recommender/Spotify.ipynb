{
 "cells": [
  {
   "cell_type": "markdown",
   "metadata": {},
   "source": [
    "We're here today to examine my Spotify playlist entitled <a href=https://open.spotify.com/playlist/6NEO9UMjh1buQqiRTqurLa>Electronic, Trap, Chiptune, etc.</a>\n",
    "\n",
    "For this notebook, I want to know what type of characteristics of a song will fit in my playlist.\n",
    "\n",
    "We will be comparing this to songs from a more recent playlist from  <a href=https://open.spotify.com/playlist/5JGIEOoHqA3x8ODIV2mBpf>KISS FM UK | Playlist 2020</a>\n",
    "\n",
    "Big thanks to https://github.com/nabehrens as this was inspired by his/her work.\n",
    "\n"
   ]
  },
  {
   "cell_type": "markdown",
   "metadata": {},
   "source": [
    "# Import"
   ]
  },
  {
   "cell_type": "code",
   "execution_count": 1,
   "metadata": {},
   "outputs": [
    {
     "name": "stderr",
     "output_type": "stream",
     "text": [
      "\n",
      "Bad key \"text.kerning_factor\" on line 4 in\n",
      "/Users/Verne/opt/anaconda3/lib/python3.7/site-packages/matplotlib/mpl-data/stylelib/_classic_test_patch.mplstyle.\n",
      "You probably need to get an updated matplotlibrc file from\n",
      "https://github.com/matplotlib/matplotlib/blob/v3.1.3/matplotlibrc.template\n",
      "or from the matplotlib source distribution\n"
     ]
    }
   ],
   "source": [
    "import pandas as pd #Dataframe, Series\n",
    "import numpy as np\n",
    "\n",
    "from sklearn import tree\n",
    "from sklearn.tree import DecisionTreeClassifier\n",
    "from sklearn.model_selection import train_test_split\n",
    "from sklearn.metrics import classification_report\n",
    "from sklearn.model_selection import cross_val_score\n",
    "\n",
    "from matplotlib import pyplot as plt\n",
    "import seaborn as sns\n",
    "\n",
    "import graphviz\n",
    "import pydotplus\n",
    "import io\n",
    "\n",
    "from scipy import misc\n",
    "\n",
    "from sklearn.metrics import accuracy_score\n",
    "\n",
    "import spotipy\n",
    "import spotipy.util as util\n",
    "import spotipy.oauth2 as oauth2\n",
    "\n",
    "%matplotlib inline\n",
    "\n",
    "import warnings\n",
    "warnings.filterwarnings('ignore')"
   ]
  },
  {
   "cell_type": "markdown",
   "metadata": {},
   "source": [
    "# Spotify Login"
   ]
  },
  {
   "cell_type": "code",
   "execution_count": 2,
   "metadata": {},
   "outputs": [],
   "source": [
    "# credentials.\n",
    "user_id = 'Electronic, Trap, Chiptune, etc.'\n",
    "playlist_id = '6NEO9UMjh1buQqiRTqurLa'\n",
    "\n",
    "uk_id = 'KISS FM UK | Playlist 2020'\n",
    "uk_playlist_id = '5JGIEOoHqA3x8ODIV2mBpf'\n",
    "\n",
    "client_id = '5c8bd4e114b6410595f6a14d1e37caec'\n",
    "client_secret = 'ae06517528314243a7a7f52110c989e5'\n",
    "\n"
   ]
  },
  {
   "cell_type": "code",
   "execution_count": 3,
   "metadata": {},
   "outputs": [
    {
     "name": "stdout",
     "output_type": "stream",
     "text": [
      "\n",
      "\n"
     ]
    }
   ],
   "source": [
    "# had to change this to the more recent version to get this to work instead of the redirect uri one.\n",
    "credentials = oauth2.SpotifyClientCredentials(\n",
    "        client_id=client_id,\n",
    "        client_secret=client_secret)\n",
    "\n",
    "token = credentials.get_access_token()"
   ]
  },
  {
   "cell_type": "code",
   "execution_count": 4,
   "metadata": {},
   "outputs": [],
   "source": [
    "sp = spotipy.Spotify(auth=token)"
   ]
  },
  {
   "cell_type": "code",
   "execution_count": 5,
   "metadata": {},
   "outputs": [],
   "source": [
    "own_playlist = sp.user_playlist(user_id, playlist_id)\n",
    "uk_playlist = sp.user_playlist(uk_id, uk_playlist_id)"
   ]
  },
  {
   "cell_type": "code",
   "execution_count": 6,
   "metadata": {},
   "outputs": [
    {
     "name": "stdout",
     "output_type": "stream",
     "text": [
      "108\n"
     ]
    }
   ],
   "source": [
    "# own playlist.\n",
    "own_tracks = own_playlist[\"tracks\"]\n",
    "own_songs = own_tracks[\"items\"] \n",
    "while own_tracks['next']:\n",
    "    own_tracks = sp.next(own_tracks)\n",
    "    for item in own_tracks[\"items\"]:\n",
    "        own_songs.append(item)\n",
    "own_ids = [] \n",
    "print(len(own_songs))\n",
    "for i in range(len(own_songs)):\n",
    "    own_ids.append(own_songs[i]['track']['id'])\n",
    "# own_tracks"
   ]
  },
  {
   "cell_type": "code",
   "execution_count": 7,
   "metadata": {},
   "outputs": [
    {
     "name": "stdout",
     "output_type": "stream",
     "text": [
      "99\n"
     ]
    }
   ],
   "source": [
    "# uk playlist\n",
    "uk_tracks = uk_playlist[\"tracks\"]\n",
    "uk_songs = uk_tracks[\"items\"] \n",
    "while uk_tracks['next']:\n",
    "    uk_tracks = sp.next(uk_tracks)\n",
    "    for item in uk_tracks[\"items\"]:\n",
    "        uk_songs.append(item)\n",
    "uk_ids = [] \n",
    "print(len(uk_songs))\n",
    "for i in range(len(uk_songs)):\n",
    "    uk_ids.append(uk_songs[i]['track']['id'])\n",
    "\n"
   ]
  },
  {
   "cell_type": "code",
   "execution_count": 8,
   "metadata": {},
   "outputs": [],
   "source": [
    "own_artist_pop = []\n",
    "uk_artist_pop = []\n",
    "for i in range(0,len(own_tracks)):\n",
    "    own_tracks"
   ]
  },
  {
   "cell_type": "markdown",
   "metadata": {},
   "source": [
    "# Merge both playlists"
   ]
  },
  {
   "cell_type": "code",
   "execution_count": 9,
   "metadata": {},
   "outputs": [
    {
     "name": "stdout",
     "output_type": "stream",
     "text": [
      "retrying ...3secs\n"
     ]
    }
   ],
   "source": [
    "features = []\n",
    "inSavedTracks = []\n",
    "j = 0\n",
    "for i in range(0,len(own_ids),50):\n",
    "    audio_features = sp.audio_features(own_ids[i:i+50])\n",
    "    for track in audio_features:\n",
    "        features.append(track)\n",
    "        track = own_songs[j]\n",
    "        j= j+1\n",
    "        features[-1]['artist'] = track['track']['artists'][0]['name']\n",
    "        features[-1]['name'] = track['track']['name']\n",
    "        features[-1]['trackPopularity'] = track['track']['popularity']\n",
    "        features[-1]['artistPopularity'] = sp.artist(track['track']['artists'][0]['id'])['popularity']\n",
    "        features[-1]['liked'] = 1\n",
    "j = 0\n",
    "for i in range(0,len(uk_ids),50):\n",
    "    audio_features = sp.audio_features(uk_ids[i:i+50])\n",
    "    for track in audio_features:\n",
    "        features.append(track)\n",
    "        track = own_songs[j]\n",
    "        j= j+1\n",
    "        features[-1]['artist'] = track['track']['artists'][0]['name']\n",
    "        features[-1]['name'] = track['track']['name']\n",
    "        features[-1]['trackPopularity'] = track['track']['popularity']\n",
    "        features[-1]['artistPopularity'] = sp.artist(track['track']['artists'][0]['id'])['popularity']\n",
    "        features[-1]['liked'] = 0"
   ]
  },
  {
   "cell_type": "code",
   "execution_count": 14,
   "metadata": {},
   "outputs": [
    {
     "data": {
      "text/html": [
       "<div>\n",
       "<style scoped>\n",
       "    .dataframe tbody tr th:only-of-type {\n",
       "        vertical-align: middle;\n",
       "    }\n",
       "\n",
       "    .dataframe tbody tr th {\n",
       "        vertical-align: top;\n",
       "    }\n",
       "\n",
       "    .dataframe thead th {\n",
       "        text-align: right;\n",
       "    }\n",
       "</style>\n",
       "<table border=\"1\" class=\"dataframe\">\n",
       "  <thead>\n",
       "    <tr style=\"text-align: right;\">\n",
       "      <th></th>\n",
       "      <th>danceability</th>\n",
       "      <th>energy</th>\n",
       "      <th>key</th>\n",
       "      <th>loudness</th>\n",
       "      <th>mode</th>\n",
       "      <th>speechiness</th>\n",
       "      <th>acousticness</th>\n",
       "      <th>instrumentalness</th>\n",
       "      <th>liveness</th>\n",
       "      <th>valence</th>\n",
       "      <th>...</th>\n",
       "      <th>uri</th>\n",
       "      <th>track_href</th>\n",
       "      <th>analysis_url</th>\n",
       "      <th>duration_ms</th>\n",
       "      <th>time_signature</th>\n",
       "      <th>artist</th>\n",
       "      <th>name</th>\n",
       "      <th>trackPopularity</th>\n",
       "      <th>artistPopularity</th>\n",
       "      <th>liked</th>\n",
       "    </tr>\n",
       "  </thead>\n",
       "  <tbody>\n",
       "    <tr>\n",
       "      <td>0</td>\n",
       "      <td>0.276</td>\n",
       "      <td>0.796</td>\n",
       "      <td>0</td>\n",
       "      <td>-4.499</td>\n",
       "      <td>1</td>\n",
       "      <td>0.0579</td>\n",
       "      <td>0.00293</td>\n",
       "      <td>0.000000</td>\n",
       "      <td>0.1840</td>\n",
       "      <td>0.260</td>\n",
       "      <td>...</td>\n",
       "      <td>spotify:track:3ISYGHoYnu4gos6JNMfL4z</td>\n",
       "      <td>https://api.spotify.com/v1/tracks/3ISYGHoYnu4g...</td>\n",
       "      <td>https://api.spotify.com/v1/audio-analysis/3ISY...</td>\n",
       "      <td>218965</td>\n",
       "      <td>4</td>\n",
       "      <td>Porter Robinson</td>\n",
       "      <td>Shelter</td>\n",
       "      <td>3</td>\n",
       "      <td>66</td>\n",
       "      <td>1</td>\n",
       "    </tr>\n",
       "    <tr>\n",
       "      <td>1</td>\n",
       "      <td>0.586</td>\n",
       "      <td>0.853</td>\n",
       "      <td>1</td>\n",
       "      <td>-2.798</td>\n",
       "      <td>1</td>\n",
       "      <td>0.0498</td>\n",
       "      <td>0.00708</td>\n",
       "      <td>0.003110</td>\n",
       "      <td>0.4010</td>\n",
       "      <td>0.467</td>\n",
       "      <td>...</td>\n",
       "      <td>spotify:track:72yrTOnehmi3S82axqhEkF</td>\n",
       "      <td>https://api.spotify.com/v1/tracks/72yrTOnehmi3...</td>\n",
       "      <td>https://api.spotify.com/v1/audio-analysis/72yr...</td>\n",
       "      <td>188200</td>\n",
       "      <td>3</td>\n",
       "      <td>Wolfgang Gartner</td>\n",
       "      <td>Redline - Radio Edit</td>\n",
       "      <td>10</td>\n",
       "      <td>52</td>\n",
       "      <td>1</td>\n",
       "    </tr>\n",
       "    <tr>\n",
       "      <td>2</td>\n",
       "      <td>0.582</td>\n",
       "      <td>0.603</td>\n",
       "      <td>1</td>\n",
       "      <td>-6.776</td>\n",
       "      <td>1</td>\n",
       "      <td>0.0295</td>\n",
       "      <td>0.25200</td>\n",
       "      <td>0.000613</td>\n",
       "      <td>0.0706</td>\n",
       "      <td>0.307</td>\n",
       "      <td>...</td>\n",
       "      <td>spotify:track:70ZvEYmbe5jMKv6xJr97Yc</td>\n",
       "      <td>https://api.spotify.com/v1/tracks/70ZvEYmbe5jM...</td>\n",
       "      <td>https://api.spotify.com/v1/audio-analysis/70Zv...</td>\n",
       "      <td>226099</td>\n",
       "      <td>4</td>\n",
       "      <td>Qreepz</td>\n",
       "      <td>Wednesday</td>\n",
       "      <td>19</td>\n",
       "      <td>19</td>\n",
       "      <td>1</td>\n",
       "    </tr>\n",
       "    <tr>\n",
       "      <td>3</td>\n",
       "      <td>0.706</td>\n",
       "      <td>0.321</td>\n",
       "      <td>4</td>\n",
       "      <td>-12.920</td>\n",
       "      <td>1</td>\n",
       "      <td>0.2140</td>\n",
       "      <td>0.61900</td>\n",
       "      <td>0.639000</td>\n",
       "      <td>0.1200</td>\n",
       "      <td>0.105</td>\n",
       "      <td>...</td>\n",
       "      <td>spotify:track:6ECka4UKqtJvFpJUYcbWZY</td>\n",
       "      <td>https://api.spotify.com/v1/tracks/6ECka4UKqtJv...</td>\n",
       "      <td>https://api.spotify.com/v1/audio-analysis/6ECk...</td>\n",
       "      <td>271315</td>\n",
       "      <td>4</td>\n",
       "      <td>Kimyan Law</td>\n",
       "      <td>Eclairage</td>\n",
       "      <td>23</td>\n",
       "      <td>31</td>\n",
       "      <td>1</td>\n",
       "    </tr>\n",
       "    <tr>\n",
       "      <td>4</td>\n",
       "      <td>0.780</td>\n",
       "      <td>0.763</td>\n",
       "      <td>6</td>\n",
       "      <td>-3.908</td>\n",
       "      <td>1</td>\n",
       "      <td>0.0631</td>\n",
       "      <td>0.00425</td>\n",
       "      <td>0.614000</td>\n",
       "      <td>0.6510</td>\n",
       "      <td>0.351</td>\n",
       "      <td>...</td>\n",
       "      <td>spotify:track:6sZmgTsyiF9ObnEniMISIc</td>\n",
       "      <td>https://api.spotify.com/v1/tracks/6sZmgTsyiF9O...</td>\n",
       "      <td>https://api.spotify.com/v1/audio-analysis/6sZm...</td>\n",
       "      <td>371000</td>\n",
       "      <td>4</td>\n",
       "      <td>Zedd</td>\n",
       "      <td>The Legend Of Zelda - Original Mix</td>\n",
       "      <td>0</td>\n",
       "      <td>82</td>\n",
       "      <td>1</td>\n",
       "    </tr>\n",
       "    <tr>\n",
       "      <td>...</td>\n",
       "      <td>...</td>\n",
       "      <td>...</td>\n",
       "      <td>...</td>\n",
       "      <td>...</td>\n",
       "      <td>...</td>\n",
       "      <td>...</td>\n",
       "      <td>...</td>\n",
       "      <td>...</td>\n",
       "      <td>...</td>\n",
       "      <td>...</td>\n",
       "      <td>...</td>\n",
       "      <td>...</td>\n",
       "      <td>...</td>\n",
       "      <td>...</td>\n",
       "      <td>...</td>\n",
       "      <td>...</td>\n",
       "      <td>...</td>\n",
       "      <td>...</td>\n",
       "      <td>...</td>\n",
       "      <td>...</td>\n",
       "      <td>...</td>\n",
       "    </tr>\n",
       "    <tr>\n",
       "      <td>202</td>\n",
       "      <td>0.676</td>\n",
       "      <td>0.771</td>\n",
       "      <td>8</td>\n",
       "      <td>-3.675</td>\n",
       "      <td>1</td>\n",
       "      <td>0.0483</td>\n",
       "      <td>0.02370</td>\n",
       "      <td>0.000007</td>\n",
       "      <td>0.1020</td>\n",
       "      <td>0.569</td>\n",
       "      <td>...</td>\n",
       "      <td>spotify:track:3jjujdWJ72nww5eGnfs2E7</td>\n",
       "      <td>https://api.spotify.com/v1/tracks/3jjujdWJ72nw...</td>\n",
       "      <td>https://api.spotify.com/v1/audio-analysis/3jju...</td>\n",
       "      <td>207133</td>\n",
       "      <td>4</td>\n",
       "      <td>Kacey Musgraves</td>\n",
       "      <td>High Horse</td>\n",
       "      <td>68</td>\n",
       "      <td>75</td>\n",
       "      <td>0</td>\n",
       "    </tr>\n",
       "    <tr>\n",
       "      <td>203</td>\n",
       "      <td>0.774</td>\n",
       "      <td>0.747</td>\n",
       "      <td>1</td>\n",
       "      <td>-3.908</td>\n",
       "      <td>0</td>\n",
       "      <td>0.0820</td>\n",
       "      <td>0.02410</td>\n",
       "      <td>0.000006</td>\n",
       "      <td>0.3420</td>\n",
       "      <td>0.833</td>\n",
       "      <td>...</td>\n",
       "      <td>spotify:track:6fenHIxXuuzKB55wY4WCHP</td>\n",
       "      <td>https://api.spotify.com/v1/tracks/6fenHIxXuuzK...</td>\n",
       "      <td>https://api.spotify.com/v1/audio-analysis/6fen...</td>\n",
       "      <td>168125</td>\n",
       "      <td>4</td>\n",
       "      <td>AdhesiveWombat</td>\n",
       "      <td>8 Bit Adventure</td>\n",
       "      <td>37</td>\n",
       "      <td>36</td>\n",
       "      <td>0</td>\n",
       "    </tr>\n",
       "    <tr>\n",
       "      <td>204</td>\n",
       "      <td>0.795</td>\n",
       "      <td>0.779</td>\n",
       "      <td>11</td>\n",
       "      <td>-5.413</td>\n",
       "      <td>1</td>\n",
       "      <td>0.1770</td>\n",
       "      <td>0.10900</td>\n",
       "      <td>0.000014</td>\n",
       "      <td>0.0836</td>\n",
       "      <td>0.783</td>\n",
       "      <td>...</td>\n",
       "      <td>spotify:track:584UC3Qpm8SbYd7aRWKREu</td>\n",
       "      <td>https://api.spotify.com/v1/tracks/584UC3Qpm8Sb...</td>\n",
       "      <td>https://api.spotify.com/v1/audio-analysis/584U...</td>\n",
       "      <td>211787</td>\n",
       "      <td>4</td>\n",
       "      <td>Kaskade</td>\n",
       "      <td>Steppin' Out</td>\n",
       "      <td>29</td>\n",
       "      <td>71</td>\n",
       "      <td>0</td>\n",
       "    </tr>\n",
       "    <tr>\n",
       "      <td>205</td>\n",
       "      <td>0.531</td>\n",
       "      <td>0.750</td>\n",
       "      <td>10</td>\n",
       "      <td>-5.831</td>\n",
       "      <td>0</td>\n",
       "      <td>0.1110</td>\n",
       "      <td>0.00632</td>\n",
       "      <td>0.000076</td>\n",
       "      <td>0.1170</td>\n",
       "      <td>0.198</td>\n",
       "      <td>...</td>\n",
       "      <td>spotify:track:57vxBYXtHMk6H1aD29V7PU</td>\n",
       "      <td>https://api.spotify.com/v1/tracks/57vxBYXtHMk6...</td>\n",
       "      <td>https://api.spotify.com/v1/audio-analysis/57vx...</td>\n",
       "      <td>200080</td>\n",
       "      <td>4</td>\n",
       "      <td>Jamiroquai</td>\n",
       "      <td>Time Won't Wait</td>\n",
       "      <td>45</td>\n",
       "      <td>69</td>\n",
       "      <td>0</td>\n",
       "    </tr>\n",
       "    <tr>\n",
       "      <td>206</td>\n",
       "      <td>0.603</td>\n",
       "      <td>0.865</td>\n",
       "      <td>9</td>\n",
       "      <td>-6.913</td>\n",
       "      <td>1</td>\n",
       "      <td>0.0340</td>\n",
       "      <td>0.00991</td>\n",
       "      <td>0.022700</td>\n",
       "      <td>0.2030</td>\n",
       "      <td>0.287</td>\n",
       "      <td>...</td>\n",
       "      <td>spotify:track:6rO7Ljvkmj4ESCIcGEsVdT</td>\n",
       "      <td>https://api.spotify.com/v1/tracks/6rO7Ljvkmj4E...</td>\n",
       "      <td>https://api.spotify.com/v1/audio-analysis/6rO7...</td>\n",
       "      <td>189498</td>\n",
       "      <td>4</td>\n",
       "      <td>Martin Garrix</td>\n",
       "      <td>These Are The Times (feat. JRM)</td>\n",
       "      <td>69</td>\n",
       "      <td>84</td>\n",
       "      <td>0</td>\n",
       "    </tr>\n",
       "  </tbody>\n",
       "</table>\n",
       "<p>207 rows × 23 columns</p>\n",
       "</div>"
      ],
      "text/plain": [
       "     danceability  energy  key  loudness  mode  speechiness  acousticness  \\\n",
       "0           0.276   0.796    0    -4.499     1       0.0579       0.00293   \n",
       "1           0.586   0.853    1    -2.798     1       0.0498       0.00708   \n",
       "2           0.582   0.603    1    -6.776     1       0.0295       0.25200   \n",
       "3           0.706   0.321    4   -12.920     1       0.2140       0.61900   \n",
       "4           0.780   0.763    6    -3.908     1       0.0631       0.00425   \n",
       "..            ...     ...  ...       ...   ...          ...           ...   \n",
       "202         0.676   0.771    8    -3.675     1       0.0483       0.02370   \n",
       "203         0.774   0.747    1    -3.908     0       0.0820       0.02410   \n",
       "204         0.795   0.779   11    -5.413     1       0.1770       0.10900   \n",
       "205         0.531   0.750   10    -5.831     0       0.1110       0.00632   \n",
       "206         0.603   0.865    9    -6.913     1       0.0340       0.00991   \n",
       "\n",
       "     instrumentalness  liveness  valence  ...  \\\n",
       "0            0.000000    0.1840    0.260  ...   \n",
       "1            0.003110    0.4010    0.467  ...   \n",
       "2            0.000613    0.0706    0.307  ...   \n",
       "3            0.639000    0.1200    0.105  ...   \n",
       "4            0.614000    0.6510    0.351  ...   \n",
       "..                ...       ...      ...  ...   \n",
       "202          0.000007    0.1020    0.569  ...   \n",
       "203          0.000006    0.3420    0.833  ...   \n",
       "204          0.000014    0.0836    0.783  ...   \n",
       "205          0.000076    0.1170    0.198  ...   \n",
       "206          0.022700    0.2030    0.287  ...   \n",
       "\n",
       "                                      uri  \\\n",
       "0    spotify:track:3ISYGHoYnu4gos6JNMfL4z   \n",
       "1    spotify:track:72yrTOnehmi3S82axqhEkF   \n",
       "2    spotify:track:70ZvEYmbe5jMKv6xJr97Yc   \n",
       "3    spotify:track:6ECka4UKqtJvFpJUYcbWZY   \n",
       "4    spotify:track:6sZmgTsyiF9ObnEniMISIc   \n",
       "..                                    ...   \n",
       "202  spotify:track:3jjujdWJ72nww5eGnfs2E7   \n",
       "203  spotify:track:6fenHIxXuuzKB55wY4WCHP   \n",
       "204  spotify:track:584UC3Qpm8SbYd7aRWKREu   \n",
       "205  spotify:track:57vxBYXtHMk6H1aD29V7PU   \n",
       "206  spotify:track:6rO7Ljvkmj4ESCIcGEsVdT   \n",
       "\n",
       "                                            track_href  \\\n",
       "0    https://api.spotify.com/v1/tracks/3ISYGHoYnu4g...   \n",
       "1    https://api.spotify.com/v1/tracks/72yrTOnehmi3...   \n",
       "2    https://api.spotify.com/v1/tracks/70ZvEYmbe5jM...   \n",
       "3    https://api.spotify.com/v1/tracks/6ECka4UKqtJv...   \n",
       "4    https://api.spotify.com/v1/tracks/6sZmgTsyiF9O...   \n",
       "..                                                 ...   \n",
       "202  https://api.spotify.com/v1/tracks/3jjujdWJ72nw...   \n",
       "203  https://api.spotify.com/v1/tracks/6fenHIxXuuzK...   \n",
       "204  https://api.spotify.com/v1/tracks/584UC3Qpm8Sb...   \n",
       "205  https://api.spotify.com/v1/tracks/57vxBYXtHMk6...   \n",
       "206  https://api.spotify.com/v1/tracks/6rO7Ljvkmj4E...   \n",
       "\n",
       "                                          analysis_url duration_ms  \\\n",
       "0    https://api.spotify.com/v1/audio-analysis/3ISY...      218965   \n",
       "1    https://api.spotify.com/v1/audio-analysis/72yr...      188200   \n",
       "2    https://api.spotify.com/v1/audio-analysis/70Zv...      226099   \n",
       "3    https://api.spotify.com/v1/audio-analysis/6ECk...      271315   \n",
       "4    https://api.spotify.com/v1/audio-analysis/6sZm...      371000   \n",
       "..                                                 ...         ...   \n",
       "202  https://api.spotify.com/v1/audio-analysis/3jju...      207133   \n",
       "203  https://api.spotify.com/v1/audio-analysis/6fen...      168125   \n",
       "204  https://api.spotify.com/v1/audio-analysis/584U...      211787   \n",
       "205  https://api.spotify.com/v1/audio-analysis/57vx...      200080   \n",
       "206  https://api.spotify.com/v1/audio-analysis/6rO7...      189498   \n",
       "\n",
       "    time_signature            artist                                name  \\\n",
       "0                4   Porter Robinson                             Shelter   \n",
       "1                3  Wolfgang Gartner                Redline - Radio Edit   \n",
       "2                4            Qreepz                           Wednesday   \n",
       "3                4        Kimyan Law                           Eclairage   \n",
       "4                4              Zedd  The Legend Of Zelda - Original Mix   \n",
       "..             ...               ...                                 ...   \n",
       "202              4   Kacey Musgraves                          High Horse   \n",
       "203              4    AdhesiveWombat                     8 Bit Adventure   \n",
       "204              4           Kaskade                        Steppin' Out   \n",
       "205              4        Jamiroquai                     Time Won't Wait   \n",
       "206              4     Martin Garrix     These Are The Times (feat. JRM)   \n",
       "\n",
       "     trackPopularity artistPopularity liked  \n",
       "0                  3               66     1  \n",
       "1                 10               52     1  \n",
       "2                 19               19     1  \n",
       "3                 23               31     1  \n",
       "4                  0               82     1  \n",
       "..               ...              ...   ...  \n",
       "202               68               75     0  \n",
       "203               37               36     0  \n",
       "204               29               71     0  \n",
       "205               45               69     0  \n",
       "206               69               84     0  \n",
       "\n",
       "[207 rows x 23 columns]"
      ]
     },
     "execution_count": 14,
     "metadata": {},
     "output_type": "execute_result"
    }
   ],
   "source": [
    "join = pd.DataFrame(features)\n",
    "join"
   ]
  },
  {
   "cell_type": "code",
   "execution_count": 15,
   "metadata": {},
   "outputs": [
    {
     "name": "stdout",
     "output_type": "stream",
     "text": [
      "<class 'pandas.core.frame.DataFrame'>\n",
      "RangeIndex: 207 entries, 0 to 206\n",
      "Data columns (total 23 columns):\n",
      "danceability        207 non-null float64\n",
      "energy              207 non-null float64\n",
      "key                 207 non-null int64\n",
      "loudness            207 non-null float64\n",
      "mode                207 non-null int64\n",
      "speechiness         207 non-null float64\n",
      "acousticness        207 non-null float64\n",
      "instrumentalness    207 non-null float64\n",
      "liveness            207 non-null float64\n",
      "valence             207 non-null float64\n",
      "tempo               207 non-null float64\n",
      "type                207 non-null object\n",
      "id                  207 non-null object\n",
      "uri                 207 non-null object\n",
      "track_href          207 non-null object\n",
      "analysis_url        207 non-null object\n",
      "duration_ms         207 non-null int64\n",
      "time_signature      207 non-null int64\n",
      "artist              207 non-null object\n",
      "name                207 non-null object\n",
      "trackPopularity     207 non-null int64\n",
      "artistPopularity    207 non-null int64\n",
      "liked               207 non-null int64\n",
      "dtypes: float64(9), int64(7), object(7)\n",
      "memory usage: 37.3+ KB\n"
     ]
    }
   ],
   "source": [
    "join.info()"
   ]
  },
  {
   "cell_type": "markdown",
   "metadata": {},
   "source": [
    "# Correlation"
   ]
  },
  {
   "cell_type": "code",
   "execution_count": 16,
   "metadata": {},
   "outputs": [],
   "source": [
    "# for the graphs.\n",
    "colors = ['#A8D3DA', '#FFA34D']\n",
    "palette = sns.color_palette(colors)\n",
    "sns.set_palette(palette)\n",
    "sns.set_style('white')"
   ]
  },
  {
   "cell_type": "code",
   "execution_count": 17,
   "metadata": {},
   "outputs": [
    {
     "data": {
      "text/html": [
       "        <script type=\"text/javascript\">\n",
       "        window.PlotlyConfig = {MathJaxConfig: 'local'};\n",
       "        if (window.MathJax) {MathJax.Hub.Config({SVG: {font: \"STIX-Web\"}});}\n",
       "        if (typeof require !== 'undefined') {\n",
       "        require.undef(\"plotly\");\n",
       "        requirejs.config({\n",
       "            paths: {\n",
       "                'plotly': ['https://cdn.plot.ly/plotly-latest.min']\n",
       "            }\n",
       "        });\n",
       "        require(['plotly'], function(Plotly) {\n",
       "            window._Plotly = Plotly;\n",
       "        });\n",
       "        }\n",
       "        </script>\n",
       "        "
      ]
     },
     "metadata": {},
     "output_type": "display_data"
    },
    {
     "data": {
      "application/vnd.plotly.v1+json": {
       "config": {
        "linkText": "Export to plot.ly",
        "plotlyServerURL": "https://plot.ly",
        "showLink": false
       },
       "data": [
        {
         "colorscale": [
          [
           0,
           "#440154"
          ],
          [
           0.1111111111111111,
           "#482878"
          ],
          [
           0.2222222222222222,
           "#3e4989"
          ],
          [
           0.3333333333333333,
           "#31688e"
          ],
          [
           0.4444444444444444,
           "#26828e"
          ],
          [
           0.5555555555555556,
           "#1f9e89"
          ],
          [
           0.6666666666666666,
           "#35b779"
          ],
          [
           0.7777777777777778,
           "#6ece58"
          ],
          [
           0.8888888888888888,
           "#b5de2b"
          ],
          [
           1,
           "#fde725"
          ]
         ],
         "reversescale": true,
         "showscale": true,
         "type": "heatmap",
         "x": [
          "danceability",
          "energy",
          "key",
          "loudness",
          "mode",
          "speechiness",
          "acousticness",
          "instrumentalness",
          "liveness",
          "valence",
          "tempo",
          "duration_ms",
          "time_signature",
          "trackPopularity",
          "artistPopularity",
          "liked"
         ],
         "y": [
          "danceability",
          "energy",
          "key",
          "loudness",
          "mode",
          "speechiness",
          "acousticness",
          "instrumentalness",
          "liveness",
          "valence",
          "tempo",
          "duration_ms",
          "time_signature",
          "trackPopularity",
          "artistPopularity",
          "liked"
         ],
         "z": [
          [
           1,
           -0.07286139704961292,
           0.12111397866866773,
           0.005694457936305874,
           -0.012879376834017794,
           0.23029206911468134,
           0.017851710744263335,
           -0.14127230393556775,
           -0.04624097662134571,
           0.4506144329033769,
           -0.29588376608830685,
           -0.19279263420138182,
           0.027371775709786897,
           0.10468761294632324,
           0.09990624614903612,
           -0.39200789515222406
          ],
          [
           -0.07286139704961292,
           1,
           0.11340431973707484,
           0.7127922935354564,
           0.010263642402028348,
           -0.16426643429742452,
           -0.5106755844196267,
           -0.17549283639209903,
           0.11545688177315487,
           0.2391268334464872,
           0.062099087871471614,
           -0.025513261028694945,
           -0.00816136602259351,
           0.08636147012050958,
           0.17045116374632022,
           0.07031132972548423
          ],
          [
           0.12111397866866773,
           0.11340431973707484,
           1,
           0.11198858470702157,
           -0.20809259051534032,
           0.033955750928375515,
           -0.02881965487376413,
           -0.0810494775151696,
           0.02247376246854641,
           0.1599771282286312,
           -0.013596139318790708,
           -0.10950116819833068,
           0.056402076393340404,
           0.0722492961182326,
           0.08461447709551204,
           -0.15936010990824853
          ],
          [
           0.005694457936305874,
           0.7127922935354564,
           0.11198858470702157,
           1,
           -0.008117288242191477,
           -0.13177386110434702,
           -0.4970009048355085,
           -0.4831000928747678,
           0.16879336039102058,
           0.30685518176307697,
           -0.08352024726867706,
           -0.19561869730350587,
           0.008785713607882432,
           0.06651283312443505,
           0.22096461801429088,
           -0.1341190270965183
          ],
          [
           -0.012879376834017794,
           0.010263642402028348,
           -0.20809259051534032,
           -0.008117288242191477,
           1,
           -0.013406880351195541,
           -0.05901951875862916,
           0.015990383482966452,
           -0.11026894577660032,
           -0.045549382885201384,
           -0.03705313777940983,
           0.0682047705883432,
           -0.0005064237049517584,
           -0.04405083775250886,
           -0.05138093060013169,
           0.02438797551310337
          ],
          [
           0.23029206911468134,
           -0.16426643429742452,
           0.033955750928375515,
           -0.13177386110434702,
           -0.013406880351195541,
           1,
           0.16345386608441614,
           -0.10837943402388321,
           -0.0910412968959417,
           0.19404377723153374,
           0.05448364412521828,
           -0.1652675644313823,
           0.03135541456907717,
           0.05383627837392203,
           -0.003990948140688772,
           -0.19772491182367502
          ],
          [
           0.017851710744263335,
           -0.5106755844196267,
           -0.02881965487376413,
           -0.4970009048355085,
           -0.05901951875862916,
           0.16345386608441614,
           1,
           0.20249004872436238,
           -0.06536973300603603,
           -0.1333311808881967,
           0.020290507223101745,
           -0.06804568375924462,
           0.021656666375570528,
           0.045081029760079036,
           -0.09544497516983988,
           0.022274699004144225
          ],
          [
           -0.14127230393556775,
           -0.17549283639209903,
           -0.0810494775151696,
           -0.4831000928747678,
           0.015990383482966452,
           -0.10837943402388321,
           0.20249004872436238,
           1,
           -0.057619341368492095,
           -0.28738707616959475,
           0.19282341415812587,
           0.47539673472880745,
           -0.06880355316326675,
           -0.08099566525231255,
           -0.23342214613105508,
           0.49082622934031334
          ],
          [
           -0.04624097662134571,
           0.11545688177315487,
           0.02247376246854641,
           0.16879336039102058,
           -0.11026894577660032,
           -0.0910412968959417,
           -0.06536973300603603,
           -0.057619341368492095,
           1,
           -0.008318439687864426,
           -0.08289393047049398,
           -0.07236225672689574,
           -0.09463310188337211,
           0.008974224244427875,
           -0.0009216389561956967,
           0.018261058208615105
          ],
          [
           0.4506144329033769,
           0.2391268334464872,
           0.1599771282286312,
           0.30685518176307697,
           -0.045549382885201384,
           0.19404377723153374,
           -0.1333311808881967,
           -0.28738707616959475,
           -0.008318439687864426,
           1,
           -0.11306992595960867,
           -0.3274719269731655,
           0.02336280715447016,
           0.15354692695451103,
           0.04369100647555165,
           -0.34025161517116065
          ],
          [
           -0.29588376608830685,
           0.062099087871471614,
           -0.013596139318790708,
           -0.08352024726867706,
           -0.03705313777940983,
           0.05448364412521828,
           0.020290507223101745,
           0.19282341415812587,
           -0.08289393047049398,
           -0.11306992595960867,
           1,
           0.047124228408004454,
           -0.06059783358288673,
           -0.13926170969516094,
           -0.0594943570652787,
           0.1919980843828566
          ],
          [
           -0.19279263420138182,
           -0.025513261028694945,
           -0.10950116819833068,
           -0.19561869730350587,
           0.0682047705883432,
           -0.1652675644313823,
           -0.06804568375924462,
           0.47539673472880745,
           -0.07236225672689574,
           -0.3274719269731655,
           0.047124228408004454,
           1,
           -0.07000240454881737,
           -0.13980009869583668,
           -0.060053587392873635,
           0.4481236989096485
          ],
          [
           0.027371775709786897,
           -0.00816136602259351,
           0.056402076393340404,
           0.008785713607882432,
           -0.0005064237049517584,
           0.03135541456907717,
           0.021656666375570528,
           -0.06880355316326675,
           -0.09463310188337211,
           0.02336280715447016,
           -0.06059783358288673,
           -0.07000240454881737,
           1,
           0.08308579420006683,
           -0.032502478591598556,
           -0.06538972989557919
          ],
          [
           0.10468761294632324,
           0.08636147012050958,
           0.0722492961182326,
           0.06651283312443505,
           -0.04405083775250886,
           0.05383627837392203,
           0.045081029760079036,
           -0.08099566525231255,
           0.008974224244427875,
           0.15354692695451103,
           -0.13926170969516094,
           -0.13980009869583668,
           0.08308579420006683,
           1,
           0.3336606560581946,
           0.02275824404263753
          ],
          [
           0.09990624614903612,
           0.17045116374632022,
           0.08461447709551204,
           0.22096461801429088,
           -0.05138093060013169,
           -0.003990948140688772,
           -0.09544497516983988,
           -0.23342214613105508,
           -0.0009216389561956967,
           0.04369100647555165,
           -0.0594943570652787,
           -0.060053587392873635,
           -0.032502478591598556,
           0.3336606560581946,
           1,
           -0.02321965210468344
          ],
          [
           -0.39200789515222406,
           0.07031132972548423,
           -0.15936010990824853,
           -0.1341190270965183,
           0.02438797551310337,
           -0.19772491182367502,
           0.022274699004144225,
           0.49082622934031334,
           0.018261058208615105,
           -0.34025161517116065,
           0.1919980843828566,
           0.4481236989096485,
           -0.06538972989557919,
           0.02275824404263753,
           -0.02321965210468344,
           1
          ]
         ]
        }
       ],
       "layout": {
        "annotations": [
         {
          "font": {
           "color": "#FFFFFF"
          },
          "showarrow": false,
          "text": "1.0",
          "x": "danceability",
          "xref": "x",
          "y": "danceability",
          "yref": "y"
         },
         {
          "font": {
           "color": "#000000"
          },
          "showarrow": false,
          "text": "-0.07",
          "x": "energy",
          "xref": "x",
          "y": "danceability",
          "yref": "y"
         },
         {
          "font": {
           "color": "#000000"
          },
          "showarrow": false,
          "text": "0.12",
          "x": "key",
          "xref": "x",
          "y": "danceability",
          "yref": "y"
         },
         {
          "font": {
           "color": "#000000"
          },
          "showarrow": false,
          "text": "0.01",
          "x": "loudness",
          "xref": "x",
          "y": "danceability",
          "yref": "y"
         },
         {
          "font": {
           "color": "#000000"
          },
          "showarrow": false,
          "text": "-0.01",
          "x": "mode",
          "xref": "x",
          "y": "danceability",
          "yref": "y"
         },
         {
          "font": {
           "color": "#000000"
          },
          "showarrow": false,
          "text": "0.23",
          "x": "speechiness",
          "xref": "x",
          "y": "danceability",
          "yref": "y"
         },
         {
          "font": {
           "color": "#000000"
          },
          "showarrow": false,
          "text": "0.02",
          "x": "acousticness",
          "xref": "x",
          "y": "danceability",
          "yref": "y"
         },
         {
          "font": {
           "color": "#000000"
          },
          "showarrow": false,
          "text": "-0.14",
          "x": "instrumentalness",
          "xref": "x",
          "y": "danceability",
          "yref": "y"
         },
         {
          "font": {
           "color": "#000000"
          },
          "showarrow": false,
          "text": "-0.05",
          "x": "liveness",
          "xref": "x",
          "y": "danceability",
          "yref": "y"
         },
         {
          "font": {
           "color": "#FFFFFF"
          },
          "showarrow": false,
          "text": "0.45",
          "x": "valence",
          "xref": "x",
          "y": "danceability",
          "yref": "y"
         },
         {
          "font": {
           "color": "#000000"
          },
          "showarrow": false,
          "text": "-0.3",
          "x": "tempo",
          "xref": "x",
          "y": "danceability",
          "yref": "y"
         },
         {
          "font": {
           "color": "#000000"
          },
          "showarrow": false,
          "text": "-0.19",
          "x": "duration_ms",
          "xref": "x",
          "y": "danceability",
          "yref": "y"
         },
         {
          "font": {
           "color": "#000000"
          },
          "showarrow": false,
          "text": "0.03",
          "x": "time_signature",
          "xref": "x",
          "y": "danceability",
          "yref": "y"
         },
         {
          "font": {
           "color": "#000000"
          },
          "showarrow": false,
          "text": "0.1",
          "x": "trackPopularity",
          "xref": "x",
          "y": "danceability",
          "yref": "y"
         },
         {
          "font": {
           "color": "#000000"
          },
          "showarrow": false,
          "text": "0.1",
          "x": "artistPopularity",
          "xref": "x",
          "y": "danceability",
          "yref": "y"
         },
         {
          "font": {
           "color": "#000000"
          },
          "showarrow": false,
          "text": "-0.39",
          "x": "liked",
          "xref": "x",
          "y": "danceability",
          "yref": "y"
         },
         {
          "font": {
           "color": "#000000"
          },
          "showarrow": false,
          "text": "-0.07",
          "x": "danceability",
          "xref": "x",
          "y": "energy",
          "yref": "y"
         },
         {
          "font": {
           "color": "#FFFFFF"
          },
          "showarrow": false,
          "text": "1.0",
          "x": "energy",
          "xref": "x",
          "y": "energy",
          "yref": "y"
         },
         {
          "font": {
           "color": "#000000"
          },
          "showarrow": false,
          "text": "0.11",
          "x": "key",
          "xref": "x",
          "y": "energy",
          "yref": "y"
         },
         {
          "font": {
           "color": "#FFFFFF"
          },
          "showarrow": false,
          "text": "0.71",
          "x": "loudness",
          "xref": "x",
          "y": "energy",
          "yref": "y"
         },
         {
          "font": {
           "color": "#000000"
          },
          "showarrow": false,
          "text": "0.01",
          "x": "mode",
          "xref": "x",
          "y": "energy",
          "yref": "y"
         },
         {
          "font": {
           "color": "#000000"
          },
          "showarrow": false,
          "text": "-0.16",
          "x": "speechiness",
          "xref": "x",
          "y": "energy",
          "yref": "y"
         },
         {
          "font": {
           "color": "#000000"
          },
          "showarrow": false,
          "text": "-0.51",
          "x": "acousticness",
          "xref": "x",
          "y": "energy",
          "yref": "y"
         },
         {
          "font": {
           "color": "#000000"
          },
          "showarrow": false,
          "text": "-0.18",
          "x": "instrumentalness",
          "xref": "x",
          "y": "energy",
          "yref": "y"
         },
         {
          "font": {
           "color": "#000000"
          },
          "showarrow": false,
          "text": "0.12",
          "x": "liveness",
          "xref": "x",
          "y": "energy",
          "yref": "y"
         },
         {
          "font": {
           "color": "#000000"
          },
          "showarrow": false,
          "text": "0.24",
          "x": "valence",
          "xref": "x",
          "y": "energy",
          "yref": "y"
         },
         {
          "font": {
           "color": "#000000"
          },
          "showarrow": false,
          "text": "0.06",
          "x": "tempo",
          "xref": "x",
          "y": "energy",
          "yref": "y"
         },
         {
          "font": {
           "color": "#000000"
          },
          "showarrow": false,
          "text": "-0.03",
          "x": "duration_ms",
          "xref": "x",
          "y": "energy",
          "yref": "y"
         },
         {
          "font": {
           "color": "#000000"
          },
          "showarrow": false,
          "text": "-0.01",
          "x": "time_signature",
          "xref": "x",
          "y": "energy",
          "yref": "y"
         },
         {
          "font": {
           "color": "#000000"
          },
          "showarrow": false,
          "text": "0.09",
          "x": "trackPopularity",
          "xref": "x",
          "y": "energy",
          "yref": "y"
         },
         {
          "font": {
           "color": "#000000"
          },
          "showarrow": false,
          "text": "0.17",
          "x": "artistPopularity",
          "xref": "x",
          "y": "energy",
          "yref": "y"
         },
         {
          "font": {
           "color": "#000000"
          },
          "showarrow": false,
          "text": "0.07",
          "x": "liked",
          "xref": "x",
          "y": "energy",
          "yref": "y"
         },
         {
          "font": {
           "color": "#000000"
          },
          "showarrow": false,
          "text": "0.12",
          "x": "danceability",
          "xref": "x",
          "y": "key",
          "yref": "y"
         },
         {
          "font": {
           "color": "#000000"
          },
          "showarrow": false,
          "text": "0.11",
          "x": "energy",
          "xref": "x",
          "y": "key",
          "yref": "y"
         },
         {
          "font": {
           "color": "#FFFFFF"
          },
          "showarrow": false,
          "text": "1.0",
          "x": "key",
          "xref": "x",
          "y": "key",
          "yref": "y"
         },
         {
          "font": {
           "color": "#000000"
          },
          "showarrow": false,
          "text": "0.11",
          "x": "loudness",
          "xref": "x",
          "y": "key",
          "yref": "y"
         },
         {
          "font": {
           "color": "#000000"
          },
          "showarrow": false,
          "text": "-0.21",
          "x": "mode",
          "xref": "x",
          "y": "key",
          "yref": "y"
         },
         {
          "font": {
           "color": "#000000"
          },
          "showarrow": false,
          "text": "0.03",
          "x": "speechiness",
          "xref": "x",
          "y": "key",
          "yref": "y"
         },
         {
          "font": {
           "color": "#000000"
          },
          "showarrow": false,
          "text": "-0.03",
          "x": "acousticness",
          "xref": "x",
          "y": "key",
          "yref": "y"
         },
         {
          "font": {
           "color": "#000000"
          },
          "showarrow": false,
          "text": "-0.08",
          "x": "instrumentalness",
          "xref": "x",
          "y": "key",
          "yref": "y"
         },
         {
          "font": {
           "color": "#000000"
          },
          "showarrow": false,
          "text": "0.02",
          "x": "liveness",
          "xref": "x",
          "y": "key",
          "yref": "y"
         },
         {
          "font": {
           "color": "#000000"
          },
          "showarrow": false,
          "text": "0.16",
          "x": "valence",
          "xref": "x",
          "y": "key",
          "yref": "y"
         },
         {
          "font": {
           "color": "#000000"
          },
          "showarrow": false,
          "text": "-0.01",
          "x": "tempo",
          "xref": "x",
          "y": "key",
          "yref": "y"
         },
         {
          "font": {
           "color": "#000000"
          },
          "showarrow": false,
          "text": "-0.11",
          "x": "duration_ms",
          "xref": "x",
          "y": "key",
          "yref": "y"
         },
         {
          "font": {
           "color": "#000000"
          },
          "showarrow": false,
          "text": "0.06",
          "x": "time_signature",
          "xref": "x",
          "y": "key",
          "yref": "y"
         },
         {
          "font": {
           "color": "#000000"
          },
          "showarrow": false,
          "text": "0.07",
          "x": "trackPopularity",
          "xref": "x",
          "y": "key",
          "yref": "y"
         },
         {
          "font": {
           "color": "#000000"
          },
          "showarrow": false,
          "text": "0.08",
          "x": "artistPopularity",
          "xref": "x",
          "y": "key",
          "yref": "y"
         },
         {
          "font": {
           "color": "#000000"
          },
          "showarrow": false,
          "text": "-0.16",
          "x": "liked",
          "xref": "x",
          "y": "key",
          "yref": "y"
         },
         {
          "font": {
           "color": "#000000"
          },
          "showarrow": false,
          "text": "0.01",
          "x": "danceability",
          "xref": "x",
          "y": "loudness",
          "yref": "y"
         },
         {
          "font": {
           "color": "#FFFFFF"
          },
          "showarrow": false,
          "text": "0.71",
          "x": "energy",
          "xref": "x",
          "y": "loudness",
          "yref": "y"
         },
         {
          "font": {
           "color": "#000000"
          },
          "showarrow": false,
          "text": "0.11",
          "x": "key",
          "xref": "x",
          "y": "loudness",
          "yref": "y"
         },
         {
          "font": {
           "color": "#FFFFFF"
          },
          "showarrow": false,
          "text": "1.0",
          "x": "loudness",
          "xref": "x",
          "y": "loudness",
          "yref": "y"
         },
         {
          "font": {
           "color": "#000000"
          },
          "showarrow": false,
          "text": "-0.01",
          "x": "mode",
          "xref": "x",
          "y": "loudness",
          "yref": "y"
         },
         {
          "font": {
           "color": "#000000"
          },
          "showarrow": false,
          "text": "-0.13",
          "x": "speechiness",
          "xref": "x",
          "y": "loudness",
          "yref": "y"
         },
         {
          "font": {
           "color": "#000000"
          },
          "showarrow": false,
          "text": "-0.5",
          "x": "acousticness",
          "xref": "x",
          "y": "loudness",
          "yref": "y"
         },
         {
          "font": {
           "color": "#000000"
          },
          "showarrow": false,
          "text": "-0.48",
          "x": "instrumentalness",
          "xref": "x",
          "y": "loudness",
          "yref": "y"
         },
         {
          "font": {
           "color": "#000000"
          },
          "showarrow": false,
          "text": "0.17",
          "x": "liveness",
          "xref": "x",
          "y": "loudness",
          "yref": "y"
         },
         {
          "font": {
           "color": "#FFFFFF"
          },
          "showarrow": false,
          "text": "0.31",
          "x": "valence",
          "xref": "x",
          "y": "loudness",
          "yref": "y"
         },
         {
          "font": {
           "color": "#000000"
          },
          "showarrow": false,
          "text": "-0.08",
          "x": "tempo",
          "xref": "x",
          "y": "loudness",
          "yref": "y"
         },
         {
          "font": {
           "color": "#000000"
          },
          "showarrow": false,
          "text": "-0.2",
          "x": "duration_ms",
          "xref": "x",
          "y": "loudness",
          "yref": "y"
         },
         {
          "font": {
           "color": "#000000"
          },
          "showarrow": false,
          "text": "0.01",
          "x": "time_signature",
          "xref": "x",
          "y": "loudness",
          "yref": "y"
         },
         {
          "font": {
           "color": "#000000"
          },
          "showarrow": false,
          "text": "0.07",
          "x": "trackPopularity",
          "xref": "x",
          "y": "loudness",
          "yref": "y"
         },
         {
          "font": {
           "color": "#000000"
          },
          "showarrow": false,
          "text": "0.22",
          "x": "artistPopularity",
          "xref": "x",
          "y": "loudness",
          "yref": "y"
         },
         {
          "font": {
           "color": "#000000"
          },
          "showarrow": false,
          "text": "-0.13",
          "x": "liked",
          "xref": "x",
          "y": "loudness",
          "yref": "y"
         },
         {
          "font": {
           "color": "#000000"
          },
          "showarrow": false,
          "text": "-0.01",
          "x": "danceability",
          "xref": "x",
          "y": "mode",
          "yref": "y"
         },
         {
          "font": {
           "color": "#000000"
          },
          "showarrow": false,
          "text": "0.01",
          "x": "energy",
          "xref": "x",
          "y": "mode",
          "yref": "y"
         },
         {
          "font": {
           "color": "#000000"
          },
          "showarrow": false,
          "text": "-0.21",
          "x": "key",
          "xref": "x",
          "y": "mode",
          "yref": "y"
         },
         {
          "font": {
           "color": "#000000"
          },
          "showarrow": false,
          "text": "-0.01",
          "x": "loudness",
          "xref": "x",
          "y": "mode",
          "yref": "y"
         },
         {
          "font": {
           "color": "#FFFFFF"
          },
          "showarrow": false,
          "text": "1.0",
          "x": "mode",
          "xref": "x",
          "y": "mode",
          "yref": "y"
         },
         {
          "font": {
           "color": "#000000"
          },
          "showarrow": false,
          "text": "-0.01",
          "x": "speechiness",
          "xref": "x",
          "y": "mode",
          "yref": "y"
         },
         {
          "font": {
           "color": "#000000"
          },
          "showarrow": false,
          "text": "-0.06",
          "x": "acousticness",
          "xref": "x",
          "y": "mode",
          "yref": "y"
         },
         {
          "font": {
           "color": "#000000"
          },
          "showarrow": false,
          "text": "0.02",
          "x": "instrumentalness",
          "xref": "x",
          "y": "mode",
          "yref": "y"
         },
         {
          "font": {
           "color": "#000000"
          },
          "showarrow": false,
          "text": "-0.11",
          "x": "liveness",
          "xref": "x",
          "y": "mode",
          "yref": "y"
         },
         {
          "font": {
           "color": "#000000"
          },
          "showarrow": false,
          "text": "-0.05",
          "x": "valence",
          "xref": "x",
          "y": "mode",
          "yref": "y"
         },
         {
          "font": {
           "color": "#000000"
          },
          "showarrow": false,
          "text": "-0.04",
          "x": "tempo",
          "xref": "x",
          "y": "mode",
          "yref": "y"
         },
         {
          "font": {
           "color": "#000000"
          },
          "showarrow": false,
          "text": "0.07",
          "x": "duration_ms",
          "xref": "x",
          "y": "mode",
          "yref": "y"
         },
         {
          "font": {
           "color": "#000000"
          },
          "showarrow": false,
          "text": "-0.0",
          "x": "time_signature",
          "xref": "x",
          "y": "mode",
          "yref": "y"
         },
         {
          "font": {
           "color": "#000000"
          },
          "showarrow": false,
          "text": "-0.04",
          "x": "trackPopularity",
          "xref": "x",
          "y": "mode",
          "yref": "y"
         },
         {
          "font": {
           "color": "#000000"
          },
          "showarrow": false,
          "text": "-0.05",
          "x": "artistPopularity",
          "xref": "x",
          "y": "mode",
          "yref": "y"
         },
         {
          "font": {
           "color": "#000000"
          },
          "showarrow": false,
          "text": "0.02",
          "x": "liked",
          "xref": "x",
          "y": "mode",
          "yref": "y"
         },
         {
          "font": {
           "color": "#000000"
          },
          "showarrow": false,
          "text": "0.23",
          "x": "danceability",
          "xref": "x",
          "y": "speechiness",
          "yref": "y"
         },
         {
          "font": {
           "color": "#000000"
          },
          "showarrow": false,
          "text": "-0.16",
          "x": "energy",
          "xref": "x",
          "y": "speechiness",
          "yref": "y"
         },
         {
          "font": {
           "color": "#000000"
          },
          "showarrow": false,
          "text": "0.03",
          "x": "key",
          "xref": "x",
          "y": "speechiness",
          "yref": "y"
         },
         {
          "font": {
           "color": "#000000"
          },
          "showarrow": false,
          "text": "-0.13",
          "x": "loudness",
          "xref": "x",
          "y": "speechiness",
          "yref": "y"
         },
         {
          "font": {
           "color": "#000000"
          },
          "showarrow": false,
          "text": "-0.01",
          "x": "mode",
          "xref": "x",
          "y": "speechiness",
          "yref": "y"
         },
         {
          "font": {
           "color": "#FFFFFF"
          },
          "showarrow": false,
          "text": "1.0",
          "x": "speechiness",
          "xref": "x",
          "y": "speechiness",
          "yref": "y"
         },
         {
          "font": {
           "color": "#000000"
          },
          "showarrow": false,
          "text": "0.16",
          "x": "acousticness",
          "xref": "x",
          "y": "speechiness",
          "yref": "y"
         },
         {
          "font": {
           "color": "#000000"
          },
          "showarrow": false,
          "text": "-0.11",
          "x": "instrumentalness",
          "xref": "x",
          "y": "speechiness",
          "yref": "y"
         },
         {
          "font": {
           "color": "#000000"
          },
          "showarrow": false,
          "text": "-0.09",
          "x": "liveness",
          "xref": "x",
          "y": "speechiness",
          "yref": "y"
         },
         {
          "font": {
           "color": "#000000"
          },
          "showarrow": false,
          "text": "0.19",
          "x": "valence",
          "xref": "x",
          "y": "speechiness",
          "yref": "y"
         },
         {
          "font": {
           "color": "#000000"
          },
          "showarrow": false,
          "text": "0.05",
          "x": "tempo",
          "xref": "x",
          "y": "speechiness",
          "yref": "y"
         },
         {
          "font": {
           "color": "#000000"
          },
          "showarrow": false,
          "text": "-0.17",
          "x": "duration_ms",
          "xref": "x",
          "y": "speechiness",
          "yref": "y"
         },
         {
          "font": {
           "color": "#000000"
          },
          "showarrow": false,
          "text": "0.03",
          "x": "time_signature",
          "xref": "x",
          "y": "speechiness",
          "yref": "y"
         },
         {
          "font": {
           "color": "#000000"
          },
          "showarrow": false,
          "text": "0.05",
          "x": "trackPopularity",
          "xref": "x",
          "y": "speechiness",
          "yref": "y"
         },
         {
          "font": {
           "color": "#000000"
          },
          "showarrow": false,
          "text": "-0.0",
          "x": "artistPopularity",
          "xref": "x",
          "y": "speechiness",
          "yref": "y"
         },
         {
          "font": {
           "color": "#000000"
          },
          "showarrow": false,
          "text": "-0.2",
          "x": "liked",
          "xref": "x",
          "y": "speechiness",
          "yref": "y"
         },
         {
          "font": {
           "color": "#000000"
          },
          "showarrow": false,
          "text": "0.02",
          "x": "danceability",
          "xref": "x",
          "y": "acousticness",
          "yref": "y"
         },
         {
          "font": {
           "color": "#000000"
          },
          "showarrow": false,
          "text": "-0.51",
          "x": "energy",
          "xref": "x",
          "y": "acousticness",
          "yref": "y"
         },
         {
          "font": {
           "color": "#000000"
          },
          "showarrow": false,
          "text": "-0.03",
          "x": "key",
          "xref": "x",
          "y": "acousticness",
          "yref": "y"
         },
         {
          "font": {
           "color": "#000000"
          },
          "showarrow": false,
          "text": "-0.5",
          "x": "loudness",
          "xref": "x",
          "y": "acousticness",
          "yref": "y"
         },
         {
          "font": {
           "color": "#000000"
          },
          "showarrow": false,
          "text": "-0.06",
          "x": "mode",
          "xref": "x",
          "y": "acousticness",
          "yref": "y"
         },
         {
          "font": {
           "color": "#000000"
          },
          "showarrow": false,
          "text": "0.16",
          "x": "speechiness",
          "xref": "x",
          "y": "acousticness",
          "yref": "y"
         },
         {
          "font": {
           "color": "#FFFFFF"
          },
          "showarrow": false,
          "text": "1.0",
          "x": "acousticness",
          "xref": "x",
          "y": "acousticness",
          "yref": "y"
         },
         {
          "font": {
           "color": "#000000"
          },
          "showarrow": false,
          "text": "0.2",
          "x": "instrumentalness",
          "xref": "x",
          "y": "acousticness",
          "yref": "y"
         },
         {
          "font": {
           "color": "#000000"
          },
          "showarrow": false,
          "text": "-0.07",
          "x": "liveness",
          "xref": "x",
          "y": "acousticness",
          "yref": "y"
         },
         {
          "font": {
           "color": "#000000"
          },
          "showarrow": false,
          "text": "-0.13",
          "x": "valence",
          "xref": "x",
          "y": "acousticness",
          "yref": "y"
         },
         {
          "font": {
           "color": "#000000"
          },
          "showarrow": false,
          "text": "0.02",
          "x": "tempo",
          "xref": "x",
          "y": "acousticness",
          "yref": "y"
         },
         {
          "font": {
           "color": "#000000"
          },
          "showarrow": false,
          "text": "-0.07",
          "x": "duration_ms",
          "xref": "x",
          "y": "acousticness",
          "yref": "y"
         },
         {
          "font": {
           "color": "#000000"
          },
          "showarrow": false,
          "text": "0.02",
          "x": "time_signature",
          "xref": "x",
          "y": "acousticness",
          "yref": "y"
         },
         {
          "font": {
           "color": "#000000"
          },
          "showarrow": false,
          "text": "0.05",
          "x": "trackPopularity",
          "xref": "x",
          "y": "acousticness",
          "yref": "y"
         },
         {
          "font": {
           "color": "#000000"
          },
          "showarrow": false,
          "text": "-0.1",
          "x": "artistPopularity",
          "xref": "x",
          "y": "acousticness",
          "yref": "y"
         },
         {
          "font": {
           "color": "#000000"
          },
          "showarrow": false,
          "text": "0.02",
          "x": "liked",
          "xref": "x",
          "y": "acousticness",
          "yref": "y"
         },
         {
          "font": {
           "color": "#000000"
          },
          "showarrow": false,
          "text": "-0.14",
          "x": "danceability",
          "xref": "x",
          "y": "instrumentalness",
          "yref": "y"
         },
         {
          "font": {
           "color": "#000000"
          },
          "showarrow": false,
          "text": "-0.18",
          "x": "energy",
          "xref": "x",
          "y": "instrumentalness",
          "yref": "y"
         },
         {
          "font": {
           "color": "#000000"
          },
          "showarrow": false,
          "text": "-0.08",
          "x": "key",
          "xref": "x",
          "y": "instrumentalness",
          "yref": "y"
         },
         {
          "font": {
           "color": "#000000"
          },
          "showarrow": false,
          "text": "-0.48",
          "x": "loudness",
          "xref": "x",
          "y": "instrumentalness",
          "yref": "y"
         },
         {
          "font": {
           "color": "#000000"
          },
          "showarrow": false,
          "text": "0.02",
          "x": "mode",
          "xref": "x",
          "y": "instrumentalness",
          "yref": "y"
         },
         {
          "font": {
           "color": "#000000"
          },
          "showarrow": false,
          "text": "-0.11",
          "x": "speechiness",
          "xref": "x",
          "y": "instrumentalness",
          "yref": "y"
         },
         {
          "font": {
           "color": "#000000"
          },
          "showarrow": false,
          "text": "0.2",
          "x": "acousticness",
          "xref": "x",
          "y": "instrumentalness",
          "yref": "y"
         },
         {
          "font": {
           "color": "#FFFFFF"
          },
          "showarrow": false,
          "text": "1.0",
          "x": "instrumentalness",
          "xref": "x",
          "y": "instrumentalness",
          "yref": "y"
         },
         {
          "font": {
           "color": "#000000"
          },
          "showarrow": false,
          "text": "-0.06",
          "x": "liveness",
          "xref": "x",
          "y": "instrumentalness",
          "yref": "y"
         },
         {
          "font": {
           "color": "#000000"
          },
          "showarrow": false,
          "text": "-0.29",
          "x": "valence",
          "xref": "x",
          "y": "instrumentalness",
          "yref": "y"
         },
         {
          "font": {
           "color": "#000000"
          },
          "showarrow": false,
          "text": "0.19",
          "x": "tempo",
          "xref": "x",
          "y": "instrumentalness",
          "yref": "y"
         },
         {
          "font": {
           "color": "#FFFFFF"
          },
          "showarrow": false,
          "text": "0.48",
          "x": "duration_ms",
          "xref": "x",
          "y": "instrumentalness",
          "yref": "y"
         },
         {
          "font": {
           "color": "#000000"
          },
          "showarrow": false,
          "text": "-0.07",
          "x": "time_signature",
          "xref": "x",
          "y": "instrumentalness",
          "yref": "y"
         },
         {
          "font": {
           "color": "#000000"
          },
          "showarrow": false,
          "text": "-0.08",
          "x": "trackPopularity",
          "xref": "x",
          "y": "instrumentalness",
          "yref": "y"
         },
         {
          "font": {
           "color": "#000000"
          },
          "showarrow": false,
          "text": "-0.23",
          "x": "artistPopularity",
          "xref": "x",
          "y": "instrumentalness",
          "yref": "y"
         },
         {
          "font": {
           "color": "#FFFFFF"
          },
          "showarrow": false,
          "text": "0.49",
          "x": "liked",
          "xref": "x",
          "y": "instrumentalness",
          "yref": "y"
         },
         {
          "font": {
           "color": "#000000"
          },
          "showarrow": false,
          "text": "-0.05",
          "x": "danceability",
          "xref": "x",
          "y": "liveness",
          "yref": "y"
         },
         {
          "font": {
           "color": "#000000"
          },
          "showarrow": false,
          "text": "0.12",
          "x": "energy",
          "xref": "x",
          "y": "liveness",
          "yref": "y"
         },
         {
          "font": {
           "color": "#000000"
          },
          "showarrow": false,
          "text": "0.02",
          "x": "key",
          "xref": "x",
          "y": "liveness",
          "yref": "y"
         },
         {
          "font": {
           "color": "#000000"
          },
          "showarrow": false,
          "text": "0.17",
          "x": "loudness",
          "xref": "x",
          "y": "liveness",
          "yref": "y"
         },
         {
          "font": {
           "color": "#000000"
          },
          "showarrow": false,
          "text": "-0.11",
          "x": "mode",
          "xref": "x",
          "y": "liveness",
          "yref": "y"
         },
         {
          "font": {
           "color": "#000000"
          },
          "showarrow": false,
          "text": "-0.09",
          "x": "speechiness",
          "xref": "x",
          "y": "liveness",
          "yref": "y"
         },
         {
          "font": {
           "color": "#000000"
          },
          "showarrow": false,
          "text": "-0.07",
          "x": "acousticness",
          "xref": "x",
          "y": "liveness",
          "yref": "y"
         },
         {
          "font": {
           "color": "#000000"
          },
          "showarrow": false,
          "text": "-0.06",
          "x": "instrumentalness",
          "xref": "x",
          "y": "liveness",
          "yref": "y"
         },
         {
          "font": {
           "color": "#FFFFFF"
          },
          "showarrow": false,
          "text": "1.0",
          "x": "liveness",
          "xref": "x",
          "y": "liveness",
          "yref": "y"
         },
         {
          "font": {
           "color": "#000000"
          },
          "showarrow": false,
          "text": "-0.01",
          "x": "valence",
          "xref": "x",
          "y": "liveness",
          "yref": "y"
         },
         {
          "font": {
           "color": "#000000"
          },
          "showarrow": false,
          "text": "-0.08",
          "x": "tempo",
          "xref": "x",
          "y": "liveness",
          "yref": "y"
         },
         {
          "font": {
           "color": "#000000"
          },
          "showarrow": false,
          "text": "-0.07",
          "x": "duration_ms",
          "xref": "x",
          "y": "liveness",
          "yref": "y"
         },
         {
          "font": {
           "color": "#000000"
          },
          "showarrow": false,
          "text": "-0.09",
          "x": "time_signature",
          "xref": "x",
          "y": "liveness",
          "yref": "y"
         },
         {
          "font": {
           "color": "#000000"
          },
          "showarrow": false,
          "text": "0.01",
          "x": "trackPopularity",
          "xref": "x",
          "y": "liveness",
          "yref": "y"
         },
         {
          "font": {
           "color": "#000000"
          },
          "showarrow": false,
          "text": "-0.0",
          "x": "artistPopularity",
          "xref": "x",
          "y": "liveness",
          "yref": "y"
         },
         {
          "font": {
           "color": "#000000"
          },
          "showarrow": false,
          "text": "0.02",
          "x": "liked",
          "xref": "x",
          "y": "liveness",
          "yref": "y"
         },
         {
          "font": {
           "color": "#FFFFFF"
          },
          "showarrow": false,
          "text": "0.45",
          "x": "danceability",
          "xref": "x",
          "y": "valence",
          "yref": "y"
         },
         {
          "font": {
           "color": "#000000"
          },
          "showarrow": false,
          "text": "0.24",
          "x": "energy",
          "xref": "x",
          "y": "valence",
          "yref": "y"
         },
         {
          "font": {
           "color": "#000000"
          },
          "showarrow": false,
          "text": "0.16",
          "x": "key",
          "xref": "x",
          "y": "valence",
          "yref": "y"
         },
         {
          "font": {
           "color": "#FFFFFF"
          },
          "showarrow": false,
          "text": "0.31",
          "x": "loudness",
          "xref": "x",
          "y": "valence",
          "yref": "y"
         },
         {
          "font": {
           "color": "#000000"
          },
          "showarrow": false,
          "text": "-0.05",
          "x": "mode",
          "xref": "x",
          "y": "valence",
          "yref": "y"
         },
         {
          "font": {
           "color": "#000000"
          },
          "showarrow": false,
          "text": "0.19",
          "x": "speechiness",
          "xref": "x",
          "y": "valence",
          "yref": "y"
         },
         {
          "font": {
           "color": "#000000"
          },
          "showarrow": false,
          "text": "-0.13",
          "x": "acousticness",
          "xref": "x",
          "y": "valence",
          "yref": "y"
         },
         {
          "font": {
           "color": "#000000"
          },
          "showarrow": false,
          "text": "-0.29",
          "x": "instrumentalness",
          "xref": "x",
          "y": "valence",
          "yref": "y"
         },
         {
          "font": {
           "color": "#000000"
          },
          "showarrow": false,
          "text": "-0.01",
          "x": "liveness",
          "xref": "x",
          "y": "valence",
          "yref": "y"
         },
         {
          "font": {
           "color": "#FFFFFF"
          },
          "showarrow": false,
          "text": "1.0",
          "x": "valence",
          "xref": "x",
          "y": "valence",
          "yref": "y"
         },
         {
          "font": {
           "color": "#000000"
          },
          "showarrow": false,
          "text": "-0.11",
          "x": "tempo",
          "xref": "x",
          "y": "valence",
          "yref": "y"
         },
         {
          "font": {
           "color": "#000000"
          },
          "showarrow": false,
          "text": "-0.33",
          "x": "duration_ms",
          "xref": "x",
          "y": "valence",
          "yref": "y"
         },
         {
          "font": {
           "color": "#000000"
          },
          "showarrow": false,
          "text": "0.02",
          "x": "time_signature",
          "xref": "x",
          "y": "valence",
          "yref": "y"
         },
         {
          "font": {
           "color": "#000000"
          },
          "showarrow": false,
          "text": "0.15",
          "x": "trackPopularity",
          "xref": "x",
          "y": "valence",
          "yref": "y"
         },
         {
          "font": {
           "color": "#000000"
          },
          "showarrow": false,
          "text": "0.04",
          "x": "artistPopularity",
          "xref": "x",
          "y": "valence",
          "yref": "y"
         },
         {
          "font": {
           "color": "#000000"
          },
          "showarrow": false,
          "text": "-0.34",
          "x": "liked",
          "xref": "x",
          "y": "valence",
          "yref": "y"
         },
         {
          "font": {
           "color": "#000000"
          },
          "showarrow": false,
          "text": "-0.3",
          "x": "danceability",
          "xref": "x",
          "y": "tempo",
          "yref": "y"
         },
         {
          "font": {
           "color": "#000000"
          },
          "showarrow": false,
          "text": "0.06",
          "x": "energy",
          "xref": "x",
          "y": "tempo",
          "yref": "y"
         },
         {
          "font": {
           "color": "#000000"
          },
          "showarrow": false,
          "text": "-0.01",
          "x": "key",
          "xref": "x",
          "y": "tempo",
          "yref": "y"
         },
         {
          "font": {
           "color": "#000000"
          },
          "showarrow": false,
          "text": "-0.08",
          "x": "loudness",
          "xref": "x",
          "y": "tempo",
          "yref": "y"
         },
         {
          "font": {
           "color": "#000000"
          },
          "showarrow": false,
          "text": "-0.04",
          "x": "mode",
          "xref": "x",
          "y": "tempo",
          "yref": "y"
         },
         {
          "font": {
           "color": "#000000"
          },
          "showarrow": false,
          "text": "0.05",
          "x": "speechiness",
          "xref": "x",
          "y": "tempo",
          "yref": "y"
         },
         {
          "font": {
           "color": "#000000"
          },
          "showarrow": false,
          "text": "0.02",
          "x": "acousticness",
          "xref": "x",
          "y": "tempo",
          "yref": "y"
         },
         {
          "font": {
           "color": "#000000"
          },
          "showarrow": false,
          "text": "0.19",
          "x": "instrumentalness",
          "xref": "x",
          "y": "tempo",
          "yref": "y"
         },
         {
          "font": {
           "color": "#000000"
          },
          "showarrow": false,
          "text": "-0.08",
          "x": "liveness",
          "xref": "x",
          "y": "tempo",
          "yref": "y"
         },
         {
          "font": {
           "color": "#000000"
          },
          "showarrow": false,
          "text": "-0.11",
          "x": "valence",
          "xref": "x",
          "y": "tempo",
          "yref": "y"
         },
         {
          "font": {
           "color": "#FFFFFF"
          },
          "showarrow": false,
          "text": "1.0",
          "x": "tempo",
          "xref": "x",
          "y": "tempo",
          "yref": "y"
         },
         {
          "font": {
           "color": "#000000"
          },
          "showarrow": false,
          "text": "0.05",
          "x": "duration_ms",
          "xref": "x",
          "y": "tempo",
          "yref": "y"
         },
         {
          "font": {
           "color": "#000000"
          },
          "showarrow": false,
          "text": "-0.06",
          "x": "time_signature",
          "xref": "x",
          "y": "tempo",
          "yref": "y"
         },
         {
          "font": {
           "color": "#000000"
          },
          "showarrow": false,
          "text": "-0.14",
          "x": "trackPopularity",
          "xref": "x",
          "y": "tempo",
          "yref": "y"
         },
         {
          "font": {
           "color": "#000000"
          },
          "showarrow": false,
          "text": "-0.06",
          "x": "artistPopularity",
          "xref": "x",
          "y": "tempo",
          "yref": "y"
         },
         {
          "font": {
           "color": "#000000"
          },
          "showarrow": false,
          "text": "0.19",
          "x": "liked",
          "xref": "x",
          "y": "tempo",
          "yref": "y"
         },
         {
          "font": {
           "color": "#000000"
          },
          "showarrow": false,
          "text": "-0.19",
          "x": "danceability",
          "xref": "x",
          "y": "duration_ms",
          "yref": "y"
         },
         {
          "font": {
           "color": "#000000"
          },
          "showarrow": false,
          "text": "-0.03",
          "x": "energy",
          "xref": "x",
          "y": "duration_ms",
          "yref": "y"
         },
         {
          "font": {
           "color": "#000000"
          },
          "showarrow": false,
          "text": "-0.11",
          "x": "key",
          "xref": "x",
          "y": "duration_ms",
          "yref": "y"
         },
         {
          "font": {
           "color": "#000000"
          },
          "showarrow": false,
          "text": "-0.2",
          "x": "loudness",
          "xref": "x",
          "y": "duration_ms",
          "yref": "y"
         },
         {
          "font": {
           "color": "#000000"
          },
          "showarrow": false,
          "text": "0.07",
          "x": "mode",
          "xref": "x",
          "y": "duration_ms",
          "yref": "y"
         },
         {
          "font": {
           "color": "#000000"
          },
          "showarrow": false,
          "text": "-0.17",
          "x": "speechiness",
          "xref": "x",
          "y": "duration_ms",
          "yref": "y"
         },
         {
          "font": {
           "color": "#000000"
          },
          "showarrow": false,
          "text": "-0.07",
          "x": "acousticness",
          "xref": "x",
          "y": "duration_ms",
          "yref": "y"
         },
         {
          "font": {
           "color": "#FFFFFF"
          },
          "showarrow": false,
          "text": "0.48",
          "x": "instrumentalness",
          "xref": "x",
          "y": "duration_ms",
          "yref": "y"
         },
         {
          "font": {
           "color": "#000000"
          },
          "showarrow": false,
          "text": "-0.07",
          "x": "liveness",
          "xref": "x",
          "y": "duration_ms",
          "yref": "y"
         },
         {
          "font": {
           "color": "#000000"
          },
          "showarrow": false,
          "text": "-0.33",
          "x": "valence",
          "xref": "x",
          "y": "duration_ms",
          "yref": "y"
         },
         {
          "font": {
           "color": "#000000"
          },
          "showarrow": false,
          "text": "0.05",
          "x": "tempo",
          "xref": "x",
          "y": "duration_ms",
          "yref": "y"
         },
         {
          "font": {
           "color": "#FFFFFF"
          },
          "showarrow": false,
          "text": "1.0",
          "x": "duration_ms",
          "xref": "x",
          "y": "duration_ms",
          "yref": "y"
         },
         {
          "font": {
           "color": "#000000"
          },
          "showarrow": false,
          "text": "-0.07",
          "x": "time_signature",
          "xref": "x",
          "y": "duration_ms",
          "yref": "y"
         },
         {
          "font": {
           "color": "#000000"
          },
          "showarrow": false,
          "text": "-0.14",
          "x": "trackPopularity",
          "xref": "x",
          "y": "duration_ms",
          "yref": "y"
         },
         {
          "font": {
           "color": "#000000"
          },
          "showarrow": false,
          "text": "-0.06",
          "x": "artistPopularity",
          "xref": "x",
          "y": "duration_ms",
          "yref": "y"
         },
         {
          "font": {
           "color": "#FFFFFF"
          },
          "showarrow": false,
          "text": "0.45",
          "x": "liked",
          "xref": "x",
          "y": "duration_ms",
          "yref": "y"
         },
         {
          "font": {
           "color": "#000000"
          },
          "showarrow": false,
          "text": "0.03",
          "x": "danceability",
          "xref": "x",
          "y": "time_signature",
          "yref": "y"
         },
         {
          "font": {
           "color": "#000000"
          },
          "showarrow": false,
          "text": "-0.01",
          "x": "energy",
          "xref": "x",
          "y": "time_signature",
          "yref": "y"
         },
         {
          "font": {
           "color": "#000000"
          },
          "showarrow": false,
          "text": "0.06",
          "x": "key",
          "xref": "x",
          "y": "time_signature",
          "yref": "y"
         },
         {
          "font": {
           "color": "#000000"
          },
          "showarrow": false,
          "text": "0.01",
          "x": "loudness",
          "xref": "x",
          "y": "time_signature",
          "yref": "y"
         },
         {
          "font": {
           "color": "#000000"
          },
          "showarrow": false,
          "text": "-0.0",
          "x": "mode",
          "xref": "x",
          "y": "time_signature",
          "yref": "y"
         },
         {
          "font": {
           "color": "#000000"
          },
          "showarrow": false,
          "text": "0.03",
          "x": "speechiness",
          "xref": "x",
          "y": "time_signature",
          "yref": "y"
         },
         {
          "font": {
           "color": "#000000"
          },
          "showarrow": false,
          "text": "0.02",
          "x": "acousticness",
          "xref": "x",
          "y": "time_signature",
          "yref": "y"
         },
         {
          "font": {
           "color": "#000000"
          },
          "showarrow": false,
          "text": "-0.07",
          "x": "instrumentalness",
          "xref": "x",
          "y": "time_signature",
          "yref": "y"
         },
         {
          "font": {
           "color": "#000000"
          },
          "showarrow": false,
          "text": "-0.09",
          "x": "liveness",
          "xref": "x",
          "y": "time_signature",
          "yref": "y"
         },
         {
          "font": {
           "color": "#000000"
          },
          "showarrow": false,
          "text": "0.02",
          "x": "valence",
          "xref": "x",
          "y": "time_signature",
          "yref": "y"
         },
         {
          "font": {
           "color": "#000000"
          },
          "showarrow": false,
          "text": "-0.06",
          "x": "tempo",
          "xref": "x",
          "y": "time_signature",
          "yref": "y"
         },
         {
          "font": {
           "color": "#000000"
          },
          "showarrow": false,
          "text": "-0.07",
          "x": "duration_ms",
          "xref": "x",
          "y": "time_signature",
          "yref": "y"
         },
         {
          "font": {
           "color": "#FFFFFF"
          },
          "showarrow": false,
          "text": "1.0",
          "x": "time_signature",
          "xref": "x",
          "y": "time_signature",
          "yref": "y"
         },
         {
          "font": {
           "color": "#000000"
          },
          "showarrow": false,
          "text": "0.08",
          "x": "trackPopularity",
          "xref": "x",
          "y": "time_signature",
          "yref": "y"
         },
         {
          "font": {
           "color": "#000000"
          },
          "showarrow": false,
          "text": "-0.03",
          "x": "artistPopularity",
          "xref": "x",
          "y": "time_signature",
          "yref": "y"
         },
         {
          "font": {
           "color": "#000000"
          },
          "showarrow": false,
          "text": "-0.07",
          "x": "liked",
          "xref": "x",
          "y": "time_signature",
          "yref": "y"
         },
         {
          "font": {
           "color": "#000000"
          },
          "showarrow": false,
          "text": "0.1",
          "x": "danceability",
          "xref": "x",
          "y": "trackPopularity",
          "yref": "y"
         },
         {
          "font": {
           "color": "#000000"
          },
          "showarrow": false,
          "text": "0.09",
          "x": "energy",
          "xref": "x",
          "y": "trackPopularity",
          "yref": "y"
         },
         {
          "font": {
           "color": "#000000"
          },
          "showarrow": false,
          "text": "0.07",
          "x": "key",
          "xref": "x",
          "y": "trackPopularity",
          "yref": "y"
         },
         {
          "font": {
           "color": "#000000"
          },
          "showarrow": false,
          "text": "0.07",
          "x": "loudness",
          "xref": "x",
          "y": "trackPopularity",
          "yref": "y"
         },
         {
          "font": {
           "color": "#000000"
          },
          "showarrow": false,
          "text": "-0.04",
          "x": "mode",
          "xref": "x",
          "y": "trackPopularity",
          "yref": "y"
         },
         {
          "font": {
           "color": "#000000"
          },
          "showarrow": false,
          "text": "0.05",
          "x": "speechiness",
          "xref": "x",
          "y": "trackPopularity",
          "yref": "y"
         },
         {
          "font": {
           "color": "#000000"
          },
          "showarrow": false,
          "text": "0.05",
          "x": "acousticness",
          "xref": "x",
          "y": "trackPopularity",
          "yref": "y"
         },
         {
          "font": {
           "color": "#000000"
          },
          "showarrow": false,
          "text": "-0.08",
          "x": "instrumentalness",
          "xref": "x",
          "y": "trackPopularity",
          "yref": "y"
         },
         {
          "font": {
           "color": "#000000"
          },
          "showarrow": false,
          "text": "0.01",
          "x": "liveness",
          "xref": "x",
          "y": "trackPopularity",
          "yref": "y"
         },
         {
          "font": {
           "color": "#000000"
          },
          "showarrow": false,
          "text": "0.15",
          "x": "valence",
          "xref": "x",
          "y": "trackPopularity",
          "yref": "y"
         },
         {
          "font": {
           "color": "#000000"
          },
          "showarrow": false,
          "text": "-0.14",
          "x": "tempo",
          "xref": "x",
          "y": "trackPopularity",
          "yref": "y"
         },
         {
          "font": {
           "color": "#000000"
          },
          "showarrow": false,
          "text": "-0.14",
          "x": "duration_ms",
          "xref": "x",
          "y": "trackPopularity",
          "yref": "y"
         },
         {
          "font": {
           "color": "#000000"
          },
          "showarrow": false,
          "text": "0.08",
          "x": "time_signature",
          "xref": "x",
          "y": "trackPopularity",
          "yref": "y"
         },
         {
          "font": {
           "color": "#FFFFFF"
          },
          "showarrow": false,
          "text": "1.0",
          "x": "trackPopularity",
          "xref": "x",
          "y": "trackPopularity",
          "yref": "y"
         },
         {
          "font": {
           "color": "#FFFFFF"
          },
          "showarrow": false,
          "text": "0.33",
          "x": "artistPopularity",
          "xref": "x",
          "y": "trackPopularity",
          "yref": "y"
         },
         {
          "font": {
           "color": "#000000"
          },
          "showarrow": false,
          "text": "0.02",
          "x": "liked",
          "xref": "x",
          "y": "trackPopularity",
          "yref": "y"
         },
         {
          "font": {
           "color": "#000000"
          },
          "showarrow": false,
          "text": "0.1",
          "x": "danceability",
          "xref": "x",
          "y": "artistPopularity",
          "yref": "y"
         },
         {
          "font": {
           "color": "#000000"
          },
          "showarrow": false,
          "text": "0.17",
          "x": "energy",
          "xref": "x",
          "y": "artistPopularity",
          "yref": "y"
         },
         {
          "font": {
           "color": "#000000"
          },
          "showarrow": false,
          "text": "0.08",
          "x": "key",
          "xref": "x",
          "y": "artistPopularity",
          "yref": "y"
         },
         {
          "font": {
           "color": "#000000"
          },
          "showarrow": false,
          "text": "0.22",
          "x": "loudness",
          "xref": "x",
          "y": "artistPopularity",
          "yref": "y"
         },
         {
          "font": {
           "color": "#000000"
          },
          "showarrow": false,
          "text": "-0.05",
          "x": "mode",
          "xref": "x",
          "y": "artistPopularity",
          "yref": "y"
         },
         {
          "font": {
           "color": "#000000"
          },
          "showarrow": false,
          "text": "-0.0",
          "x": "speechiness",
          "xref": "x",
          "y": "artistPopularity",
          "yref": "y"
         },
         {
          "font": {
           "color": "#000000"
          },
          "showarrow": false,
          "text": "-0.1",
          "x": "acousticness",
          "xref": "x",
          "y": "artistPopularity",
          "yref": "y"
         },
         {
          "font": {
           "color": "#000000"
          },
          "showarrow": false,
          "text": "-0.23",
          "x": "instrumentalness",
          "xref": "x",
          "y": "artistPopularity",
          "yref": "y"
         },
         {
          "font": {
           "color": "#000000"
          },
          "showarrow": false,
          "text": "-0.0",
          "x": "liveness",
          "xref": "x",
          "y": "artistPopularity",
          "yref": "y"
         },
         {
          "font": {
           "color": "#000000"
          },
          "showarrow": false,
          "text": "0.04",
          "x": "valence",
          "xref": "x",
          "y": "artistPopularity",
          "yref": "y"
         },
         {
          "font": {
           "color": "#000000"
          },
          "showarrow": false,
          "text": "-0.06",
          "x": "tempo",
          "xref": "x",
          "y": "artistPopularity",
          "yref": "y"
         },
         {
          "font": {
           "color": "#000000"
          },
          "showarrow": false,
          "text": "-0.06",
          "x": "duration_ms",
          "xref": "x",
          "y": "artistPopularity",
          "yref": "y"
         },
         {
          "font": {
           "color": "#000000"
          },
          "showarrow": false,
          "text": "-0.03",
          "x": "time_signature",
          "xref": "x",
          "y": "artistPopularity",
          "yref": "y"
         },
         {
          "font": {
           "color": "#FFFFFF"
          },
          "showarrow": false,
          "text": "0.33",
          "x": "trackPopularity",
          "xref": "x",
          "y": "artistPopularity",
          "yref": "y"
         },
         {
          "font": {
           "color": "#FFFFFF"
          },
          "showarrow": false,
          "text": "1.0",
          "x": "artistPopularity",
          "xref": "x",
          "y": "artistPopularity",
          "yref": "y"
         },
         {
          "font": {
           "color": "#000000"
          },
          "showarrow": false,
          "text": "-0.02",
          "x": "liked",
          "xref": "x",
          "y": "artistPopularity",
          "yref": "y"
         },
         {
          "font": {
           "color": "#000000"
          },
          "showarrow": false,
          "text": "-0.39",
          "x": "danceability",
          "xref": "x",
          "y": "liked",
          "yref": "y"
         },
         {
          "font": {
           "color": "#000000"
          },
          "showarrow": false,
          "text": "0.07",
          "x": "energy",
          "xref": "x",
          "y": "liked",
          "yref": "y"
         },
         {
          "font": {
           "color": "#000000"
          },
          "showarrow": false,
          "text": "-0.16",
          "x": "key",
          "xref": "x",
          "y": "liked",
          "yref": "y"
         },
         {
          "font": {
           "color": "#000000"
          },
          "showarrow": false,
          "text": "-0.13",
          "x": "loudness",
          "xref": "x",
          "y": "liked",
          "yref": "y"
         },
         {
          "font": {
           "color": "#000000"
          },
          "showarrow": false,
          "text": "0.02",
          "x": "mode",
          "xref": "x",
          "y": "liked",
          "yref": "y"
         },
         {
          "font": {
           "color": "#000000"
          },
          "showarrow": false,
          "text": "-0.2",
          "x": "speechiness",
          "xref": "x",
          "y": "liked",
          "yref": "y"
         },
         {
          "font": {
           "color": "#000000"
          },
          "showarrow": false,
          "text": "0.02",
          "x": "acousticness",
          "xref": "x",
          "y": "liked",
          "yref": "y"
         },
         {
          "font": {
           "color": "#FFFFFF"
          },
          "showarrow": false,
          "text": "0.49",
          "x": "instrumentalness",
          "xref": "x",
          "y": "liked",
          "yref": "y"
         },
         {
          "font": {
           "color": "#000000"
          },
          "showarrow": false,
          "text": "0.02",
          "x": "liveness",
          "xref": "x",
          "y": "liked",
          "yref": "y"
         },
         {
          "font": {
           "color": "#000000"
          },
          "showarrow": false,
          "text": "-0.34",
          "x": "valence",
          "xref": "x",
          "y": "liked",
          "yref": "y"
         },
         {
          "font": {
           "color": "#000000"
          },
          "showarrow": false,
          "text": "0.19",
          "x": "tempo",
          "xref": "x",
          "y": "liked",
          "yref": "y"
         },
         {
          "font": {
           "color": "#FFFFFF"
          },
          "showarrow": false,
          "text": "0.45",
          "x": "duration_ms",
          "xref": "x",
          "y": "liked",
          "yref": "y"
         },
         {
          "font": {
           "color": "#000000"
          },
          "showarrow": false,
          "text": "-0.07",
          "x": "time_signature",
          "xref": "x",
          "y": "liked",
          "yref": "y"
         },
         {
          "font": {
           "color": "#000000"
          },
          "showarrow": false,
          "text": "0.02",
          "x": "trackPopularity",
          "xref": "x",
          "y": "liked",
          "yref": "y"
         },
         {
          "font": {
           "color": "#000000"
          },
          "showarrow": false,
          "text": "-0.02",
          "x": "artistPopularity",
          "xref": "x",
          "y": "liked",
          "yref": "y"
         },
         {
          "font": {
           "color": "#FFFFFF"
          },
          "showarrow": false,
          "text": "1.0",
          "x": "liked",
          "xref": "x",
          "y": "liked",
          "yref": "y"
         }
        ],
        "height": 800,
        "margin": {
         "l": 0,
         "t": 0
        },
        "template": {
         "data": {
          "bar": [
           {
            "error_x": {
             "color": "#2a3f5f"
            },
            "error_y": {
             "color": "#2a3f5f"
            },
            "marker": {
             "line": {
              "color": "#E5ECF6",
              "width": 0.5
             }
            },
            "type": "bar"
           }
          ],
          "barpolar": [
           {
            "marker": {
             "line": {
              "color": "#E5ECF6",
              "width": 0.5
             }
            },
            "type": "barpolar"
           }
          ],
          "carpet": [
           {
            "aaxis": {
             "endlinecolor": "#2a3f5f",
             "gridcolor": "white",
             "linecolor": "white",
             "minorgridcolor": "white",
             "startlinecolor": "#2a3f5f"
            },
            "baxis": {
             "endlinecolor": "#2a3f5f",
             "gridcolor": "white",
             "linecolor": "white",
             "minorgridcolor": "white",
             "startlinecolor": "#2a3f5f"
            },
            "type": "carpet"
           }
          ],
          "choropleth": [
           {
            "colorbar": {
             "outlinewidth": 0,
             "ticks": ""
            },
            "type": "choropleth"
           }
          ],
          "contour": [
           {
            "colorbar": {
             "outlinewidth": 0,
             "ticks": ""
            },
            "colorscale": [
             [
              0,
              "#0d0887"
             ],
             [
              0.1111111111111111,
              "#46039f"
             ],
             [
              0.2222222222222222,
              "#7201a8"
             ],
             [
              0.3333333333333333,
              "#9c179e"
             ],
             [
              0.4444444444444444,
              "#bd3786"
             ],
             [
              0.5555555555555556,
              "#d8576b"
             ],
             [
              0.6666666666666666,
              "#ed7953"
             ],
             [
              0.7777777777777778,
              "#fb9f3a"
             ],
             [
              0.8888888888888888,
              "#fdca26"
             ],
             [
              1,
              "#f0f921"
             ]
            ],
            "type": "contour"
           }
          ],
          "contourcarpet": [
           {
            "colorbar": {
             "outlinewidth": 0,
             "ticks": ""
            },
            "type": "contourcarpet"
           }
          ],
          "heatmap": [
           {
            "colorbar": {
             "outlinewidth": 0,
             "ticks": ""
            },
            "colorscale": [
             [
              0,
              "#0d0887"
             ],
             [
              0.1111111111111111,
              "#46039f"
             ],
             [
              0.2222222222222222,
              "#7201a8"
             ],
             [
              0.3333333333333333,
              "#9c179e"
             ],
             [
              0.4444444444444444,
              "#bd3786"
             ],
             [
              0.5555555555555556,
              "#d8576b"
             ],
             [
              0.6666666666666666,
              "#ed7953"
             ],
             [
              0.7777777777777778,
              "#fb9f3a"
             ],
             [
              0.8888888888888888,
              "#fdca26"
             ],
             [
              1,
              "#f0f921"
             ]
            ],
            "type": "heatmap"
           }
          ],
          "heatmapgl": [
           {
            "colorbar": {
             "outlinewidth": 0,
             "ticks": ""
            },
            "colorscale": [
             [
              0,
              "#0d0887"
             ],
             [
              0.1111111111111111,
              "#46039f"
             ],
             [
              0.2222222222222222,
              "#7201a8"
             ],
             [
              0.3333333333333333,
              "#9c179e"
             ],
             [
              0.4444444444444444,
              "#bd3786"
             ],
             [
              0.5555555555555556,
              "#d8576b"
             ],
             [
              0.6666666666666666,
              "#ed7953"
             ],
             [
              0.7777777777777778,
              "#fb9f3a"
             ],
             [
              0.8888888888888888,
              "#fdca26"
             ],
             [
              1,
              "#f0f921"
             ]
            ],
            "type": "heatmapgl"
           }
          ],
          "histogram": [
           {
            "marker": {
             "colorbar": {
              "outlinewidth": 0,
              "ticks": ""
             }
            },
            "type": "histogram"
           }
          ],
          "histogram2d": [
           {
            "colorbar": {
             "outlinewidth": 0,
             "ticks": ""
            },
            "colorscale": [
             [
              0,
              "#0d0887"
             ],
             [
              0.1111111111111111,
              "#46039f"
             ],
             [
              0.2222222222222222,
              "#7201a8"
             ],
             [
              0.3333333333333333,
              "#9c179e"
             ],
             [
              0.4444444444444444,
              "#bd3786"
             ],
             [
              0.5555555555555556,
              "#d8576b"
             ],
             [
              0.6666666666666666,
              "#ed7953"
             ],
             [
              0.7777777777777778,
              "#fb9f3a"
             ],
             [
              0.8888888888888888,
              "#fdca26"
             ],
             [
              1,
              "#f0f921"
             ]
            ],
            "type": "histogram2d"
           }
          ],
          "histogram2dcontour": [
           {
            "colorbar": {
             "outlinewidth": 0,
             "ticks": ""
            },
            "colorscale": [
             [
              0,
              "#0d0887"
             ],
             [
              0.1111111111111111,
              "#46039f"
             ],
             [
              0.2222222222222222,
              "#7201a8"
             ],
             [
              0.3333333333333333,
              "#9c179e"
             ],
             [
              0.4444444444444444,
              "#bd3786"
             ],
             [
              0.5555555555555556,
              "#d8576b"
             ],
             [
              0.6666666666666666,
              "#ed7953"
             ],
             [
              0.7777777777777778,
              "#fb9f3a"
             ],
             [
              0.8888888888888888,
              "#fdca26"
             ],
             [
              1,
              "#f0f921"
             ]
            ],
            "type": "histogram2dcontour"
           }
          ],
          "mesh3d": [
           {
            "colorbar": {
             "outlinewidth": 0,
             "ticks": ""
            },
            "type": "mesh3d"
           }
          ],
          "parcoords": [
           {
            "line": {
             "colorbar": {
              "outlinewidth": 0,
              "ticks": ""
             }
            },
            "type": "parcoords"
           }
          ],
          "pie": [
           {
            "automargin": true,
            "type": "pie"
           }
          ],
          "scatter": [
           {
            "marker": {
             "colorbar": {
              "outlinewidth": 0,
              "ticks": ""
             }
            },
            "type": "scatter"
           }
          ],
          "scatter3d": [
           {
            "line": {
             "colorbar": {
              "outlinewidth": 0,
              "ticks": ""
             }
            },
            "marker": {
             "colorbar": {
              "outlinewidth": 0,
              "ticks": ""
             }
            },
            "type": "scatter3d"
           }
          ],
          "scattercarpet": [
           {
            "marker": {
             "colorbar": {
              "outlinewidth": 0,
              "ticks": ""
             }
            },
            "type": "scattercarpet"
           }
          ],
          "scattergeo": [
           {
            "marker": {
             "colorbar": {
              "outlinewidth": 0,
              "ticks": ""
             }
            },
            "type": "scattergeo"
           }
          ],
          "scattergl": [
           {
            "marker": {
             "colorbar": {
              "outlinewidth": 0,
              "ticks": ""
             }
            },
            "type": "scattergl"
           }
          ],
          "scattermapbox": [
           {
            "marker": {
             "colorbar": {
              "outlinewidth": 0,
              "ticks": ""
             }
            },
            "type": "scattermapbox"
           }
          ],
          "scatterpolar": [
           {
            "marker": {
             "colorbar": {
              "outlinewidth": 0,
              "ticks": ""
             }
            },
            "type": "scatterpolar"
           }
          ],
          "scatterpolargl": [
           {
            "marker": {
             "colorbar": {
              "outlinewidth": 0,
              "ticks": ""
             }
            },
            "type": "scatterpolargl"
           }
          ],
          "scatterternary": [
           {
            "marker": {
             "colorbar": {
              "outlinewidth": 0,
              "ticks": ""
             }
            },
            "type": "scatterternary"
           }
          ],
          "surface": [
           {
            "colorbar": {
             "outlinewidth": 0,
             "ticks": ""
            },
            "colorscale": [
             [
              0,
              "#0d0887"
             ],
             [
              0.1111111111111111,
              "#46039f"
             ],
             [
              0.2222222222222222,
              "#7201a8"
             ],
             [
              0.3333333333333333,
              "#9c179e"
             ],
             [
              0.4444444444444444,
              "#bd3786"
             ],
             [
              0.5555555555555556,
              "#d8576b"
             ],
             [
              0.6666666666666666,
              "#ed7953"
             ],
             [
              0.7777777777777778,
              "#fb9f3a"
             ],
             [
              0.8888888888888888,
              "#fdca26"
             ],
             [
              1,
              "#f0f921"
             ]
            ],
            "type": "surface"
           }
          ],
          "table": [
           {
            "cells": {
             "fill": {
              "color": "#EBF0F8"
             },
             "line": {
              "color": "white"
             }
            },
            "header": {
             "fill": {
              "color": "#C8D4E3"
             },
             "line": {
              "color": "white"
             }
            },
            "type": "table"
           }
          ]
         },
         "layout": {
          "annotationdefaults": {
           "arrowcolor": "#2a3f5f",
           "arrowhead": 0,
           "arrowwidth": 1
          },
          "coloraxis": {
           "colorbar": {
            "outlinewidth": 0,
            "ticks": ""
           }
          },
          "colorscale": {
           "diverging": [
            [
             0,
             "#8e0152"
            ],
            [
             0.1,
             "#c51b7d"
            ],
            [
             0.2,
             "#de77ae"
            ],
            [
             0.3,
             "#f1b6da"
            ],
            [
             0.4,
             "#fde0ef"
            ],
            [
             0.5,
             "#f7f7f7"
            ],
            [
             0.6,
             "#e6f5d0"
            ],
            [
             0.7,
             "#b8e186"
            ],
            [
             0.8,
             "#7fbc41"
            ],
            [
             0.9,
             "#4d9221"
            ],
            [
             1,
             "#276419"
            ]
           ],
           "sequential": [
            [
             0,
             "#0d0887"
            ],
            [
             0.1111111111111111,
             "#46039f"
            ],
            [
             0.2222222222222222,
             "#7201a8"
            ],
            [
             0.3333333333333333,
             "#9c179e"
            ],
            [
             0.4444444444444444,
             "#bd3786"
            ],
            [
             0.5555555555555556,
             "#d8576b"
            ],
            [
             0.6666666666666666,
             "#ed7953"
            ],
            [
             0.7777777777777778,
             "#fb9f3a"
            ],
            [
             0.8888888888888888,
             "#fdca26"
            ],
            [
             1,
             "#f0f921"
            ]
           ],
           "sequentialminus": [
            [
             0,
             "#0d0887"
            ],
            [
             0.1111111111111111,
             "#46039f"
            ],
            [
             0.2222222222222222,
             "#7201a8"
            ],
            [
             0.3333333333333333,
             "#9c179e"
            ],
            [
             0.4444444444444444,
             "#bd3786"
            ],
            [
             0.5555555555555556,
             "#d8576b"
            ],
            [
             0.6666666666666666,
             "#ed7953"
            ],
            [
             0.7777777777777778,
             "#fb9f3a"
            ],
            [
             0.8888888888888888,
             "#fdca26"
            ],
            [
             1,
             "#f0f921"
            ]
           ]
          },
          "colorway": [
           "#636efa",
           "#EF553B",
           "#00cc96",
           "#ab63fa",
           "#FFA15A",
           "#19d3f3",
           "#FF6692",
           "#B6E880",
           "#FF97FF",
           "#FECB52"
          ],
          "font": {
           "color": "#2a3f5f"
          },
          "geo": {
           "bgcolor": "white",
           "lakecolor": "white",
           "landcolor": "#E5ECF6",
           "showlakes": true,
           "showland": true,
           "subunitcolor": "white"
          },
          "hoverlabel": {
           "align": "left"
          },
          "hovermode": "closest",
          "mapbox": {
           "style": "light"
          },
          "paper_bgcolor": "white",
          "plot_bgcolor": "#E5ECF6",
          "polar": {
           "angularaxis": {
            "gridcolor": "white",
            "linecolor": "white",
            "ticks": ""
           },
           "bgcolor": "#E5ECF6",
           "radialaxis": {
            "gridcolor": "white",
            "linecolor": "white",
            "ticks": ""
           }
          },
          "scene": {
           "xaxis": {
            "backgroundcolor": "#E5ECF6",
            "gridcolor": "white",
            "gridwidth": 2,
            "linecolor": "white",
            "showbackground": true,
            "ticks": "",
            "zerolinecolor": "white"
           },
           "yaxis": {
            "backgroundcolor": "#E5ECF6",
            "gridcolor": "white",
            "gridwidth": 2,
            "linecolor": "white",
            "showbackground": true,
            "ticks": "",
            "zerolinecolor": "white"
           },
           "zaxis": {
            "backgroundcolor": "#E5ECF6",
            "gridcolor": "white",
            "gridwidth": 2,
            "linecolor": "white",
            "showbackground": true,
            "ticks": "",
            "zerolinecolor": "white"
           }
          },
          "shapedefaults": {
           "line": {
            "color": "#2a3f5f"
           }
          },
          "ternary": {
           "aaxis": {
            "gridcolor": "white",
            "linecolor": "white",
            "ticks": ""
           },
           "baxis": {
            "gridcolor": "white",
            "linecolor": "white",
            "ticks": ""
           },
           "bgcolor": "#E5ECF6",
           "caxis": {
            "gridcolor": "white",
            "linecolor": "white",
            "ticks": ""
           }
          },
          "title": {
           "x": 0.05
          },
          "xaxis": {
           "automargin": true,
           "gridcolor": "white",
           "linecolor": "white",
           "ticks": "",
           "title": {
            "standoff": 15
           },
           "zerolinecolor": "white",
           "zerolinewidth": 2
          },
          "yaxis": {
           "automargin": true,
           "gridcolor": "white",
           "linecolor": "white",
           "ticks": "",
           "title": {
            "standoff": 15
           },
           "zerolinecolor": "white",
           "zerolinewidth": 2
          }
         }
        },
        "width": 800,
        "xaxis": {
         "dtick": 1,
         "gridcolor": "rgb(0, 0, 0)",
         "side": "top",
         "ticks": ""
        },
        "yaxis": {
         "dtick": 1,
         "ticks": "",
         "ticksuffix": "  "
        }
       }
      },
      "text/html": [
       "<div>\n",
       "        \n",
       "        \n",
       "            <div id=\"0a8b77ee-c8b9-4e4a-b573-f6ab00ef3d23\" class=\"plotly-graph-div\" style=\"height:800px; width:800px;\"></div>\n",
       "            <script type=\"text/javascript\">\n",
       "                require([\"plotly\"], function(Plotly) {\n",
       "                    window.PLOTLYENV=window.PLOTLYENV || {};\n",
       "                    \n",
       "                if (document.getElementById(\"0a8b77ee-c8b9-4e4a-b573-f6ab00ef3d23\")) {\n",
       "                    Plotly.newPlot(\n",
       "                        '0a8b77ee-c8b9-4e4a-b573-f6ab00ef3d23',\n",
       "                        [{\"colorscale\": [[0.0, \"#440154\"], [0.1111111111111111, \"#482878\"], [0.2222222222222222, \"#3e4989\"], [0.3333333333333333, \"#31688e\"], [0.4444444444444444, \"#26828e\"], [0.5555555555555556, \"#1f9e89\"], [0.6666666666666666, \"#35b779\"], [0.7777777777777778, \"#6ece58\"], [0.8888888888888888, \"#b5de2b\"], [1.0, \"#fde725\"]], \"reversescale\": true, \"showscale\": true, \"type\": \"heatmap\", \"x\": [\"danceability\", \"energy\", \"key\", \"loudness\", \"mode\", \"speechiness\", \"acousticness\", \"instrumentalness\", \"liveness\", \"valence\", \"tempo\", \"duration_ms\", \"time_signature\", \"trackPopularity\", \"artistPopularity\", \"liked\"], \"y\": [\"danceability\", \"energy\", \"key\", \"loudness\", \"mode\", \"speechiness\", \"acousticness\", \"instrumentalness\", \"liveness\", \"valence\", \"tempo\", \"duration_ms\", \"time_signature\", \"trackPopularity\", \"artistPopularity\", \"liked\"], \"z\": [[1.0, -0.07286139704961292, 0.12111397866866773, 0.005694457936305874, -0.012879376834017794, 0.23029206911468134, 0.017851710744263335, -0.14127230393556775, -0.04624097662134571, 0.4506144329033769, -0.29588376608830685, -0.19279263420138182, 0.027371775709786897, 0.10468761294632324, 0.09990624614903612, -0.39200789515222406], [-0.07286139704961292, 1.0, 0.11340431973707484, 0.7127922935354564, 0.010263642402028348, -0.16426643429742452, -0.5106755844196267, -0.17549283639209903, 0.11545688177315487, 0.2391268334464872, 0.062099087871471614, -0.025513261028694945, -0.00816136602259351, 0.08636147012050958, 0.17045116374632022, 0.07031132972548423], [0.12111397866866773, 0.11340431973707484, 1.0, 0.11198858470702157, -0.20809259051534032, 0.033955750928375515, -0.02881965487376413, -0.0810494775151696, 0.02247376246854641, 0.1599771282286312, -0.013596139318790708, -0.10950116819833068, 0.056402076393340404, 0.0722492961182326, 0.08461447709551204, -0.15936010990824853], [0.005694457936305874, 0.7127922935354564, 0.11198858470702157, 1.0, -0.008117288242191477, -0.13177386110434702, -0.4970009048355085, -0.4831000928747678, 0.16879336039102058, 0.30685518176307697, -0.08352024726867706, -0.19561869730350587, 0.008785713607882432, 0.06651283312443505, 0.22096461801429088, -0.1341190270965183], [-0.012879376834017794, 0.010263642402028348, -0.20809259051534032, -0.008117288242191477, 1.0, -0.013406880351195541, -0.05901951875862916, 0.015990383482966452, -0.11026894577660032, -0.045549382885201384, -0.03705313777940983, 0.0682047705883432, -0.0005064237049517584, -0.04405083775250886, -0.05138093060013169, 0.02438797551310337], [0.23029206911468134, -0.16426643429742452, 0.033955750928375515, -0.13177386110434702, -0.013406880351195541, 1.0, 0.16345386608441614, -0.10837943402388321, -0.0910412968959417, 0.19404377723153374, 0.05448364412521828, -0.1652675644313823, 0.03135541456907717, 0.05383627837392203, -0.003990948140688772, -0.19772491182367502], [0.017851710744263335, -0.5106755844196267, -0.02881965487376413, -0.4970009048355085, -0.05901951875862916, 0.16345386608441614, 1.0, 0.20249004872436238, -0.06536973300603603, -0.1333311808881967, 0.020290507223101745, -0.06804568375924462, 0.021656666375570528, 0.045081029760079036, -0.09544497516983988, 0.022274699004144225], [-0.14127230393556775, -0.17549283639209903, -0.0810494775151696, -0.4831000928747678, 0.015990383482966452, -0.10837943402388321, 0.20249004872436238, 1.0, -0.057619341368492095, -0.28738707616959475, 0.19282341415812587, 0.47539673472880745, -0.06880355316326675, -0.08099566525231255, -0.23342214613105508, 0.49082622934031334], [-0.04624097662134571, 0.11545688177315487, 0.02247376246854641, 0.16879336039102058, -0.11026894577660032, -0.0910412968959417, -0.06536973300603603, -0.057619341368492095, 1.0, -0.008318439687864426, -0.08289393047049398, -0.07236225672689574, -0.09463310188337211, 0.008974224244427875, -0.0009216389561956967, 0.018261058208615105], [0.4506144329033769, 0.2391268334464872, 0.1599771282286312, 0.30685518176307697, -0.045549382885201384, 0.19404377723153374, -0.1333311808881967, -0.28738707616959475, -0.008318439687864426, 1.0, -0.11306992595960867, -0.3274719269731655, 0.02336280715447016, 0.15354692695451103, 0.04369100647555165, -0.34025161517116065], [-0.29588376608830685, 0.062099087871471614, -0.013596139318790708, -0.08352024726867706, -0.03705313777940983, 0.05448364412521828, 0.020290507223101745, 0.19282341415812587, -0.08289393047049398, -0.11306992595960867, 1.0, 0.047124228408004454, -0.06059783358288673, -0.13926170969516094, -0.0594943570652787, 0.1919980843828566], [-0.19279263420138182, -0.025513261028694945, -0.10950116819833068, -0.19561869730350587, 0.0682047705883432, -0.1652675644313823, -0.06804568375924462, 0.47539673472880745, -0.07236225672689574, -0.3274719269731655, 0.047124228408004454, 1.0, -0.07000240454881737, -0.13980009869583668, -0.060053587392873635, 0.4481236989096485], [0.027371775709786897, -0.00816136602259351, 0.056402076393340404, 0.008785713607882432, -0.0005064237049517584, 0.03135541456907717, 0.021656666375570528, -0.06880355316326675, -0.09463310188337211, 0.02336280715447016, -0.06059783358288673, -0.07000240454881737, 1.0, 0.08308579420006683, -0.032502478591598556, -0.06538972989557919], [0.10468761294632324, 0.08636147012050958, 0.0722492961182326, 0.06651283312443505, -0.04405083775250886, 0.05383627837392203, 0.045081029760079036, -0.08099566525231255, 0.008974224244427875, 0.15354692695451103, -0.13926170969516094, -0.13980009869583668, 0.08308579420006683, 1.0, 0.3336606560581946, 0.02275824404263753], [0.09990624614903612, 0.17045116374632022, 0.08461447709551204, 0.22096461801429088, -0.05138093060013169, -0.003990948140688772, -0.09544497516983988, -0.23342214613105508, -0.0009216389561956967, 0.04369100647555165, -0.0594943570652787, -0.060053587392873635, -0.032502478591598556, 0.3336606560581946, 1.0, -0.02321965210468344], [-0.39200789515222406, 0.07031132972548423, -0.15936010990824853, -0.1341190270965183, 0.02438797551310337, -0.19772491182367502, 0.022274699004144225, 0.49082622934031334, 0.018261058208615105, -0.34025161517116065, 0.1919980843828566, 0.4481236989096485, -0.06538972989557919, 0.02275824404263753, -0.02321965210468344, 1.0]]}],\n",
       "                        {\"annotations\": [{\"font\": {\"color\": \"#FFFFFF\"}, \"showarrow\": false, \"text\": \"1.0\", \"x\": \"danceability\", \"xref\": \"x\", \"y\": \"danceability\", \"yref\": \"y\"}, {\"font\": {\"color\": \"#000000\"}, \"showarrow\": false, \"text\": \"-0.07\", \"x\": \"energy\", \"xref\": \"x\", \"y\": \"danceability\", \"yref\": \"y\"}, {\"font\": {\"color\": \"#000000\"}, \"showarrow\": false, \"text\": \"0.12\", \"x\": \"key\", \"xref\": \"x\", \"y\": \"danceability\", \"yref\": \"y\"}, {\"font\": {\"color\": \"#000000\"}, \"showarrow\": false, \"text\": \"0.01\", \"x\": \"loudness\", \"xref\": \"x\", \"y\": \"danceability\", \"yref\": \"y\"}, {\"font\": {\"color\": \"#000000\"}, \"showarrow\": false, \"text\": \"-0.01\", \"x\": \"mode\", \"xref\": \"x\", \"y\": \"danceability\", \"yref\": \"y\"}, {\"font\": {\"color\": \"#000000\"}, \"showarrow\": false, \"text\": \"0.23\", \"x\": \"speechiness\", \"xref\": \"x\", \"y\": \"danceability\", \"yref\": \"y\"}, {\"font\": {\"color\": \"#000000\"}, \"showarrow\": false, \"text\": \"0.02\", \"x\": \"acousticness\", \"xref\": \"x\", \"y\": \"danceability\", \"yref\": \"y\"}, {\"font\": {\"color\": \"#000000\"}, \"showarrow\": false, \"text\": \"-0.14\", \"x\": \"instrumentalness\", \"xref\": \"x\", \"y\": \"danceability\", \"yref\": \"y\"}, {\"font\": {\"color\": \"#000000\"}, \"showarrow\": false, \"text\": \"-0.05\", \"x\": \"liveness\", \"xref\": \"x\", \"y\": \"danceability\", \"yref\": \"y\"}, {\"font\": {\"color\": \"#FFFFFF\"}, \"showarrow\": false, \"text\": \"0.45\", \"x\": \"valence\", \"xref\": \"x\", \"y\": \"danceability\", \"yref\": \"y\"}, {\"font\": {\"color\": \"#000000\"}, \"showarrow\": false, \"text\": \"-0.3\", \"x\": \"tempo\", \"xref\": \"x\", \"y\": \"danceability\", \"yref\": \"y\"}, {\"font\": {\"color\": \"#000000\"}, \"showarrow\": false, \"text\": \"-0.19\", \"x\": \"duration_ms\", \"xref\": \"x\", \"y\": \"danceability\", \"yref\": \"y\"}, {\"font\": {\"color\": \"#000000\"}, \"showarrow\": false, \"text\": \"0.03\", \"x\": \"time_signature\", \"xref\": \"x\", \"y\": \"danceability\", \"yref\": \"y\"}, {\"font\": {\"color\": \"#000000\"}, \"showarrow\": false, \"text\": \"0.1\", \"x\": \"trackPopularity\", \"xref\": \"x\", \"y\": \"danceability\", \"yref\": \"y\"}, {\"font\": {\"color\": \"#000000\"}, \"showarrow\": false, \"text\": \"0.1\", \"x\": \"artistPopularity\", \"xref\": \"x\", \"y\": \"danceability\", \"yref\": \"y\"}, {\"font\": {\"color\": \"#000000\"}, \"showarrow\": false, \"text\": \"-0.39\", \"x\": \"liked\", \"xref\": \"x\", \"y\": \"danceability\", \"yref\": \"y\"}, {\"font\": {\"color\": \"#000000\"}, \"showarrow\": false, \"text\": \"-0.07\", \"x\": \"danceability\", \"xref\": \"x\", \"y\": \"energy\", \"yref\": \"y\"}, {\"font\": {\"color\": \"#FFFFFF\"}, \"showarrow\": false, \"text\": \"1.0\", \"x\": \"energy\", \"xref\": \"x\", \"y\": \"energy\", \"yref\": \"y\"}, {\"font\": {\"color\": \"#000000\"}, \"showarrow\": false, \"text\": \"0.11\", \"x\": \"key\", \"xref\": \"x\", \"y\": \"energy\", \"yref\": \"y\"}, {\"font\": {\"color\": \"#FFFFFF\"}, \"showarrow\": false, \"text\": \"0.71\", \"x\": \"loudness\", \"xref\": \"x\", \"y\": \"energy\", \"yref\": \"y\"}, {\"font\": {\"color\": \"#000000\"}, \"showarrow\": false, \"text\": \"0.01\", \"x\": \"mode\", \"xref\": \"x\", \"y\": \"energy\", \"yref\": \"y\"}, {\"font\": {\"color\": \"#000000\"}, \"showarrow\": false, \"text\": \"-0.16\", \"x\": \"speechiness\", \"xref\": \"x\", \"y\": \"energy\", \"yref\": \"y\"}, {\"font\": {\"color\": \"#000000\"}, \"showarrow\": false, \"text\": \"-0.51\", \"x\": \"acousticness\", \"xref\": \"x\", \"y\": \"energy\", \"yref\": \"y\"}, {\"font\": {\"color\": \"#000000\"}, \"showarrow\": false, \"text\": \"-0.18\", \"x\": \"instrumentalness\", \"xref\": \"x\", \"y\": \"energy\", \"yref\": \"y\"}, {\"font\": {\"color\": \"#000000\"}, \"showarrow\": false, \"text\": \"0.12\", \"x\": \"liveness\", \"xref\": \"x\", \"y\": \"energy\", \"yref\": \"y\"}, {\"font\": {\"color\": \"#000000\"}, \"showarrow\": false, \"text\": \"0.24\", \"x\": \"valence\", \"xref\": \"x\", \"y\": \"energy\", \"yref\": \"y\"}, {\"font\": {\"color\": \"#000000\"}, \"showarrow\": false, \"text\": \"0.06\", \"x\": \"tempo\", \"xref\": \"x\", \"y\": \"energy\", \"yref\": \"y\"}, {\"font\": {\"color\": \"#000000\"}, \"showarrow\": false, \"text\": \"-0.03\", \"x\": \"duration_ms\", \"xref\": \"x\", \"y\": \"energy\", \"yref\": \"y\"}, {\"font\": {\"color\": \"#000000\"}, \"showarrow\": false, \"text\": \"-0.01\", \"x\": \"time_signature\", \"xref\": \"x\", \"y\": \"energy\", \"yref\": \"y\"}, {\"font\": {\"color\": \"#000000\"}, \"showarrow\": false, \"text\": \"0.09\", \"x\": \"trackPopularity\", \"xref\": \"x\", \"y\": \"energy\", \"yref\": \"y\"}, {\"font\": {\"color\": \"#000000\"}, \"showarrow\": false, \"text\": \"0.17\", \"x\": \"artistPopularity\", \"xref\": \"x\", \"y\": \"energy\", \"yref\": \"y\"}, {\"font\": {\"color\": \"#000000\"}, \"showarrow\": false, \"text\": \"0.07\", \"x\": \"liked\", \"xref\": \"x\", \"y\": \"energy\", \"yref\": \"y\"}, {\"font\": {\"color\": \"#000000\"}, \"showarrow\": false, \"text\": \"0.12\", \"x\": \"danceability\", \"xref\": \"x\", \"y\": \"key\", \"yref\": \"y\"}, {\"font\": {\"color\": \"#000000\"}, \"showarrow\": false, \"text\": \"0.11\", \"x\": \"energy\", \"xref\": \"x\", \"y\": \"key\", \"yref\": \"y\"}, {\"font\": {\"color\": \"#FFFFFF\"}, \"showarrow\": false, \"text\": \"1.0\", \"x\": \"key\", \"xref\": \"x\", \"y\": \"key\", \"yref\": \"y\"}, {\"font\": {\"color\": \"#000000\"}, \"showarrow\": false, \"text\": \"0.11\", \"x\": \"loudness\", \"xref\": \"x\", \"y\": \"key\", \"yref\": \"y\"}, {\"font\": {\"color\": \"#000000\"}, \"showarrow\": false, \"text\": \"-0.21\", \"x\": \"mode\", \"xref\": \"x\", \"y\": \"key\", \"yref\": \"y\"}, {\"font\": {\"color\": \"#000000\"}, \"showarrow\": false, \"text\": \"0.03\", \"x\": \"speechiness\", \"xref\": \"x\", \"y\": \"key\", \"yref\": \"y\"}, {\"font\": {\"color\": \"#000000\"}, \"showarrow\": false, \"text\": \"-0.03\", \"x\": \"acousticness\", \"xref\": \"x\", \"y\": \"key\", \"yref\": \"y\"}, {\"font\": {\"color\": \"#000000\"}, \"showarrow\": false, \"text\": \"-0.08\", \"x\": \"instrumentalness\", \"xref\": \"x\", \"y\": \"key\", \"yref\": \"y\"}, {\"font\": {\"color\": \"#000000\"}, \"showarrow\": false, \"text\": \"0.02\", \"x\": \"liveness\", \"xref\": \"x\", \"y\": \"key\", \"yref\": \"y\"}, {\"font\": {\"color\": \"#000000\"}, \"showarrow\": false, \"text\": \"0.16\", \"x\": \"valence\", \"xref\": \"x\", \"y\": \"key\", \"yref\": \"y\"}, {\"font\": {\"color\": \"#000000\"}, \"showarrow\": false, \"text\": \"-0.01\", \"x\": \"tempo\", \"xref\": \"x\", \"y\": \"key\", \"yref\": \"y\"}, {\"font\": {\"color\": \"#000000\"}, \"showarrow\": false, \"text\": \"-0.11\", \"x\": \"duration_ms\", \"xref\": \"x\", \"y\": \"key\", \"yref\": \"y\"}, {\"font\": {\"color\": \"#000000\"}, \"showarrow\": false, \"text\": \"0.06\", \"x\": \"time_signature\", \"xref\": \"x\", \"y\": \"key\", \"yref\": \"y\"}, {\"font\": {\"color\": \"#000000\"}, \"showarrow\": false, \"text\": \"0.07\", \"x\": \"trackPopularity\", \"xref\": \"x\", \"y\": \"key\", \"yref\": \"y\"}, {\"font\": {\"color\": \"#000000\"}, \"showarrow\": false, \"text\": \"0.08\", \"x\": \"artistPopularity\", \"xref\": \"x\", \"y\": \"key\", \"yref\": \"y\"}, {\"font\": {\"color\": \"#000000\"}, \"showarrow\": false, \"text\": \"-0.16\", \"x\": \"liked\", \"xref\": \"x\", \"y\": \"key\", \"yref\": \"y\"}, {\"font\": {\"color\": \"#000000\"}, \"showarrow\": false, \"text\": \"0.01\", \"x\": \"danceability\", \"xref\": \"x\", \"y\": \"loudness\", \"yref\": \"y\"}, {\"font\": {\"color\": \"#FFFFFF\"}, \"showarrow\": false, \"text\": \"0.71\", \"x\": \"energy\", \"xref\": \"x\", \"y\": \"loudness\", \"yref\": \"y\"}, {\"font\": {\"color\": \"#000000\"}, \"showarrow\": false, \"text\": \"0.11\", \"x\": \"key\", \"xref\": \"x\", \"y\": \"loudness\", \"yref\": \"y\"}, {\"font\": {\"color\": \"#FFFFFF\"}, \"showarrow\": false, \"text\": \"1.0\", \"x\": \"loudness\", \"xref\": \"x\", \"y\": \"loudness\", \"yref\": \"y\"}, {\"font\": {\"color\": \"#000000\"}, \"showarrow\": false, \"text\": \"-0.01\", \"x\": \"mode\", \"xref\": \"x\", \"y\": \"loudness\", \"yref\": \"y\"}, {\"font\": {\"color\": \"#000000\"}, \"showarrow\": false, \"text\": \"-0.13\", \"x\": \"speechiness\", \"xref\": \"x\", \"y\": \"loudness\", \"yref\": \"y\"}, {\"font\": {\"color\": \"#000000\"}, \"showarrow\": false, \"text\": \"-0.5\", \"x\": \"acousticness\", \"xref\": \"x\", \"y\": \"loudness\", \"yref\": \"y\"}, {\"font\": {\"color\": \"#000000\"}, \"showarrow\": false, \"text\": \"-0.48\", \"x\": \"instrumentalness\", \"xref\": \"x\", \"y\": \"loudness\", \"yref\": \"y\"}, {\"font\": {\"color\": \"#000000\"}, \"showarrow\": false, \"text\": \"0.17\", \"x\": \"liveness\", \"xref\": \"x\", \"y\": \"loudness\", \"yref\": \"y\"}, {\"font\": {\"color\": \"#FFFFFF\"}, \"showarrow\": false, \"text\": \"0.31\", \"x\": \"valence\", \"xref\": \"x\", \"y\": \"loudness\", \"yref\": \"y\"}, {\"font\": {\"color\": \"#000000\"}, \"showarrow\": false, \"text\": \"-0.08\", \"x\": \"tempo\", \"xref\": \"x\", \"y\": \"loudness\", \"yref\": \"y\"}, {\"font\": {\"color\": \"#000000\"}, \"showarrow\": false, \"text\": \"-0.2\", \"x\": \"duration_ms\", \"xref\": \"x\", \"y\": \"loudness\", \"yref\": \"y\"}, {\"font\": {\"color\": \"#000000\"}, \"showarrow\": false, \"text\": \"0.01\", \"x\": \"time_signature\", \"xref\": \"x\", \"y\": \"loudness\", \"yref\": \"y\"}, {\"font\": {\"color\": \"#000000\"}, \"showarrow\": false, \"text\": \"0.07\", \"x\": \"trackPopularity\", \"xref\": \"x\", \"y\": \"loudness\", \"yref\": \"y\"}, {\"font\": {\"color\": \"#000000\"}, \"showarrow\": false, \"text\": \"0.22\", \"x\": \"artistPopularity\", \"xref\": \"x\", \"y\": \"loudness\", \"yref\": \"y\"}, {\"font\": {\"color\": \"#000000\"}, \"showarrow\": false, \"text\": \"-0.13\", \"x\": \"liked\", \"xref\": \"x\", \"y\": \"loudness\", \"yref\": \"y\"}, {\"font\": {\"color\": \"#000000\"}, \"showarrow\": false, \"text\": \"-0.01\", \"x\": \"danceability\", \"xref\": \"x\", \"y\": \"mode\", \"yref\": \"y\"}, {\"font\": {\"color\": \"#000000\"}, \"showarrow\": false, \"text\": \"0.01\", \"x\": \"energy\", \"xref\": \"x\", \"y\": \"mode\", \"yref\": \"y\"}, {\"font\": {\"color\": \"#000000\"}, \"showarrow\": false, \"text\": \"-0.21\", \"x\": \"key\", \"xref\": \"x\", \"y\": \"mode\", \"yref\": \"y\"}, {\"font\": {\"color\": \"#000000\"}, \"showarrow\": false, \"text\": \"-0.01\", \"x\": \"loudness\", \"xref\": \"x\", \"y\": \"mode\", \"yref\": \"y\"}, {\"font\": {\"color\": \"#FFFFFF\"}, \"showarrow\": false, \"text\": \"1.0\", \"x\": \"mode\", \"xref\": \"x\", \"y\": \"mode\", \"yref\": \"y\"}, {\"font\": {\"color\": \"#000000\"}, \"showarrow\": false, \"text\": \"-0.01\", \"x\": \"speechiness\", \"xref\": \"x\", \"y\": \"mode\", \"yref\": \"y\"}, {\"font\": {\"color\": \"#000000\"}, \"showarrow\": false, \"text\": \"-0.06\", \"x\": \"acousticness\", \"xref\": \"x\", \"y\": \"mode\", \"yref\": \"y\"}, {\"font\": {\"color\": \"#000000\"}, \"showarrow\": false, \"text\": \"0.02\", \"x\": \"instrumentalness\", \"xref\": \"x\", \"y\": \"mode\", \"yref\": \"y\"}, {\"font\": {\"color\": \"#000000\"}, \"showarrow\": false, \"text\": \"-0.11\", \"x\": \"liveness\", \"xref\": \"x\", \"y\": \"mode\", \"yref\": \"y\"}, {\"font\": {\"color\": \"#000000\"}, \"showarrow\": false, \"text\": \"-0.05\", \"x\": \"valence\", \"xref\": \"x\", \"y\": \"mode\", \"yref\": \"y\"}, {\"font\": {\"color\": \"#000000\"}, \"showarrow\": false, \"text\": \"-0.04\", \"x\": \"tempo\", \"xref\": \"x\", \"y\": \"mode\", \"yref\": \"y\"}, {\"font\": {\"color\": \"#000000\"}, \"showarrow\": false, \"text\": \"0.07\", \"x\": \"duration_ms\", \"xref\": \"x\", \"y\": \"mode\", \"yref\": \"y\"}, {\"font\": {\"color\": \"#000000\"}, \"showarrow\": false, \"text\": \"-0.0\", \"x\": \"time_signature\", \"xref\": \"x\", \"y\": \"mode\", \"yref\": \"y\"}, {\"font\": {\"color\": \"#000000\"}, \"showarrow\": false, \"text\": \"-0.04\", \"x\": \"trackPopularity\", \"xref\": \"x\", \"y\": \"mode\", \"yref\": \"y\"}, {\"font\": {\"color\": \"#000000\"}, \"showarrow\": false, \"text\": \"-0.05\", \"x\": \"artistPopularity\", \"xref\": \"x\", \"y\": \"mode\", \"yref\": \"y\"}, {\"font\": {\"color\": \"#000000\"}, \"showarrow\": false, \"text\": \"0.02\", \"x\": \"liked\", \"xref\": \"x\", \"y\": \"mode\", \"yref\": \"y\"}, {\"font\": {\"color\": \"#000000\"}, \"showarrow\": false, \"text\": \"0.23\", \"x\": \"danceability\", \"xref\": \"x\", \"y\": \"speechiness\", \"yref\": \"y\"}, {\"font\": {\"color\": \"#000000\"}, \"showarrow\": false, \"text\": \"-0.16\", \"x\": \"energy\", \"xref\": \"x\", \"y\": \"speechiness\", \"yref\": \"y\"}, {\"font\": {\"color\": \"#000000\"}, \"showarrow\": false, \"text\": \"0.03\", \"x\": \"key\", \"xref\": \"x\", \"y\": \"speechiness\", \"yref\": \"y\"}, {\"font\": {\"color\": \"#000000\"}, \"showarrow\": false, \"text\": \"-0.13\", \"x\": \"loudness\", \"xref\": \"x\", \"y\": \"speechiness\", \"yref\": \"y\"}, {\"font\": {\"color\": \"#000000\"}, \"showarrow\": false, \"text\": \"-0.01\", \"x\": \"mode\", \"xref\": \"x\", \"y\": \"speechiness\", \"yref\": \"y\"}, {\"font\": {\"color\": \"#FFFFFF\"}, \"showarrow\": false, \"text\": \"1.0\", \"x\": \"speechiness\", \"xref\": \"x\", \"y\": \"speechiness\", \"yref\": \"y\"}, {\"font\": {\"color\": \"#000000\"}, \"showarrow\": false, \"text\": \"0.16\", \"x\": \"acousticness\", \"xref\": \"x\", \"y\": \"speechiness\", \"yref\": \"y\"}, {\"font\": {\"color\": \"#000000\"}, \"showarrow\": false, \"text\": \"-0.11\", \"x\": \"instrumentalness\", \"xref\": \"x\", \"y\": \"speechiness\", \"yref\": \"y\"}, {\"font\": {\"color\": \"#000000\"}, \"showarrow\": false, \"text\": \"-0.09\", \"x\": \"liveness\", \"xref\": \"x\", \"y\": \"speechiness\", \"yref\": \"y\"}, {\"font\": {\"color\": \"#000000\"}, \"showarrow\": false, \"text\": \"0.19\", \"x\": \"valence\", \"xref\": \"x\", \"y\": \"speechiness\", \"yref\": \"y\"}, {\"font\": {\"color\": \"#000000\"}, \"showarrow\": false, \"text\": \"0.05\", \"x\": \"tempo\", \"xref\": \"x\", \"y\": \"speechiness\", \"yref\": \"y\"}, {\"font\": {\"color\": \"#000000\"}, \"showarrow\": false, \"text\": \"-0.17\", \"x\": \"duration_ms\", \"xref\": \"x\", \"y\": \"speechiness\", \"yref\": \"y\"}, {\"font\": {\"color\": \"#000000\"}, \"showarrow\": false, \"text\": \"0.03\", \"x\": \"time_signature\", \"xref\": \"x\", \"y\": \"speechiness\", \"yref\": \"y\"}, {\"font\": {\"color\": \"#000000\"}, \"showarrow\": false, \"text\": \"0.05\", \"x\": \"trackPopularity\", \"xref\": \"x\", \"y\": \"speechiness\", \"yref\": \"y\"}, {\"font\": {\"color\": \"#000000\"}, \"showarrow\": false, \"text\": \"-0.0\", \"x\": \"artistPopularity\", \"xref\": \"x\", \"y\": \"speechiness\", \"yref\": \"y\"}, {\"font\": {\"color\": \"#000000\"}, \"showarrow\": false, \"text\": \"-0.2\", \"x\": \"liked\", \"xref\": \"x\", \"y\": \"speechiness\", \"yref\": \"y\"}, {\"font\": {\"color\": \"#000000\"}, \"showarrow\": false, \"text\": \"0.02\", \"x\": \"danceability\", \"xref\": \"x\", \"y\": \"acousticness\", \"yref\": \"y\"}, {\"font\": {\"color\": \"#000000\"}, \"showarrow\": false, \"text\": \"-0.51\", \"x\": \"energy\", \"xref\": \"x\", \"y\": \"acousticness\", \"yref\": \"y\"}, {\"font\": {\"color\": \"#000000\"}, \"showarrow\": false, \"text\": \"-0.03\", \"x\": \"key\", \"xref\": \"x\", \"y\": \"acousticness\", \"yref\": \"y\"}, {\"font\": {\"color\": \"#000000\"}, \"showarrow\": false, \"text\": \"-0.5\", \"x\": \"loudness\", \"xref\": \"x\", \"y\": \"acousticness\", \"yref\": \"y\"}, {\"font\": {\"color\": \"#000000\"}, \"showarrow\": false, \"text\": \"-0.06\", \"x\": \"mode\", \"xref\": \"x\", \"y\": \"acousticness\", \"yref\": \"y\"}, {\"font\": {\"color\": \"#000000\"}, \"showarrow\": false, \"text\": \"0.16\", \"x\": \"speechiness\", \"xref\": \"x\", \"y\": \"acousticness\", \"yref\": \"y\"}, {\"font\": {\"color\": \"#FFFFFF\"}, \"showarrow\": false, \"text\": \"1.0\", \"x\": \"acousticness\", \"xref\": \"x\", \"y\": \"acousticness\", \"yref\": \"y\"}, {\"font\": {\"color\": \"#000000\"}, \"showarrow\": false, \"text\": \"0.2\", \"x\": \"instrumentalness\", \"xref\": \"x\", \"y\": \"acousticness\", \"yref\": \"y\"}, {\"font\": {\"color\": \"#000000\"}, \"showarrow\": false, \"text\": \"-0.07\", \"x\": \"liveness\", \"xref\": \"x\", \"y\": \"acousticness\", \"yref\": \"y\"}, {\"font\": {\"color\": \"#000000\"}, \"showarrow\": false, \"text\": \"-0.13\", \"x\": \"valence\", \"xref\": \"x\", \"y\": \"acousticness\", \"yref\": \"y\"}, {\"font\": {\"color\": \"#000000\"}, \"showarrow\": false, \"text\": \"0.02\", \"x\": \"tempo\", \"xref\": \"x\", \"y\": \"acousticness\", \"yref\": \"y\"}, {\"font\": {\"color\": \"#000000\"}, \"showarrow\": false, \"text\": \"-0.07\", \"x\": \"duration_ms\", \"xref\": \"x\", \"y\": \"acousticness\", \"yref\": \"y\"}, {\"font\": {\"color\": \"#000000\"}, \"showarrow\": false, \"text\": \"0.02\", \"x\": \"time_signature\", \"xref\": \"x\", \"y\": \"acousticness\", \"yref\": \"y\"}, {\"font\": {\"color\": \"#000000\"}, \"showarrow\": false, \"text\": \"0.05\", \"x\": \"trackPopularity\", \"xref\": \"x\", \"y\": \"acousticness\", \"yref\": \"y\"}, {\"font\": {\"color\": \"#000000\"}, \"showarrow\": false, \"text\": \"-0.1\", \"x\": \"artistPopularity\", \"xref\": \"x\", \"y\": \"acousticness\", \"yref\": \"y\"}, {\"font\": {\"color\": \"#000000\"}, \"showarrow\": false, \"text\": \"0.02\", \"x\": \"liked\", \"xref\": \"x\", \"y\": \"acousticness\", \"yref\": \"y\"}, {\"font\": {\"color\": \"#000000\"}, \"showarrow\": false, \"text\": \"-0.14\", \"x\": \"danceability\", \"xref\": \"x\", \"y\": \"instrumentalness\", \"yref\": \"y\"}, {\"font\": {\"color\": \"#000000\"}, \"showarrow\": false, \"text\": \"-0.18\", \"x\": \"energy\", \"xref\": \"x\", \"y\": \"instrumentalness\", \"yref\": \"y\"}, {\"font\": {\"color\": \"#000000\"}, \"showarrow\": false, \"text\": \"-0.08\", \"x\": \"key\", \"xref\": \"x\", \"y\": \"instrumentalness\", \"yref\": \"y\"}, {\"font\": {\"color\": \"#000000\"}, \"showarrow\": false, \"text\": \"-0.48\", \"x\": \"loudness\", \"xref\": \"x\", \"y\": \"instrumentalness\", \"yref\": \"y\"}, {\"font\": {\"color\": \"#000000\"}, \"showarrow\": false, \"text\": \"0.02\", \"x\": \"mode\", \"xref\": \"x\", \"y\": \"instrumentalness\", \"yref\": \"y\"}, {\"font\": {\"color\": \"#000000\"}, \"showarrow\": false, \"text\": \"-0.11\", \"x\": \"speechiness\", \"xref\": \"x\", \"y\": \"instrumentalness\", \"yref\": \"y\"}, {\"font\": {\"color\": \"#000000\"}, \"showarrow\": false, \"text\": \"0.2\", \"x\": \"acousticness\", \"xref\": \"x\", \"y\": \"instrumentalness\", \"yref\": \"y\"}, {\"font\": {\"color\": \"#FFFFFF\"}, \"showarrow\": false, \"text\": \"1.0\", \"x\": \"instrumentalness\", \"xref\": \"x\", \"y\": \"instrumentalness\", \"yref\": \"y\"}, {\"font\": {\"color\": \"#000000\"}, \"showarrow\": false, \"text\": \"-0.06\", \"x\": \"liveness\", \"xref\": \"x\", \"y\": \"instrumentalness\", \"yref\": \"y\"}, {\"font\": {\"color\": \"#000000\"}, \"showarrow\": false, \"text\": \"-0.29\", \"x\": \"valence\", \"xref\": \"x\", \"y\": \"instrumentalness\", \"yref\": \"y\"}, {\"font\": {\"color\": \"#000000\"}, \"showarrow\": false, \"text\": \"0.19\", \"x\": \"tempo\", \"xref\": \"x\", \"y\": \"instrumentalness\", \"yref\": \"y\"}, {\"font\": {\"color\": \"#FFFFFF\"}, \"showarrow\": false, \"text\": \"0.48\", \"x\": \"duration_ms\", \"xref\": \"x\", \"y\": \"instrumentalness\", \"yref\": \"y\"}, {\"font\": {\"color\": \"#000000\"}, \"showarrow\": false, \"text\": \"-0.07\", \"x\": \"time_signature\", \"xref\": \"x\", \"y\": \"instrumentalness\", \"yref\": \"y\"}, {\"font\": {\"color\": \"#000000\"}, \"showarrow\": false, \"text\": \"-0.08\", \"x\": \"trackPopularity\", \"xref\": \"x\", \"y\": \"instrumentalness\", \"yref\": \"y\"}, {\"font\": {\"color\": \"#000000\"}, \"showarrow\": false, \"text\": \"-0.23\", \"x\": \"artistPopularity\", \"xref\": \"x\", \"y\": \"instrumentalness\", \"yref\": \"y\"}, {\"font\": {\"color\": \"#FFFFFF\"}, \"showarrow\": false, \"text\": \"0.49\", \"x\": \"liked\", \"xref\": \"x\", \"y\": \"instrumentalness\", \"yref\": \"y\"}, {\"font\": {\"color\": \"#000000\"}, \"showarrow\": false, \"text\": \"-0.05\", \"x\": \"danceability\", \"xref\": \"x\", \"y\": \"liveness\", \"yref\": \"y\"}, {\"font\": {\"color\": \"#000000\"}, \"showarrow\": false, \"text\": \"0.12\", \"x\": \"energy\", \"xref\": \"x\", \"y\": \"liveness\", \"yref\": \"y\"}, {\"font\": {\"color\": \"#000000\"}, \"showarrow\": false, \"text\": \"0.02\", \"x\": \"key\", \"xref\": \"x\", \"y\": \"liveness\", \"yref\": \"y\"}, {\"font\": {\"color\": \"#000000\"}, \"showarrow\": false, \"text\": \"0.17\", \"x\": \"loudness\", \"xref\": \"x\", \"y\": \"liveness\", \"yref\": \"y\"}, {\"font\": {\"color\": \"#000000\"}, \"showarrow\": false, \"text\": \"-0.11\", \"x\": \"mode\", \"xref\": \"x\", \"y\": \"liveness\", \"yref\": \"y\"}, {\"font\": {\"color\": \"#000000\"}, \"showarrow\": false, \"text\": \"-0.09\", \"x\": \"speechiness\", \"xref\": \"x\", \"y\": \"liveness\", \"yref\": \"y\"}, {\"font\": {\"color\": \"#000000\"}, \"showarrow\": false, \"text\": \"-0.07\", \"x\": \"acousticness\", \"xref\": \"x\", \"y\": \"liveness\", \"yref\": \"y\"}, {\"font\": {\"color\": \"#000000\"}, \"showarrow\": false, \"text\": \"-0.06\", \"x\": \"instrumentalness\", \"xref\": \"x\", \"y\": \"liveness\", \"yref\": \"y\"}, {\"font\": {\"color\": \"#FFFFFF\"}, \"showarrow\": false, \"text\": \"1.0\", \"x\": \"liveness\", \"xref\": \"x\", \"y\": \"liveness\", \"yref\": \"y\"}, {\"font\": {\"color\": \"#000000\"}, \"showarrow\": false, \"text\": \"-0.01\", \"x\": \"valence\", \"xref\": \"x\", \"y\": \"liveness\", \"yref\": \"y\"}, {\"font\": {\"color\": \"#000000\"}, \"showarrow\": false, \"text\": \"-0.08\", \"x\": \"tempo\", \"xref\": \"x\", \"y\": \"liveness\", \"yref\": \"y\"}, {\"font\": {\"color\": \"#000000\"}, \"showarrow\": false, \"text\": \"-0.07\", \"x\": \"duration_ms\", \"xref\": \"x\", \"y\": \"liveness\", \"yref\": \"y\"}, {\"font\": {\"color\": \"#000000\"}, \"showarrow\": false, \"text\": \"-0.09\", \"x\": \"time_signature\", \"xref\": \"x\", \"y\": \"liveness\", \"yref\": \"y\"}, {\"font\": {\"color\": \"#000000\"}, \"showarrow\": false, \"text\": \"0.01\", \"x\": \"trackPopularity\", \"xref\": \"x\", \"y\": \"liveness\", \"yref\": \"y\"}, {\"font\": {\"color\": \"#000000\"}, \"showarrow\": false, \"text\": \"-0.0\", \"x\": \"artistPopularity\", \"xref\": \"x\", \"y\": \"liveness\", \"yref\": \"y\"}, {\"font\": {\"color\": \"#000000\"}, \"showarrow\": false, \"text\": \"0.02\", \"x\": \"liked\", \"xref\": \"x\", \"y\": \"liveness\", \"yref\": \"y\"}, {\"font\": {\"color\": \"#FFFFFF\"}, \"showarrow\": false, \"text\": \"0.45\", \"x\": \"danceability\", \"xref\": \"x\", \"y\": \"valence\", \"yref\": \"y\"}, {\"font\": {\"color\": \"#000000\"}, \"showarrow\": false, \"text\": \"0.24\", \"x\": \"energy\", \"xref\": \"x\", \"y\": \"valence\", \"yref\": \"y\"}, {\"font\": {\"color\": \"#000000\"}, \"showarrow\": false, \"text\": \"0.16\", \"x\": \"key\", \"xref\": \"x\", \"y\": \"valence\", \"yref\": \"y\"}, {\"font\": {\"color\": \"#FFFFFF\"}, \"showarrow\": false, \"text\": \"0.31\", \"x\": \"loudness\", \"xref\": \"x\", \"y\": \"valence\", \"yref\": \"y\"}, {\"font\": {\"color\": \"#000000\"}, \"showarrow\": false, \"text\": \"-0.05\", \"x\": \"mode\", \"xref\": \"x\", \"y\": \"valence\", \"yref\": \"y\"}, {\"font\": {\"color\": \"#000000\"}, \"showarrow\": false, \"text\": \"0.19\", \"x\": \"speechiness\", \"xref\": \"x\", \"y\": \"valence\", \"yref\": \"y\"}, {\"font\": {\"color\": \"#000000\"}, \"showarrow\": false, \"text\": \"-0.13\", \"x\": \"acousticness\", \"xref\": \"x\", \"y\": \"valence\", \"yref\": \"y\"}, {\"font\": {\"color\": \"#000000\"}, \"showarrow\": false, \"text\": \"-0.29\", \"x\": \"instrumentalness\", \"xref\": \"x\", \"y\": \"valence\", \"yref\": \"y\"}, {\"font\": {\"color\": \"#000000\"}, \"showarrow\": false, \"text\": \"-0.01\", \"x\": \"liveness\", \"xref\": \"x\", \"y\": \"valence\", \"yref\": \"y\"}, {\"font\": {\"color\": \"#FFFFFF\"}, \"showarrow\": false, \"text\": \"1.0\", \"x\": \"valence\", \"xref\": \"x\", \"y\": \"valence\", \"yref\": \"y\"}, {\"font\": {\"color\": \"#000000\"}, \"showarrow\": false, \"text\": \"-0.11\", \"x\": \"tempo\", \"xref\": \"x\", \"y\": \"valence\", \"yref\": \"y\"}, {\"font\": {\"color\": \"#000000\"}, \"showarrow\": false, \"text\": \"-0.33\", \"x\": \"duration_ms\", \"xref\": \"x\", \"y\": \"valence\", \"yref\": \"y\"}, {\"font\": {\"color\": \"#000000\"}, \"showarrow\": false, \"text\": \"0.02\", \"x\": \"time_signature\", \"xref\": \"x\", \"y\": \"valence\", \"yref\": \"y\"}, {\"font\": {\"color\": \"#000000\"}, \"showarrow\": false, \"text\": \"0.15\", \"x\": \"trackPopularity\", \"xref\": \"x\", \"y\": \"valence\", \"yref\": \"y\"}, {\"font\": {\"color\": \"#000000\"}, \"showarrow\": false, \"text\": \"0.04\", \"x\": \"artistPopularity\", \"xref\": \"x\", \"y\": \"valence\", \"yref\": \"y\"}, {\"font\": {\"color\": \"#000000\"}, \"showarrow\": false, \"text\": \"-0.34\", \"x\": \"liked\", \"xref\": \"x\", \"y\": \"valence\", \"yref\": \"y\"}, {\"font\": {\"color\": \"#000000\"}, \"showarrow\": false, \"text\": \"-0.3\", \"x\": \"danceability\", \"xref\": \"x\", \"y\": \"tempo\", \"yref\": \"y\"}, {\"font\": {\"color\": \"#000000\"}, \"showarrow\": false, \"text\": \"0.06\", \"x\": \"energy\", \"xref\": \"x\", \"y\": \"tempo\", \"yref\": \"y\"}, {\"font\": {\"color\": \"#000000\"}, \"showarrow\": false, \"text\": \"-0.01\", \"x\": \"key\", \"xref\": \"x\", \"y\": \"tempo\", \"yref\": \"y\"}, {\"font\": {\"color\": \"#000000\"}, \"showarrow\": false, \"text\": \"-0.08\", \"x\": \"loudness\", \"xref\": \"x\", \"y\": \"tempo\", \"yref\": \"y\"}, {\"font\": {\"color\": \"#000000\"}, \"showarrow\": false, \"text\": \"-0.04\", \"x\": \"mode\", \"xref\": \"x\", \"y\": \"tempo\", \"yref\": \"y\"}, {\"font\": {\"color\": \"#000000\"}, \"showarrow\": false, \"text\": \"0.05\", \"x\": \"speechiness\", \"xref\": \"x\", \"y\": \"tempo\", \"yref\": \"y\"}, {\"font\": {\"color\": \"#000000\"}, \"showarrow\": false, \"text\": \"0.02\", \"x\": \"acousticness\", \"xref\": \"x\", \"y\": \"tempo\", \"yref\": \"y\"}, {\"font\": {\"color\": \"#000000\"}, \"showarrow\": false, \"text\": \"0.19\", \"x\": \"instrumentalness\", \"xref\": \"x\", \"y\": \"tempo\", \"yref\": \"y\"}, {\"font\": {\"color\": \"#000000\"}, \"showarrow\": false, \"text\": \"-0.08\", \"x\": \"liveness\", \"xref\": \"x\", \"y\": \"tempo\", \"yref\": \"y\"}, {\"font\": {\"color\": \"#000000\"}, \"showarrow\": false, \"text\": \"-0.11\", \"x\": \"valence\", \"xref\": \"x\", \"y\": \"tempo\", \"yref\": \"y\"}, {\"font\": {\"color\": \"#FFFFFF\"}, \"showarrow\": false, \"text\": \"1.0\", \"x\": \"tempo\", \"xref\": \"x\", \"y\": \"tempo\", \"yref\": \"y\"}, {\"font\": {\"color\": \"#000000\"}, \"showarrow\": false, \"text\": \"0.05\", \"x\": \"duration_ms\", \"xref\": \"x\", \"y\": \"tempo\", \"yref\": \"y\"}, {\"font\": {\"color\": \"#000000\"}, \"showarrow\": false, \"text\": \"-0.06\", \"x\": \"time_signature\", \"xref\": \"x\", \"y\": \"tempo\", \"yref\": \"y\"}, {\"font\": {\"color\": \"#000000\"}, \"showarrow\": false, \"text\": \"-0.14\", \"x\": \"trackPopularity\", \"xref\": \"x\", \"y\": \"tempo\", \"yref\": \"y\"}, {\"font\": {\"color\": \"#000000\"}, \"showarrow\": false, \"text\": \"-0.06\", \"x\": \"artistPopularity\", \"xref\": \"x\", \"y\": \"tempo\", \"yref\": \"y\"}, {\"font\": {\"color\": \"#000000\"}, \"showarrow\": false, \"text\": \"0.19\", \"x\": \"liked\", \"xref\": \"x\", \"y\": \"tempo\", \"yref\": \"y\"}, {\"font\": {\"color\": \"#000000\"}, \"showarrow\": false, \"text\": \"-0.19\", \"x\": \"danceability\", \"xref\": \"x\", \"y\": \"duration_ms\", \"yref\": \"y\"}, {\"font\": {\"color\": \"#000000\"}, \"showarrow\": false, \"text\": \"-0.03\", \"x\": \"energy\", \"xref\": \"x\", \"y\": \"duration_ms\", \"yref\": \"y\"}, {\"font\": {\"color\": \"#000000\"}, \"showarrow\": false, \"text\": \"-0.11\", \"x\": \"key\", \"xref\": \"x\", \"y\": \"duration_ms\", \"yref\": \"y\"}, {\"font\": {\"color\": \"#000000\"}, \"showarrow\": false, \"text\": \"-0.2\", \"x\": \"loudness\", \"xref\": \"x\", \"y\": \"duration_ms\", \"yref\": \"y\"}, {\"font\": {\"color\": \"#000000\"}, \"showarrow\": false, \"text\": \"0.07\", \"x\": \"mode\", \"xref\": \"x\", \"y\": \"duration_ms\", \"yref\": \"y\"}, {\"font\": {\"color\": \"#000000\"}, \"showarrow\": false, \"text\": \"-0.17\", \"x\": \"speechiness\", \"xref\": \"x\", \"y\": \"duration_ms\", \"yref\": \"y\"}, {\"font\": {\"color\": \"#000000\"}, \"showarrow\": false, \"text\": \"-0.07\", \"x\": \"acousticness\", \"xref\": \"x\", \"y\": \"duration_ms\", \"yref\": \"y\"}, {\"font\": {\"color\": \"#FFFFFF\"}, \"showarrow\": false, \"text\": \"0.48\", \"x\": \"instrumentalness\", \"xref\": \"x\", \"y\": \"duration_ms\", \"yref\": \"y\"}, {\"font\": {\"color\": \"#000000\"}, \"showarrow\": false, \"text\": \"-0.07\", \"x\": \"liveness\", \"xref\": \"x\", \"y\": \"duration_ms\", \"yref\": \"y\"}, {\"font\": {\"color\": \"#000000\"}, \"showarrow\": false, \"text\": \"-0.33\", \"x\": \"valence\", \"xref\": \"x\", \"y\": \"duration_ms\", \"yref\": \"y\"}, {\"font\": {\"color\": \"#000000\"}, \"showarrow\": false, \"text\": \"0.05\", \"x\": \"tempo\", \"xref\": \"x\", \"y\": \"duration_ms\", \"yref\": \"y\"}, {\"font\": {\"color\": \"#FFFFFF\"}, \"showarrow\": false, \"text\": \"1.0\", \"x\": \"duration_ms\", \"xref\": \"x\", \"y\": \"duration_ms\", \"yref\": \"y\"}, {\"font\": {\"color\": \"#000000\"}, \"showarrow\": false, \"text\": \"-0.07\", \"x\": \"time_signature\", \"xref\": \"x\", \"y\": \"duration_ms\", \"yref\": \"y\"}, {\"font\": {\"color\": \"#000000\"}, \"showarrow\": false, \"text\": \"-0.14\", \"x\": \"trackPopularity\", \"xref\": \"x\", \"y\": \"duration_ms\", \"yref\": \"y\"}, {\"font\": {\"color\": \"#000000\"}, \"showarrow\": false, \"text\": \"-0.06\", \"x\": \"artistPopularity\", \"xref\": \"x\", \"y\": \"duration_ms\", \"yref\": \"y\"}, {\"font\": {\"color\": \"#FFFFFF\"}, \"showarrow\": false, \"text\": \"0.45\", \"x\": \"liked\", \"xref\": \"x\", \"y\": \"duration_ms\", \"yref\": \"y\"}, {\"font\": {\"color\": \"#000000\"}, \"showarrow\": false, \"text\": \"0.03\", \"x\": \"danceability\", \"xref\": \"x\", \"y\": \"time_signature\", \"yref\": \"y\"}, {\"font\": {\"color\": \"#000000\"}, \"showarrow\": false, \"text\": \"-0.01\", \"x\": \"energy\", \"xref\": \"x\", \"y\": \"time_signature\", \"yref\": \"y\"}, {\"font\": {\"color\": \"#000000\"}, \"showarrow\": false, \"text\": \"0.06\", \"x\": \"key\", \"xref\": \"x\", \"y\": \"time_signature\", \"yref\": \"y\"}, {\"font\": {\"color\": \"#000000\"}, \"showarrow\": false, \"text\": \"0.01\", \"x\": \"loudness\", \"xref\": \"x\", \"y\": \"time_signature\", \"yref\": \"y\"}, {\"font\": {\"color\": \"#000000\"}, \"showarrow\": false, \"text\": \"-0.0\", \"x\": \"mode\", \"xref\": \"x\", \"y\": \"time_signature\", \"yref\": \"y\"}, {\"font\": {\"color\": \"#000000\"}, \"showarrow\": false, \"text\": \"0.03\", \"x\": \"speechiness\", \"xref\": \"x\", \"y\": \"time_signature\", \"yref\": \"y\"}, {\"font\": {\"color\": \"#000000\"}, \"showarrow\": false, \"text\": \"0.02\", \"x\": \"acousticness\", \"xref\": \"x\", \"y\": \"time_signature\", \"yref\": \"y\"}, {\"font\": {\"color\": \"#000000\"}, \"showarrow\": false, \"text\": \"-0.07\", \"x\": \"instrumentalness\", \"xref\": \"x\", \"y\": \"time_signature\", \"yref\": \"y\"}, {\"font\": {\"color\": \"#000000\"}, \"showarrow\": false, \"text\": \"-0.09\", \"x\": \"liveness\", \"xref\": \"x\", \"y\": \"time_signature\", \"yref\": \"y\"}, {\"font\": {\"color\": \"#000000\"}, \"showarrow\": false, \"text\": \"0.02\", \"x\": \"valence\", \"xref\": \"x\", \"y\": \"time_signature\", \"yref\": \"y\"}, {\"font\": {\"color\": \"#000000\"}, \"showarrow\": false, \"text\": \"-0.06\", \"x\": \"tempo\", \"xref\": \"x\", \"y\": \"time_signature\", \"yref\": \"y\"}, {\"font\": {\"color\": \"#000000\"}, \"showarrow\": false, \"text\": \"-0.07\", \"x\": \"duration_ms\", \"xref\": \"x\", \"y\": \"time_signature\", \"yref\": \"y\"}, {\"font\": {\"color\": \"#FFFFFF\"}, \"showarrow\": false, \"text\": \"1.0\", \"x\": \"time_signature\", \"xref\": \"x\", \"y\": \"time_signature\", \"yref\": \"y\"}, {\"font\": {\"color\": \"#000000\"}, \"showarrow\": false, \"text\": \"0.08\", \"x\": \"trackPopularity\", \"xref\": \"x\", \"y\": \"time_signature\", \"yref\": \"y\"}, {\"font\": {\"color\": \"#000000\"}, \"showarrow\": false, \"text\": \"-0.03\", \"x\": \"artistPopularity\", \"xref\": \"x\", \"y\": \"time_signature\", \"yref\": \"y\"}, {\"font\": {\"color\": \"#000000\"}, \"showarrow\": false, \"text\": \"-0.07\", \"x\": \"liked\", \"xref\": \"x\", \"y\": \"time_signature\", \"yref\": \"y\"}, {\"font\": {\"color\": \"#000000\"}, \"showarrow\": false, \"text\": \"0.1\", \"x\": \"danceability\", \"xref\": \"x\", \"y\": \"trackPopularity\", \"yref\": \"y\"}, {\"font\": {\"color\": \"#000000\"}, \"showarrow\": false, \"text\": \"0.09\", \"x\": \"energy\", \"xref\": \"x\", \"y\": \"trackPopularity\", \"yref\": \"y\"}, {\"font\": {\"color\": \"#000000\"}, \"showarrow\": false, \"text\": \"0.07\", \"x\": \"key\", \"xref\": \"x\", \"y\": \"trackPopularity\", \"yref\": \"y\"}, {\"font\": {\"color\": \"#000000\"}, \"showarrow\": false, \"text\": \"0.07\", \"x\": \"loudness\", \"xref\": \"x\", \"y\": \"trackPopularity\", \"yref\": \"y\"}, {\"font\": {\"color\": \"#000000\"}, \"showarrow\": false, \"text\": \"-0.04\", \"x\": \"mode\", \"xref\": \"x\", \"y\": \"trackPopularity\", \"yref\": \"y\"}, {\"font\": {\"color\": \"#000000\"}, \"showarrow\": false, \"text\": \"0.05\", \"x\": \"speechiness\", \"xref\": \"x\", \"y\": \"trackPopularity\", \"yref\": \"y\"}, {\"font\": {\"color\": \"#000000\"}, \"showarrow\": false, \"text\": \"0.05\", \"x\": \"acousticness\", \"xref\": \"x\", \"y\": \"trackPopularity\", \"yref\": \"y\"}, {\"font\": {\"color\": \"#000000\"}, \"showarrow\": false, \"text\": \"-0.08\", \"x\": \"instrumentalness\", \"xref\": \"x\", \"y\": \"trackPopularity\", \"yref\": \"y\"}, {\"font\": {\"color\": \"#000000\"}, \"showarrow\": false, \"text\": \"0.01\", \"x\": \"liveness\", \"xref\": \"x\", \"y\": \"trackPopularity\", \"yref\": \"y\"}, {\"font\": {\"color\": \"#000000\"}, \"showarrow\": false, \"text\": \"0.15\", \"x\": \"valence\", \"xref\": \"x\", \"y\": \"trackPopularity\", \"yref\": \"y\"}, {\"font\": {\"color\": \"#000000\"}, \"showarrow\": false, \"text\": \"-0.14\", \"x\": \"tempo\", \"xref\": \"x\", \"y\": \"trackPopularity\", \"yref\": \"y\"}, {\"font\": {\"color\": \"#000000\"}, \"showarrow\": false, \"text\": \"-0.14\", \"x\": \"duration_ms\", \"xref\": \"x\", \"y\": \"trackPopularity\", \"yref\": \"y\"}, {\"font\": {\"color\": \"#000000\"}, \"showarrow\": false, \"text\": \"0.08\", \"x\": \"time_signature\", \"xref\": \"x\", \"y\": \"trackPopularity\", \"yref\": \"y\"}, {\"font\": {\"color\": \"#FFFFFF\"}, \"showarrow\": false, \"text\": \"1.0\", \"x\": \"trackPopularity\", \"xref\": \"x\", \"y\": \"trackPopularity\", \"yref\": \"y\"}, {\"font\": {\"color\": \"#FFFFFF\"}, \"showarrow\": false, \"text\": \"0.33\", \"x\": \"artistPopularity\", \"xref\": \"x\", \"y\": \"trackPopularity\", \"yref\": \"y\"}, {\"font\": {\"color\": \"#000000\"}, \"showarrow\": false, \"text\": \"0.02\", \"x\": \"liked\", \"xref\": \"x\", \"y\": \"trackPopularity\", \"yref\": \"y\"}, {\"font\": {\"color\": \"#000000\"}, \"showarrow\": false, \"text\": \"0.1\", \"x\": \"danceability\", \"xref\": \"x\", \"y\": \"artistPopularity\", \"yref\": \"y\"}, {\"font\": {\"color\": \"#000000\"}, \"showarrow\": false, \"text\": \"0.17\", \"x\": \"energy\", \"xref\": \"x\", \"y\": \"artistPopularity\", \"yref\": \"y\"}, {\"font\": {\"color\": \"#000000\"}, \"showarrow\": false, \"text\": \"0.08\", \"x\": \"key\", \"xref\": \"x\", \"y\": \"artistPopularity\", \"yref\": \"y\"}, {\"font\": {\"color\": \"#000000\"}, \"showarrow\": false, \"text\": \"0.22\", \"x\": \"loudness\", \"xref\": \"x\", \"y\": \"artistPopularity\", \"yref\": \"y\"}, {\"font\": {\"color\": \"#000000\"}, \"showarrow\": false, \"text\": \"-0.05\", \"x\": \"mode\", \"xref\": \"x\", \"y\": \"artistPopularity\", \"yref\": \"y\"}, {\"font\": {\"color\": \"#000000\"}, \"showarrow\": false, \"text\": \"-0.0\", \"x\": \"speechiness\", \"xref\": \"x\", \"y\": \"artistPopularity\", \"yref\": \"y\"}, {\"font\": {\"color\": \"#000000\"}, \"showarrow\": false, \"text\": \"-0.1\", \"x\": \"acousticness\", \"xref\": \"x\", \"y\": \"artistPopularity\", \"yref\": \"y\"}, {\"font\": {\"color\": \"#000000\"}, \"showarrow\": false, \"text\": \"-0.23\", \"x\": \"instrumentalness\", \"xref\": \"x\", \"y\": \"artistPopularity\", \"yref\": \"y\"}, {\"font\": {\"color\": \"#000000\"}, \"showarrow\": false, \"text\": \"-0.0\", \"x\": \"liveness\", \"xref\": \"x\", \"y\": \"artistPopularity\", \"yref\": \"y\"}, {\"font\": {\"color\": \"#000000\"}, \"showarrow\": false, \"text\": \"0.04\", \"x\": \"valence\", \"xref\": \"x\", \"y\": \"artistPopularity\", \"yref\": \"y\"}, {\"font\": {\"color\": \"#000000\"}, \"showarrow\": false, \"text\": \"-0.06\", \"x\": \"tempo\", \"xref\": \"x\", \"y\": \"artistPopularity\", \"yref\": \"y\"}, {\"font\": {\"color\": \"#000000\"}, \"showarrow\": false, \"text\": \"-0.06\", \"x\": \"duration_ms\", \"xref\": \"x\", \"y\": \"artistPopularity\", \"yref\": \"y\"}, {\"font\": {\"color\": \"#000000\"}, \"showarrow\": false, \"text\": \"-0.03\", \"x\": \"time_signature\", \"xref\": \"x\", \"y\": \"artistPopularity\", \"yref\": \"y\"}, {\"font\": {\"color\": \"#FFFFFF\"}, \"showarrow\": false, \"text\": \"0.33\", \"x\": \"trackPopularity\", \"xref\": \"x\", \"y\": \"artistPopularity\", \"yref\": \"y\"}, {\"font\": {\"color\": \"#FFFFFF\"}, \"showarrow\": false, \"text\": \"1.0\", \"x\": \"artistPopularity\", \"xref\": \"x\", \"y\": \"artistPopularity\", \"yref\": \"y\"}, {\"font\": {\"color\": \"#000000\"}, \"showarrow\": false, \"text\": \"-0.02\", \"x\": \"liked\", \"xref\": \"x\", \"y\": \"artistPopularity\", \"yref\": \"y\"}, {\"font\": {\"color\": \"#000000\"}, \"showarrow\": false, \"text\": \"-0.39\", \"x\": \"danceability\", \"xref\": \"x\", \"y\": \"liked\", \"yref\": \"y\"}, {\"font\": {\"color\": \"#000000\"}, \"showarrow\": false, \"text\": \"0.07\", \"x\": \"energy\", \"xref\": \"x\", \"y\": \"liked\", \"yref\": \"y\"}, {\"font\": {\"color\": \"#000000\"}, \"showarrow\": false, \"text\": \"-0.16\", \"x\": \"key\", \"xref\": \"x\", \"y\": \"liked\", \"yref\": \"y\"}, {\"font\": {\"color\": \"#000000\"}, \"showarrow\": false, \"text\": \"-0.13\", \"x\": \"loudness\", \"xref\": \"x\", \"y\": \"liked\", \"yref\": \"y\"}, {\"font\": {\"color\": \"#000000\"}, \"showarrow\": false, \"text\": \"0.02\", \"x\": \"mode\", \"xref\": \"x\", \"y\": \"liked\", \"yref\": \"y\"}, {\"font\": {\"color\": \"#000000\"}, \"showarrow\": false, \"text\": \"-0.2\", \"x\": \"speechiness\", \"xref\": \"x\", \"y\": \"liked\", \"yref\": \"y\"}, {\"font\": {\"color\": \"#000000\"}, \"showarrow\": false, \"text\": \"0.02\", \"x\": \"acousticness\", \"xref\": \"x\", \"y\": \"liked\", \"yref\": \"y\"}, {\"font\": {\"color\": \"#FFFFFF\"}, \"showarrow\": false, \"text\": \"0.49\", \"x\": \"instrumentalness\", \"xref\": \"x\", \"y\": \"liked\", \"yref\": \"y\"}, {\"font\": {\"color\": \"#000000\"}, \"showarrow\": false, \"text\": \"0.02\", \"x\": \"liveness\", \"xref\": \"x\", \"y\": \"liked\", \"yref\": \"y\"}, {\"font\": {\"color\": \"#000000\"}, \"showarrow\": false, \"text\": \"-0.34\", \"x\": \"valence\", \"xref\": \"x\", \"y\": \"liked\", \"yref\": \"y\"}, {\"font\": {\"color\": \"#000000\"}, \"showarrow\": false, \"text\": \"0.19\", \"x\": \"tempo\", \"xref\": \"x\", \"y\": \"liked\", \"yref\": \"y\"}, {\"font\": {\"color\": \"#FFFFFF\"}, \"showarrow\": false, \"text\": \"0.45\", \"x\": \"duration_ms\", \"xref\": \"x\", \"y\": \"liked\", \"yref\": \"y\"}, {\"font\": {\"color\": \"#000000\"}, \"showarrow\": false, \"text\": \"-0.07\", \"x\": \"time_signature\", \"xref\": \"x\", \"y\": \"liked\", \"yref\": \"y\"}, {\"font\": {\"color\": \"#000000\"}, \"showarrow\": false, \"text\": \"0.02\", \"x\": \"trackPopularity\", \"xref\": \"x\", \"y\": \"liked\", \"yref\": \"y\"}, {\"font\": {\"color\": \"#000000\"}, \"showarrow\": false, \"text\": \"-0.02\", \"x\": \"artistPopularity\", \"xref\": \"x\", \"y\": \"liked\", \"yref\": \"y\"}, {\"font\": {\"color\": \"#FFFFFF\"}, \"showarrow\": false, \"text\": \"1.0\", \"x\": \"liked\", \"xref\": \"x\", \"y\": \"liked\", \"yref\": \"y\"}], \"height\": 800, \"margin\": {\"l\": 0, \"t\": 0}, \"template\": {\"data\": {\"bar\": [{\"error_x\": {\"color\": \"#2a3f5f\"}, \"error_y\": {\"color\": \"#2a3f5f\"}, \"marker\": {\"line\": {\"color\": \"#E5ECF6\", \"width\": 0.5}}, \"type\": \"bar\"}], \"barpolar\": [{\"marker\": {\"line\": {\"color\": \"#E5ECF6\", \"width\": 0.5}}, \"type\": \"barpolar\"}], \"carpet\": [{\"aaxis\": {\"endlinecolor\": \"#2a3f5f\", \"gridcolor\": \"white\", \"linecolor\": \"white\", \"minorgridcolor\": \"white\", \"startlinecolor\": \"#2a3f5f\"}, \"baxis\": {\"endlinecolor\": \"#2a3f5f\", \"gridcolor\": \"white\", \"linecolor\": \"white\", \"minorgridcolor\": \"white\", \"startlinecolor\": \"#2a3f5f\"}, \"type\": \"carpet\"}], \"choropleth\": [{\"colorbar\": {\"outlinewidth\": 0, \"ticks\": \"\"}, \"type\": \"choropleth\"}], \"contour\": [{\"colorbar\": {\"outlinewidth\": 0, \"ticks\": \"\"}, \"colorscale\": [[0.0, \"#0d0887\"], [0.1111111111111111, \"#46039f\"], [0.2222222222222222, \"#7201a8\"], [0.3333333333333333, \"#9c179e\"], [0.4444444444444444, \"#bd3786\"], [0.5555555555555556, \"#d8576b\"], [0.6666666666666666, \"#ed7953\"], [0.7777777777777778, \"#fb9f3a\"], [0.8888888888888888, \"#fdca26\"], [1.0, \"#f0f921\"]], \"type\": \"contour\"}], \"contourcarpet\": [{\"colorbar\": {\"outlinewidth\": 0, \"ticks\": \"\"}, \"type\": \"contourcarpet\"}], \"heatmap\": [{\"colorbar\": {\"outlinewidth\": 0, \"ticks\": \"\"}, \"colorscale\": [[0.0, \"#0d0887\"], [0.1111111111111111, \"#46039f\"], [0.2222222222222222, \"#7201a8\"], [0.3333333333333333, \"#9c179e\"], [0.4444444444444444, \"#bd3786\"], [0.5555555555555556, \"#d8576b\"], [0.6666666666666666, \"#ed7953\"], [0.7777777777777778, \"#fb9f3a\"], [0.8888888888888888, \"#fdca26\"], [1.0, \"#f0f921\"]], \"type\": \"heatmap\"}], \"heatmapgl\": [{\"colorbar\": {\"outlinewidth\": 0, \"ticks\": \"\"}, \"colorscale\": [[0.0, \"#0d0887\"], [0.1111111111111111, \"#46039f\"], [0.2222222222222222, \"#7201a8\"], [0.3333333333333333, \"#9c179e\"], [0.4444444444444444, \"#bd3786\"], [0.5555555555555556, \"#d8576b\"], [0.6666666666666666, \"#ed7953\"], [0.7777777777777778, \"#fb9f3a\"], [0.8888888888888888, \"#fdca26\"], [1.0, \"#f0f921\"]], \"type\": \"heatmapgl\"}], \"histogram\": [{\"marker\": {\"colorbar\": {\"outlinewidth\": 0, \"ticks\": \"\"}}, \"type\": \"histogram\"}], \"histogram2d\": [{\"colorbar\": {\"outlinewidth\": 0, \"ticks\": \"\"}, \"colorscale\": [[0.0, \"#0d0887\"], [0.1111111111111111, \"#46039f\"], [0.2222222222222222, \"#7201a8\"], [0.3333333333333333, \"#9c179e\"], [0.4444444444444444, \"#bd3786\"], [0.5555555555555556, \"#d8576b\"], [0.6666666666666666, \"#ed7953\"], [0.7777777777777778, \"#fb9f3a\"], [0.8888888888888888, \"#fdca26\"], [1.0, \"#f0f921\"]], \"type\": \"histogram2d\"}], \"histogram2dcontour\": [{\"colorbar\": {\"outlinewidth\": 0, \"ticks\": \"\"}, \"colorscale\": [[0.0, \"#0d0887\"], [0.1111111111111111, \"#46039f\"], [0.2222222222222222, \"#7201a8\"], [0.3333333333333333, \"#9c179e\"], [0.4444444444444444, \"#bd3786\"], [0.5555555555555556, \"#d8576b\"], [0.6666666666666666, \"#ed7953\"], [0.7777777777777778, \"#fb9f3a\"], [0.8888888888888888, \"#fdca26\"], [1.0, \"#f0f921\"]], \"type\": \"histogram2dcontour\"}], \"mesh3d\": [{\"colorbar\": {\"outlinewidth\": 0, \"ticks\": \"\"}, \"type\": \"mesh3d\"}], \"parcoords\": [{\"line\": {\"colorbar\": {\"outlinewidth\": 0, \"ticks\": \"\"}}, \"type\": \"parcoords\"}], \"pie\": [{\"automargin\": true, \"type\": \"pie\"}], \"scatter\": [{\"marker\": {\"colorbar\": {\"outlinewidth\": 0, \"ticks\": \"\"}}, \"type\": \"scatter\"}], \"scatter3d\": [{\"line\": {\"colorbar\": {\"outlinewidth\": 0, \"ticks\": \"\"}}, \"marker\": {\"colorbar\": {\"outlinewidth\": 0, \"ticks\": \"\"}}, \"type\": \"scatter3d\"}], \"scattercarpet\": [{\"marker\": {\"colorbar\": {\"outlinewidth\": 0, \"ticks\": \"\"}}, \"type\": \"scattercarpet\"}], \"scattergeo\": [{\"marker\": {\"colorbar\": {\"outlinewidth\": 0, \"ticks\": \"\"}}, \"type\": \"scattergeo\"}], \"scattergl\": [{\"marker\": {\"colorbar\": {\"outlinewidth\": 0, \"ticks\": \"\"}}, \"type\": \"scattergl\"}], \"scattermapbox\": [{\"marker\": {\"colorbar\": {\"outlinewidth\": 0, \"ticks\": \"\"}}, \"type\": \"scattermapbox\"}], \"scatterpolar\": [{\"marker\": {\"colorbar\": {\"outlinewidth\": 0, \"ticks\": \"\"}}, \"type\": \"scatterpolar\"}], \"scatterpolargl\": [{\"marker\": {\"colorbar\": {\"outlinewidth\": 0, \"ticks\": \"\"}}, \"type\": \"scatterpolargl\"}], \"scatterternary\": [{\"marker\": {\"colorbar\": {\"outlinewidth\": 0, \"ticks\": \"\"}}, \"type\": \"scatterternary\"}], \"surface\": [{\"colorbar\": {\"outlinewidth\": 0, \"ticks\": \"\"}, \"colorscale\": [[0.0, \"#0d0887\"], [0.1111111111111111, \"#46039f\"], [0.2222222222222222, \"#7201a8\"], [0.3333333333333333, \"#9c179e\"], [0.4444444444444444, \"#bd3786\"], [0.5555555555555556, \"#d8576b\"], [0.6666666666666666, \"#ed7953\"], [0.7777777777777778, \"#fb9f3a\"], [0.8888888888888888, \"#fdca26\"], [1.0, \"#f0f921\"]], \"type\": \"surface\"}], \"table\": [{\"cells\": {\"fill\": {\"color\": \"#EBF0F8\"}, \"line\": {\"color\": \"white\"}}, \"header\": {\"fill\": {\"color\": \"#C8D4E3\"}, \"line\": {\"color\": \"white\"}}, \"type\": \"table\"}]}, \"layout\": {\"annotationdefaults\": {\"arrowcolor\": \"#2a3f5f\", \"arrowhead\": 0, \"arrowwidth\": 1}, \"coloraxis\": {\"colorbar\": {\"outlinewidth\": 0, \"ticks\": \"\"}}, \"colorscale\": {\"diverging\": [[0, \"#8e0152\"], [0.1, \"#c51b7d\"], [0.2, \"#de77ae\"], [0.3, \"#f1b6da\"], [0.4, \"#fde0ef\"], [0.5, \"#f7f7f7\"], [0.6, \"#e6f5d0\"], [0.7, \"#b8e186\"], [0.8, \"#7fbc41\"], [0.9, \"#4d9221\"], [1, \"#276419\"]], \"sequential\": [[0.0, \"#0d0887\"], [0.1111111111111111, \"#46039f\"], [0.2222222222222222, \"#7201a8\"], [0.3333333333333333, \"#9c179e\"], [0.4444444444444444, \"#bd3786\"], [0.5555555555555556, \"#d8576b\"], [0.6666666666666666, \"#ed7953\"], [0.7777777777777778, \"#fb9f3a\"], [0.8888888888888888, \"#fdca26\"], [1.0, \"#f0f921\"]], \"sequentialminus\": [[0.0, \"#0d0887\"], [0.1111111111111111, \"#46039f\"], [0.2222222222222222, \"#7201a8\"], [0.3333333333333333, \"#9c179e\"], [0.4444444444444444, \"#bd3786\"], [0.5555555555555556, \"#d8576b\"], [0.6666666666666666, \"#ed7953\"], [0.7777777777777778, \"#fb9f3a\"], [0.8888888888888888, \"#fdca26\"], [1.0, \"#f0f921\"]]}, \"colorway\": [\"#636efa\", \"#EF553B\", \"#00cc96\", \"#ab63fa\", \"#FFA15A\", \"#19d3f3\", \"#FF6692\", \"#B6E880\", \"#FF97FF\", \"#FECB52\"], \"font\": {\"color\": \"#2a3f5f\"}, \"geo\": {\"bgcolor\": \"white\", \"lakecolor\": \"white\", \"landcolor\": \"#E5ECF6\", \"showlakes\": true, \"showland\": true, \"subunitcolor\": \"white\"}, \"hoverlabel\": {\"align\": \"left\"}, \"hovermode\": \"closest\", \"mapbox\": {\"style\": \"light\"}, \"paper_bgcolor\": \"white\", \"plot_bgcolor\": \"#E5ECF6\", \"polar\": {\"angularaxis\": {\"gridcolor\": \"white\", \"linecolor\": \"white\", \"ticks\": \"\"}, \"bgcolor\": \"#E5ECF6\", \"radialaxis\": {\"gridcolor\": \"white\", \"linecolor\": \"white\", \"ticks\": \"\"}}, \"scene\": {\"xaxis\": {\"backgroundcolor\": \"#E5ECF6\", \"gridcolor\": \"white\", \"gridwidth\": 2, \"linecolor\": \"white\", \"showbackground\": true, \"ticks\": \"\", \"zerolinecolor\": \"white\"}, \"yaxis\": {\"backgroundcolor\": \"#E5ECF6\", \"gridcolor\": \"white\", \"gridwidth\": 2, \"linecolor\": \"white\", \"showbackground\": true, \"ticks\": \"\", \"zerolinecolor\": \"white\"}, \"zaxis\": {\"backgroundcolor\": \"#E5ECF6\", \"gridcolor\": \"white\", \"gridwidth\": 2, \"linecolor\": \"white\", \"showbackground\": true, \"ticks\": \"\", \"zerolinecolor\": \"white\"}}, \"shapedefaults\": {\"line\": {\"color\": \"#2a3f5f\"}}, \"ternary\": {\"aaxis\": {\"gridcolor\": \"white\", \"linecolor\": \"white\", \"ticks\": \"\"}, \"baxis\": {\"gridcolor\": \"white\", \"linecolor\": \"white\", \"ticks\": \"\"}, \"bgcolor\": \"#E5ECF6\", \"caxis\": {\"gridcolor\": \"white\", \"linecolor\": \"white\", \"ticks\": \"\"}}, \"title\": {\"x\": 0.05}, \"xaxis\": {\"automargin\": true, \"gridcolor\": \"white\", \"linecolor\": \"white\", \"ticks\": \"\", \"title\": {\"standoff\": 15}, \"zerolinecolor\": \"white\", \"zerolinewidth\": 2}, \"yaxis\": {\"automargin\": true, \"gridcolor\": \"white\", \"linecolor\": \"white\", \"ticks\": \"\", \"title\": {\"standoff\": 15}, \"zerolinecolor\": \"white\", \"zerolinewidth\": 2}}}, \"width\": 800, \"xaxis\": {\"dtick\": 1, \"gridcolor\": \"rgb(0, 0, 0)\", \"side\": \"top\", \"ticks\": \"\"}, \"yaxis\": {\"dtick\": 1, \"ticks\": \"\", \"ticksuffix\": \"  \"}},\n",
       "                        {\"responsive\": true}\n",
       "                    ).then(function(){\n",
       "                            \n",
       "var gd = document.getElementById('0a8b77ee-c8b9-4e4a-b573-f6ab00ef3d23');\n",
       "var x = new MutationObserver(function (mutations, observer) {{\n",
       "        var display = window.getComputedStyle(gd).display;\n",
       "        if (!display || display === 'none') {{\n",
       "            console.log([gd, 'removed!']);\n",
       "            Plotly.purge(gd);\n",
       "            observer.disconnect();\n",
       "        }}\n",
       "}});\n",
       "\n",
       "// Listen for the removal of the full notebook cells\n",
       "var notebookContainer = gd.closest('#notebook-container');\n",
       "if (notebookContainer) {{\n",
       "    x.observe(notebookContainer, {childList: true});\n",
       "}}\n",
       "\n",
       "// Listen for the clearing of the current output cell\n",
       "var outputEl = gd.closest('.output');\n",
       "if (outputEl) {{\n",
       "    x.observe(outputEl, {childList: true});\n",
       "}}\n",
       "\n",
       "                        })\n",
       "                };\n",
       "                });\n",
       "            </script>\n",
       "        </div>"
      ]
     },
     "metadata": {},
     "output_type": "display_data"
    }
   ],
   "source": [
    "import plotly\n",
    "import plotly.figure_factory as ff\n",
    "import plotly.graph_objs as go\n",
    "from plotly.offline import init_notebook_mode, iplot\n",
    "\n",
    "import cufflinks\n",
    "\n",
    "cufflinks.go_offline()\n",
    "\n",
    "# Set global theme\n",
    "cufflinks.set_config_file(world_readable=True, theme='pearl')\n",
    "\n",
    "# Display all cell outputs\n",
    "from IPython.core.interactiveshell import InteractiveShell\n",
    "InteractiveShell.ast_node_interactivity = 'all'\n",
    "\n",
    "corrs = join.corr()\n",
    "\n",
    "figure = ff.create_annotated_heatmap(\n",
    "    z=corrs.values,\n",
    "    x=list(corrs.columns),\n",
    "    y=list(corrs.index),\n",
    "    colorscale='viridis',\n",
    "    annotation_text=corrs.round(2).values,\n",
    "    showscale=True, reversescale=True)\n",
    "\n",
    "figure.layout.margin = dict(l=0, t=0)\n",
    "figure.layout.height = 800\n",
    "figure.layout.width = 800\n",
    "\n",
    "iplot(figure)"
   ]
  },
  {
   "cell_type": "code",
   "execution_count": 18,
   "metadata": {},
   "outputs": [],
   "source": [
    "# defintion of liked, not liked for involved columns.\n",
    "pos_tempo = join[join['liked'] == 1]['tempo']\n",
    "neg_tempo = join[join['liked'] == 0]['tempo']\n",
    "pos_dance = join[join['liked'] == 1]['danceability']\n",
    "neg_dance = join[join['liked'] == 0]['danceability']\n",
    "pos_duration = join[join['liked'] == 1]['duration_ms']\n",
    "neg_duration = join[join['liked'] == 0]['duration_ms']\n",
    "pos_loudness = join[join['liked'] == 1]['loudness']\n",
    "neg_loudness = join[join['liked'] == 0]['loudness']\n",
    "pos_instrumentalness = join[join['liked'] == 1]['instrumentalness']\n",
    "neg_instrumentalness = join[join['liked'] == 0]['instrumentalness']\n",
    "pos_valence = join[join['liked'] == 1]['valence']\n",
    "neg_valence = join[join['liked'] == 0]['valence']\n",
    "pos_energy = join[join['liked'] == 1]['energy']\n",
    "neg_energy = join[join['liked'] == 0]['energy']\n",
    "pos_acousticness = join[join['liked'] == 1]['acousticness']\n",
    "neg_acousticness = join[join['liked'] == 0]['acousticness']\n",
    "pos_popularity = join[join['liked'] == 1]['trackPopularity']\n",
    "neg_popularity = join[join['liked'] == 0]['trackPopularity']\n",
    "pos_a_popularity = join[join['liked'] == 1]['artistPopularity']\n",
    "neg_a_popularity = join[join['liked'] == 0]['artistPopularity']"
   ]
  },
  {
   "cell_type": "code",
   "execution_count": 19,
   "metadata": {},
   "outputs": [
    {
     "name": "stdout",
     "output_type": "stream",
     "text": [
      "0       3\n",
      "1      10\n",
      "2      19\n",
      "3      23\n",
      "4       0\n",
      "       ..\n",
      "103    23\n",
      "104    40\n",
      "105    21\n",
      "106    29\n",
      "107    55\n",
      "Name: trackPopularity, Length: 108, dtype: int64\n",
      "108     3\n",
      "109    10\n",
      "110    19\n",
      "111    23\n",
      "112     0\n",
      "       ..\n",
      "202    68\n",
      "203    37\n",
      "204    29\n",
      "205    45\n",
      "206    69\n",
      "Name: trackPopularity, Length: 99, dtype: int64\n"
     ]
    }
   ],
   "source": [
    "# testing for popularity to see if the liked actually works.\n",
    "print(pos_popularity)\n",
    "print(neg_popularity)"
   ]
  },
  {
   "cell_type": "code",
   "execution_count": 20,
   "metadata": {},
   "outputs": [],
   "source": [
    "join_two = join.select_dtypes(include=[np.number]).dropna()\n",
    "# join_two = join_two.drop('liked', axis=1)\n",
    "join_two.to_csv('join_two.csv')"
   ]
  },
  {
   "cell_type": "code",
   "execution_count": 21,
   "metadata": {},
   "outputs": [
    {
     "name": "stdout",
     "output_type": "stream",
     "text": [
      "Top Absolute Correlations\n",
      "energy            loudness            0.712792\n",
      "                  acousticness        0.510676\n",
      "loudness          acousticness        0.497001\n",
      "instrumentalness  liked               0.490826\n",
      "loudness          instrumentalness    0.483100\n",
      "instrumentalness  duration_ms         0.475397\n",
      "danceability      valence             0.450614\n",
      "duration_ms       liked               0.448124\n",
      "danceability      liked               0.392008\n",
      "valence           liked               0.340252\n",
      "trackPopularity   artistPopularity    0.333661\n",
      "valence           duration_ms         0.327472\n",
      "loudness          valence             0.306855\n",
      "danceability      tempo               0.295884\n",
      "instrumentalness  valence             0.287387\n",
      "energy            valence             0.239127\n",
      "instrumentalness  artistPopularity    0.233422\n",
      "danceability      speechiness         0.230292\n",
      "loudness          artistPopularity    0.220965\n",
      "key               mode                0.208093\n",
      "dtype: float64\n"
     ]
    }
   ],
   "source": [
    "def get_redundant_pairs(df):\n",
    "    '''Get diagonal and lower triangular pairs of correlation matrix'''\n",
    "    pairs_to_drop = set()\n",
    "    cols = df.columns\n",
    "    for i in range(0, df.shape[1]):\n",
    "        for j in range(0, i+1):\n",
    "            pairs_to_drop.add((cols[i], cols[j]))\n",
    "    return pairs_to_drop\n",
    "\n",
    "def get_top_abs_correlations(df, n=5):\n",
    "    au_corr = df.corr().abs().unstack()\n",
    "    labels_to_drop = get_redundant_pairs(df)\n",
    "    au_corr = au_corr.drop(labels=labels_to_drop).sort_values(ascending=False)\n",
    "    return au_corr[0:n]\n",
    "\n",
    "print(\"Top Absolute Correlations\")\n",
    "print(get_top_abs_correlations(join_two, 20))"
   ]
  },
  {
   "cell_type": "markdown",
   "metadata": {},
   "source": [
    "We're ignoring liked since its our target variable.\n",
    "\n",
    "The basis for this would be an absolute pearson correlation of at least 0.30 absolute correlation as a threshold as indicated above. This is what we're using and we're choosing all the variables that are partnered above this threshold saved for liked."
   ]
  },
  {
   "cell_type": "markdown",
   "metadata": {},
   "source": [
    "# EDA. Initial Look"
   ]
  },
  {
   "cell_type": "code",
   "execution_count": 22,
   "metadata": {},
   "outputs": [
    {
     "data": {
      "image/png": "[encoded data removed]",
      "text/plain": [
       "<Figure size 864x576 with 1 Axes>"
      ]
     },
     "metadata": {},
     "output_type": "display_data"
    }
   ],
   "source": [
    "fig = plt.figure(figsize=(12,8))\n",
    "plt.title(\"Song Tempo Like / Dislike Distribution\")\n",
    "pos_tempo.hist(alpha=0.7, bins=30, label='positive')\n",
    "neg_tempo.hist(alpha=0.7, bins=30, label='negative')\n",
    "plt.legend(loc='upper right');\n"
   ]
  },
  {
   "cell_type": "markdown",
   "metadata": {},
   "source": [
    "Feels like a lot of activity happening in energy, danceability, loudness, artist popularity, and valence."
   ]
  },
  {
   "cell_type": "code",
   "execution_count": 23,
   "metadata": {},
   "outputs": [
    {
     "data": {
      "text/html": [
       "<div>\n",
       "<style scoped>\n",
       "    .dataframe tbody tr th:only-of-type {\n",
       "        vertical-align: middle;\n",
       "    }\n",
       "\n",
       "    .dataframe tbody tr th {\n",
       "        vertical-align: top;\n",
       "    }\n",
       "\n",
       "    .dataframe thead th {\n",
       "        text-align: right;\n",
       "    }\n",
       "</style>\n",
       "<table border=\"1\" class=\"dataframe\">\n",
       "  <thead>\n",
       "    <tr style=\"text-align: right;\">\n",
       "      <th></th>\n",
       "      <th>danceability</th>\n",
       "      <th>energy</th>\n",
       "      <th>key</th>\n",
       "      <th>loudness</th>\n",
       "      <th>mode</th>\n",
       "      <th>speechiness</th>\n",
       "      <th>acousticness</th>\n",
       "      <th>instrumentalness</th>\n",
       "      <th>liveness</th>\n",
       "      <th>valence</th>\n",
       "      <th>tempo</th>\n",
       "      <th>duration_ms</th>\n",
       "      <th>time_signature</th>\n",
       "      <th>trackPopularity</th>\n",
       "      <th>artistPopularity</th>\n",
       "      <th>liked</th>\n",
       "    </tr>\n",
       "  </thead>\n",
       "  <tbody>\n",
       "    <tr>\n",
       "      <td>0</td>\n",
       "      <td>0.276</td>\n",
       "      <td>0.796</td>\n",
       "      <td>0</td>\n",
       "      <td>-4.499</td>\n",
       "      <td>1</td>\n",
       "      <td>0.0579</td>\n",
       "      <td>0.00293</td>\n",
       "      <td>0.000000</td>\n",
       "      <td>0.1840</td>\n",
       "      <td>0.260</td>\n",
       "      <td>199.526</td>\n",
       "      <td>218965</td>\n",
       "      <td>4</td>\n",
       "      <td>3</td>\n",
       "      <td>66</td>\n",
       "      <td>1</td>\n",
       "    </tr>\n",
       "    <tr>\n",
       "      <td>1</td>\n",
       "      <td>0.586</td>\n",
       "      <td>0.853</td>\n",
       "      <td>1</td>\n",
       "      <td>-2.798</td>\n",
       "      <td>1</td>\n",
       "      <td>0.0498</td>\n",
       "      <td>0.00708</td>\n",
       "      <td>0.003110</td>\n",
       "      <td>0.4010</td>\n",
       "      <td>0.467</td>\n",
       "      <td>128.054</td>\n",
       "      <td>188200</td>\n",
       "      <td>3</td>\n",
       "      <td>10</td>\n",
       "      <td>52</td>\n",
       "      <td>1</td>\n",
       "    </tr>\n",
       "    <tr>\n",
       "      <td>2</td>\n",
       "      <td>0.582</td>\n",
       "      <td>0.603</td>\n",
       "      <td>1</td>\n",
       "      <td>-6.776</td>\n",
       "      <td>1</td>\n",
       "      <td>0.0295</td>\n",
       "      <td>0.25200</td>\n",
       "      <td>0.000613</td>\n",
       "      <td>0.0706</td>\n",
       "      <td>0.307</td>\n",
       "      <td>114.989</td>\n",
       "      <td>226099</td>\n",
       "      <td>4</td>\n",
       "      <td>19</td>\n",
       "      <td>19</td>\n",
       "      <td>1</td>\n",
       "    </tr>\n",
       "    <tr>\n",
       "      <td>3</td>\n",
       "      <td>0.706</td>\n",
       "      <td>0.321</td>\n",
       "      <td>4</td>\n",
       "      <td>-12.920</td>\n",
       "      <td>1</td>\n",
       "      <td>0.2140</td>\n",
       "      <td>0.61900</td>\n",
       "      <td>0.639000</td>\n",
       "      <td>0.1200</td>\n",
       "      <td>0.105</td>\n",
       "      <td>172.021</td>\n",
       "      <td>271315</td>\n",
       "      <td>4</td>\n",
       "      <td>23</td>\n",
       "      <td>31</td>\n",
       "      <td>1</td>\n",
       "    </tr>\n",
       "    <tr>\n",
       "      <td>4</td>\n",
       "      <td>0.780</td>\n",
       "      <td>0.763</td>\n",
       "      <td>6</td>\n",
       "      <td>-3.908</td>\n",
       "      <td>1</td>\n",
       "      <td>0.0631</td>\n",
       "      <td>0.00425</td>\n",
       "      <td>0.614000</td>\n",
       "      <td>0.6510</td>\n",
       "      <td>0.351</td>\n",
       "      <td>128.018</td>\n",
       "      <td>371000</td>\n",
       "      <td>4</td>\n",
       "      <td>0</td>\n",
       "      <td>82</td>\n",
       "      <td>1</td>\n",
       "    </tr>\n",
       "    <tr>\n",
       "      <td>...</td>\n",
       "      <td>...</td>\n",
       "      <td>...</td>\n",
       "      <td>...</td>\n",
       "      <td>...</td>\n",
       "      <td>...</td>\n",
       "      <td>...</td>\n",
       "      <td>...</td>\n",
       "      <td>...</td>\n",
       "      <td>...</td>\n",
       "      <td>...</td>\n",
       "      <td>...</td>\n",
       "      <td>...</td>\n",
       "      <td>...</td>\n",
       "      <td>...</td>\n",
       "      <td>...</td>\n",
       "      <td>...</td>\n",
       "    </tr>\n",
       "    <tr>\n",
       "      <td>202</td>\n",
       "      <td>0.676</td>\n",
       "      <td>0.771</td>\n",
       "      <td>8</td>\n",
       "      <td>-3.675</td>\n",
       "      <td>1</td>\n",
       "      <td>0.0483</td>\n",
       "      <td>0.02370</td>\n",
       "      <td>0.000007</td>\n",
       "      <td>0.1020</td>\n",
       "      <td>0.569</td>\n",
       "      <td>99.048</td>\n",
       "      <td>207133</td>\n",
       "      <td>4</td>\n",
       "      <td>68</td>\n",
       "      <td>75</td>\n",
       "      <td>0</td>\n",
       "    </tr>\n",
       "    <tr>\n",
       "      <td>203</td>\n",
       "      <td>0.774</td>\n",
       "      <td>0.747</td>\n",
       "      <td>1</td>\n",
       "      <td>-3.908</td>\n",
       "      <td>0</td>\n",
       "      <td>0.0820</td>\n",
       "      <td>0.02410</td>\n",
       "      <td>0.000006</td>\n",
       "      <td>0.3420</td>\n",
       "      <td>0.833</td>\n",
       "      <td>119.964</td>\n",
       "      <td>168125</td>\n",
       "      <td>4</td>\n",
       "      <td>37</td>\n",
       "      <td>36</td>\n",
       "      <td>0</td>\n",
       "    </tr>\n",
       "    <tr>\n",
       "      <td>204</td>\n",
       "      <td>0.795</td>\n",
       "      <td>0.779</td>\n",
       "      <td>11</td>\n",
       "      <td>-5.413</td>\n",
       "      <td>1</td>\n",
       "      <td>0.1770</td>\n",
       "      <td>0.10900</td>\n",
       "      <td>0.000014</td>\n",
       "      <td>0.0836</td>\n",
       "      <td>0.783</td>\n",
       "      <td>95.045</td>\n",
       "      <td>211787</td>\n",
       "      <td>4</td>\n",
       "      <td>29</td>\n",
       "      <td>71</td>\n",
       "      <td>0</td>\n",
       "    </tr>\n",
       "    <tr>\n",
       "      <td>205</td>\n",
       "      <td>0.531</td>\n",
       "      <td>0.750</td>\n",
       "      <td>10</td>\n",
       "      <td>-5.831</td>\n",
       "      <td>0</td>\n",
       "      <td>0.1110</td>\n",
       "      <td>0.00632</td>\n",
       "      <td>0.000076</td>\n",
       "      <td>0.1170</td>\n",
       "      <td>0.198</td>\n",
       "      <td>169.954</td>\n",
       "      <td>200080</td>\n",
       "      <td>4</td>\n",
       "      <td>45</td>\n",
       "      <td>69</td>\n",
       "      <td>0</td>\n",
       "    </tr>\n",
       "    <tr>\n",
       "      <td>206</td>\n",
       "      <td>0.603</td>\n",
       "      <td>0.865</td>\n",
       "      <td>9</td>\n",
       "      <td>-6.913</td>\n",
       "      <td>1</td>\n",
       "      <td>0.0340</td>\n",
       "      <td>0.00991</td>\n",
       "      <td>0.022700</td>\n",
       "      <td>0.2030</td>\n",
       "      <td>0.287</td>\n",
       "      <td>123.987</td>\n",
       "      <td>189498</td>\n",
       "      <td>4</td>\n",
       "      <td>69</td>\n",
       "      <td>84</td>\n",
       "      <td>0</td>\n",
       "    </tr>\n",
       "  </tbody>\n",
       "</table>\n",
       "<p>207 rows × 16 columns</p>\n",
       "</div>"
      ],
      "text/plain": [
       "     danceability  energy  key  loudness  mode  speechiness  acousticness  \\\n",
       "0           0.276   0.796    0    -4.499     1       0.0579       0.00293   \n",
       "1           0.586   0.853    1    -2.798     1       0.0498       0.00708   \n",
       "2           0.582   0.603    1    -6.776     1       0.0295       0.25200   \n",
       "3           0.706   0.321    4   -12.920     1       0.2140       0.61900   \n",
       "4           0.780   0.763    6    -3.908     1       0.0631       0.00425   \n",
       "..            ...     ...  ...       ...   ...          ...           ...   \n",
       "202         0.676   0.771    8    -3.675     1       0.0483       0.02370   \n",
       "203         0.774   0.747    1    -3.908     0       0.0820       0.02410   \n",
       "204         0.795   0.779   11    -5.413     1       0.1770       0.10900   \n",
       "205         0.531   0.750   10    -5.831     0       0.1110       0.00632   \n",
       "206         0.603   0.865    9    -6.913     1       0.0340       0.00991   \n",
       "\n",
       "     instrumentalness  liveness  valence    tempo  duration_ms  \\\n",
       "0            0.000000    0.1840    0.260  199.526       218965   \n",
       "1            0.003110    0.4010    0.467  128.054       188200   \n",
       "2            0.000613    0.0706    0.307  114.989       226099   \n",
       "3            0.639000    0.1200    0.105  172.021       271315   \n",
       "4            0.614000    0.6510    0.351  128.018       371000   \n",
       "..                ...       ...      ...      ...          ...   \n",
       "202          0.000007    0.1020    0.569   99.048       207133   \n",
       "203          0.000006    0.3420    0.833  119.964       168125   \n",
       "204          0.000014    0.0836    0.783   95.045       211787   \n",
       "205          0.000076    0.1170    0.198  169.954       200080   \n",
       "206          0.022700    0.2030    0.287  123.987       189498   \n",
       "\n",
       "     time_signature  trackPopularity  artistPopularity  liked  \n",
       "0                 4                3                66      1  \n",
       "1                 3               10                52      1  \n",
       "2                 4               19                19      1  \n",
       "3                 4               23                31      1  \n",
       "4                 4                0                82      1  \n",
       "..              ...              ...               ...    ...  \n",
       "202               4               68                75      0  \n",
       "203               4               37                36      0  \n",
       "204               4               29                71      0  \n",
       "205               4               45                69      0  \n",
       "206               4               69                84      0  \n",
       "\n",
       "[207 rows x 16 columns]"
      ]
     },
     "execution_count": 23,
     "metadata": {},
     "output_type": "execute_result"
    }
   ],
   "source": [
    "join_two"
   ]
  },
  {
   "cell_type": "markdown",
   "metadata": {},
   "source": [
    "# KBest. Basis to determine features"
   ]
  },
  {
   "cell_type": "code",
   "execution_count": 24,
   "metadata": {},
   "outputs": [],
   "source": [
    "from sklearn.feature_selection import SelectKBest\n",
    "from sklearn.feature_selection import f_classif "
   ]
  },
  {
   "cell_type": "code",
   "execution_count": 25,
   "metadata": {},
   "outputs": [],
   "source": [
    "# Define the set of features that we want to look at\n",
    "features = join_two[[\"danceability\", \"loudness\", \"valence\", \"energy\", \"trackPopularity\", \"artistPopularity\", \"instrumentalness\", \"acousticness\",\"duration_ms\", \"liked\"]]"
   ]
  },
  {
   "cell_type": "code",
   "execution_count": 26,
   "metadata": {},
   "outputs": [],
   "source": [
    "X = features.iloc[:,0:9]\n",
    "Y = features.iloc[:,9]"
   ]
  },
  {
   "cell_type": "code",
   "execution_count": 27,
   "metadata": {},
   "outputs": [],
   "source": [
    "# Feature extraction\n",
    "test = SelectKBest(score_func=f_classif, k=5)\n",
    "fit = test.fit(X, Y)"
   ]
  },
  {
   "cell_type": "code",
   "execution_count": 28,
   "metadata": {},
   "outputs": [
    {
     "data": {
      "text/html": [
       "<div>\n",
       "<style scoped>\n",
       "    .dataframe tbody tr th:only-of-type {\n",
       "        vertical-align: middle;\n",
       "    }\n",
       "\n",
       "    .dataframe tbody tr th {\n",
       "        vertical-align: top;\n",
       "    }\n",
       "\n",
       "    .dataframe thead th {\n",
       "        text-align: right;\n",
       "    }\n",
       "</style>\n",
       "<table border=\"1\" class=\"dataframe\">\n",
       "  <thead>\n",
       "    <tr style=\"text-align: right;\">\n",
       "      <th></th>\n",
       "      <th>danceability</th>\n",
       "      <th>loudness</th>\n",
       "      <th>valence</th>\n",
       "      <th>energy</th>\n",
       "      <th>trackPopularity</th>\n",
       "      <th>artistPopularity</th>\n",
       "      <th>instrumentalness</th>\n",
       "      <th>acousticness</th>\n",
       "      <th>duration_ms</th>\n",
       "      <th>liked</th>\n",
       "    </tr>\n",
       "  </thead>\n",
       "  <tbody>\n",
       "    <tr>\n",
       "      <td>0</td>\n",
       "      <td>0.276</td>\n",
       "      <td>-4.499</td>\n",
       "      <td>0.260</td>\n",
       "      <td>0.796</td>\n",
       "      <td>3</td>\n",
       "      <td>66</td>\n",
       "      <td>0.000000</td>\n",
       "      <td>0.00293</td>\n",
       "      <td>218965</td>\n",
       "      <td>1</td>\n",
       "    </tr>\n",
       "    <tr>\n",
       "      <td>1</td>\n",
       "      <td>0.586</td>\n",
       "      <td>-2.798</td>\n",
       "      <td>0.467</td>\n",
       "      <td>0.853</td>\n",
       "      <td>10</td>\n",
       "      <td>52</td>\n",
       "      <td>0.003110</td>\n",
       "      <td>0.00708</td>\n",
       "      <td>188200</td>\n",
       "      <td>1</td>\n",
       "    </tr>\n",
       "    <tr>\n",
       "      <td>2</td>\n",
       "      <td>0.582</td>\n",
       "      <td>-6.776</td>\n",
       "      <td>0.307</td>\n",
       "      <td>0.603</td>\n",
       "      <td>19</td>\n",
       "      <td>19</td>\n",
       "      <td>0.000613</td>\n",
       "      <td>0.25200</td>\n",
       "      <td>226099</td>\n",
       "      <td>1</td>\n",
       "    </tr>\n",
       "    <tr>\n",
       "      <td>3</td>\n",
       "      <td>0.706</td>\n",
       "      <td>-12.920</td>\n",
       "      <td>0.105</td>\n",
       "      <td>0.321</td>\n",
       "      <td>23</td>\n",
       "      <td>31</td>\n",
       "      <td>0.639000</td>\n",
       "      <td>0.61900</td>\n",
       "      <td>271315</td>\n",
       "      <td>1</td>\n",
       "    </tr>\n",
       "    <tr>\n",
       "      <td>4</td>\n",
       "      <td>0.780</td>\n",
       "      <td>-3.908</td>\n",
       "      <td>0.351</td>\n",
       "      <td>0.763</td>\n",
       "      <td>0</td>\n",
       "      <td>82</td>\n",
       "      <td>0.614000</td>\n",
       "      <td>0.00425</td>\n",
       "      <td>371000</td>\n",
       "      <td>1</td>\n",
       "    </tr>\n",
       "    <tr>\n",
       "      <td>...</td>\n",
       "      <td>...</td>\n",
       "      <td>...</td>\n",
       "      <td>...</td>\n",
       "      <td>...</td>\n",
       "      <td>...</td>\n",
       "      <td>...</td>\n",
       "      <td>...</td>\n",
       "      <td>...</td>\n",
       "      <td>...</td>\n",
       "      <td>...</td>\n",
       "    </tr>\n",
       "    <tr>\n",
       "      <td>202</td>\n",
       "      <td>0.676</td>\n",
       "      <td>-3.675</td>\n",
       "      <td>0.569</td>\n",
       "      <td>0.771</td>\n",
       "      <td>68</td>\n",
       "      <td>75</td>\n",
       "      <td>0.000007</td>\n",
       "      <td>0.02370</td>\n",
       "      <td>207133</td>\n",
       "      <td>0</td>\n",
       "    </tr>\n",
       "    <tr>\n",
       "      <td>203</td>\n",
       "      <td>0.774</td>\n",
       "      <td>-3.908</td>\n",
       "      <td>0.833</td>\n",
       "      <td>0.747</td>\n",
       "      <td>37</td>\n",
       "      <td>36</td>\n",
       "      <td>0.000006</td>\n",
       "      <td>0.02410</td>\n",
       "      <td>168125</td>\n",
       "      <td>0</td>\n",
       "    </tr>\n",
       "    <tr>\n",
       "      <td>204</td>\n",
       "      <td>0.795</td>\n",
       "      <td>-5.413</td>\n",
       "      <td>0.783</td>\n",
       "      <td>0.779</td>\n",
       "      <td>29</td>\n",
       "      <td>71</td>\n",
       "      <td>0.000014</td>\n",
       "      <td>0.10900</td>\n",
       "      <td>211787</td>\n",
       "      <td>0</td>\n",
       "    </tr>\n",
       "    <tr>\n",
       "      <td>205</td>\n",
       "      <td>0.531</td>\n",
       "      <td>-5.831</td>\n",
       "      <td>0.198</td>\n",
       "      <td>0.750</td>\n",
       "      <td>45</td>\n",
       "      <td>69</td>\n",
       "      <td>0.000076</td>\n",
       "      <td>0.00632</td>\n",
       "      <td>200080</td>\n",
       "      <td>0</td>\n",
       "    </tr>\n",
       "    <tr>\n",
       "      <td>206</td>\n",
       "      <td>0.603</td>\n",
       "      <td>-6.913</td>\n",
       "      <td>0.287</td>\n",
       "      <td>0.865</td>\n",
       "      <td>69</td>\n",
       "      <td>84</td>\n",
       "      <td>0.022700</td>\n",
       "      <td>0.00991</td>\n",
       "      <td>189498</td>\n",
       "      <td>0</td>\n",
       "    </tr>\n",
       "  </tbody>\n",
       "</table>\n",
       "<p>207 rows × 10 columns</p>\n",
       "</div>"
      ],
      "text/plain": [
       "     danceability  loudness  valence  energy  trackPopularity  \\\n",
       "0           0.276    -4.499    0.260   0.796                3   \n",
       "1           0.586    -2.798    0.467   0.853               10   \n",
       "2           0.582    -6.776    0.307   0.603               19   \n",
       "3           0.706   -12.920    0.105   0.321               23   \n",
       "4           0.780    -3.908    0.351   0.763                0   \n",
       "..            ...       ...      ...     ...              ...   \n",
       "202         0.676    -3.675    0.569   0.771               68   \n",
       "203         0.774    -3.908    0.833   0.747               37   \n",
       "204         0.795    -5.413    0.783   0.779               29   \n",
       "205         0.531    -5.831    0.198   0.750               45   \n",
       "206         0.603    -6.913    0.287   0.865               69   \n",
       "\n",
       "     artistPopularity  instrumentalness  acousticness  duration_ms  liked  \n",
       "0                  66          0.000000       0.00293       218965      1  \n",
       "1                  52          0.003110       0.00708       188200      1  \n",
       "2                  19          0.000613       0.25200       226099      1  \n",
       "3                  31          0.639000       0.61900       271315      1  \n",
       "4                  82          0.614000       0.00425       371000      1  \n",
       "..                ...               ...           ...          ...    ...  \n",
       "202                75          0.000007       0.02370       207133      0  \n",
       "203                36          0.000006       0.02410       168125      0  \n",
       "204                71          0.000014       0.10900       211787      0  \n",
       "205                69          0.000076       0.00632       200080      0  \n",
       "206                84          0.022700       0.00991       189498      0  \n",
       "\n",
       "[207 rows x 10 columns]"
      ]
     },
     "execution_count": 28,
     "metadata": {},
     "output_type": "execute_result"
    }
   ],
   "source": [
    "features"
   ]
  },
  {
   "cell_type": "code",
   "execution_count": 29,
   "metadata": {},
   "outputs": [
    {
     "name": "stdout",
     "output_type": "stream",
     "text": [
      "[37.222  3.755 26.84   1.018  0.106  0.111 65.06   0.102 51.511]\n",
      "[[ 2.760e-01 -4.499e+00  2.600e-01  0.000e+00  2.190e+05]\n",
      " [ 5.860e-01 -2.798e+00  4.670e-01  3.110e-03  1.882e+05]\n",
      " [ 5.820e-01 -6.776e+00  3.070e-01  6.130e-04  2.261e+05]\n",
      " [ 7.060e-01 -1.292e+01  1.050e-01  6.390e-01  2.713e+05]\n",
      " [ 7.800e-01 -3.908e+00  3.510e-01  6.140e-01  3.710e+05]]\n"
     ]
    }
   ],
   "source": [
    "# Summarize scores\n",
    "np.set_printoptions(precision=3)\n",
    "print(fit.scores_)\n",
    "\n",
    "features = fit.transform(X)\n",
    "# Summarize selected features\n",
    "print(features[0:5,:])"
   ]
  },
  {
   "cell_type": "markdown",
   "metadata": {},
   "source": [
    "ideally, this is telling us to select danceability, valence, instrumentalness, duration_ms, energy."
   ]
  },
  {
   "cell_type": "markdown",
   "metadata": {},
   "source": [
    "# Distribution of our selected features"
   ]
  },
  {
   "cell_type": "code",
   "execution_count": 30,
   "metadata": {},
   "outputs": [
    {
     "data": {
      "image/png": "[encoded data removed]",
      "text/plain": [
       "<Figure size 1080x1080 with 9 Axes>"
      ]
     },
     "metadata": {},
     "output_type": "display_data"
    }
   ],
   "source": [
    "fig2 = plt.figure(figsize=(15,15))\n",
    "\n",
    "# Acousticness\n",
    "ax3 = fig2.add_subplot(331)\n",
    "ax3.set_xlabel('Acousticness')\n",
    "ax3.set_ylabel('Count')\n",
    "ax3.set_title('Song Acousticness Like Distribution')\n",
    "pos_acousticness.hist(alpha= 0.5, bins=30)\n",
    "ax4 = fig2.add_subplot(331)\n",
    "neg_acousticness.hist(alpha= 0.5, bins=30)\n",
    "\n",
    "# Danceability\n",
    "ax3 = fig2.add_subplot(332)\n",
    "ax3.set_xlabel('Danceability')\n",
    "ax3.set_ylabel('Count')\n",
    "ax3.set_title('Song Danceability Like Distribution')\n",
    "pos_dance.hist(alpha= 0.5, bins=30)\n",
    "ax4 = fig2.add_subplot(332)\n",
    "neg_dance.hist(alpha= 0.5, bins=30)\n",
    "\n",
    "# Duration_ms\n",
    "ax5 = fig2.add_subplot(333)\n",
    "ax5.set_xlabel('Duration')\n",
    "ax5.set_ylabel('Count')\n",
    "ax5.set_title('Song Duration Like Distribution')\n",
    "pos_duration.hist(alpha= 0.5, bins=30)\n",
    "ax6 = fig2.add_subplot(333)\n",
    "neg_duration.hist(alpha= 0.5, bins=30)\n",
    "\n",
    "# Energy\n",
    "ax13 = fig2.add_subplot(334)\n",
    "ax13.set_xlabel('Energy')\n",
    "ax13.set_ylabel('Count')\n",
    "ax13.set_title('Song Energy Like Distribution')\n",
    "pos_energy.hist(alpha= 0.5, bins=30)\n",
    "ax14 = fig2.add_subplot(334)\n",
    "neg_energy.hist(alpha= 0.5, bins=30)\n",
    "\n",
    "# Instrumentalness\n",
    "ax9 = fig2.add_subplot(335)\n",
    "ax9.set_xlabel('Instrumentalness')\n",
    "ax9.set_ylabel('Count')\n",
    "ax9.set_title('Song Instrumentalness Like Distribution')\n",
    "pos_instrumentalness.hist(alpha= 0.5, bins=30)\n",
    "ax10 = fig2.add_subplot(335)\n",
    "neg_instrumentalness.hist(alpha= 0.5, bins=30)\n",
    "\n",
    "# Loudness\n",
    "ax7 = fig2.add_subplot(336)\n",
    "ax7.set_xlabel('Loudness')\n",
    "ax7.set_ylabel('Count')\n",
    "ax7.set_title('Song Loudness Like Distribution')\n",
    "pos_loudness.hist(alpha= 0.5, bins=30)\n",
    "ax8 = fig2.add_subplot(336)\n",
    "neg_loudness.hist(alpha= 0.5, bins=30)\n",
    "\n",
    "# Valence\n",
    "ax11 = fig2.add_subplot(337)\n",
    "ax11.set_xlabel('Valence')\n",
    "ax11.set_ylabel('Count')\n",
    "ax11.set_title('Song Valence Like Distribution')\n",
    "pos_valence.hist(alpha= 0.5, bins=30)\n",
    "ax12 = fig2.add_subplot(337)\n",
    "neg_valence.hist(alpha= 0.5, bins=30)\n",
    "\n",
    "# Artist Popularity\n",
    "ax15 = fig2.add_subplot(338)\n",
    "ax15.set_xlabel('artistPopularity')\n",
    "ax15.set_ylabel('Count')\n",
    "ax15.set_title('Artist Popularity Distribution')\n",
    "pos_a_popularity.hist(alpha= 0.5, bins=30)\n",
    "ax16 = fig2.add_subplot(338)\n",
    "neg_a_popularity.hist(alpha= 0.5, bins=30)\n",
    "\n",
    "# Track Popularity\n",
    "ax15 = fig2.add_subplot(339)\n",
    "ax15.set_xlabel('trackPopularity')\n",
    "ax15.set_ylabel('Count')\n",
    "ax15.set_title('Track Popularity Distribution')\n",
    "pos_popularity.hist(alpha= 0.5, bins=30)\n",
    "ax16 = fig2.add_subplot(339)\n",
    "neg_popularity.hist(alpha= 0.5, bins=30);\n"
   ]
  },
  {
   "cell_type": "markdown",
   "metadata": {},
   "source": [
    "# Scaling, Train Test"
   ]
  },
  {
   "cell_type": "code",
   "execution_count": 31,
   "metadata": {},
   "outputs": [
    {
     "name": "stdout",
     "output_type": "stream",
     "text": [
      "Our new train set has 144 data points; 76 of which are actual positives.\n"
     ]
    }
   ],
   "source": [
    "from sklearn.preprocessing import MinMaxScaler\n",
    "scaler = MinMaxScaler()\n",
    "X = scaler.fit_transform(X)\n",
    "\n",
    "# traditional 70-30.\n",
    "x_train, x_test, y_train, y_test = train_test_split(X, Y, test_size = 0.30, random_state=42)\n",
    "\n",
    "print(f\"Our new train set has {x_train.shape[0]} data points;\",\n",
    "      f\"{np.sum(y_train)} of which are actual positives.\")"
   ]
  },
  {
   "cell_type": "markdown",
   "metadata": {},
   "source": [
    "Let's look at some classifiers!!!"
   ]
  },
  {
   "cell_type": "markdown",
   "metadata": {},
   "source": [
    "# KNeighbors Classifier"
   ]
  },
  {
   "cell_type": "markdown",
   "metadata": {},
   "source": [
    "Starting with the initial classifier."
   ]
  },
  {
   "cell_type": "code",
   "execution_count": 32,
   "metadata": {},
   "outputs": [
    {
     "data": {
      "text/plain": [
       "KNeighborsClassifier(algorithm='auto', leaf_size=30, metric='euclidean',\n",
       "                     metric_params=None, n_jobs=None, n_neighbors=5, p=2,\n",
       "                     weights='uniform')"
      ]
     },
     "execution_count": 32,
     "metadata": {},
     "output_type": "execute_result"
    },
    {
     "name": "stdout",
     "output_type": "stream",
     "text": [
      "Accuracy using knn:  69.8 %\n"
     ]
    }
   ],
   "source": [
    "distances = [2]\n",
    "# p value = p is minkowski, 1 is manhattan, and 2 is euclidean.\n",
    "from sklearn.neighbors import KNeighborsClassifier\n",
    "\n",
    "for p in distances:\n",
    "    knn = KNeighborsClassifier(p=2, metric='euclidean')\n",
    "    knn.fit(x_train, y_train)\n",
    "    \n",
    "knn_pred = knn.predict(x_test)\n",
    "    \n",
    "score = accuracy_score(y_test, knn_pred) * 100\n",
    "print(\"Accuracy using knn: \", round(score, 1), \"%\")\n"
   ]
  },
  {
   "cell_type": "code",
   "execution_count": 36,
   "metadata": {},
   "outputs": [
    {
     "data": {
      "text/plain": [
       "0.6995967741935484"
      ]
     },
     "execution_count": 36,
     "metadata": {},
     "output_type": "execute_result"
    }
   ],
   "source": [
    "from sklearn.metrics import roc_curve, auc\n",
    "false_positive_rate, true_positive_rate, thresholds = roc_curve(y_test, knn_pred)\n",
    "roc_auc = auc(false_positive_rate, true_positive_rate)\n",
    "roc_auc"
   ]
  },
  {
   "cell_type": "markdown",
   "metadata": {},
   "source": [
    "# Gaussian Naive Bayes"
   ]
  },
  {
   "cell_type": "code",
   "execution_count": 37,
   "metadata": {},
   "outputs": [
    {
     "data": {
      "text/plain": [
       "GaussianNB(priors=None, var_smoothing=1e-09)"
      ]
     },
     "execution_count": 37,
     "metadata": {},
     "output_type": "execute_result"
    },
    {
     "name": "stdout",
     "output_type": "stream",
     "text": [
      "Accuracy using gauss:  84.1 %\n"
     ]
    }
   ],
   "source": [
    "from sklearn.naive_bayes import GaussianNB\n",
    "gauss = GaussianNB()\n",
    "gauss.fit(x_train, y_train)\n",
    "gauss_pred = gauss.predict(x_test)\n",
    "score = accuracy_score(y_test, gauss_pred)*100\n",
    "print(\"Accuracy using gauss: \", round(score, 1), \"%\")"
   ]
  },
  {
   "cell_type": "markdown",
   "metadata": {},
   "source": [
    "Feels like we have a winner here."
   ]
  },
  {
   "cell_type": "markdown",
   "metadata": {},
   "source": [
    "# SVM"
   ]
  },
  {
   "cell_type": "code",
   "execution_count": 38,
   "metadata": {},
   "outputs": [
    {
     "data": {
      "text/plain": [
       "SVC(C=0.025, cache_size=200, class_weight=None, coef0=0.0,\n",
       "    decision_function_shape='ovr', degree=3, gamma='auto_deprecated',\n",
       "    kernel='linear', max_iter=-1, probability=False, random_state=None,\n",
       "    shrinking=True, tol=0.001, verbose=False)"
      ]
     },
     "execution_count": 38,
     "metadata": {},
     "output_type": "execute_result"
    },
    {
     "name": "stdout",
     "output_type": "stream",
     "text": [
      "Accuracy using svc linear:  50.8 %\n"
     ]
    }
   ],
   "source": [
    "# things we need to check here are degree, gamma, C, kernel)\n",
    "from sklearn.svm import SVC\n",
    "svc_lin = SVC(kernel=\"linear\", C=0.025)\n",
    "svc_lin.fit(x_train, y_train)\n",
    "svc_pred = svc_lin.predict(x_test)\n",
    "from sklearn.metrics import accuracy_score\n",
    "score = accuracy_score(y_test, svc_pred) * 100\n",
    "print(\"Accuracy using svc linear: \", round(score, 1), \"%\")"
   ]
  },
  {
   "cell_type": "markdown",
   "metadata": {},
   "source": [
    "Probably the weakest performing of the bunch."
   ]
  },
  {
   "cell_type": "markdown",
   "metadata": {},
   "source": [
    "# Decision Tree Classifier"
   ]
  },
  {
   "cell_type": "code",
   "execution_count": 39,
   "metadata": {},
   "outputs": [],
   "source": [
    "# max depths (71.4%), min_samples_split (69.8%), min_samples_leaf (77.8%), max_features are we want to tweak.\n",
    "# max_depths = np.linspace(1, 32, 32, endpoint=True)\n",
    "# min_samples_splits = np.linspace(0.1, 1.0, 10, endpoint=True)\n",
    "min_samples_leafs = np.linspace(0.1, 0.5, 5, endpoint=True)\n",
    "\n",
    "for min_samples_leaf in min_samples_leafs:\n",
    "    c = DecisionTreeClassifier(min_samples_leaf=min_samples_leaf)\n",
    "    dt = c.fit(x_train, y_train)"
   ]
  },
  {
   "cell_type": "code",
   "execution_count": 40,
   "metadata": {},
   "outputs": [],
   "source": [
    "train_pred = dt.predict(x_train)"
   ]
  },
  {
   "cell_type": "code",
   "execution_count": 41,
   "metadata": {},
   "outputs": [
    {
     "data": {
      "text/plain": [
       "0.7229102167182663"
      ]
     },
     "execution_count": 41,
     "metadata": {},
     "output_type": "execute_result"
    }
   ],
   "source": [
    "false_positive_rate, true_positive_rate, thresholds = roc_curve(y_train, train_pred)\n",
    "roc_auc = auc(false_positive_rate, true_positive_rate)\n",
    "roc_auc"
   ]
  },
  {
   "cell_type": "code",
   "execution_count": 42,
   "metadata": {},
   "outputs": [
    {
     "name": "stdout",
     "output_type": "stream",
     "text": [
      "Accuracy using decision tree:  73.0 %\n"
     ]
    }
   ],
   "source": [
    "y_pred = c.predict(x_test)\n",
    "score = accuracy_score(y_test, y_pred) * 100\n",
    "print(\"Accuracy using decision tree: \", round(score, 1), \"%\")"
   ]
  },
  {
   "cell_type": "markdown",
   "metadata": {},
   "source": [
    "We will use this value as the highest for decision tree."
   ]
  },
  {
   "cell_type": "code",
   "execution_count": 44,
   "metadata": {},
   "outputs": [
    {
     "data": {
      "text/plain": [
       "0.7293346774193549"
      ]
     },
     "execution_count": 44,
     "metadata": {},
     "output_type": "execute_result"
    }
   ],
   "source": [
    "# evaluation metric\n",
    "false_positive_rate, true_positive_rate, thresholds = roc_curve(y_test, y_pred)\n",
    "roc_auc = auc(false_positive_rate, true_positive_rate)\n",
    "roc_auc\n"
   ]
  },
  {
   "cell_type": "markdown",
   "metadata": {},
   "source": [
    "# Random Forest Classifier"
   ]
  },
  {
   "cell_type": "code",
   "execution_count": 54,
   "metadata": {},
   "outputs": [
    {
     "data": {
      "text/plain": [
       "RandomForestClassifier(bootstrap=True, class_weight=None, criterion='gini',\n",
       "                       max_depth=8, max_features=1, max_leaf_nodes=None,\n",
       "                       min_impurity_decrease=0.0, min_impurity_split=None,\n",
       "                       min_samples_leaf=1, min_samples_split=2,\n",
       "                       min_weight_fraction_leaf=0.0, n_estimators=30,\n",
       "                       n_jobs=None, oob_score=False, random_state=None,\n",
       "                       verbose=0, warm_start=False)"
      ]
     },
     "execution_count": 54,
     "metadata": {},
     "output_type": "execute_result"
    },
    {
     "name": "stdout",
     "output_type": "stream",
     "text": [
      "Accuracy using random forest:  81.0 %\n"
     ]
    }
   ],
   "source": [
    "from sklearn.ensemble import RandomForestClassifier\n",
    "forest = RandomForestClassifier(max_depth=8, n_estimators=30, max_features=1)\n",
    "forest.fit(x_train, y_train)\n",
    "forest_pred = forest.predict(x_test)\n",
    "\n",
    "score = accuracy_score(y_test, forest_pred) * 100\n",
    "print(\"Accuracy using random forest: \", round(score, 1), \"%\")"
   ]
  },
  {
   "cell_type": "markdown",
   "metadata": {},
   "source": [
    "# Neural Network"
   ]
  },
  {
   "cell_type": "code",
   "execution_count": 47,
   "metadata": {},
   "outputs": [
    {
     "data": {
      "text/plain": [
       "MLPClassifier(activation='relu', alpha=0.0001, batch_size='auto', beta_1=0.9,\n",
       "              beta_2=0.999, early_stopping=False, epsilon=1e-08,\n",
       "              hidden_layer_sizes=(100,), learning_rate='constant',\n",
       "              learning_rate_init=0.001, max_iter=200, momentum=0.9,\n",
       "              n_iter_no_change=10, nesterovs_momentum=True, power_t=0.5,\n",
       "              random_state=None, shuffle=True, solver='adam', tol=0.0001,\n",
       "              validation_fraction=0.1, verbose=False, warm_start=False)"
      ]
     },
     "execution_count": 47,
     "metadata": {},
     "output_type": "execute_result"
    },
    {
     "name": "stdout",
     "output_type": "stream",
     "text": [
      "Accuracy using mlp:  77.8 %\n"
     ]
    }
   ],
   "source": [
    "from sklearn.neural_network import MLPClassifier\n",
    "mlp = MLPClassifier()\n",
    "mlp.fit(x_train, y_train)\n",
    "mlp_pred = mlp.predict(x_test)\n",
    "score = accuracy_score(y_test, mlp_pred) * 100\n",
    "print(\"Accuracy using mlp: \", round(score, 1), \"%\")"
   ]
  },
  {
   "cell_type": "markdown",
   "metadata": {},
   "source": [
    "Have to take into account we're using the scikit learn version and this does not consider GPU support. Since we only have 200 samples, this should be fine."
   ]
  },
  {
   "cell_type": "markdown",
   "metadata": {},
   "source": [
    "# Adaptive Boosting"
   ]
  },
  {
   "cell_type": "code",
   "execution_count": 49,
   "metadata": {},
   "outputs": [
    {
     "data": {
      "text/plain": [
       "AdaBoostClassifier(algorithm='SAMME.R', base_estimator=None, learning_rate=1.0,\n",
       "                   n_estimators=90, random_state=None)"
      ]
     },
     "execution_count": 49,
     "metadata": {},
     "output_type": "execute_result"
    },
    {
     "name": "stdout",
     "output_type": "stream",
     "text": [
      "Accuracy using ada:  71.4 %\n"
     ]
    }
   ],
   "source": [
    "from sklearn.ensemble import AdaBoostClassifier\n",
    "ada = AdaBoostClassifier(n_estimators=90)\n",
    "ada.fit(x_train, y_train)\n",
    "ada_pred = ada.predict(x_test)\n",
    "\n",
    "score = accuracy_score(y_test, ada_pred) * 100\n",
    "print(\"Accuracy using ada: \", round(score, 1), \"%\")"
   ]
  },
  {
   "cell_type": "markdown",
   "metadata": {},
   "source": [
    "# Gradient Boosting Classifier"
   ]
  },
  {
   "cell_type": "code",
   "execution_count": 59,
   "metadata": {},
   "outputs": [
    {
     "data": {
      "text/plain": [
       "GradientBoostingClassifier(criterion='friedman_mse', init=None,\n",
       "                           learning_rate=0.1, loss='deviance', max_depth=1,\n",
       "                           max_features=None, max_leaf_nodes=None,\n",
       "                           min_impurity_decrease=0.0, min_impurity_split=None,\n",
       "                           min_samples_leaf=1, min_samples_split=2,\n",
       "                           min_weight_fraction_leaf=0.0, n_estimators=30,\n",
       "                           n_iter_no_change=None, presort='auto',\n",
       "                           random_state=0, subsample=1.0, tol=0.0001,\n",
       "                           validation_fraction=0.1, verbose=0,\n",
       "                           warm_start=False)"
      ]
     },
     "execution_count": 59,
     "metadata": {},
     "output_type": "execute_result"
    },
    {
     "name": "stdout",
     "output_type": "stream",
     "text": [
      "Accuracy using gbc:  85.7 %\n"
     ]
    }
   ],
   "source": [
    "from sklearn.ensemble import GradientBoostingClassifier\n",
    "gbc = GradientBoostingClassifier(n_estimators=30, learning_rate=.1, max_depth=1, random_state=0)\n",
    "gbc.fit(x_train, y_train)\n",
    "predicted = gbc.predict(x_test)\n",
    "score = accuracy_score(y_test, predicted)*100\n",
    "print(\"Accuracy using gbc: \", round(score, 1), \"%\")"
   ]
  },
  {
   "cell_type": "markdown",
   "metadata": {},
   "source": [
    "# Classify the songs we might like from a Lo-Fi playlist."
   ]
  },
  {
   "cell_type": "code",
   "execution_count": 60,
   "metadata": {},
   "outputs": [
    {
     "name": "stdout",
     "output_type": "stream",
     "text": [
      "42\n",
      "42\n"
     ]
    }
   ],
   "source": [
    "# ahh, shit. That Java naming convention tho.\n",
    "playlistToFindSongsYouLikeIn = sp.user_playlist(\"spotify\", \"3tCeZnTCOrjNgQ7S2LBt4f\")\n",
    "\n",
    "newPlaylist_tracks = playlistToFindSongsYouLikeIn[\"tracks\"]\n",
    "newPlaylist_songs = newPlaylist_tracks[\"items\"] \n",
    "while newPlaylist_tracks['next']:\n",
    "    newPlaylist_tracks = sp.next(newPlaylist_tracks)\n",
    "    for song in newPlaylist_tracks[\"items\"]:\n",
    "        newPlaylist_songs.append(song)\n",
    "        \n",
    "newPlaylist_song_ids = [] \n",
    "print(len(newPlaylist_songs))\n",
    "for i in range(len(newPlaylist_songs)):\n",
    "    newPlaylist_song_ids.append(newPlaylist_songs[i]['track']['id'])\n",
    "    \n",
    "newPlaylist_features = []\n",
    "j = 0\n",
    "for i in range(0,len(newPlaylist_song_ids),50):\n",
    "    audio_features = sp.audio_features(newPlaylist_song_ids[i:i+50])\n",
    "    for track in audio_features:\n",
    "        track['artist'] = newPlaylist_songs[j]['track']['artists'][0]['name']\n",
    "        track['name'] = newPlaylist_songs[j]['track']['name']\n",
    "        track['trackPopularity'] = newPlaylist_songs[j]['track']['popularity']\n",
    "        track['artistPopularity'] = sp.artist(newPlaylist_songs[j]['track']['artists'][0]['id'])['popularity']\n",
    "        j= j + 1\n",
    "        newPlaylist_features.append(track)\n",
    "print(len(newPlaylist_features))\n",
    "\n",
    "playlistToLookAtFeatures = pd.DataFrame(newPlaylist_features)"
   ]
  },
  {
   "cell_type": "code",
   "execution_count": 61,
   "metadata": {},
   "outputs": [
    {
     "data": {
      "text/html": [
       "<div>\n",
       "<style scoped>\n",
       "    .dataframe tbody tr th:only-of-type {\n",
       "        vertical-align: middle;\n",
       "    }\n",
       "\n",
       "    .dataframe tbody tr th {\n",
       "        vertical-align: top;\n",
       "    }\n",
       "\n",
       "    .dataframe thead th {\n",
       "        text-align: right;\n",
       "    }\n",
       "</style>\n",
       "<table border=\"1\" class=\"dataframe\">\n",
       "  <thead>\n",
       "    <tr style=\"text-align: right;\">\n",
       "      <th></th>\n",
       "      <th>danceability</th>\n",
       "      <th>energy</th>\n",
       "      <th>key</th>\n",
       "      <th>loudness</th>\n",
       "      <th>mode</th>\n",
       "      <th>speechiness</th>\n",
       "      <th>acousticness</th>\n",
       "      <th>instrumentalness</th>\n",
       "      <th>liveness</th>\n",
       "      <th>valence</th>\n",
       "      <th>...</th>\n",
       "      <th>id</th>\n",
       "      <th>uri</th>\n",
       "      <th>track_href</th>\n",
       "      <th>analysis_url</th>\n",
       "      <th>duration_ms</th>\n",
       "      <th>time_signature</th>\n",
       "      <th>artist</th>\n",
       "      <th>name</th>\n",
       "      <th>trackPopularity</th>\n",
       "      <th>artistPopularity</th>\n",
       "    </tr>\n",
       "  </thead>\n",
       "  <tbody>\n",
       "    <tr>\n",
       "      <td>0</td>\n",
       "      <td>0.534</td>\n",
       "      <td>0.239</td>\n",
       "      <td>9</td>\n",
       "      <td>-9.982</td>\n",
       "      <td>0</td>\n",
       "      <td>0.1810</td>\n",
       "      <td>0.696</td>\n",
       "      <td>0.83100</td>\n",
       "      <td>0.1000</td>\n",
       "      <td>0.289</td>\n",
       "      <td>...</td>\n",
       "      <td>4DHsJVkruyHe99FQfSdmls</td>\n",
       "      <td>spotify:track:4DHsJVkruyHe99FQfSdmls</td>\n",
       "      <td>https://api.spotify.com/v1/tracks/4DHsJVkruyHe...</td>\n",
       "      <td>https://api.spotify.com/v1/audio-analysis/4DHs...</td>\n",
       "      <td>143667</td>\n",
       "      <td>4</td>\n",
       "      <td>Kupla</td>\n",
       "      <td>fell in love in a dream</td>\n",
       "      <td>0</td>\n",
       "      <td>70</td>\n",
       "    </tr>\n",
       "    <tr>\n",
       "      <td>1</td>\n",
       "      <td>0.500</td>\n",
       "      <td>0.596</td>\n",
       "      <td>4</td>\n",
       "      <td>-12.362</td>\n",
       "      <td>0</td>\n",
       "      <td>0.5670</td>\n",
       "      <td>0.867</td>\n",
       "      <td>0.00268</td>\n",
       "      <td>0.2780</td>\n",
       "      <td>0.554</td>\n",
       "      <td>...</td>\n",
       "      <td>4f9oMWvjUdIKCecE5LAeio</td>\n",
       "      <td>spotify:track:4f9oMWvjUdIKCecE5LAeio</td>\n",
       "      <td>https://api.spotify.com/v1/tracks/4f9oMWvjUdIK...</td>\n",
       "      <td>https://api.spotify.com/v1/audio-analysis/4f9o...</td>\n",
       "      <td>116757</td>\n",
       "      <td>4</td>\n",
       "      <td>[bsd.u]</td>\n",
       "      <td>swishers</td>\n",
       "      <td>34</td>\n",
       "      <td>57</td>\n",
       "    </tr>\n",
       "    <tr>\n",
       "      <td>2</td>\n",
       "      <td>0.698</td>\n",
       "      <td>0.193</td>\n",
       "      <td>1</td>\n",
       "      <td>-15.010</td>\n",
       "      <td>1</td>\n",
       "      <td>0.0902</td>\n",
       "      <td>0.914</td>\n",
       "      <td>0.93700</td>\n",
       "      <td>0.0882</td>\n",
       "      <td>0.607</td>\n",
       "      <td>...</td>\n",
       "      <td>4p5eACHBSDSKxvPrN1Ej5p</td>\n",
       "      <td>spotify:track:4p5eACHBSDSKxvPrN1Ej5p</td>\n",
       "      <td>https://api.spotify.com/v1/tracks/4p5eACHBSDSK...</td>\n",
       "      <td>https://api.spotify.com/v1/audio-analysis/4p5e...</td>\n",
       "      <td>117495</td>\n",
       "      <td>4</td>\n",
       "      <td>Jinsang</td>\n",
       "      <td>Affection</td>\n",
       "      <td>6</td>\n",
       "      <td>67</td>\n",
       "    </tr>\n",
       "    <tr>\n",
       "      <td>3</td>\n",
       "      <td>0.661</td>\n",
       "      <td>0.363</td>\n",
       "      <td>1</td>\n",
       "      <td>-12.866</td>\n",
       "      <td>1</td>\n",
       "      <td>0.6760</td>\n",
       "      <td>0.716</td>\n",
       "      <td>0.36300</td>\n",
       "      <td>0.3300</td>\n",
       "      <td>0.882</td>\n",
       "      <td>...</td>\n",
       "      <td>3Rppo6uStUw9Nrtx8cBLEC</td>\n",
       "      <td>spotify:track:3Rppo6uStUw9Nrtx8cBLEC</td>\n",
       "      <td>https://api.spotify.com/v1/tracks/3Rppo6uStUw9...</td>\n",
       "      <td>https://api.spotify.com/v1/audio-analysis/3Rpp...</td>\n",
       "      <td>51187</td>\n",
       "      <td>4</td>\n",
       "      <td>Tomppabeats</td>\n",
       "      <td>The Girl Next Door</td>\n",
       "      <td>47</td>\n",
       "      <td>63</td>\n",
       "    </tr>\n",
       "    <tr>\n",
       "      <td>4</td>\n",
       "      <td>0.640</td>\n",
       "      <td>0.565</td>\n",
       "      <td>8</td>\n",
       "      <td>-8.439</td>\n",
       "      <td>0</td>\n",
       "      <td>0.2030</td>\n",
       "      <td>0.670</td>\n",
       "      <td>0.81600</td>\n",
       "      <td>0.0862</td>\n",
       "      <td>0.255</td>\n",
       "      <td>...</td>\n",
       "      <td>0H9nrujkGotc5jzZiY1zm6</td>\n",
       "      <td>spotify:track:0H9nrujkGotc5jzZiY1zm6</td>\n",
       "      <td>https://api.spotify.com/v1/tracks/0H9nrujkGotc...</td>\n",
       "      <td>https://api.spotify.com/v1/audio-analysis/0H9n...</td>\n",
       "      <td>158118</td>\n",
       "      <td>4</td>\n",
       "      <td>imagiro</td>\n",
       "      <td>Endless</td>\n",
       "      <td>10</td>\n",
       "      <td>52</td>\n",
       "    </tr>\n",
       "  </tbody>\n",
       "</table>\n",
       "<p>5 rows × 22 columns</p>\n",
       "</div>"
      ],
      "text/plain": [
       "   danceability  energy  key  loudness  mode  speechiness  acousticness  \\\n",
       "0         0.534   0.239    9    -9.982     0       0.1810         0.696   \n",
       "1         0.500   0.596    4   -12.362     0       0.5670         0.867   \n",
       "2         0.698   0.193    1   -15.010     1       0.0902         0.914   \n",
       "3         0.661   0.363    1   -12.866     1       0.6760         0.716   \n",
       "4         0.640   0.565    8    -8.439     0       0.2030         0.670   \n",
       "\n",
       "   instrumentalness  liveness  valence  ...                      id  \\\n",
       "0           0.83100    0.1000    0.289  ...  4DHsJVkruyHe99FQfSdmls   \n",
       "1           0.00268    0.2780    0.554  ...  4f9oMWvjUdIKCecE5LAeio   \n",
       "2           0.93700    0.0882    0.607  ...  4p5eACHBSDSKxvPrN1Ej5p   \n",
       "3           0.36300    0.3300    0.882  ...  3Rppo6uStUw9Nrtx8cBLEC   \n",
       "4           0.81600    0.0862    0.255  ...  0H9nrujkGotc5jzZiY1zm6   \n",
       "\n",
       "                                    uri  \\\n",
       "0  spotify:track:4DHsJVkruyHe99FQfSdmls   \n",
       "1  spotify:track:4f9oMWvjUdIKCecE5LAeio   \n",
       "2  spotify:track:4p5eACHBSDSKxvPrN1Ej5p   \n",
       "3  spotify:track:3Rppo6uStUw9Nrtx8cBLEC   \n",
       "4  spotify:track:0H9nrujkGotc5jzZiY1zm6   \n",
       "\n",
       "                                          track_href  \\\n",
       "0  https://api.spotify.com/v1/tracks/4DHsJVkruyHe...   \n",
       "1  https://api.spotify.com/v1/tracks/4f9oMWvjUdIK...   \n",
       "2  https://api.spotify.com/v1/tracks/4p5eACHBSDSK...   \n",
       "3  https://api.spotify.com/v1/tracks/3Rppo6uStUw9...   \n",
       "4  https://api.spotify.com/v1/tracks/0H9nrujkGotc...   \n",
       "\n",
       "                                        analysis_url duration_ms  \\\n",
       "0  https://api.spotify.com/v1/audio-analysis/4DHs...      143667   \n",
       "1  https://api.spotify.com/v1/audio-analysis/4f9o...      116757   \n",
       "2  https://api.spotify.com/v1/audio-analysis/4p5e...      117495   \n",
       "3  https://api.spotify.com/v1/audio-analysis/3Rpp...       51187   \n",
       "4  https://api.spotify.com/v1/audio-analysis/0H9n...      158118   \n",
       "\n",
       "  time_signature       artist                     name trackPopularity  \\\n",
       "0              4        Kupla  fell in love in a dream               0   \n",
       "1              4      [bsd.u]                 swishers              34   \n",
       "2              4      Jinsang                Affection               6   \n",
       "3              4  Tomppabeats       The Girl Next Door              47   \n",
       "4              4      imagiro                  Endless              10   \n",
       "\n",
       "  artistPopularity  \n",
       "0               70  \n",
       "1               57  \n",
       "2               67  \n",
       "3               63  \n",
       "4               52  \n",
       "\n",
       "[5 rows x 22 columns]"
      ]
     },
     "execution_count": 61,
     "metadata": {},
     "output_type": "execute_result"
    }
   ],
   "source": [
    "playlistToLookAtFeatures.head()"
   ]
  },
  {
   "cell_type": "code",
   "execution_count": 62,
   "metadata": {},
   "outputs": [],
   "source": [
    "features_two = playlistToLookAtFeatures[[\"danceability\", \"loudness\", \"valence\", \"energy\", \"artistPopularity\", \"instrumentalness\", \"acousticness\",\"duration_ms\", \"trackPopularity\"]]"
   ]
  },
  {
   "cell_type": "markdown",
   "metadata": {},
   "source": [
    "Thought about doing another version of test split here but since we don't have a liked column opted to use the initial X and Y, train test."
   ]
  },
  {
   "cell_type": "markdown",
   "metadata": {},
   "source": [
    "# What's the result for the best classifier?"
   ]
  },
  {
   "cell_type": "code",
   "execution_count": 72,
   "metadata": {
    "scrolled": true
   },
   "outputs": [
    {
     "name": "stdout",
     "output_type": "stream",
     "text": [
      "              Accuracy using gauss:  84.1 %\n",
      " \n",
      "              precision    recall  f1-score   support\n",
      "\n",
      "           0       0.78      0.94      0.85        31\n",
      "           1       0.92      0.75      0.83        32\n",
      "\n",
      "    accuracy                           0.84        63\n",
      "   macro avg       0.85      0.84      0.84        63\n",
      "weighted avg       0.85      0.84      0.84        63\n",
      "\n",
      "Song: fell in love in a dream, By: Kupla\n",
      "Song: swishers, By: [bsd.u]\n",
      "Song: Affection, By: Jinsang\n",
      "Song: The Girl Next Door, By: Tomppabeats\n",
      "Song: Endless, By: imagiro\n",
      "Song: hold up, By: eevee\n",
      "Song: i promise that i care much more than i show, By: furino\n",
      "Song: Cold Seas, By: Jinsang\n",
      "Song: The Girl I Haven't Met, By: Kudasaibeats\n",
      "Song: The Struggle in the 90s, By: Lo'fi Boy\n",
      "Song: Autumn Leaves, By: drkmnd\n",
      "Song: Proporción Y No Cantidad, By: importmedia\n",
      "Song: Chiyo, By: Kavv\n",
      "Song: Imperial, By: j^p^n\n",
      "Song: im just tired, By: Xfruge\n",
      "Song: down by the brook, By: biosphere\n",
      "Song: this girl, By: Elijah Who\n",
      "Song: I Fall in Love Too Easliy, By: Caleb Belkin\n",
      "Song: The Eye of Truth, By: Driver\n",
      "Song: in your arms, By: Saib\n",
      "Song: Wish You Still Felt This Way, By: 90sFlav\n",
      "Song: belas, By: eevee\n",
      "Song: moonflowers, By: ocha\n",
      "Song: Hanging Lanterns, By: Kalaido\n",
      "Song: Cloud, By: Hz.\n",
      "Song: Dream Sequence, By: Kendall Miles\n"
     ]
    }
   ],
   "source": [
    "# It's time to predict which tracks belong to my edm chill playlist.\n",
    "# We shall use the lofi playlist Bela played in class to test which tracks we shall take from it.\n",
    "pred = gauss.predict(x_test)\n",
    " \n",
    "score = accuracy_score(y_test, pred)*100\n",
    "print(\"              Accuracy using gauss: \", round(score, 1), \"%\")\n",
    "print(\" \")\n",
    "print(classification_report(y_test, pred))\n",
    "\n",
    "likedSongs = 0\n",
    "i = 0\n",
    "for prediction in pred:\n",
    "    if(prediction == 1):\n",
    "        print (\"Song: \" + playlistToLookAtFeatures[\"name\"][i] + \", By: \"+ playlistToLookAtFeatures[\"artist\"][i])\n",
    "        likedSongs= likedSongs + 1\n",
    "        i = i +1\n",
    "    "
   ]
  },
  {
   "cell_type": "markdown",
   "metadata": {},
   "source": [
    "So basically it scans the 42 songs that you picked and deems that the above 26 songs will fit your playlist based on Gaussian Naive Bayes. "
   ]
  },
  {
   "cell_type": "code",
   "execution_count": 71,
   "metadata": {
    "scrolled": true
   },
   "outputs": [
    {
     "name": "stdout",
     "output_type": "stream",
     "text": [
      "              Accuracy using gbc:  85.7 %\n",
      " \n",
      "              precision    recall  f1-score   support\n",
      "\n",
      "           0       0.87      0.84      0.85        31\n",
      "           1       0.85      0.88      0.86        32\n",
      "\n",
      "    accuracy                           0.86        63\n",
      "   macro avg       0.86      0.86      0.86        63\n",
      "weighted avg       0.86      0.86      0.86        63\n",
      "\n",
      "Song: fell in love in a dream, By: Kupla\n",
      "Song: swishers, By: [bsd.u]\n",
      "Song: Affection, By: Jinsang\n",
      "Song: The Girl Next Door, By: Tomppabeats\n",
      "Song: Endless, By: imagiro\n",
      "Song: hold up, By: eevee\n",
      "Song: i promise that i care much more than i show, By: furino\n",
      "Song: Cold Seas, By: Jinsang\n",
      "Song: The Girl I Haven't Met, By: Kudasaibeats\n",
      "Song: The Struggle in the 90s, By: Lo'fi Boy\n",
      "Song: Autumn Leaves, By: drkmnd\n",
      "Song: Proporción Y No Cantidad, By: importmedia\n",
      "Song: Chiyo, By: Kavv\n",
      "Song: Imperial, By: j^p^n\n",
      "Song: im just tired, By: Xfruge\n",
      "Song: down by the brook, By: biosphere\n",
      "Song: this girl, By: Elijah Who\n",
      "Song: I Fall in Love Too Easliy, By: Caleb Belkin\n",
      "Song: The Eye of Truth, By: Driver\n",
      "Song: in your arms, By: Saib\n",
      "Song: Wish You Still Felt This Way, By: 90sFlav\n",
      "Song: belas, By: eevee\n",
      "Song: moonflowers, By: ocha\n",
      "Song: Hanging Lanterns, By: Kalaido\n",
      "Song: Cloud, By: Hz.\n",
      "Song: Dream Sequence, By: Kendall Miles\n",
      "Song: Light Tower, By: Mura Kami\n",
      "Song: Her, By: eery\n",
      "Song: Perfume, By: Tasu\n",
      "Song: Time Travel (Hz. Remix), By: Epifania\n",
      "Song: Headspace, By: Epifania\n",
      "Song: From a Lonely Star, By: City Girl\n",
      "Song: espero que tú tampoco me olvides, By: furino\n"
     ]
    }
   ],
   "source": [
    "# It's a tie! Let's check the gradient boosting classifier.\n",
    "pred = gbc.predict(x_test)\n",
    " \n",
    "score = accuracy_score(y_test, pred)*100\n",
    "print(\"              Accuracy using gbc: \", round(score, 1), \"%\")\n",
    "print(\" \")\n",
    "print(classification_report(y_test, pred))\n",
    "\n",
    "likedSongs = 0\n",
    "i = 0\n",
    "for prediction in pred:\n",
    "    if(prediction == 1):\n",
    "        print (\"Song: \" + playlistToLookAtFeatures[\"name\"][i] + \", By: \"+ playlistToLookAtFeatures[\"artist\"][i])\n",
    "        likedSongs= likedSongs + 1 \n",
    "        i = i +1"
   ]
  },
  {
   "cell_type": "markdown",
   "metadata": {},
   "source": [
    "So basically it scans the 42 songs that you picked and deems that the above 32 songs will fit your playlist based on Gradient Boosting Classifier. "
   ]
  },
  {
   "cell_type": "markdown",
   "metadata": {},
   "source": [
    "Future Recommendations:\n",
    "\n",
    "- Haven't considered duplicates in another playlist. might need to do some tweaking on that for further studies.\n",
    "- Come up with a recommendation score for the Song and Artist chosen."
   ]
  },
  {
   "cell_type": "code",
   "execution_count": null,
   "metadata": {},
   "outputs": [],
   "source": []
  }
 ],
 "metadata": {
  "kernelspec": {
   "display_name": "Python 3.7.4 64-bit (conda)",
   "language": "python",
   "name": "python37464bitconda6a5d552ea276473a8d76e40304f40a2b"
  },
  "language_info": {
   "codemirror_mode": {
    "name": "ipython",
    "version": 3
   },
   "file_extension": ".py",
   "mimetype": "text/x-python",
   "name": "python",
   "nbconvert_exporter": "python",
   "pygments_lexer": "ipython3",
   "version": "3.7.4"
  }
 },
 "nbformat": 4,
 "nbformat_minor": 2
}
