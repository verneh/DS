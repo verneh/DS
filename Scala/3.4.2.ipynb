{
 "cells": [
  {
   "cell_type": "markdown",
   "metadata": {},
   "source": [
    "<a href=\"https://cocl.us/Data_Science_with_Scalla_top\"><img src = \"https://s3-api.us-geo.objectstorage.softlayer.net/cf-courses-data/CognitiveClass/SC0103EN/adds/Data_Science_with_Scalla_notebook_top.png\" width = 750, align = \"center\"></a>\n",
    " <br/>\n",
    "<a><img src=\"https://ibm.box.com/shared/static/ugcqz6ohbvff804xp84y4kqnvvk3bq1g.png\" width=\"200\" align=\"center\"></a>\"\n",
    "\n",
    "# 3.4.2 Random Forests\n",
    "\n",
    "\n",
    "## Lesson Objectives \n",
    "\n",
    "After completing this lesson, you should be able to: \n",
    "\n",
    "* Understand the Pipelines API for Random Forests and Gradient-Boosted Trees\n",
    "* Describe default's Input and Output columns \n",
    "* Perform classification and regression with Random Forests (RFs)\n",
    "* Understand and use Random Forests parameters\n",
    "\n",
    "## Ensemble Method\n",
    "\n",
    "* An Ensemble is a learning algorithm which creates an aggregate model composed of a set of other base models\n",
    "* 'Random Forests' and 'Gradient-Boosted Trees' are ensemble algorithms based on decision trees\n",
    "* Ensemble algorithms are among the top performers for classification and regression problems\n",
    "\n",
    "\n",
    "## Random Forests (RFs)\n",
    "\n",
    "* Random Forests are ensembles of Decision Trees\n",
    "* One of the most successful machine learning models for classification and regression\n",
    "* Random Forests combine many decision trees in order to reduce the risk of overfitting\n",
    "* The Pipelines API for Random Forests supports both binary and multiclass classification\n",
    "* Supports regression\n",
    "* It also supports continuous and categorical features\n",
    "\n",
    "\n",
    "## RF: Basic Algorithm\n",
    "\n",
    "This is a quick description of the basic algorithm of Random Forests:\n",
    "\n",
    "* RF trains a set of decision trees separately while at the same time\n",
    "* RF injects randomness into the training process. This randomness comes from two different sources: \n",
    "  * bootstrapping: subsampling the original data set on each iteration to get a different training set\n",
    "  * considering different random subsets of features to split on at each tree node\n",
    "* Then each tree makes a prediction and the combined predictions from several trees reduces the variance of the predictions and improves the performance on test data\n",
    "  * classification: majority vote - each tree's prediction is counted as a vote for one class and the predicted label is the class with larges number of votes\n",
    "  * regression: average - each tree predicts a real value and the predicted label is equal to the average of all predictions\n",
    "\n",
    "\n",
    "## Random Forest Parameters I\n",
    "\n",
    "Now let's look at the parameters of Random Forests in Spark.ml\n",
    "\n",
    "I start with the most important parameters: the number of trees and the maximum depth which CAN be tuned to improve performance:\n",
    "* **numTrees**: the total number of trees in the forest. As the number of trees increases:\n",
    "  * the variance of prediction decreases, improving test time accuracy\n",
    "  * training time on the other hand increases roughly linearly with the number of trees\n",
    "* **maxDepth**: the maximum depth of each tree in the forest. As trees get deeper:\n",
    "  * model gets more expressive and powerful \n",
    "  * takes longer to train \n",
    "  * more prone to overfitting\n",
    "\n",
    "\n",
    "## Random Forest Parameters II\n",
    "\n",
    "The second set of parameters for Random Forests DO NOT require tuning, but they CAN be tuned to speed up training:\n",
    "* **subsamplingRate**: specifies the fraction of the size of the original data set to be used for training each tree in the forest\n",
    "  * default = 1.0\n",
    "  * This means it uses the entire original data set to subsample\n",
    "  * Decreasing this value can speed up training as it uses a smaller sample, but the accuracy of the model may suffer\n",
    "* **featureSubsetStrategy**: specifies the fraction of total number of features to use as candidates for splitting at each tree node\n",
    "  * decreasing this value can speed up training\n",
    "  * if set too low can also impact the performance\n",
    "\n",
    "\n",
    "## Inputs and Outputs\n",
    "\n",
    "The Inputs taken and the Outputs produced by Random Forests in the Pipelines API are, not surprisingly, exactly the same as Decision Trees."
   ]
  },
  {
   "cell_type": "markdown",
   "metadata": {},
   "source": [
    "| Param name  | Type(s) | Default    | Description      |\n",
    "| ----------- | ------- | ---------- | ---------------- |\n",
    "| labelCol    | Double  | \"label\"    | Label to predict |\n",
    "| featuresCol | Vector  | \"features\" | Feature vector   |\n",
    "\n",
    "| Param name       | Type(s) | Default         | Description                              | Notes               |\n",
    "| ---------------- | ------- | --------------- | ---------------------------------------- | ------------------- |\n",
    "| predictionCol    | Double  | \"prediction\"    | Predicted label                          |                     |\n",
    "| rawPredictionCol | Vector  | \"rawPrediction\" | Vector of length # classes, with the counts of training instance labels at the tree node which makes the prediction | Classification only |\n",
    "| probabilityCol   | Vector  | \"probability\"   | Vector of length # classes equal to rawPrediction normalized to a multinomial distribution | Classification only |"
   ]
  },
  {
   "cell_type": "markdown",
   "metadata": {},
   "source": [
    "This is the base model for Random Forests. A quick recap: as Inputs there are the label and features columns and as Outputs there are the prediction, rawPrediction and probability columns, where the last two only apply for classification trees. \n",
    "\n",
    "\n",
    "## Continuing from Previous Example"
   ]
  },
  {
   "cell_type": "code",
   "execution_count": 1,
   "metadata": {
    "attributes": {
     "classes": [
      "scala"
     ],
     "id": ""
    }
   },
   "outputs": [
    {
     "name": "stdout",
     "output_type": "stream",
     "text": [
      "--2020-06-13 05:33:44--  https://s3-api.us-geo.objectstorage.softlayer.net/cf-courses-data/CognitiveClass/SC0105EN/data/sample_libsvm_data.txt\n",
      "Resolving s3-api.us-geo.objectstorage.softlayer.net (s3-api.us-geo.objectstorage.softlayer.net)... 67.228.254.196\n",
      "Connecting to s3-api.us-geo.objectstorage.softlayer.net (s3-api.us-geo.objectstorage.softlayer.net)|67.228.254.196|:443... connected.\n",
      "HTTP request sent, awaiting response... 200 OK\n",
      "Length: 104736 (102K) [text/plain]\n",
      "Saving to: ‘/resources/data/sample_libsvm_data.txt.1’\n",
      "\n",
      "     0K .......... .......... .......... .......... .......... 48% 1.54M 0s\n",
      "    50K .......... .......... .......... .......... .......... 97% 2.23M 0s\n",
      "   100K ..                                                    100%  176K=0.07s\n",
      "\n",
      "2020-06-13 05:33:44 (1.50 MB/s) - ‘/resources/data/sample_libsvm_data.txt.1’ saved [104736/104736]\n",
      "\n"
     ]
    },
    {
     "data": {
      "text/plain": [
       "warning: there was one feature warning; re-run with -feature for details\n"
      ]
     },
     "metadata": {},
     "output_type": "display_data",
     "source": "user"
    },
    {
     "data": {
      "text/plain": [
       "0"
      ]
     },
     "execution_count": 1,
     "metadata": {},
     "output_type": "execute_result"
    }
   ],
   "source": [
    "import sys.process._\n",
    "\"wget https://s3-api.us-geo.objectstorage.softlayer.net/cf-courses-data/CognitiveClass/SC0105EN/data/sample_libsvm_data.txt  -P /resources/data/\"!"
   ]
  },
  {
   "cell_type": "code",
   "execution_count": 2,
   "metadata": {
    "attributes": {
     "classes": [
      "scala"
     ],
     "id": ""
    }
   },
   "outputs": [
    {
     "data": {
      "text/plain": [
       "spark = org.apache.spark.sql.SparkSession@2988afba\n"
      ]
     },
     "metadata": {},
     "output_type": "display_data",
     "source": "user"
    },
    {
     "data": {
      "text/plain": [
       "org.apache.spark.sql.SparkSession@2988afba"
      ]
     },
     "execution_count": 2,
     "metadata": {},
     "output_type": "execute_result"
    }
   ],
   "source": [
    "import org.apache.spark.sql.SparkSession\n",
    "val spark = SparkSession.builder().getOrCreate()\n",
    "import org.apache.spark.mllib.util.MLUtils\n",
    "import org.apache.spark.ml.feature.{StringIndexer, IndexToString, VectorIndexer}\n",
    "import spark.implicits._\n",
    "import org.apache.spark.sql.functions._"
   ]
  },
  {
   "cell_type": "code",
   "execution_count": 3,
   "metadata": {},
   "outputs": [
    {
     "name": "stdout",
     "output_type": "stream",
     "text": [
      "+-----+--------------------+\n",
      "|label|            features|\n",
      "+-----+--------------------+\n",
      "|  0.0|(692,[127,128,129...|\n",
      "|  1.0|(692,[158,159,160...|\n",
      "|  1.0|(692,[124,125,126...|\n",
      "|  1.0|(692,[152,153,154...|\n",
      "|  1.0|(692,[151,152,153...|\n",
      "|  0.0|(692,[129,130,131...|\n",
      "|  1.0|(692,[158,159,160...|\n",
      "|  1.0|(692,[99,100,101,...|\n",
      "|  0.0|(692,[154,155,156...|\n",
      "|  0.0|(692,[127,128,129...|\n",
      "|  1.0|(692,[154,155,156...|\n",
      "|  0.0|(692,[153,154,155...|\n",
      "|  0.0|(692,[151,152,153...|\n",
      "|  1.0|(692,[129,130,131...|\n",
      "|  0.0|(692,[154,155,156...|\n",
      "|  1.0|(692,[150,151,152...|\n",
      "|  0.0|(692,[124,125,126...|\n",
      "|  0.0|(692,[152,153,154...|\n",
      "|  1.0|(692,[97,98,99,12...|\n",
      "|  1.0|(692,[124,125,126...|\n",
      "+-----+--------------------+\n",
      "only showing top 20 rows\n",
      "\n"
     ]
    },
    {
     "data": {
      "text/plain": [
       "data = [label: double, features: vector]\n"
      ]
     },
     "metadata": {},
     "output_type": "display_data",
     "source": "user"
    },
    {
     "data": {
      "text/plain": [
       "[label: double, features: vector]"
      ]
     },
     "execution_count": 3,
     "metadata": {},
     "output_type": "execute_result"
    }
   ],
   "source": [
    "val data = MLUtils.loadLibSVMFile(sc, \"/resources/data/sample_libsvm_data.txt\").toDF()\n",
    "data.show()"
   ]
  },
  {
   "cell_type": "markdown",
   "metadata": {},
   "source": [
    "## RF Classification I\n",
    "\n",
    "Once again I'm going to build up on the previous example: the `DecisionTreeClassifier`. \n",
    "\n",
    "Remember the Pipeline I used then had 4 stages: two preprocessing estimators, one decision tree classifier and one postprocessing transformer. \n",
    "\n",
    "Since I'm using the same training data the only thing I need to change is the classifier itself. All the rest, pre and post processing estimators and transformers, remain the same. \n",
    "\n",
    "So first I create a new instance of a `RandomForestClassifier`. It will take as inputs the columns named `indexedLabel` and `indexedFeatures`. The number of trees I'm going to train is quite small: just 3"
   ]
  },
  {
   "cell_type": "code",
   "execution_count": 4,
   "metadata": {
    "attributes": {
     "classes": [
      "scala"
     ],
     "id": ""
    }
   },
   "outputs": [
    {
     "data": {
      "text/plain": [
       "import org.apache.spark.mllib.util.MLUtils.{convertVectorColumnsFromML=>fromML, convertVectorColumnsToML=>toML}\n"
      ]
     },
     "metadata": {},
     "output_type": "display_data",
     "source": "user"
    }
   ],
   "source": [
    "import org.apache.spark.mllib.util.MLUtils.{\n",
    "  convertVectorColumnsFromML => fromML,\n",
    "  convertVectorColumnsToML => toML\n",
    "}"
   ]
  },
  {
   "cell_type": "code",
   "execution_count": 5,
   "metadata": {
    "attributes": {
     "classes": [
      "scala"
     ],
     "id": ""
    }
   },
   "outputs": [
    {
     "data": {
      "text/plain": [
       "labelIndexer = strIdx_591a2e3622a7\n",
       "labelConverter = idxToStr_3274656ce132\n",
       "featureIndexer = vecIdx_d2de5de41a47\n",
       "rfC = rfc_27801d1cc651\n"
      ]
     },
     "metadata": {},
     "output_type": "display_data",
     "source": "user"
    },
    {
     "data": {
      "text/plain": [
       "rfc_27801d1cc651"
      ]
     },
     "execution_count": 5,
     "metadata": {},
     "output_type": "execute_result"
    }
   ],
   "source": [
    "val labelIndexer = new StringIndexer().setInputCol(\"label\").setOutputCol(\"indexedLabel\").fit(data)\n",
    "val labelConverter = new IndexToString().setInputCol(\"prediction\").setOutputCol(\"predictedLabel\").setLabels(labelIndexer.labels)\n",
    "val featureIndexer = new VectorIndexer().setInputCol(\"features\").setOutputCol(\"indexedFeatures\").setMaxCategories(4).fit(toML(data))\n",
    "\n",
    "import org.apache.spark.ml.classification.RandomForestClassifier\n",
    "import org.apache.spark.ml.classification.RandomForestClassificationModel\n",
    "\n",
    "val rfC = new RandomForestClassifier().setLabelCol(\"indexedLabel\").setFeaturesCol(\"indexedFeatures\").setNumTrees(3)"
   ]
  },
  {
   "cell_type": "markdown",
   "metadata": {},
   "source": [
    "## RF Classification II\n",
    "\n",
    "Then I create a new Pipeline also with 4 stages but replacing the `DecisionTreeClassifier` with the new `RandomForestClassifier` as its third stage.  \n",
    "\n",
    "This is the `pipelineRFC`: the Random Forest Classifier."
   ]
  },
  {
   "cell_type": "code",
   "execution_count": 6,
   "metadata": {
    "attributes": {
     "classes": [
      "scala"
     ],
     "id": ""
    }
   },
   "outputs": [
    {
     "data": {
      "text/plain": [
       "trainingData = [label: double, features: vector]\n",
       "testData = [label: double, features: vector]\n",
       "pipelineRFC = pipeline_804359d5c72d\n",
       "modelRFC = pipeline_804359d5c72d\n",
       "predictionsRFC = [label: double, features: vector ... 6 more fields]\n"
      ]
     },
     "metadata": {},
     "output_type": "display_data",
     "source": "user"
    },
    {
     "data": {
      "text/plain": [
       "[label: double, features: vector ... 6 more fields]"
      ]
     },
     "execution_count": 6,
     "metadata": {},
     "output_type": "execute_result"
    }
   ],
   "source": [
    "import org.apache.spark.ml.Pipeline\n",
    "\n",
    "// split into training and test data\n",
    "val Array(trainingData, testData) = data.randomSplit(Array(0.7, 0.3))\n",
    "\n",
    "val pipelineRFC = new Pipeline().setStages(Array(labelIndexer, featureIndexer, rfC, labelConverter))\n",
    "val modelRFC = pipelineRFC.fit(toML(trainingData))\n",
    "val predictionsRFC = modelRFC.transform(toML(testData))"
   ]
  },
  {
   "cell_type": "markdown",
   "metadata": {},
   "source": [
    "All the rest is exactly the same as before. Calling the `fit` method to get a model and calling the `transform` method to make predictions. \n",
    "\n",
    "The predictions are then returned in the prediction RFC data frame.\n",
    "\n",
    "## RF Classification III  \n",
    "\n",
    "Let's take a look at the `predictionsRFC` `DataFrame`:"
   ]
  },
  {
   "cell_type": "code",
   "execution_count": 7,
   "metadata": {
    "attributes": {
     "classes": [
      "scala"
     ],
     "id": ""
    }
   },
   "outputs": [
    {
     "name": "stdout",
     "output_type": "stream",
     "text": [
      "+--------------+-----+--------------------+\n",
      "|predictedLabel|label|            features|\n",
      "+--------------+-----+--------------------+\n",
      "|           0.0|  0.0|(692,[98,99,100,1...|\n",
      "|           0.0|  0.0|(692,[100,101,102...|\n",
      "|           0.0|  0.0|(692,[123,124,125...|\n",
      "|           0.0|  0.0|(692,[124,125,126...|\n",
      "|           0.0|  0.0|(692,[125,126,127...|\n",
      "|           0.0|  0.0|(692,[126,127,128...|\n",
      "|           0.0|  0.0|(692,[126,127,128...|\n",
      "|           0.0|  0.0|(692,[126,127,128...|\n",
      "|           0.0|  0.0|(692,[126,127,128...|\n",
      "|           0.0|  0.0|(692,[152,153,154...|\n",
      "+--------------+-----+--------------------+\n",
      "only showing top 10 rows\n",
      "\n"
     ]
    }
   ],
   "source": [
    "predictionsRFC.select(\"predictedLabel\", \"label\", \"features\").show(10)"
   ]
  },
  {
   "cell_type": "markdown",
   "metadata": {},
   "source": [
    "## RF Classification IV"
   ]
  },
  {
   "cell_type": "code",
   "execution_count": 8,
   "metadata": {
    "attributes": {
     "classes": [
      "scala"
     ],
     "id": ""
    }
   },
   "outputs": [
    {
     "data": {
      "text/plain": [
       "rfModelC = RandomForestClassificationModel (uid=rfc_27801d1cc651) with 3 trees\n"
      ]
     },
     "metadata": {},
     "output_type": "display_data",
     "source": "user"
    },
    {
     "data": {
      "text/plain": [
       "RandomForestClassificationModel (uid=rfc_27801d1cc651) with 3 trees"
      ]
     },
     "execution_count": 8,
     "metadata": {},
     "output_type": "execute_result"
    }
   ],
   "source": [
    "val rfModelC = modelRFC.stages(2).asInstanceOf[RandomForestClassificationModel]"
   ]
  },
  {
   "cell_type": "code",
   "execution_count": 9,
   "metadata": {
    "attributes": {
     "classes": [
      "scala"
     ],
     "id": ""
    }
   },
   "outputs": [
    {
     "data": {
      "text/plain": [
       "(692,[301,429,454,462,492,512],[0.3000608642726719,0.03327246906066141,0.04598930481283424,0.3035897435897436,0.029743589743589732,0.2873440285204992])"
      ]
     },
     "execution_count": 9,
     "metadata": {},
     "output_type": "execute_result"
    }
   ],
   "source": [
    "rfModelC.featureImportances"
   ]
  },
  {
   "cell_type": "markdown",
   "metadata": {},
   "source": [
    "We can derive the Random Forest Classification model and from that, see the feature importances.\n",
    "\n",
    "## RF Classification V\n",
    "\n",
    "Now let's take a look at the model's rules. I can use `toDebugString` to inspect the rules of each and every tree:"
   ]
  },
  {
   "cell_type": "code",
   "execution_count": 10,
   "metadata": {},
   "outputs": [
    {
     "name": "stdout",
     "output_type": "stream",
     "text": [
      "Learned classification forest model:\n",
      "RandomForestClassificationModel (uid=rfc_27801d1cc651) with 3 trees\n",
      "  Tree 0 (weight 1.0):\n",
      "    If (feature 512 <= 1.5)\n",
      "     If (feature 454 <= 24.5)\n",
      "      Predict: 0.0\n",
      "     Else (feature 454 > 24.5)\n",
      "      Predict: 1.0\n",
      "    Else (feature 512 > 1.5)\n",
      "     Predict: 1.0\n",
      "  Tree 1 (weight 1.0):\n",
      "    If (feature 462 <= 62.5)\n",
      "     If (feature 492 <= 205.5)\n",
      "      Predict: 1.0\n",
      "     Else (feature 492 > 205.5)\n",
      "      Predict: 0.0\n",
      "    Else (feature 462 > 62.5)\n",
      "     Predict: 0.0\n",
      "  Tree 2 (weight 1.0):\n",
      "    If (feature 301 <= 27.0)\n",
      "     If (feature 429 <= 7.0)\n",
      "      Predict: 0.0\n",
      "     Else (feature 429 > 7.0)\n",
      "      Predict: 1.0\n",
      "    Else (feature 301 > 27.0)\n",
      "     Predict: 1.0\n",
      "\n"
     ]
    }
   ],
   "source": [
    "println(\"Learned classification forest model:\\n\" + rfModelC.toDebugString)"
   ]
  },
  {
   "cell_type": "markdown",
   "metadata": {},
   "source": [
    "## RF for Regression\n",
    "\n",
    "Having completed an example of classification with Random Forests, it is time for an example of regression. Once again I will build up on the previous regression example using Decision Trees. \n",
    "\n",
    "The Pipeline for regression, in that case, had only 2 stages - the `featureIndexer` and the `DecisionTreeRegressor`.\n",
    "\n",
    "Now I replace the Decision Tree with the `RandomForestRegressor` and create a new `Pipeline`. This is the `pipelineRFR`, from Random Forest `Regressor`. All the rest is exactly the same as before: calling the `fit` method to get a model and calling the `transform` method to make predictions."
   ]
  },
  {
   "cell_type": "code",
   "execution_count": 11,
   "metadata": {
    "attributes": {
     "classes": [
      "scala"
     ],
     "id": ""
    }
   },
   "outputs": [
    {
     "name": "stdout",
     "output_type": "stream",
     "text": [
      "+-----+--------------------+--------------------+----------+\n",
      "|label|            features|     indexedFeatures|prediction|\n",
      "+-----+--------------------+--------------------+----------+\n",
      "|  0.0|(692,[98,99,100,1...|(692,[98,99,100,1...|       0.0|\n",
      "|  0.0|(692,[100,101,102...|(692,[100,101,102...|      0.25|\n",
      "|  0.0|(692,[123,124,125...|(692,[123,124,125...|       0.0|\n",
      "|  0.0|(692,[124,125,126...|(692,[124,125,126...|      0.05|\n",
      "|  0.0|(692,[125,126,127...|(692,[125,126,127...|       0.1|\n",
      "|  0.0|(692,[126,127,128...|(692,[126,127,128...|       0.0|\n",
      "|  0.0|(692,[126,127,128...|(692,[126,127,128...|       0.0|\n",
      "|  0.0|(692,[126,127,128...|(692,[126,127,128...|       0.0|\n",
      "|  0.0|(692,[126,127,128...|(692,[126,127,128...|      0.05|\n",
      "|  0.0|(692,[152,153,154...|(692,[152,153,154...|      0.15|\n",
      "|  1.0|(692,[123,124,125...|(692,[123,124,125...|       1.0|\n",
      "|  1.0|(692,[124,125,126...|(692,[124,125,126...|       1.0|\n",
      "|  1.0|(692,[124,125,126...|(692,[124,125,126...|       1.0|\n",
      "|  1.0|(692,[126,127,128...|(692,[126,127,128...|       1.0|\n",
      "|  1.0|(692,[127,128,129...|(692,[127,128,129...|       1.0|\n",
      "|  1.0|(692,[127,128,154...|(692,[127,128,154...|      0.95|\n",
      "|  1.0|(692,[127,128,155...|(692,[127,128,155...|       1.0|\n",
      "|  1.0|(692,[128,129,130...|(692,[128,129,130...|       1.0|\n",
      "|  1.0|(692,[128,129,130...|(692,[128,129,130...|      0.95|\n",
      "|  1.0|(692,[128,129,130...|(692,[128,129,130...|       1.0|\n",
      "+-----+--------------------+--------------------+----------+\n",
      "only showing top 20 rows\n",
      "\n"
     ]
    },
    {
     "data": {
      "text/plain": [
       "rfR = rfr_0a54b4fa24bc\n",
       "pipelineRFR = pipeline_75994e068ce2\n",
       "modelRFR = pipeline_75994e068ce2\n",
       "predictions = [label: double, features: vector ... 2 more fields]\n"
      ]
     },
     "metadata": {},
     "output_type": "display_data",
     "source": "user"
    },
    {
     "data": {
      "text/plain": [
       "[label: double, features: vector ... 2 more fields]"
      ]
     },
     "execution_count": 11,
     "metadata": {},
     "output_type": "execute_result"
    }
   ],
   "source": [
    "import org.apache.spark.ml.regression.RandomForestRegressor\n",
    "import org.apache.spark.ml.regression.RandomForestRegressionModel\n",
    "\n",
    "val rfR = new RandomForestRegressor().setLabelCol(\"label\").setFeaturesCol(\"indexedFeatures\")\n",
    "\n",
    "val pipelineRFR = new Pipeline().setStages(Array(featureIndexer, rfR))\n",
    "\n",
    "val modelRFR = pipelineRFR.fit(toML(trainingData))\n",
    "\n",
    "val predictions = modelRFR.transform(toML(testData))\n",
    "predictions.show()"
   ]
  },
  {
   "cell_type": "markdown",
   "metadata": {},
   "source": [
    "## RF for Regression\n",
    "\n",
    "The predictions are then returned in the `predictionsRFR` data frame:"
   ]
  },
  {
   "cell_type": "code",
   "execution_count": 12,
   "metadata": {
    "attributes": {
     "classes": [
      "scala"
     ],
     "id": ""
    }
   },
   "outputs": [
    {
     "name": "stdout",
     "output_type": "stream",
     "text": [
      "+----------+-----+--------------------+\n",
      "|prediction|label|            features|\n",
      "+----------+-----+--------------------+\n",
      "|       0.0|  0.0|(692,[98,99,100,1...|\n",
      "|      0.25|  0.0|(692,[100,101,102...|\n",
      "|       0.0|  0.0|(692,[123,124,125...|\n",
      "|      0.05|  0.0|(692,[124,125,126...|\n",
      "|       0.1|  0.0|(692,[125,126,127...|\n",
      "+----------+-----+--------------------+\n",
      "only showing top 5 rows\n",
      "\n"
     ]
    },
    {
     "data": {
      "text/plain": [
       "predictionsRFR = [label: double, features: vector ... 2 more fields]\n"
      ]
     },
     "metadata": {},
     "output_type": "display_data",
     "source": "user"
    },
    {
     "data": {
      "text/plain": [
       "[label: double, features: vector ... 2 more fields]"
      ]
     },
     "execution_count": 12,
     "metadata": {},
     "output_type": "execute_result"
    }
   ],
   "source": [
    "val predictionsRFR = modelRFR.transform(toML(testData))\n",
    "predictionsRFR.select(\"prediction\", \"label\", \"features\").show(5)"
   ]
  },
  {
   "cell_type": "markdown",
   "metadata": {},
   "source": [
    "## Lesson Summary\n",
    "\n",
    "Having completed this lesson we should now be able to:\n",
    "\n",
    "* Understand how to run a random forest in Spark\n",
    "* Grasp most of the parameters and their effects \n",
    "* Understand inputs and outputs \n",
    "* Understand how to use Random Forest for regression and categorization\n",
    "\n",
    "### About the Authors\n",
    "\n",
    "[Petro Verkhogliad](https://www.linkedin.com/in/vpetro) is Consulting Manager at Lightbend. He holds a Masters degree in Computer Science with specialization in Intelligent Systems. He is passionate about functional programming and applications of AI."
   ]
  },
  {
   "cell_type": "code",
   "execution_count": null,
   "metadata": {},
   "outputs": [],
   "source": []
  },
  {
   "cell_type": "code",
   "execution_count": null,
   "metadata": {},
   "outputs": [],
   "source": []
  }
 ],
 "metadata": {
  "kernelspec": {
   "display_name": "Apache Toree - Scala",
   "language": "scala",
   "name": "apache_toree_scala"
  },
  "language_info": {
   "codemirror_mode": "text/x-scala",
   "file_extension": ".scala",
   "mimetype": "text/x-scala",
   "name": "scala",
   "pygments_lexer": "scala",
   "version": "2.11.12"
  }
 },
 "nbformat": 4,
 "nbformat_minor": 4
}
