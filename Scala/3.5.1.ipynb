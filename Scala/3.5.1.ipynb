{
 "cells": [
  {
   "cell_type": "markdown",
   "metadata": {},
   "source": [
    "<a href=\"https://cocl.us/Data_Science_with_Scalla_top\"><img src = \"https://s3-api.us-geo.objectstorage.softlayer.net/cf-courses-data/CognitiveClass/SC0103EN/adds/Data_Science_with_Scalla_notebook_top.png\" width = 750, align = \"center\"></a>\n",
    " <br/>\n",
    "<a><img src=\"https://ibm.box.com/shared/static/ugcqz6ohbvff804xp84y4kqnvvk3bq1g.png\" width=\"200\" align=\"center\"></a>\"\n",
    "\n",
    "# Module 5: Pipeline and Grid Search\n",
    "\n",
    "## Predicting Grant Applications: Introduction\n",
    "\n",
    "### Lesson Objectives\n",
    "\n",
    "* After completing this lesson, you should be able to:\n",
    "  - Understand how to fit together the functions available in Spark's machine learning libraries to solve real problems\n",
    "  - Use a Spark cluster to fit models in a fraction of the time\n",
    "  \n",
    "### Examples in thie Module\n",
    "\n",
    "* This module contains 5 lessons\n",
    "* Examples in later lessons follow on from previous lessons in this module\n",
    "  - e.g. Examples in lesson 3 follow on from lessons 1 and 2\n",
    "  \n",
    "### Lesson Objectives\n",
    "\n",
    "* After completing this lesson, you should be able to:\n",
    "  - Understand, in a general way, the data available in the grant application dataset\n",
    "  - Appreciate the problem being solved\n",
    "  - Propose some features that might be good predictions\n",
    "  \n",
    "### The Dataset and Problem\n",
    "\n",
    "* Dataset\n",
    "  -8708 grant applications from the University of Melbourne, 3992 of which were successful\n",
    "  - the 17594 researchers involved in those applications\n",
    "  - <https://www.kaggle.com/c/unimelb>\n",
    "* Problem\n",
    "  - Predict if a grant application will be successful\n",
    "  \n",
    "### Data About Grants\n",
    "\n",
    "* Grant_Application_ID (int)\n",
    "* Grant_Status (int)\n",
    "  - Whether or not the grant application was successful\n",
    "* Contract_Value_Band (string)\n",
    "  - The amount of the grant, bucketized into ranges\n",
    "* Grant_Category_Code (string)\n",
    "  - Categorization of the sponsor (e.g. Australian competitive grants, cooperative research centre, industry)\n",
    "  \n",
    "### Data Aobut Researchers\n",
    "\n",
    "* Role (string)\n",
    "  - The individual researcher's role in the propsed research\n",
    "* Year_of_Birth (int)\n",
    "* Dept_No (string)\n",
    "* With_PHD (string)\n",
    "* Number_of_Successful_Grant (int)\n",
    "* Number_of_Unsuccessful_Grant (int)\n",
    "* A2, A, B, C (four int columns)\n",
    "  - Number of articles published in journals of various quality (A2 being the most prestigious, C the least)\n",
    "  \n",
    "### Basic Setup"
   ]
  },
  {
   "cell_type": "code",
   "execution_count": 1,
   "metadata": {
    "attributes": {
     "classes": [
      "scala"
     ],
     "id": ""
    }
   },
   "outputs": [
    {
     "name": "stdout",
     "output_type": "stream",
     "text": [
      "--2020-06-13 16:34:39--  https://s3-api.us-geo.objectstorage.softlayer.net/cf-courses-data/CognitiveClass/SC0105EN/data/grantsPeople.csv\n",
      "Resolving s3-api.us-geo.objectstorage.softlayer.net (s3-api.us-geo.objectstorage.softlayer.net)... 67.228.254.196\n",
      "Connecting to s3-api.us-geo.objectstorage.softlayer.net (s3-api.us-geo.objectstorage.softlayer.net)|67.228.254.196|:443... connected.\n",
      "HTTP request sent, awaiting response... 200 OK\n",
      "Length: 3126338 (3.0M) [text/csv]\n",
      "Saving to: ‘/resources/data/grantsPeople.csv’\n",
      "\n",
      "     0K .......... .......... .......... .......... ..........  1% 1.18M 2s\n",
      "    50K .......... .......... .......... .......... ..........  3% 22.0M 1s\n",
      "   100K .......... .......... .......... .......... ..........  4%  866K 2s\n",
      "   150K .......... .......... .......... .......... ..........  6% 2.21M 2s\n",
      "   200K .......... .......... .......... .......... ..........  8% 2.41M 2s\n",
      "   250K .......... .......... .......... .......... ..........  9% 2.22M 2s\n",
      "   300K .......... .......... .......... .......... .......... 11%  878K 2s\n",
      "   350K .......... .......... .......... .......... .......... 13%  848K 2s\n",
      "   400K .......... .......... .......... .......... .......... 14% 2.43M 2s\n",
      "   450K .......... .......... .......... .......... .......... 16% 2.42M 2s\n",
      "   500K .......... .......... .......... .......... .......... 18% 2.25M 2s\n",
      "   550K .......... .......... .......... .......... .......... 19% 2.57M 1s\n",
      "   600K .......... .......... .......... .......... .......... 21%  634K 2s\n",
      "   650K .......... .......... .......... .......... .......... 22% 2.35M 2s\n",
      "   700K .......... .......... .......... .......... .......... 24% 1.23M 2s\n",
      "   750K .......... .......... .......... ....\n",
      "   800K .......... ........... .......... 26%  611K 2s..... .......... .......... .......... 27%  507K 2s\n",
      "   850K .......... .......... .......... .......... .......... 29% 2.07M 2s\n",
      "   900K .......... .......... .......... .......... .......... 31%  811K 2s\n",
      "   950K .......... .......... .......... .......... .......... 32% 2.19M 2s\n",
      "  1000K .......... .......... .......... .......... .......... 34% 1.43M 2s\n",
      "  1050K .......... .......... .......... .......... .......... 36% 1.21M 2s\n",
      "  1100K .......... .......... .......... .......... .......... 37% 2.32M 1s\n",
      "  1150K .......... .......... .......... .......... .......... 39%  639K 1s\n",
      "  1200K .......... .......... .......... .......... .......... 40% 2.31M 1s\n",
      "  1250K .......... .......... .......... .......... .......... 42%  641K 1s\n",
      "  1300K .......... .......... .......... .......... .......... 44% 2.31M 1s\n",
      "  1350K .......... .......... .......... .......... .......... 45%  629K 1s\n",
      "  1400K .......... .......... .......... .......... .......... 47% 1.27M 1s\n",
      "  1450K .......... .......... .......... .......... .......... 49% 2.30M 1s\n",
      "  1500K .......... .......... .......... .......... .......... 50% 1.24M 1s\n",
      "  1550K .......... .......... .......... .......... .......... 52% 2.35M 1s\n",
      "  1600K .......... .......... .......... .......... .......... 54% 1.23M 1s\n",
      "  1650K .......... .......... .......... .......... .......... 55% 2.54M 1s\n",
      "  1700K .......... .......... .......... .......... .......... 57%  818K 1s\n",
      "  1750K .......... .......... .......... .......... .......... 58% 2.32M 1s\n",
      "  1800K .......... .......... .......... .......... .......... 60%  505K 1s\n",
      "  1850K .......... .......... .......... .......... .......... 62% 2.00M 1s\n",
      "  1900K .......... .......... .......... .......... .......... 63% 1.30M 1s\n",
      "  1950K .......... .......... .......... .......... .......... 65% 1.28M 1s\n",
      "  2000K .......... .......... .......... .......... .......... 67% 1.28M 1s\n",
      "  2050K .......... .......... .......... .......... .......... 68% 1.15M 1s\n",
      "  2100K .......... .......... .......... .......... .......... 70%  630K 1s\n",
      "  2150K .......... .......... .......... .......... .......... 72% 1.15M 1s\n",
      "  2200K .......... .......... .......... .......... .......... 73% 2.23M 1s\n",
      "  2250K .......... .......... .......... .......... .......... 75% 1.21M 1s\n",
      "  2300K .......... .......... .......... .......... .......... 76% 2.31M 1s\n",
      "  2350K .......... .......... .......... .......... .......... 78% 1.37M 1s\n",
      "  2400K .......... .......... .......... .......... .......... 80% 1.21M 0s\n",
      "  2450K .......... .......... .......... .......... .......... 81% 2.25M 0s\n",
      "  2500K .......... .......... .......... .......... .......... 83% 1.36M 0s\n",
      "  2550K .......... .......... .......... .......... .......... 85% 1.22M 0s\n",
      "  2600K .......... .......... .......... .......... .......... 86% 1.18M 0s\n",
      "  2650K .......... .......... .......... .......... .......... 88% 2.21M 0s\n",
      "  2700K .......... .......... .......... .......... .......... 90% 1.32M 0s\n",
      "  2750K .......... .......... .......... .......... .......... 91% 1.90M 0s\n",
      "  2800K .......... .......... .......... .......... .......... 93% 1.43M 0s\n",
      "  2850K .......... .......... .......... .......... .......... 94% 2.19M 0s\n",
      "  2900K .......... .......... .......... .......... .......... 96% 2.43M 0s\n",
      "  2950K .......... .......... .......... .......... .......... 98% 2.45M 0s\n",
      "  3000K .......... .......... .......... .......... .......... 99% 18.7M 0s\n",
      "  3050K ...                                                   100% 5845G=2.3s\n",
      "\n",
      "2020-06-13 16:34:42 (1.29 MB/s) - ‘/resources/data/grantsPeople.csv’ saved [3126338/3126338]\n",
      "\n"
     ]
    },
    {
     "data": {
      "text/plain": [
       "warning: there was one feature warning; re-run with -feature for details\n"
      ]
     },
     "metadata": {},
     "output_type": "display_data",
     "source": "user"
    },
    {
     "data": {
      "text/plain": [
       "0"
      ]
     },
     "execution_count": 1,
     "metadata": {},
     "output_type": "execute_result"
    }
   ],
   "source": [
    "import sys.process._\n",
    "\"wget https://s3-api.us-geo.objectstorage.softlayer.net/cf-courses-data/CognitiveClass/SC0105EN/data/grantsPeople.csv  -P /resources/data/\"!"
   ]
  },
  {
   "cell_type": "code",
   "execution_count": 2,
   "metadata": {
    "attributes": {
     "classes": [
      "scala"
     ],
     "id": ""
    }
   },
   "outputs": [
    {
     "data": {
      "text/plain": [
       "spark = org.apache.spark.sql.SparkSession@5e9ad96a\n"
      ]
     },
     "metadata": {},
     "output_type": "display_data",
     "source": "user"
    },
    {
     "data": {
      "text/plain": [
       "org.apache.spark.sql.SparkSession@5e9ad96a"
      ]
     },
     "execution_count": 2,
     "metadata": {},
     "output_type": "execute_result"
    }
   ],
   "source": [
    "import org.apache.spark.sql.SparkSession\n",
    "val spark = SparkSession.builder().getOrCreate()\n",
    "import spark.implicits._\n",
    "import org.apache.spark.sql.functions._"
   ]
  },
  {
   "cell_type": "markdown",
   "metadata": {},
   "source": [
    "### Loading the Data"
   ]
  },
  {
   "cell_type": "code",
   "execution_count": 3,
   "metadata": {
    "attributes": {
     "classes": [
      "scala"
     ],
     "id": ""
    }
   },
   "outputs": [
    {
     "data": {
      "text/plain": [
       "data = [Grant_Application_ID: int, RFCD_Code: string ... 22 more fields]\n"
      ]
     },
     "metadata": {},
     "output_type": "display_data",
     "source": "user"
    },
    {
     "data": {
      "text/plain": [
       "[Grant_Application_ID: int, RFCD_Code: string ... 22 more fields]"
      ]
     },
     "execution_count": 3,
     "metadata": {},
     "output_type": "execute_result"
    }
   ],
   "source": [
    "val data = spark.read.\n",
    "  format(\"com.databricks.spark.csv\").\n",
    "  option(\"delimiter\", \"\\t\").\n",
    "  option(\"header\", \"true\").\n",
    "  option(\"inferSchema\", \"true\").\n",
    "  load(\"/resources/data/grantsPeople.csv\")"
   ]
  },
  {
   "cell_type": "code",
   "execution_count": 4,
   "metadata": {
    "attributes": {
     "classes": [
      "scala"
     ],
     "id": ""
    }
   },
   "outputs": [
    {
     "name": "stdout",
     "output_type": "stream",
     "text": [
      "+--------------------+----------+---------------+---------+--------------+---------+--------------------+-------------+----------------+-------------+--------+----------+--------+-----------------------------------+--------------------------+----------------------------+----+----+----+----+------------+------------+--------------------+-------------------+\n",
      "|Grant_Application_ID| RFCD_Code|RFCD_Percentage| SEO_Code|SEO_Percentage|Person_ID|                Role|Year_of_Birth|Country_of_Birth|Home_Language| Dept_No|Faculty_No|With_PHD|No_of_Years_in_Uni_at_Time_of_Grant|Number_of_Successful_Grant|Number_of_Unsuccessful_Grant|  A2|   A|   B|   C|Grant_Status|Sponsor_Code| Contract_Value_Band|Grant_Category_Code|\n",
      "+--------------------+----------+---------------+---------+--------------+---------+--------------------+-------------+----------------+-------------+--------+----------+--------+-----------------------------------+--------------------------+----------------------------+----+----+----+----+------------+------------+--------------------+-------------------+\n",
      "|                   1|RFCD280199|          100.0|SEO700299|         100.0|    40572|  CHIEF_INVESTIGATOR|         1965|     AsiaPacific|    OtherLang|Dept3073| Faculty31|    null|                        DurationLT0|                         0|                           0|   4|   2|   0|   0|           1|  SponsorUnk|  ContractValueBandA|        GrantCatUnk|\n",
      "|                   2|RFCD280103|           30.0|SEO700103|          50.0|     9067|  CHIEF_INVESTIGATOR|         1960|       Australia|         null|Dept2538| Faculty25|     Yes|                       DurationGT15|                         0|                           0|   6|  12|   2|   2|           1|   Sponsor2B|  ContractValueBandB|        GrantCat10A|\n",
      "|                   3|RFCD321004|           60.0|SEO730105|          60.0|     5967|  CHIEF_INVESTIGATOR|         1955|       Australia|         null|Dept2923| Faculty25|     Yes|                      Duration5to10|                         0|                           0|   0|   3|   5|   2|           1|  Sponsor29A|  ContractValueBandA|        GrantCat10B|\n",
      "|                   3|      null|           null|     null|          null|     null|EXT_CHIEF_INVESTI...|         null|            null|         null|    null|      null|    null|                        DurationUnk|                      null|                        null|null|null|null|null|           1|  Sponsor29A|  ContractValueBandA|        GrantCat10B|\n",
      "|                   3|      null|           null|     null|          null|     null|EXT_CHIEF_INVESTI...|         null|            null|         null|    null|      null|    null|                        DurationUnk|                      null|                        null|null|null|null|null|           1|  Sponsor29A|  ContractValueBandA|        GrantCat10B|\n",
      "|                   3|RFCD321216|           40.0|SEO730207|          40.0|    27307|  CHIEF_INVESTIGATOR|         1950|       Australia|         null|Dept2923| Faculty25|    null|                        DurationLT0|                         0|                           0|   0|   0|   0|   0|           1|  Sponsor29A|  ContractValueBandA|        GrantCat10B|\n",
      "|                   3|      null|           null|     null|          null|     null|EXT_CHIEF_INVESTI...|         null|            null|         null|    null|      null|    null|                        DurationUnk|                      null|                        null|null|null|null|null|           1|  Sponsor29A|  ContractValueBandA|        GrantCat10B|\n",
      "|                   3|      null|           null|     null|          null|    79652|  CHIEF_INVESTIGATOR|         1950|     AsiaPacific|         null|Dept2498| Faculty25|     Yes|                       DurationGT15|                         0|                           0|   1|   3|   3|   3|           1|  Sponsor29A|  ContractValueBandA|        GrantCat10B|\n",
      "|                   3|      null|           null|     null|          null|    11667|DELEGATED_RESEARCHER|         1950|       Australia|         null|Dept2548| Faculty25|    null|                       DurationGT15|                         0|                           0|   6|  14|  12|   2|           1|  Sponsor29A|  ContractValueBandA|        GrantCat10B|\n",
      "|                   4|RFCD270602|           50.0|SEO730106|          70.0|    78782|PRINCIPAL_SUPERVISOR|         1955|       Australia|         null|Dept2678| Faculty25|     Yes|                      Duration5to10|                         0|                           0|   0|   3|  13|   3|           1|  Sponsor40D|  ContractValueBandC|        GrantCat10B|\n",
      "|                   4|      null|           null|     null|          null|     null|EXT_CHIEF_INVESTI...|         null|            null|         null|    null|      null|    null|                        DurationUnk|                      null|                        null|null|null|null|null|           1|  Sponsor40D|  ContractValueBandC|        GrantCat10B|\n",
      "|                   4|      null|           null|     null|          null|     null|EXT_CHIEF_INVESTI...|         null|            null|         null|    null|      null|    null|                        DurationUnk|                      null|                        null|null|null|null|null|           1|  Sponsor40D|  ContractValueBandC|        GrantCat10B|\n",
      "|                   4|RFCD320602|           50.0|SEO730201|          30.0|    55337|  CHIEF_INVESTIGATOR|         1975|       Australia|         null|Dept2678| Faculty25|     Yes|                       Duration0to5|                         0|                           0|   0|   0|   0|   0|           1|  Sponsor40D|  ContractValueBandC|        GrantCat10B|\n",
      "|                   4|      null|           null|     null|          null|     null|EXT_CHIEF_INVESTI...|         null|            null|         null|    null|      null|    null|                        DurationUnk|                      null|                        null|null|null|null|null|           1|  Sponsor40D|  ContractValueBandC|        GrantCat10B|\n",
      "|                   4|      null|           null|     null|          null|     null|STUD_CHIEF_INVEST...|         null|            null|         null|    null|      null|    null|                        DurationUnk|                      null|                        null|null|null|null|null|           1|  Sponsor40D|  ContractValueBandC|        GrantCat10B|\n",
      "|                   5|RFCD260500|           34.0|SEO770199|         100.0|    13042|  CHIEF_INVESTIGATOR|         1965|   WesternEurope|         null|Dept2153| Faculty19|     Yes|                      Duration5to10|                         0|                           0|   3|   0|   1|   0|           0|  Sponsor59C|  ContractValueBandA|        GrantCat10A|\n",
      "|                   6|RFCD321204|          100.0|SEO730211|         100.0|   301472|  CHIEF_INVESTIGATOR|         1950|       Australia|         null|Dept2533| Faculty25|     Yes|                       Duration0to5|                         2|                           0|   7|  27|  27|   6|           1|   Sponsor4D|ContractValueBandUnk|        GrantCat10A|\n",
      "|                   7|RFCD270401|           20.0|     null|          null|    79742|  CHIEF_INVESTIGATOR|         1950|    GreatBritain|         null|Dept3028| Faculty31|    null|                        DurationLT0|                         0|                           0|   0|   7|  12|   4|           0|   Sponsor2B|ContractValueBandUnk|        GrantCat10A|\n",
      "|                   7|      null|           null|     null|          null|     null|EXT_CHIEF_INVESTI...|         null|            null|         null|    null|      null|    null|                        DurationUnk|                      null|                        null|null|null|null|null|           0|   Sponsor2B|ContractValueBandUnk|        GrantCat10A|\n",
      "|                   7|RFCD270203|           30.0|SEO770706|          40.0|    82602|  CHIEF_INVESTIGATOR|         1960|       Australia|         null|Dept3028| Faculty31|     Yes|                     Duration10to15|                         0|                           1|   0|   0|   0|   0|           0|   Sponsor2B|ContractValueBandUnk|        GrantCat10A|\n",
      "+--------------------+----------+---------------+---------+--------------+---------+--------------------+-------------+----------------+-------------+--------+----------+--------+-----------------------------------+--------------------------+----------------------------+----+----+----+----+------------+------------+--------------------+-------------------+\n",
      "only showing top 20 rows\n",
      "\n"
     ]
    }
   ],
   "source": [
    "data.show()"
   ]
  },
  {
   "cell_type": "markdown",
   "metadata": {},
   "source": [
    "### Plan of Attack?\n",
    "\n",
    "* Before continuing to the next lesson, think about\n",
    "  - We want to have features that are good predictors for each grant\n",
    "  - How can we create features about grants from the data about the researchers?\n",
    "  - Which values in the dataset might make good predictors?\n",
    "  \n",
    "\n",
    "### About the Authors\n",
    "\n",
    "[Petro Verkhogliad](https://www.linkedin.com/in/vpetro) is Consulting Manager at Lightbend. He holds a Masters degree in Computer Science with specialization in Intelligent Systems. He is passionate about functional programming and applications of AI."
   ]
  },
  {
   "cell_type": "code",
   "execution_count": null,
   "metadata": {},
   "outputs": [],
   "source": []
  }
 ],
 "metadata": {
  "kernelspec": {
   "display_name": "Apache Toree - Scala",
   "language": "scala",
   "name": "apache_toree_scala"
  },
  "language_info": {
   "codemirror_mode": "text/x-scala",
   "file_extension": ".scala",
   "mimetype": "text/x-scala",
   "name": "scala",
   "pygments_lexer": "scala",
   "version": "2.11.12"
  }
 },
 "nbformat": 4,
 "nbformat_minor": 4
}
