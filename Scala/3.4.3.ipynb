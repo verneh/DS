{
 "cells": [
  {
   "cell_type": "markdown",
   "metadata": {},
   "source": [
    "<a href=\"https://cocl.us/Data_Science_with_Scalla_top\"><img src = \"https://s3-api.us-geo.objectstorage.softlayer.net/cf-courses-data/CognitiveClass/SC0103EN/adds/Data_Science_with_Scalla_notebook_top.png\" width = 750, align = \"center\"></a>\n",
    " <br/>\n",
    "<a><img src=\"https://ibm.box.com/shared/static/ugcqz6ohbvff804xp84y4kqnvvk3bq1g.png\" width=\"200\" align=\"center\"></a>\"\n",
    "\n",
    "# 3.4.3 Gradient-Boosting Trees\n",
    "\n",
    "Welcome to Gradient-Boosting Trees (GBTs)\n",
    "\n",
    "After completing this set of lessons about Predicting Grant Applications, you should be able to:\n",
    "\n",
    "* Understand how to fit together the functions available in Spark's machine learning libraries to solve real problems\n",
    "* Use a spark cluster to fit models in a fraction of the time\n",
    "* Perform classification and regression with Gradient-Boosted Trees\n",
    "* Understand and use Gradient-Boosted Trees parameters\n",
    "\n",
    "## Gradient-Boosting Trees\n",
    "\n",
    "* Like Random Forests, they are ensembles of decision trees\n",
    "* Iteratively trained to minimize a loss function\n",
    "* Supports binary classification\n",
    "* Supports regression\n",
    "* Supports continuous and categorical features\n",
    "\n",
    "The Pipelines API for gradient boosted trees supports regression and binary classification it also supports continuous and categorical features.\n",
    "This is a quick description of the basic algorithm of Gradient-Boosted Trees:\n",
    "* Iteratively trains a sequence of decision trees\n",
    "* On each iteration it uses the current ensemble to make label predictions and then it compares these to true labels\n",
    "* Next it re-labels the dataset to put more emphasis on instances with poor predictions, according to a given loss function\n",
    "* With each iteration it reduces the loss function, thus correcting for previous mistakes\n",
    "* Supported loss functions:\n",
    "  * `classification`: Log Loss (twice binomial negative log likelihood)\n",
    "  * `regression`: Squared Error (L2 loss, default) and Absolute Error (L1 loss, more robust to outliers)\n",
    "\n",
    "## Gradient-Boosted Trees Parameters\n",
    "\n",
    "* `loss`: loss function (Log Loss, for classification, Squared and Absolute errors, for regression)\n",
    "* `numIterations`: number of trees in the ensemble\n",
    "   * each iteration produces one tree\n",
    "    * if it increases:\n",
    "        * model gets more expressive, improving training data accuracy\n",
    "        * test-time accuracy may suffer (if too large)\n",
    " * `learningRate`: should NOT need to be tuned\n",
    "    * if behaviour seems unstable, decreasing it may improve stability\n",
    "\n",
    "\n",
    "\n",
    "## Validation While Training\n",
    "\n",
    "* Gradient-Boosted Trees can overfit when trained with more trees\n",
    "* The method `runWithValidation` allows validation while training\n",
    "  * takes a pair of RDDs: training and validation datasets\n",
    "* Training is stopped when validation error improvement is less than the tolerance specified as `validationTol`in `BoostingStrategy`\n",
    "  * validation error decreases initially and later increases\n",
    "  * there might be cases in which the validation error does not change monotonically\n",
    "    * set a large enough negative tolerance\n",
    "    * examine validation curve using `evaluateEachIteration`, which gives the error or loss per iteration\n",
    "    * tune the number of iterations\n",
    "\n",
    "\n",
    "\n",
    "## Inputs & Outputs\n",
    "\n",
    "**TODO table screenshot**\n",
    "\n",
    "Here we have inputs and outputs. The inputs taken by Gradient-Boosted Trees in the Pipelines API are just the same as the inputs taken by Decision Trees, that is, the label and features columns. However, Gradient-Boosted Trees output only one column, the prediction itself.\n",
    "\n",
    "\n",
    "\n",
    "## Continuing From Previous Example I\n",
    "\n",
    "You need to run the following script from previous lessons to be able to run this example. If you haven't downloaded the data set from the previous lesson then there is a link in the script to download it to your temporary folder and load it."
   ]
  },
  {
   "cell_type": "code",
   "execution_count": 1,
   "metadata": {
    "attributes": {
     "classes": [
      "scala"
     ],
     "id": ""
    }
   },
   "outputs": [
    {
     "data": {
      "text/plain": [
       "spark = org.apache.spark.sql.SparkSession@2ecf36c\n"
      ]
     },
     "metadata": {},
     "output_type": "display_data",
     "source": "user"
    },
    {
     "data": {
      "text/plain": [
       "import org.apache.spark.mllib.util.MLUtils.{convertVectorColumnsFromML=>fromML, convertVectorColumnsToML=>toML}\n"
      ]
     },
     "metadata": {},
     "output_type": "display_data",
     "source": "user"
    },
    {
     "data": {
      "text/plain": [
       "org.apache.spark.sql.SparkSession@2ecf36c"
      ]
     },
     "execution_count": 1,
     "metadata": {},
     "output_type": "execute_result"
    }
   ],
   "source": [
    "import org.apache.spark.sql.SparkSession\n",
    "val spark = SparkSession.builder().getOrCreate()\n",
    "import spark.implicits._\n",
    "import org.apache.spark.sql.functions._\n",
    "\n",
    "import org.apache.spark.mllib.util.MLUtils.{\n",
    "  convertVectorColumnsFromML => fromML,\n",
    "  convertVectorColumnsToML => toML\n",
    "}"
   ]
  },
  {
   "cell_type": "code",
   "execution_count": 2,
   "metadata": {
    "attributes": {
     "classes": [
      "scala"
     ],
     "id": ""
    }
   },
   "outputs": [
    {
     "data": {
      "text/plain": [
       "data = [label: double, features: vector]\n",
       "splitData = Array([label: double, features: vector], [label: double, features: vector])\n",
       "trainingData = [label: double, features: vector]\n",
       "testData = [label: double, features: vector]\n"
      ]
     },
     "metadata": {},
     "output_type": "display_data",
     "source": "user"
    },
    {
     "data": {
      "text/plain": [
       "[label: double, features: vector]"
      ]
     },
     "execution_count": 2,
     "metadata": {},
     "output_type": "execute_result"
    }
   ],
   "source": [
    "import org.apache.spark.mllib.util.MLUtils\n",
    " \n",
    "val data = toML(MLUtils.loadLibSVMFile(sc, \"/resources/data/sample_libsvm_data.txt\").toDF())\n",
    "\n",
    "val splitData = data.randomSplit(Array(0.7, 0.3))\n",
    "val trainingData = toML(splitData(0))\n",
    "val testData = toML(splitData(1))"
   ]
  },
  {
   "cell_type": "markdown",
   "metadata": {
    "attributes": {
     "classes": [
      "scala"
     ],
     "id": ""
    }
   },
   "source": [
    "training Data"
   ]
  },
  {
   "cell_type": "code",
   "execution_count": 3,
   "metadata": {
    "attributes": {
     "classes": [
      "scala"
     ],
     "id": ""
    }
   },
   "outputs": [
    {
     "name": "stdout",
     "output_type": "stream",
     "text": [
      "showing top 5 rows\n",
      "\n",
      "+-----+--------------------+\n",
      "|label|            features|\n",
      "+-----+--------------------+\n",
      "|  0.0|(692,[95,96,97,12...|\n",
      "|  0.0|(692,[98,99,100,1...|\n",
      "|  0.0|(692,[121,122,123...|\n",
      "|  0.0|(692,[122,123,124...|\n",
      "|  0.0|(692,[123,124,125...|\n",
      "+-----+--------------------+\n",
      "only "
     ]
    }
   ],
   "source": [
    "trainingData.show(5)"
   ]
  },
  {
   "cell_type": "markdown",
   "metadata": {
    "attributes": {
     "classes": [
      "scala"
     ],
     "id": ""
    }
   },
   "source": [
    "test Data"
   ]
  },
  {
   "cell_type": "code",
   "execution_count": 4,
   "metadata": {
    "attributes": {
     "classes": [
      "scala"
     ],
     "id": ""
    }
   },
   "outputs": [
    {
     "name": "stdout",
     "output_type": "stream",
     "text": [
      "+-----+--------------------+\n",
      "|label|            features|\n",
      "+-----+--------------------+\n",
      "|  0.0|(692,[100,101,102...|\n",
      "|  0.0|(692,[122,123,148...|\n",
      "|  0.0|(692,[123,124,125...|\n",
      "|  0.0|(692,[125,126,127...|\n",
      "|  0.0|(692,[126,127,128...|\n",
      "+-----+--------------------+\n",
      "only showing top 5 rows\n",
      "\n"
     ]
    }
   ],
   "source": [
    "testData.show(5)"
   ]
  },
  {
   "cell_type": "markdown",
   "metadata": {},
   "source": [
    "## Continuing From Previous Example II\n",
    "\n",
    "In the previous lesson we also created two preprocessing estimators, and one post-processing transformer. We will use the same estimators and transformers in our Gradient-Boosting Trees Pipeline. For a GBT classifier, first create a new instance of it and set its label and features columns just like on the Random Forest course."
   ]
  },
  {
   "cell_type": "code",
   "execution_count": 5,
   "metadata": {
    "attributes": {
     "classes": [
      "scala"
     ],
     "id": ""
    }
   },
   "outputs": [
    {
     "name": "stdout",
     "output_type": "stream",
     "text": [
      "+--------------+-----+--------------------+\n",
      "|predictedLabel|label|            features|\n",
      "+--------------+-----+--------------------+\n",
      "|           0.0|  0.0|(692,[100,101,102...|\n",
      "|           0.0|  0.0|(692,[122,123,148...|\n",
      "|           0.0|  0.0|(692,[123,124,125...|\n",
      "|           0.0|  0.0|(692,[125,126,127...|\n",
      "|           0.0|  0.0|(692,[126,127,128...|\n",
      "+--------------+-----+--------------------+\n",
      "only showing top 5 rows\n",
      "\n",
      "Test Error = 0.02941176470588236\n",
      "Learned classification GBT model:\n",
      "GBTClassificationModel (uid=gbtc_b7883374bfc5) with 10 trees\n",
      "  Tree 0 (weight 1.0):\n",
      "    If (feature 434 <= 79.5)\n",
      "     Predict: 1.0\n",
      "    Else (feature 434 > 79.5)\n",
      "     Predict: -1.0\n",
      "  Tree 1 (weight 0.1):\n",
      "    If (feature 434 <= 79.5)\n",
      "     If (feature 154 <= 171.5)\n",
      "      Predict: 0.4768116880884702\n",
      "     Else (feature 154 > 171.5)\n",
      "      Predict: 0.47681168808847024\n",
      "    Else (feature 434 > 79.5)\n",
      "     Predict: -0.47681168808847013\n",
      "  Tree 2 (weight 0.1):\n",
      "    If (feature 434 <= 79.5)\n",
      "     If (feature 413 <= 11.0)\n",
      "      Predict: 0.43819358104272055\n",
      "     Else (feature 413 > 11.0)\n",
      "      Predict: 0.43819358104272066\n",
      "    Else (feature 434 > 79.5)\n",
      "     If (feature 294 <= 183.0)\n",
      "      Predict: -0.4381935810427206\n",
      "     Else (feature 294 > 183.0)\n",
      "      If (feature 295 <= 4.5)\n",
      "       Predict: -0.4381935810427206\n",
      "      Else (feature 295 > 4.5)\n",
      "       Predict: -0.43819358104272066\n",
      "  Tree 3 (weight 0.1):\n",
      "    If (feature 462 <= 63.0)\n",
      "     If (feature 244 <= 59.0)\n",
      "      If (feature 124 <= 24.0)\n",
      "       Predict: 0.4051496802845983\n",
      "      Else (feature 124 > 24.0)\n",
      "       Predict: 0.4051496802845984\n",
      "     Else (feature 244 > 59.0)\n",
      "      Predict: 0.4051496802845983\n",
      "    Else (feature 462 > 63.0)\n",
      "     Predict: -0.40514968028459825\n",
      "  Tree 4 (weight 0.1):\n",
      "    If (feature 490 <= 43.0)\n",
      "     If (feature 125 <= 0.5)\n",
      "      If (feature 207 <= 2.0)\n",
      "       Predict: 0.3765841318352991\n",
      "      Else (feature 207 > 2.0)\n",
      "       Predict: 0.37658413183529926\n",
      "     Else (feature 125 > 0.5)\n",
      "      Predict: 0.3765841318352994\n",
      "    Else (feature 490 > 43.0)\n",
      "     Predict: -0.3765841318352992\n",
      "  Tree 5 (weight 0.1):\n",
      "    If (feature 490 <= 43.0)\n",
      "     If (feature 215 <= 118.0)\n",
      "      Predict: 0.35166478958101005\n",
      "     Else (feature 215 > 118.0)\n",
      "      Predict: 0.3516647895810101\n",
      "    Else (feature 490 > 43.0)\n",
      "     If (feature 545 <= 89.5)\n",
      "      If (feature 350 <= 217.0)\n",
      "       Predict: -0.35166478958101005\n",
      "      Else (feature 350 > 217.0)\n",
      "       If (feature 350 <= 230.5)\n",
      "        Predict: -0.35166478958101005\n",
      "       Else (feature 350 > 230.5)\n",
      "        Predict: -0.3516647895810101\n",
      "     Else (feature 545 > 89.5)\n",
      "      Predict: -0.35166478958101005\n",
      "  Tree 6 (weight 0.1):\n",
      "    If (feature 434 <= 79.5)\n",
      "     If (feature 158 <= 1.5)\n",
      "      Predict: 0.32974984655529926\n",
      "     Else (feature 158 > 1.5)\n",
      "      Predict: 0.3297498465552993\n",
      "    Else (feature 434 > 79.5)\n",
      "     If (feature 601 <= 4.0)\n",
      "      Predict: -0.32974984655529926\n",
      "     Else (feature 601 > 4.0)\n",
      "      Predict: -0.3297498465552993\n",
      "  Tree 7 (weight 0.1):\n",
      "    If (feature 434 <= 79.5)\n",
      "     If (feature 183 <= 163.0)\n",
      "      Predict: 0.3103372455197956\n",
      "     Else (feature 183 > 163.0)\n",
      "      Predict: 0.3103372455197957\n",
      "    Else (feature 434 > 79.5)\n",
      "     If (feature 350 <= 230.5)\n",
      "      If (feature 241 <= 238.5)\n",
      "       Predict: -0.3103372455197956\n",
      "      Else (feature 241 > 238.5)\n",
      "       Predict: -0.3103372455197957\n",
      "     Else (feature 350 > 230.5)\n",
      "      Predict: -0.31033724551979575\n",
      "  Tree 8 (weight 0.1):\n",
      "    If (feature 462 <= 63.0)\n",
      "     If (feature 183 <= 177.0)\n",
      "      Predict: 0.2930291649125433\n",
      "     Else (feature 183 > 177.0)\n",
      "      Predict: 0.2930291649125434\n",
      "    Else (feature 462 > 63.0)\n",
      "     If (feature 406 <= 229.5)\n",
      "      Predict: -0.2930291649125433\n",
      "     Else (feature 406 > 229.5)\n",
      "      Predict: -0.2930291649125434\n",
      "  Tree 9 (weight 0.1):\n",
      "    If (feature 462 <= 63.0)\n",
      "     If (feature 413 <= 155.0)\n",
      "      Predict: 0.2775066643835825\n",
      "     Else (feature 413 > 155.0)\n",
      "      Predict: 0.27750666438358257\n",
      "    Else (feature 462 > 63.0)\n",
      "     If (feature 545 <= 72.0)\n",
      "      If (feature 321 <= 4.5)\n",
      "       Predict: -0.27750666438358246\n",
      "      Else (feature 321 > 4.5)\n",
      "       Predict: -0.2775066643835825\n",
      "     Else (feature 545 > 72.0)\n",
      "      Predict: -0.27750666438358257\n",
      "\n"
     ]
    },
    {
     "data": {
      "text/plain": [
       "labelIndexer = strIdx_bf6943fb43e5\n",
       "featureIndexer = vecIdx_ebba42023628\n",
       "labelConverter = idxToStr_1751243c1038\n",
       "gbt = gbtc_b7883374bfc5\n",
       "pipeline = pipeline_9f1d8807bb92\n"
      ]
     },
     "metadata": {},
     "output_type": "display_data",
     "source": "user"
    },
    {
     "data": {
      "text/plain": [
       "import org.apache.spark.mllib.util.MLUtils.{convertVectorColumnsFromML=>fromML, convertVectorColumnsToML=>toML}\n",
       "model: org.apache.spark.ml....\n"
      ]
     },
     "metadata": {},
     "output_type": "display_data",
     "source": "user"
    },
    {
     "data": {
      "text/plain": [
       "pipeline_9f1d8807bb92"
      ]
     },
     "execution_count": 5,
     "metadata": {},
     "output_type": "execute_result"
    }
   ],
   "source": [
    "import org.apache.spark.ml.Pipeline\n",
    "import org.apache.spark.ml.classification.{GBTClassificationModel, GBTClassifier}\n",
    "import org.apache.spark.ml.feature.{StringIndexer, IndexToString, VectorIndexer}\n",
    "import org.apache.spark.ml.evaluation.MulticlassClassificationEvaluator\n",
    "\n",
    "\n",
    "import org.apache.spark.mllib.util.MLUtils.{\n",
    "  convertVectorColumnsFromML => fromML,\n",
    "  convertVectorColumnsToML => toML\n",
    "}\n",
    "\n",
    "val labelIndexer = new StringIndexer()\n",
    "  .setInputCol(\"label\")\n",
    "  .setOutputCol(\"indexedLabel\")\n",
    "  .fit(data)\n",
    "\n",
    "val featureIndexer = new VectorIndexer()\n",
    "  .setInputCol(\"features\")\n",
    "  .setOutputCol(\"indexedFeatures\")\n",
    "  .setMaxCategories(4)\n",
    "  .fit(data)\n",
    "\n",
    "val labelConverter = new IndexToString()\n",
    "  .setInputCol(\"prediction\")\n",
    "  .setOutputCol(\"predictedLabel\")\n",
    "  .setLabels(labelIndexer.labels)\n",
    "  \n",
    "val gbt = new GBTClassifier()\n",
    "  .setLabelCol(\"indexedLabel\")\n",
    "  .setFeaturesCol(\"indexedFeatures\")\n",
    "  .setMaxIter(10)\n",
    "\n",
    "val pipeline = new Pipeline()\n",
    "  .setStages(Array(labelIndexer, featureIndexer, gbt, labelConverter))\n",
    "\n",
    "// Train model. This also runs the indexers.\n",
    "val model = pipeline.fit(trainingData)\n",
    "\n",
    "// Make predictions.\n",
    "val predictions = model.transform(testData)\n",
    "\n",
    "// Select example rows to display.\n",
    "predictions.select(\"predictedLabel\", \"label\", \"features\").show(5)\n",
    "\n",
    "// Select (prediction, true label) and compute test error.\n",
    "val evaluator = new MulticlassClassificationEvaluator()\n",
    "  .setLabelCol(\"indexedLabel\")\n",
    "  .setPredictionCol(\"prediction\")\n",
    "  .setMetricName(\"accuracy\")\n",
    "val accuracy = evaluator.evaluate(predictions)\n",
    "println(\"Test Error = \" + (1.0 - accuracy))\n",
    "\n",
    "val gbtModel = model.stages(2).asInstanceOf[GBTClassificationModel]\n",
    "println(\"Learned classification GBT model:\\n\" + gbtModel.toDebugString)"
   ]
  },
  {
   "cell_type": "markdown",
   "metadata": {},
   "source": [
    "## RBT Regression\n",
    "\n",
    "Having completed an example of classification with Gradient-Boosted Trees, it is time for an example of regression. Once again, I will build upon previous regression examples. The Pipelines for regression had only two stages, and I replace the second one with my current `regressor`, a `GBTRegressor`.\n",
    "\n",
    "We use the same data already split into a training and test. Everything else is the same as before, calling the `fit` method to get a model and calling the `transform` method to make predictions:"
   ]
  },
  {
   "cell_type": "code",
   "execution_count": 6,
   "metadata": {
    "attributes": {
     "classes": [
      "scala"
     ],
     "id": ""
    }
   },
   "outputs": [
    {
     "data": {
      "text/plain": [
       "gbtR = gbtr_3d11f1f18572\n",
       "pipelineGBTR = pipeline_aec248e205a1\n",
       "modelGBTR = pipeline_aec248e205a1\n"
      ]
     },
     "metadata": {},
     "output_type": "display_data",
     "source": "user"
    },
    {
     "data": {
      "text/plain": [
       "pipeline_aec248e205a1"
      ]
     },
     "execution_count": 6,
     "metadata": {},
     "output_type": "execute_result"
    }
   ],
   "source": [
    "import org.apache.spark.ml.regression.GBTRegressor\n",
    "import org.apache.spark.ml.regression.GBTRegressionModel\n",
    "\n",
    "val gbtR = new GBTRegressor().setLabelCol(\"label\").setFeaturesCol(\"indexedFeatures\").setMaxIter(10)\n",
    "\n",
    "val pipelineGBTR = new Pipeline().setStages(Array(featureIndexer, gbtR))\n",
    "\n",
    "val modelGBTR = pipelineGBTR.fit(trainingData)"
   ]
  },
  {
   "cell_type": "markdown",
   "metadata": {},
   "source": [
    "The predictions and then returned in the `predictionsGBTR` `DataFrame`:"
   ]
  },
  {
   "cell_type": "code",
   "execution_count": 7,
   "metadata": {
    "attributes": {
     "classes": [
      "scala"
     ],
     "id": ""
    }
   },
   "outputs": [
    {
     "name": "stdout",
     "output_type": "stream",
     "text": [
      "+-----+--------------------+--------------------+----------+\n",
      "|label|            features|     indexedFeatures|prediction|\n",
      "+-----+--------------------+--------------------+----------+\n",
      "|  0.0|(692,[100,101,102...|(692,[100,101,102...|       0.0|\n",
      "|  0.0|(692,[122,123,148...|(692,[122,123,148...|       0.0|\n",
      "|  0.0|(692,[123,124,125...|(692,[123,124,125...|       0.0|\n",
      "|  0.0|(692,[125,126,127...|(692,[125,126,127...|       0.0|\n",
      "|  0.0|(692,[126,127,128...|(692,[126,127,128...|       0.0|\n",
      "|  0.0|(692,[126,127,128...|(692,[126,127,128...|       0.0|\n",
      "|  0.0|(692,[126,127,128...|(692,[126,127,128...|       0.0|\n",
      "|  0.0|(692,[150,151,152...|(692,[150,151,152...|       0.0|\n",
      "|  0.0|(692,[151,152,153...|(692,[151,152,153...|       0.0|\n",
      "|  0.0|(692,[152,153,154...|(692,[152,153,154...|       0.0|\n",
      "|  0.0|(692,[153,154,155...|(692,[153,154,155...|       0.0|\n",
      "|  0.0|(692,[154,155,156...|(692,[154,155,156...|       0.0|\n",
      "|  0.0|(692,[154,155,156...|(692,[154,155,156...|       0.0|\n",
      "|  0.0|(692,[234,235,237...|(692,[234,235,237...|       0.0|\n",
      "|  1.0|(692,[97,98,99,12...|(692,[97,98,99,12...|       1.0|\n",
      "|  1.0|(692,[99,100,101,...|(692,[99,100,101,...|       0.0|\n",
      "|  1.0|(692,[124,125,126...|(692,[124,125,126...|       1.0|\n",
      "|  1.0|(692,[126,127,128...|(692,[126,127,128...|       1.0|\n",
      "|  1.0|(692,[126,127,128...|(692,[126,127,128...|       1.0|\n",
      "|  1.0|(692,[127,128,129...|(692,[127,128,129...|       1.0|\n",
      "+-----+--------------------+--------------------+----------+\n",
      "only showing top 20 rows\n",
      "\n"
     ]
    },
    {
     "data": {
      "text/plain": [
       "predictionsGBTR = [label: double, features: vector ... 2 more fields]\n"
      ]
     },
     "metadata": {},
     "output_type": "display_data",
     "source": "user"
    },
    {
     "data": {
      "text/plain": [
       "[label: double, features: vector ... 2 more fields]"
      ]
     },
     "execution_count": 7,
     "metadata": {},
     "output_type": "execute_result"
    }
   ],
   "source": [
    "val predictionsGBTR = modelGBTR.transform(testData)\n",
    "predictionsGBTR.show()"
   ]
  },
  {
   "cell_type": "markdown",
   "metadata": {},
   "source": [
    "As you can see, the Pipelines API makes it very easy to manage the workflow and replace and/or extend models as you go.\n",
    "\n",
    "\n",
    "## Random Forests vs GBTs\n",
    "\n",
    "Finally, let's compare both ensemble algorithms, Random Forests and Gradient-Boosted Trees. As the number of trees increase, Random Forests reduce the variance and the likelihood of overfitting, improving the performance monotonically. Gradient-Boosted Trees, on the other hand, reduce the bias, but increase the likelihood of overfitting, so the performance can actually decrease if the number of trees grows too large.\n",
    "\n",
    "Other important differences are that Random Forests are highly parallelizable, each tree being trained independently from each other, while Gradient-Boosted Trees are trained one at a time. The algorithms also differ in the usual depth of its trees, while Random Forests usually grow deeper trees, since it can benefit from a large number of trees to\n",
    "compensate for overfitting, Gradient-Boosted Trees are usually grown shallower.\n",
    "\n",
    "* Number of trees\n",
    "  * **RFs**: more trees reduce variance and the likelihood of overfitting; improves performance monotonically\n",
    "  * **GBTs**: more trees reduce bias, but increase the likelihood of overfitting and performance can start to decrease if the number of trees grows too large\n",
    "* Parallelization\n",
    "  * **RFs**: can train multiple trees in parallel\n",
    "  * **GBTs**: train one tree at a time\n",
    "* Depth of trees\n",
    "  * **RFs**: deeper trees\n",
    "  * **GBTs**: shallower trees\n",
    "\n",
    "## Lesson Summary\n",
    "\n",
    "Having completed this lesson, you should now be able to:\n",
    "\n",
    "* Understand the Pipelines API for Random Forests and Gradient-Boosted Trees\n",
    "* Describe default Input and Output columns\n",
    "* Perform classification and regression with RFs and GBTs\n",
    "* Understand and use RFs and GBTs parameters\n",
    "* Outline the differences between RFs and GBTs regarding its parameters\n",
    "\n",
    "### About the Authors\n",
    "\n",
    "[Petro Verkhogliad](https://www.linkedin.com/in/vpetro) is Consulting Manager at Lightbend. He holds a Masters degree in Computer Science with specialization in Intelligent Systems. He is passionate about functional programming and applications of AI."
   ]
  },
  {
   "cell_type": "code",
   "execution_count": null,
   "metadata": {},
   "outputs": [],
   "source": []
  }
 ],
 "metadata": {
  "kernelspec": {
   "display_name": "Apache Toree - Scala",
   "language": "scala",
   "name": "apache_toree_scala"
  },
  "language_info": {
   "codemirror_mode": "text/x-scala",
   "file_extension": ".scala",
   "mimetype": "text/x-scala",
   "name": "scala",
   "pygments_lexer": "scala",
   "version": "2.11.12"
  }
 },
 "nbformat": 4,
 "nbformat_minor": 4
}
