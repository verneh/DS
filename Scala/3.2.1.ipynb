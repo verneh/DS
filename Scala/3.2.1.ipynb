{
 "cells": [
  {
   "cell_type": "markdown",
   "metadata": {},
   "source": [
    "<a href=\"https://cocl.us/Data_Science_with_Scalla_top\"><img src = \"https://s3-api.us-geo.objectstorage.softlayer.net/cf-courses-data/CognitiveClass/SC0103EN/adds/Data_Science_with_Scalla_notebook_top.png\" width = 750, align = \"center\"></a>\n",
    " <br/>\n",
    "<a><img src=\"https://ibm.box.com/shared/static/ugcqz6ohbvff804xp84y4kqnvvk3bq1g.png\" width=\"200\" align=\"center\"></a>\"\n",
    "\n",
    "# Module 2: Preparing Data\n",
    "\n",
    "## Statistics, Random data and Sampling on Data Frames\n",
    "\n",
    "### Lesson Objectives \n",
    "\n",
    "After completing this lesson, you should be able to: \n",
    "\n",
    "- Compute column summary statistics\n",
    "-\tCompute pairwise statistics between series/columns\n",
    "-\tPerform standard sampling on any `DataFrame` \n",
    "-\tSplit any `DataFrame` randomly into subsets\n",
    "-\tPerform stratified sampling onto `DataFrames`\n",
    "-\tGenerate Random Data from Uniform and Normal Distributions \n",
    "\n",
    "\n",
    "## Summary Statistics for DataFrames \n",
    "\n",
    "-\tColumn summary statistics for DataFrames are available through DataFrame's `describe()` method\n",
    "-\tIt returns another `DataFrame`, which contains column-wise results for: \n",
    "-\t`min`, `max`\n",
    "-\t`mean`, `stddev`\n",
    "-\t`count`\n",
    "- Column summary statistics can also be computed through DataFrame's `groupBy()` and `agg()` methods, but stddev is not supported\n",
    "-\tIt also returns another `DataFrame` with the results"
   ]
  },
  {
   "cell_type": "code",
   "execution_count": 1,
   "metadata": {
    "attributes": {
     "classes": [
      "scala"
     ],
     "id": ""
    }
   },
   "outputs": [
    {
     "data": {
      "text/plain": [
       "spark = org.apache.spark.sql.SparkSession@613721a7\n"
      ]
     },
     "metadata": {},
     "output_type": "display_data",
     "source": "user"
    },
    {
     "data": {
      "text/plain": [
       "org.apache.spark.sql.SparkSession@613721a7"
      ]
     },
     "execution_count": 1,
     "metadata": {},
     "output_type": "execute_result"
    }
   ],
   "source": [
    "import org.apache.spark.sql.SparkSession\n",
    "val spark = SparkSession.builder().getOrCreate()\n",
    "import spark.implicits._"
   ]
  },
  {
   "cell_type": "code",
   "execution_count": 2,
   "metadata": {
    "attributes": {
     "classes": [
      "scala"
     ],
     "id": ""
    }
   },
   "outputs": [
    {
     "name": "stdout",
     "output_type": "stream",
     "text": [
      "+------+------+------+\n",
      "|  desc|value1|value2|\n",
      "+------+------+------+\n",
      "| first|     1|   3.7|\n",
      "|second|    -2|   2.1|\n",
      "| third|     6|   0.7|\n",
      "+------+------+------+\n",
      "\n",
      "+-------+-----+------------------+------------------+\n",
      "|summary| desc|            value1|            value2|\n",
      "+-------+-----+------------------+------------------+\n",
      "|  count|    3|                 3|                 3|\n",
      "|   mean| null|1.6666666666666667| 2.166666666666667|\n",
      "| stddev| null| 4.041451884327381|1.5011106998930273|\n",
      "|    min|first|                -2|               0.7|\n",
      "|    max|third|                 6|               3.7|\n",
      "+-------+-----+------------------+------------------+\n",
      "\n"
     ]
    },
    {
     "data": {
      "text/plain": [
       "defined class Record\n",
       "records = Array(Record(first,1,3.7), Record(second,-2,2.1), Record(third,6,0.7))\n",
       "recRDD = ParallelCollectionRDD[0] at parallelize at <console>:21\n",
       "recDF = [desc: string, value1: int ... 1 more field]\n",
       "recStats = [summary: string, desc: string ... 2 more fields]\n"
      ]
     },
     "metadata": {},
     "output_type": "display_data",
     "source": "user"
    },
    {
     "data": {
      "text/plain": [
       "[summary: string, desc: string ... 2 more fields]"
      ]
     },
     "execution_count": 2,
     "metadata": {},
     "output_type": "execute_result"
    }
   ],
   "source": [
    "case class Record(desc: String, value1: Int, value2: Double)\n",
    "\n",
    "val records = Array(Record(\"first\",1,3.7), Record(\"second\",-2,2.1), Record(\"third\",6,0.7))\n",
    "\n",
    "val recRDD = sc.parallelize(records)\n",
    "val recDF = spark.createDataFrame(recRDD)\n",
    "recDF.show()\n",
    "\n",
    "val recStats = recDF.describe()\n",
    "recStats.show()"
   ]
  },
  {
   "cell_type": "code",
   "execution_count": 3,
   "metadata": {
    "attributes": {
     "classes": [
      "scala"
     ],
     "id": ""
    }
   },
   "outputs": [
    {
     "name": "stdout",
     "output_type": "stream",
     "text": [
      "[D@70d002c3\n",
      "[D@4b021f82\n"
     ]
    },
    {
     "data": {
      "text/plain": [
       "ar1 = Array(4.041451884327381, 1.5011106998930273)\n",
       "ar2 = Array(3.0, 1.6666666666666667, 4.041451884327381, -2.0, 6.0)\n"
      ]
     },
     "metadata": {},
     "output_type": "display_data",
     "source": "user"
    },
    {
     "data": {
      "text/plain": [
       "Array(3.0, 1.6666666666666667, 4.041451884327381, -2.0, 6.0)"
      ]
     },
     "execution_count": 3,
     "metadata": {},
     "output_type": "execute_result"
    }
   ],
   "source": [
    "// Fetching Results from DataFrame\n",
    "\n",
    "recStats.filter($\"summary\" === \"stddev\").first()\n",
    "  \n",
    "val ar1 = recStats.filter($\"summary\" === \"stddev\").first().toSeq.drop(2).map(_.toString.toDouble).toArray\n",
    "println(ar1)\n",
    " \n",
    "val ar2 = recStats.select(\"value1\").map(s => s(0).toString.toDouble).collect()\n",
    "println(ar2)"
   ]
  },
  {
   "cell_type": "code",
   "execution_count": null,
   "metadata": {
    "attributes": {
     "classes": [
      "scala"
     ],
     "id": ""
    }
   },
   "outputs": [],
   "source": [
    "recDF.groupBy().agg(Map(\"value1\" -> \"min\", \"value1\" -> \"max\" ))\n",
    " \n",
    "recDF.groupBy().agg(Map(\"value1\" -> \"min\", \"value2\" -> \"min\"))"
   ]
  },
  {
   "cell_type": "code",
   "execution_count": 4,
   "metadata": {
    "attributes": {
     "classes": [
      "scala"
     ],
     "id": ""
    }
   },
   "outputs": [
    {
     "data": {
      "text/plain": [
       "recStatsGroup = [min(value1): int, min(value2): double]\n"
      ]
     },
     "metadata": {},
     "output_type": "display_data",
     "source": "user"
    },
    {
     "data": {
      "text/plain": [
       "Array(-2.0, 0.7)"
      ]
     },
     "execution_count": 4,
     "metadata": {},
     "output_type": "execute_result"
    }
   ],
   "source": [
    "import org.apache.spark.sql.functions._\n",
    "\n",
    "val recStatsGroup = recDF.groupBy().agg(min(\"value1\"), min(\"value2\"))\n",
    "\n",
    "recStatsGroup.columns\n",
    " \n",
    "recStatsGroup.first().toSeq.toArray.map(_.toString.toDouble)\n"
   ]
  },
  {
   "cell_type": "markdown",
   "metadata": {},
   "source": [
    "## More Statistics on DataFrames \n",
    "\n",
    "-\tMore statistics are available through the stats method in a DataFrame \n",
    "-\tIt returns a `DataFrameStatsFunctions` object, which has the following methods:\n",
    "-\t`corr()` - computes Pearson correlation between two columns\n",
    "-\t`cov()` - computes sample covariance between two columns\n",
    "- `crosstab()` - Computes a pair-wise frequency table of the given columns \n",
    "- `freqItems()` - finds frequent items for columns, possibly with false positives"
   ]
  },
  {
   "cell_type": "code",
   "execution_count": 5,
   "metadata": {
    "attributes": {
     "classes": [
      "scala"
     ],
     "id": ""
    }
   },
   "outputs": [
    {
     "name": "stdout",
     "output_type": "stream",
     "text": [
      "(correlation value1 and value2,-0.5879120879120879)\n",
      "(correlation value1 and value2,-3.5666666666666673)\n",
      "+----------------+\n",
      "|value1_freqItems|\n",
      "+----------------+\n",
      "|      [-2, 1, 6]|\n",
      "+----------------+\n",
      "\n"
     ]
    },
    {
     "data": {
      "text/plain": [
       "recDFStat = org.apache.spark.sql.DataFrameStatFunctions@50753c30\n"
      ]
     },
     "metadata": {},
     "output_type": "display_data",
     "source": "user"
    },
    {
     "data": {
      "text/plain": [
       "org.apache.spark.sql.DataFrameStatFunctions@50753c30"
      ]
     },
     "execution_count": 5,
     "metadata": {},
     "output_type": "execute_result"
    }
   ],
   "source": [
    "val  recDFStat = recDF.stat\n",
    "\n",
    "println(\"correlation value1 and value2\",recDFStat.corr(\"value1\", \"value2\"))\n",
    "println(\"correlation value1 and value2\",recDFStat.cov(\"value1\", \"value2\"))\n",
    "recDFStat.freqItems(Seq(\"value1\"), 0.3) .show()"
   ]
  },
  {
   "cell_type": "markdown",
   "metadata": {},
   "source": [
    "## Sampling on DataFrames \n",
    "\n",
    "-\tCan be performed on any `DataFrame`\n",
    "-\tReturns a sampled subset of a `DataFrame`\n",
    "-\tSampling with or without replacement\n",
    "- Fraction: expected fraction of rows to generate\n",
    "-\tCan be used on bootstrapping procedures"
   ]
  },
  {
   "cell_type": "code",
   "execution_count": 6,
   "metadata": {
    "attributes": {
     "classes": [
      "scala"
     ],
     "id": ""
    }
   },
   "outputs": [
    {
     "name": "stdout",
     "output_type": "stream",
     "text": [
      "+---+-----+\n",
      "|key|value|\n",
      "+---+-----+\n",
      "|  1|   10|\n",
      "|  1|   20|\n",
      "|  2|   10|\n",
      "|  2|   20|\n",
      "|  2|   30|\n",
      "|  3|   20|\n",
      "|  3|   30|\n",
      "+---+-----+\n",
      "\n",
      "+---+-----+\n",
      "|key|value|\n",
      "+---+-----+\n",
      "|  1|   10|\n",
      "|  1|   20|\n",
      "|  3|   20|\n",
      "|  3|   30|\n",
      "+---+-----+\n",
      "\n"
     ]
    },
    {
     "data": {
      "text/plain": [
       "df = [key: int, value: int]\n",
       "dfSampled = [key: int, value: int]\n"
      ]
     },
     "metadata": {},
     "output_type": "display_data",
     "source": "user"
    },
    {
     "data": {
      "text/plain": [
       "[key: int, value: int]"
      ]
     },
     "execution_count": 6,
     "metadata": {},
     "output_type": "execute_result"
    }
   ],
   "source": [
    "\n",
    "val df = spark.createDataFrame(Seq((1, 10), (1, 20), (2, 10), (2, 20), (2, 30), (3, 20), (3, 30))).toDF(\"key\", \"value\")\n",
    "df.show()\n",
    "val dfSampled = df.sample(withReplacement=false, fraction=0.3, seed=11L)\n",
    "dfSampled.show()"
   ]
  },
  {
   "cell_type": "markdown",
   "metadata": {},
   "source": [
    "## Random Split on DataFrames\n",
    "\n",
    "-\tCan be performed on any DataFrame\n",
    "-\tReturns an array of DataFrames\n",
    "-\tWeighs for the split will be normalized if the do not add up to 1\n",
    "-\tUseful for splitting a data set into training, test and validation sets"
   ]
  },
  {
   "cell_type": "code",
   "execution_count": 7,
   "metadata": {
    "attributes": {
     "classes": [
      "scala"
     ],
     "id": ""
    }
   },
   "outputs": [
    {
     "name": "stdout",
     "output_type": "stream",
     "text": [
      "+---+-----+\n",
      "|key|value|\n",
      "+---+-----+\n",
      "|  1|   10|\n",
      "|  1|   20|\n",
      "|  3|   20|\n",
      "|  3|   30|\n",
      "+---+-----+\n",
      "\n",
      "+---+-----+\n",
      "|key|value|\n",
      "+---+-----+\n",
      "|  2|   10|\n",
      "|  2|   20|\n",
      "|  2|   30|\n",
      "+---+-----+\n",
      "\n"
     ]
    },
    {
     "data": {
      "text/plain": [
       "dfSplit = Array([key: int, value: int], [key: int, value: int])\n"
      ]
     },
     "metadata": {},
     "output_type": "display_data",
     "source": "user"
    },
    {
     "data": {
      "text/plain": [
       "Array([key: int, value: int], [key: int, value: int])"
      ]
     },
     "execution_count": 7,
     "metadata": {},
     "output_type": "execute_result"
    }
   ],
   "source": [
    "val dfSplit = df.randomSplit(weights=Array(0.3, 0.7), seed=11L) \n",
    "\n",
    "dfSplit(0).show()\n",
    "dfSplit(1).show()"
   ]
  },
  {
   "cell_type": "markdown",
   "metadata": {},
   "source": [
    "## Stratified Sampling on DataFrames \n",
    "\n",
    "-\tCan be performed on any `DataFrame` \n",
    "- Any column may work as key\n",
    "-\tWithout replacement\n",
    "-\tFraction: specified by key\n",
    "-\tAvailable as `sampleBy` function in `DataFrameStatFunctions`"
   ]
  },
  {
   "cell_type": "code",
   "execution_count": 8,
   "metadata": {
    "attributes": {
     "classes": [
      "scala"
     ],
     "id": ""
    }
   },
   "outputs": [
    {
     "name": "stdout",
     "output_type": "stream",
     "text": [
      "+---+-----+\n",
      "|key|value|\n",
      "+---+-----+\n",
      "|  1|   10|\n",
      "|  2|   10|\n",
      "|  2|   20|\n",
      "|  3|   30|\n",
      "+---+-----+\n",
      "\n"
     ]
    }
   ],
   "source": [
    "df.stat.\n",
    "    sampleBy(col=\"key\",\n",
    "    fractions=Map(1 -> 0.7, 2 -> 0.7, 3 -> 0.7),\n",
    "    seed=11L).show()"
   ]
  },
  {
   "cell_type": "markdown",
   "metadata": {},
   "source": [
    "## Random Data Generation \n",
    "\n",
    "-\tSQL functions to generate columns filled with random values \n",
    "-\tTwo supported distributions: uniform and normal\n",
    "-\tUseful for randomized algorithms, prototyping and performance testing"
   ]
  },
  {
   "cell_type": "code",
   "execution_count": 9,
   "metadata": {
    "attributes": {
     "classes": [
      "scala"
     ],
     "id": ""
    }
   },
   "outputs": [
    {
     "name": "stdout",
     "output_type": "stream",
     "text": [
      "+---+-------------------+--------------------+\n",
      "| id|            uniform|              normal|\n",
      "+---+-------------------+--------------------+\n",
      "|  0|0.41371264720975787| -0.5877482396744728|\n",
      "|  1| 0.7311719281896606|  1.5746327759749246|\n",
      "|  2| 0.9031701155118229|  -2.087434531229601|\n",
      "|  3|0.09430205113458567|  1.0191385374853092|\n",
      "|  4|0.38340505276222947|-0.01130602009482...|\n",
      "|  5| 0.5569246135523511| -1.4651299919940128|\n",
      "|  6| 0.4977441406613893| -1.1978785320746455|\n",
      "|  7| 0.2076666106201438|  1.2609253944513816|\n",
      "|  8| 0.9571919406508957|   0.851458707097714|\n",
      "|  9| 0.7429395461204413|  1.3459954052313476|\n",
      "+---+-------------------+--------------------+\n",
      "\n"
     ]
    },
    {
     "data": {
      "text/plain": [
       "df = [id: bigint]\n"
      ]
     },
     "metadata": {},
     "output_type": "display_data",
     "source": "user"
    },
    {
     "data": {
      "text/plain": [
       "[id: bigint]"
      ]
     },
     "execution_count": 9,
     "metadata": {},
     "output_type": "execute_result"
    }
   ],
   "source": [
    "\n",
    "import  org.apache.spark.sql.functions.{rand, randn}\n",
    "\n",
    "val df = spark.range(0, 10)\n",
    "\n",
    "df.select(\"id\").withColumn(\"uniform\", rand(10L)).\n",
    "    withColumn(\"normal\", randn(10L)).show()"
   ]
  },
  {
   "cell_type": "markdown",
   "metadata": {},
   "source": [
    "## Lesson Summary\n",
    "\n",
    "-\tHaving completed this lesson, you should be able to:\n",
    "- Compute column summary statistics \n",
    "-\tCompute pairwise statistics between series/columns\n",
    "-\tPerform standard sampling on any `DataFrame` \n",
    "-\tSplit any `DataFrame` randomly into subsets \n",
    "-\tPerform stratified sampling on `DataFrames`\n",
    "-\tGenerate Random Data from Uniform and Normal Distributions\n",
    "\n",
    "### About the Authors\n",
    "\n",
    "[Petro Verkhogliad](https://www.linkedin.com/in/vpetro) is Consulting Manager at Lightbend. He holds a Masters degree in Computer Science with specialization in Intelligent Systems. He is passionate about functional programming and applications of AI."
   ]
  }
 ],
 "metadata": {
  "kernelspec": {
   "display_name": "Apache Toree - Scala",
   "language": "scala",
   "name": "apache_toree_scala"
  },
  "language_info": {
   "codemirror_mode": "text/x-scala",
   "file_extension": ".scala",
   "mimetype": "text/x-scala",
   "name": "scala",
   "pygments_lexer": "scala",
   "version": "2.11.12"
  }
 },
 "nbformat": 4,
 "nbformat_minor": 4
}
