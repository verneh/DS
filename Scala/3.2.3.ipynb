{
 "cells": [
  {
   "cell_type": "markdown",
   "metadata": {},
   "source": [
    "<a href=\"https://cocl.us/Data_Science_with_Scalla_top\"><img src = \"https://s3-api.us-geo.objectstorage.softlayer.net/cf-courses-data/CognitiveClass/SC0103EN/adds/Data_Science_with_Scalla_notebook_top.png\" width = 750, align = \"center\"></a>\n",
    " <br/>\n",
    "<a><img src=\"https://ibm.box.com/shared/static/ugcqz6ohbvff804xp84y4kqnvvk3bq1g.png\" width=\"200\" align=\"center\"></a>\"\n",
    "\n",
    "# Module 2: Preparing Data - Transformers and Estimators\n",
    "\n",
    "## Transformers and Estimators \n",
    "\n",
    "### Lesson Objectives \n",
    "\n",
    "After completing this lesson, you should be able to: \n",
    "\n",
    "-\tUnderstand, create, and use a `Transformer`\n",
    "-\tUnderstand, create and use an `Estimator` \n",
    "-\tSet parameters of `Transformers` and `Estimators`\n",
    "-\tCreate a feature `Vector` with `VectorAssembler`\n",
    "\n",
    "## Transformers\n",
    "\n",
    "-\tAlgorithm which can transform one `DataFrame` into another `DataFrame`\n",
    "-\tAbstraction that includes feature transformers and learned models. \n",
    "-\tImplements a method `transform(),` which converts one `DataFrame` into another, generally by appending one or more columns\n",
    "-\tInput and output columns set with `setInputCol` and `setOutputCol` methods \n",
    "-\tExamples:\n",
    "  -\tread one or more columns and map them into a new column of feature vectors\n",
    "  -\tread a column containing feature vectors and make a prediction for each vector"
   ]
  },
  {
   "cell_type": "code",
   "execution_count": 1,
   "metadata": {
    "attributes": {
     "classes": [
      "scala"
     ],
     "id": ""
    }
   },
   "outputs": [],
   "source": [
    "import org.apache.spark.mllib.util.MLUtils"
   ]
  },
  {
   "cell_type": "code",
   "execution_count": 2,
   "metadata": {
    "attributes": {
     "classes": [
      "scala"
     ],
     "id": ""
    }
   },
   "outputs": [
    {
     "name": "stdout",
     "output_type": "stream",
     "text": [
      "+--------------------+\n",
      "|    0|Hi I heard about ...|[hi, i, heard, ab...|\n",
      "|    1|I wish Java could...|[i, wish, java, c...|\n",
      "|    2|Logistic, regress...|[logistic,, regre...|\n",
      "+-----+--------------------+--------------------+\n",
      "\n",
      "+-----+--------------------+--------------------+\n",
      "|label|            sentence|               words|\n",
      "+-----+--------------------"
     ]
    },
    {
     "data": {
      "text/plain": [
       "data = List((0,Hi I heard about Spark), (1,I wish Java could use case classes), (2,Logistic, regression, models,are,neat))\n",
       "sentenceDataFrame = [label: int, sentence: string]\n",
       "tokenizer = tok_cbb0dc52c9cb\n",
       "tokenized = [label: int, sentence: string ... 1 more field]\n"
      ]
     },
     "metadata": {},
     "output_type": "display_data",
     "source": "user"
    },
    {
     "data": {
      "text/plain": [
       "[label: int, sentence: string ... 1 more field]"
      ]
     },
     "execution_count": 2,
     "metadata": {},
     "output_type": "execute_result"
    }
   ],
   "source": [
    "import  org.apache.spark.ml.feature.{Tokenizer, RegexTokenizer}\n",
    "\n",
    "\n",
    "val data = Seq((0, \"Hi I heard about Spark\"), \n",
    " (1, \"I wish Java could use case classes\"), \n",
    " (2, \"Logistic, regression, models,are,neat\"))\n",
    " \n",
    "val  sentenceDataFrame = spark.createDataFrame(data).toDF(\"label\", \"sentence\")\n",
    "val tokenizer = new Tokenizer(). setInputCol(\"sentence\").setOutputCol(\"words\")\n",
    "val tokenized = tokenizer.transform(sentenceDataFrame)\n",
    "tokenized.show()"
   ]
  },
  {
   "cell_type": "markdown",
   "metadata": {},
   "source": [
    "## Estimators \n",
    "\n",
    "-\tAlgorithm which can be fit on a `DataFrame` to produce a `Transformer` \n",
    "-\tAbstracts the concept of a learning algorithm or any algorithm that fits or trains on data \n",
    "-\tImplements a method `fit(),` which accepts a `DataFrame` and produces a `Model`, which is a `Transformer`\n",
    "-\tExample: `LogisticRegression`\n",
    "-\tIt is a learning algorithm and therefore an `Estimator` \n",
    "- By calling the method `fit()` to train the logistic regression, a `Model` is returned"
   ]
  },
  {
   "cell_type": "code",
   "execution_count": 3,
   "metadata": {
    "attributes": {
     "classes": [
      "scaal"
     ],
     "id": ""
    }
   },
   "outputs": [
    {
     "data": {
      "text/plain": [
       "training = [label: double, features: vector]\n",
       "lr = logreg_e74e96516dd0\n",
       "model1 = LogisticRegressionModel: uid = logreg_e74e96516dd0, numClasses = 2, numFeatures = 3\n"
      ]
     },
     "metadata": {},
     "output_type": "display_data",
     "source": "user"
    },
    {
     "data": {
      "text/plain": [
       "LogisticRegressionModel: uid = logreg_e74e96516dd0, numClasses = 2, numFeatures = 3"
      ]
     },
     "execution_count": 3,
     "metadata": {},
     "output_type": "execute_result"
    }
   ],
   "source": [
    "// A Simple Example of an Estimator\n",
    "\n",
    "import  org.apache.spark.ml.classification.LogisticRegression\n",
    "import org.apache.spark.mllib.util.MLUtils\n",
    "\n",
    "\n",
    "import org.apache.spark.mllib.linalg.{Vector, Vectors}\n",
    "\n",
    "val training = MLUtils.convertVectorColumnsToML(spark.createDataFrame(Seq(\n",
    " (1.0, Vectors.dense(0.0, 1.1, 0.1)),\n",
    " (0.0, Vectors.dense(2.0, 1.0, -1.0)), \n",
    " (0.0, Vectors.dense(20, 1.3, 1.0)),\n",
    " (1.0, Vectors.dense(0.0, 1.2, -0.5)))).toDF(\"label\", \"features\"))\n",
    "\n",
    "val lr = new LogisticRegression() \n",
    "\n",
    "lr.setMaxIter(10).setRegParam(0.01)\n",
    "\n",
    "val model1 = lr.fit(training)"
   ]
  },
  {
   "cell_type": "code",
   "execution_count": 4,
   "metadata": {
    "attributes": {
     "classes": [
      "scala"
     ],
     "id": ""
    }
   },
   "outputs": [
    {
     "name": "stdout",
     "output_type": "stream",
     "text": [
      "+-----+--------------+--------------------+--------------------+----------+\n",
      "|label|      features|       rawPrediction|         probability|prediction|\n",
      "+-----+--------------+--------------------+--------------------+----------+\n",
      "|  1.0| [0.0,1.1,0.1]|[-2.6711500036993...|[0.06469734519861...|       1.0|\n",
      "|  0.0|[2.0,1.0,-1.0]|[1.25786304216765...|[0.77865802305260...|       0.0|\n",
      "|  0.0|[20.0,1.3,1.0]|[2.78558770259479...|[0.94189202365949...|       0.0|\n",
      "|  1.0|[0.0,1.2,-0.5]|[-1.3897978468983...|[0.19944003140081...|       1.0|\n",
      "+-----+--------------+--------------------+--------------------+----------+\n",
      "\n"
     ]
    }
   ],
   "source": [
    "model1.transform(training).show()"
   ]
  },
  {
   "cell_type": "markdown",
   "metadata": {},
   "source": [
    "## Parameters\n",
    "\n",
    "-\tTransformers and Estimators use a uniform API for specifying parameters\n",
    "-\tA `ParamMap` is a set of `(parameter, value)` pairs\n",
    "-\tParameters are specific to a given instance\n",
    "-\tThere are two main ways to pass parameters to an algorithm: \n",
    "  -\tSetting parameters for an instance using an appropriate method, for instance `setMaxIter(10)`\n",
    "  -\tPassing a `ParamMap` to `fit()` or `transform(),` for instance, `ParamMap(lr1.MaxIter->10,lr2.MaxIter->20)`\n",
    "  -\tIn this case, the parameter `MaxIter` is being specified to two different instances of models, `lr1` and `lr2`"
   ]
  },
  {
   "cell_type": "code",
   "execution_count": 5,
   "metadata": {
    "attributes": {
     "classes": [
      "scala"
     ],
     "id": ""
    }
   },
   "outputs": [
    {
     "name": "stdout",
     "output_type": "stream",
     "text": [
      "+-----+--------------+--------------------+--------------------+----------+\n",
      "|label|      features|       rawPrediction|         probability|prediction|\n",
      "+-----+--------------+--------------------+--------------------+----------+\n",
      "|  1.0| [0.0,1.1,0.1]|[-2.0332608460019...|[0.11575473786511...|       1.0|\n",
      "|  0.0|[2.0,1.0,-1.0]|[1.93242469544033...|[0.87351755418157...|       0.0|\n",
      "|  0.0|[20.0,1.3,1.0]|[2.46813565317686...|[0.92187760149918...|       0.0|\n",
      "|  1.0|[0.0,1.2,-0.5]|[-2.5016071722078...|[0.07574558805102...|       1.0|\n",
      "+-----+--------------+--------------------+--------------------+----------+\n",
      "\n"
     ]
    },
    {
     "data": {
      "text/plain": [
       "paramMap = \n",
       "model2 = LogisticRegressionModel: uid = logreg_e74e96516dd0, numClasses = 2, numFeatures = 3\n"
      ]
     },
     "metadata": {},
     "output_type": "display_data",
     "source": "user"
    },
    {
     "data": {
      "text/plain": [
       "{\n",
       "\tlogreg_e74e96516dd0-maxIter: 20,\n",
       "\tlogreg_e74e96516dd0-regParam: 0.01\n",
       "}\n"
      ]
     },
     "metadata": {},
     "output_type": "display_data",
     "source": "user"
    },
    {
     "data": {
      "text/plain": [
       "LogisticRegressionModel: uid = logreg_e74e96516dd0, numClasses = 2, numFeatures = 3"
      ]
     },
     "execution_count": 5,
     "metadata": {},
     "output_type": "execute_result"
    }
   ],
   "source": [
    "// A Simple Example of Parameter Setting \n",
    "\n",
    "import  org.apache.spark.ml.param.ParamMap\n",
    "\n",
    "val  paramMap = ParamMap(lr.maxIter -> 20, lr.regParam -> 0.01)\n",
    "\n",
    "val model2 = lr.fit(training, paramMap)\n",
    "\n",
    "model2.transform(training).show()"
   ]
  },
  {
   "cell_type": "markdown",
   "metadata": {},
   "source": [
    "## Vector Assembler\n",
    "\n",
    "-\tTransformer that combines a given list of columns into a single vector column\n",
    "-\tUseful for combining raw features and features generated by other transformers into a single feature vector\n",
    "-\tAccepts the following input column types: \n",
    "  -\tall numeric types \n",
    "  -\tboolean\n",
    "  -\tvector"
   ]
  },
  {
   "cell_type": "code",
   "execution_count": 6,
   "metadata": {
    "attributes": {
     "classes": [
      "scala"
     ],
     "id": ""
    }
   },
   "outputs": [
    {
     "name": "stdout",
     "output_type": "stream",
     "text": [
      "+---+--------------------+\n",
      "| id|            features|\n",
      "+---+--------------------+\n",
      "|  0|[0.41371264720975...|\n",
      "|  1|[0.73117192818966...|\n",
      "|  2|[0.90317011551182...|\n",
      "|  3|[0.09430205113458...|\n",
      "|  4|[0.38340505276222...|\n",
      "|  5|[0.55692461355235...|\n",
      "|  6|[0.49774414066138...|\n",
      "|  7|[0.20766661062014...|\n",
      "|  8|[0.95719194065089...|\n",
      "|  9|[0.74293954612044...|\n",
      "+---+--------------------+\n",
      "\n"
     ]
    },
    {
     "data": {
      "text/plain": [
       "dfRandom = [id: bigint, uniform: double ... 2 more fields]\n",
       "assembler = vecAssembler_139594e48681\n",
       "dfVec = [id: bigint, uniform: double ... 3 more fields]\n"
      ]
     },
     "metadata": {},
     "output_type": "display_data",
     "source": "user"
    },
    {
     "data": {
      "text/plain": [
       "[id: bigint, uniform: double ... 3 more fields]"
      ]
     },
     "execution_count": 6,
     "metadata": {},
     "output_type": "execute_result"
    }
   ],
   "source": [
    "// An Example of a VectorAssembler\n",
    "\n",
    "import  org.apache.spark.ml.feature.VectorAssembler\n",
    "import  org.apache.spark.sql.functions._\n",
    "\n",
    "\n",
    "val dfRandom = spark.range(0, 10).select(\"id\")\n",
    " .withColumn(\"uniform\", rand(10L))\n",
    " .withColumn(\"normal1\", randn(10L))\n",
    " .withColumn(\"normal2\", randn(11L))\n",
    "\n",
    "val assembler = new VectorAssembler().\n",
    " setInputCols(Array(\"uniform\",\"normal1\",\"normal2\")).\n",
    " setOutputCol(\"features\")\n",
    "\n",
    "val dfVec = assembler.transform(dfRandom)\n",
    "\n",
    "\n",
    "// An Example of a VectorAssembler\n",
    "\n",
    "dfVec.select(\"id\",\"features\").show()"
   ]
  },
  {
   "cell_type": "markdown",
   "metadata": {},
   "source": [
    "## Lesson Summary \n",
    "\n",
    "-\tHaving completed this lesson, you should be able to: \n",
    "  - Understand, create, and use a `Transformer`\n",
    "  -\tUnderstand, create, and use an `Estimator`\n",
    "  -\tSet parameters of `Transformers` and `Estimators`\n",
    "  -\tCreate a feature `Vector` with `VectorAssembler`\n",
    "\n",
    "### About the Authors\n",
    "\n",
    "[Petro Verkhogliad](https://www.linkedin.com/in/vpetro) is Consulting Manager at Lightbend. He holds a Masters degree in Computer Science with specialization in Intelligent Systems. He is passionate about functional programming and applications of AI."
   ]
  },
  {
   "cell_type": "code",
   "execution_count": null,
   "metadata": {},
   "outputs": [],
   "source": [
    " "
   ]
  }
 ],
 "metadata": {
  "kernelspec": {
   "display_name": "Apache Toree - Scala",
   "language": "scala",
   "name": "apache_toree_scala"
  },
  "language_info": {
   "codemirror_mode": "text/x-scala",
   "file_extension": ".scala",
   "mimetype": "text/x-scala",
   "name": "scala",
   "pygments_lexer": "scala",
   "version": "2.11.12"
  }
 },
 "nbformat": 4,
 "nbformat_minor": 4
}
