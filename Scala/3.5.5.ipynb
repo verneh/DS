{
 "cells": [
  {
   "cell_type": "markdown",
   "metadata": {},
   "source": [
    "<a href=\"https://cocl.us/Data_Science_with_Scalla_top\"><img src = \"https://s3-api.us-geo.objectstorage.softlayer.net/cf-courses-data/CognitiveClass/SC0103EN/adds/Data_Science_with_Scalla_notebook_top.png\" width = 750, align = \"center\"></a>\n",
    " <br/>\n",
    "<a><img src=\"https://ibm.box.com/shared/static/ugcqz6ohbvff804xp84y4kqnvvk3bq1g.png\" width=\"200\" align=\"center\"></a>\"\n",
    "\n",
    "# Module 5: Pipeline and Grid Search\n",
    "\n",
    "## Predicting Grant Applications: Building a Pipeline\n",
    "\n",
    "### Lesson Objectives\n",
    "\n",
    "* After completing this lesson, you should be able to extract useful information from the results of the grid search, including:\n",
    "  - the average area under the ROC curve for each combination of parameters\n",
    "  - the parameters of the best model\n",
    "  - the feature importances of the best model\n",
    "  \n",
    "### avgMetrics"
   ]
  },
  {
   "cell_type": "code",
   "execution_count": 1,
   "metadata": {},
   "outputs": [
    {
     "name": "stdout",
     "output_type": "stream",
     "text": [
      "+--------------------+----------+---------------+---------+--------------+---------+--------------------+-------------+----------------+-------------+--------+----------+--------+-----------------------------------+--------------------------+----------------------------+----+----+----+----+------------+------------+--------------------+-------------------+\n",
      "|Grant_Application_ID| RFCD_Code|RFCD_Percentage| SEO_Code|SEO_Percentage|Person_ID|                Role|Year_of_Birth|Country_of_Birth|Home_Language| Dept_No|Faculty_No|With_PHD|No_of_Years_in_Uni_at_Time_of_Grant|Number_of_Successful_Grant|Number_of_Unsuccessful_Grant|  A2|   A|   B|   C|Grant_Status|Sponsor_Code| Contract_Value_Band|Grant_Category_Code|\n",
      "+--------------------+----------+---------------+---------+--------------+---------+--------------------+-------------+----------------+-------------+--------+----------+--------+-----------------------------------+--------------------------+----------------------------+----+----+----+----+------------+------------+--------------------+-------------------+\n",
      "|                   1|RFCD280199|          100.0|SEO700299|         100.0|    40572|  CHIEF_INVESTIGATOR|         1965|     AsiaPacific|    OtherLang|Dept3073| Faculty31|    null|                        DurationLT0|                         0|                           0|   4|   2|   0|   0|           1|  SponsorUnk|  ContractValueBandA|        GrantCatUnk|\n",
      "|                   2|RFCD280103|           30.0|SEO700103|          50.0|     9067|  CHIEF_INVESTIGATOR|         1960|       Australia|         null|Dept2538| Faculty25|     Yes|                       DurationGT15|                         0|                           0|   6|  12|   2|   2|           1|   Sponsor2B|  ContractValueBandB|        GrantCat10A|\n",
      "|                   3|RFCD321004|           60.0|SEO730105|          60.0|     5967|  CHIEF_INVESTIGATOR|         1955|       Australia|         null|Dept2923| Faculty25|     Yes|                      Duration5to10|                         0|                           0|   0|   3|   5|   2|           1|  Sponsor29A|  ContractValueBandA|        GrantCat10B|\n",
      "|                   3|      null|           null|     null|          null|     null|EXT_CHIEF_INVESTI...|         null|            null|         null|    null|      null|    null|                        DurationUnk|                      null|                        null|null|null|null|null|           1|  Sponsor29A|  ContractValueBandA|        GrantCat10B|\n",
      "|                   3|      null|           null|     null|          null|     null|EXT_CHIEF_INVESTI...|         null|            null|         null|    null|      null|    null|                        DurationUnk|                      null|                        null|null|null|null|null|           1|  Sponsor29A|  ContractValueBandA|        GrantCat10B|\n",
      "|                   3|RFCD321216|           40.0|SEO730207|          40.0|    27307|  CHIEF_INVESTIGATOR|         1950|       Australia|         null|Dept2923| Faculty25|    null|                        DurationLT0|                         0|                           0|   0|   0|   0|   0|           1|  Sponsor29A|  ContractValueBandA|        GrantCat10B|\n",
      "|                   3|      null|           null|     null|          null|     null|EXT_CHIEF_INVESTI...|         null|            null|         null|    null|      null|    null|                        DurationUnk|                      null|                        null|null|null|null|null|           1|  Sponsor29A|  ContractValueBandA|        GrantCat10B|\n",
      "|                   3|      null|           null|     null|          null|    79652|  CHIEF_INVESTIGATOR|         1950|     AsiaPacific|         null|Dept2498| Faculty25|     Yes|                       DurationGT15|                         0|                           0|   1|   3|   3|   3|           1|  Sponsor29A|  ContractValueBandA|        GrantCat10B|\n",
      "|                   3|      null|           null|     null|          null|    11667|DELEGATED_RESEARCHER|         1950|       Australia|         null|Dept2548| Faculty25|    null|                       DurationGT15|                         0|                           0|   6|  14|  12|   2|           1|  Sponsor29A|  ContractValueBandA|        GrantCat10B|\n",
      "|                   4|RFCD270602|           50.0|SEO730106|          70.0|    78782|PRINCIPAL_SUPERVISOR|         1955|       Australia|         null|Dept2678| Faculty25|     Yes|                      Duration5to10|                         0|                           0|   0|   3|  13|   3|           1|  Sponsor40D|  ContractValueBandC|        GrantCat10B|\n",
      "|                   4|      null|           null|     null|          null|     null|EXT_CHIEF_INVESTI...|         null|            null|         null|    null|      null|    null|                        DurationUnk|                      null|                        null|null|null|null|null|           1|  Sponsor40D|  ContractValueBandC|        GrantCat10B|\n",
      "|                   4|      null|           null|     null|          null|     null|EXT_CHIEF_INVESTI...|         null|            null|         null|    null|      null|    null|                        DurationUnk|                      null|                        null|null|null|null|null|           1|  Sponsor40D|  ContractValueBandC|        GrantCat10B|\n",
      "|                   4|RFCD320602|           50.0|SEO730201|          30.0|    55337|  CHIEF_INVESTIGATOR|         1975|       Australia|         null|Dept2678| Faculty25|     Yes|                       Duration0to5|                         0|                           0|   0|   0|   0|   0|           1|  Sponsor40D|  ContractValueBandC|        GrantCat10B|\n",
      "|                   4|      null|           null|     null|          null|     null|EXT_CHIEF_INVESTI...|         null|            null|         null|    null|      null|    null|                        DurationUnk|                      null|                        null|null|null|null|null|           1|  Sponsor40D|  ContractValueBandC|        GrantCat10B|\n",
      "|                   4|      null|           null|     null|          null|     null|STUD_CHIEF_INVEST...|         null|            null|         null|    null|      null|    null|                        DurationUnk|                      null|                        null|null|null|null|null|           1|  Sponsor40D|  ContractValueBandC|        GrantCat10B|\n",
      "|                   5|RFCD260500|           34.0|SEO770199|         100.0|    13042|  CHIEF_INVESTIGATOR|         1965|   WesternEurope|         null|Dept2153| Faculty19|     Yes|                      Duration5to10|                         0|                           0|   3|   0|   1|   0|           0|  Sponsor59C|  ContractValueBandA|        GrantCat10A|\n",
      "|                   6|RFCD321204|          100.0|SEO730211|         100.0|   301472|  CHIEF_INVESTIGATOR|         1950|       Australia|         null|Dept2533| Faculty25|     Yes|                       Duration0to5|                         2|                           0|   7|  27|  27|   6|           1|   Sponsor4D|ContractValueBandUnk|        GrantCat10A|\n",
      "|                   7|RFCD270401|           20.0|     null|          null|    79742|  CHIEF_INVESTIGATOR|         1950|    GreatBritain|         null|Dept3028| Faculty31|    null|                        DurationLT0|                         0|                           0|   0|   7|  12|   4|           0|   Sponsor2B|ContractValueBandUnk|        GrantCat10A|\n",
      "|                   7|      null|           null|     null|          null|     null|EXT_CHIEF_INVESTI...|         null|            null|         null|    null|      null|    null|                        DurationUnk|                      null|                        null|null|null|null|null|           0|   Sponsor2B|ContractValueBandUnk|        GrantCat10A|\n",
      "|                   7|RFCD270203|           30.0|SEO770706|          40.0|    82602|  CHIEF_INVESTIGATOR|         1960|       Australia|         null|Dept3028| Faculty31|     Yes|                     Duration10to15|                         0|                           1|   0|   0|   0|   0|           0|   Sponsor2B|ContractValueBandUnk|        GrantCat10A|\n",
      "+--------------------+----------+---------------+---------+--------------+---------+--------------------+-------------+----------------+-------------+--------+----------+--------+-----------------------------------+--------------------------+----------------------------+----+----+----+----+------------+------------+--------------------+-------------------+\n",
      "only showing top 20 rows\n",
      "\n"
     ]
    },
    {
     "data": {
      "text/plain": [
       "spark = org.apache.spark.sql.SparkSession@61336aa1\n",
       "data = [Grant_Application_ID: int, RFCD_Code: string ... 22 more fields]\n"
      ]
     },
     "metadata": {},
     "output_type": "display_data",
     "source": "user"
    },
    {
     "data": {
      "text/plain": [
       "[Grant_Application_ID: int, RFCD_Code: string ... 22 more fields]"
      ]
     },
     "execution_count": 1,
     "metadata": {},
     "output_type": "execute_result"
    }
   ],
   "source": [
    "import org.apache.spark.sql.SparkSession\n",
    "val spark = SparkSession.builder().getOrCreate()\n",
    "import spark.implicits._\n",
    "import org.apache.spark.sql.functions._\n",
    "\n",
    "val data = spark.read.\n",
    "  format(\"com.databricks.spark.csv\").\n",
    "  option(\"delimiter\", \"\\t\").\n",
    "  option(\"header\", \"true\").\n",
    "  option(\"inferSchema\", \"true\").\n",
    "  load(\"/resources/data/grantsPeople.csv\")\n",
    "\n",
    "data.show()"
   ]
  },
  {
   "cell_type": "code",
   "execution_count": 2,
   "metadata": {
    "attributes": {
     "classes": [
      "scala"
     ],
     "id": ""
    }
   },
   "outputs": [
    {
     "name": "stdout",
     "output_type": "stream",
     "text": [
      "+--------------------+------------+-------------+--------------------+----+----------+--------+---------+--------+\n",
      "|Grant_Application_ID|Grant_Status|Category_Code|          Value_Band|PHDs|paperscore|teamsize|successes|failures|\n",
      "+--------------------+------------+-------------+--------------------+----+----------+--------+---------+--------+\n",
      "|                 148|           0|  GrantCat30B|ContractValueBandUnk|null|         6|       1|        0|       1|\n",
      "|                 463|           1|  GrantCat30C|ContractValueBandUnk|null|         0|       1|        1|       0|\n",
      "|                 471|           0|  GrantCat30B|  ContractValueBandA|   1|       127|       2|        1|       5|\n",
      "|                 496|           0|  GrantCat30B|  ContractValueBandA|null|         0|       1|        1|       3|\n",
      "|                 833|           1|  GrantCat10A|  ContractValueBandF|null|         0|       1|        0|       0|\n",
      "|                1088|           1|  GrantCat50A|  ContractValueBandA|   1|        11|       1|        1|       0|\n",
      "|                1238|           1|  GrantCatUnk|  ContractValueBandA|   1|         6|       1|        0|       0|\n",
      "|                1342|           1|  GrantCat10A|  ContractValueBandE|   1|        51|       3|        3|       3|\n",
      "|                1580|           0|  GrantCat10B|ContractValueBandUnk|   2|        72|       3|        1|       2|\n",
      "|                1591|           1|  GrantCatUnk|ContractValueBandUnk|null|        39|       1|        1|       0|\n",
      "|                1645|           0|  GrantCat30D|  ContractValueBandB|null|         0|       1|        0|       0|\n",
      "|                1829|           1|  GrantCatUnk|  ContractValueBandA|   1|         4|       1|        0|       0|\n",
      "|                1959|           1|  GrantCat30B|  ContractValueBandA|null|         0|       1|        1|       0|\n",
      "|                2122|           1|  GrantCatUnk|ContractValueBandUnk|   1|        14|       1|        0|       0|\n",
      "|                2142|           1|  GrantCatUnk|ContractValueBandUnk|   1|        19|       1|        0|       1|\n",
      "|                2366|           0|  GrantCat10A|ContractValueBandUnk|null|         3|       2|        0|       3|\n",
      "|                2659|           1|  GrantCat30A|  ContractValueBandA|   1|       165|       1|        5|       6|\n",
      "|                2866|           1|  GrantCat20C|ContractValueBandUnk|null|         0|       2|        0|       0|\n",
      "|                3175|           0|  GrantCat50A|  ContractValueBandA|   1|         0|       1|        0|       3|\n",
      "|                3749|           0|  GrantCat10A|ContractValueBandUnk|   1|        18|       1|        0|       1|\n",
      "+--------------------+------------+-------------+--------------------+----+----------+--------+---------+--------+\n",
      "only showing top 20 rows\n",
      "\n"
     ]
    },
    {
     "data": {
      "text/plain": [
       "researchers = [Grant_Application_ID: int, RFCD_Code: string ... 25 more fields]\n",
       "grants = [Grant_Application_ID: int, Grant_Status: int ... 7 more fields]\n"
      ]
     },
     "metadata": {},
     "output_type": "display_data",
     "source": "user"
    },
    {
     "data": {
      "text/plain": [
       "[Grant_Application_ID: int, Grant_Status: int ... 7 more fields]"
      ]
     },
     "execution_count": 2,
     "metadata": {},
     "output_type": "execute_result"
    }
   ],
   "source": [
    "\n",
    "val researchers = data.\n",
    "  withColumn (\"phd\", data(\"With_PHD\").equalTo(\"Yes\").cast(\"Int\")).\n",
    "  withColumn (\"CI\", data(\"Role\").equalTo(\"CHIEF_INVESTIGATOR\").cast(\"Int\")).\n",
    "  withColumn(\"paperscore\", data(\"A2\") * 4 + data(\"A\") * 3)\n",
    "\n",
    "val grants = researchers.groupBy(\"Grant_Application_ID\").agg(\n",
    "  max(\"Grant_Status\").as(\"Grant_Status\"),\n",
    "  max(\"Grant_Category_Code\").as(\"Category_Code\"),\n",
    "  max(\"Contract_Value_Band\").as(\"Value_Band\"),\n",
    "  sum(\"phd\").as(\"PHDs\"),\n",
    "  when(max(expr(\"paperscore * CI\")).isNull, 0).\n",
    "    otherwise(max(expr(\"paperscore * CI\"))).as(\"paperscore\"),\n",
    "  count(\"*\").as(\"teamsize\"),\n",
    "  when(sum(\"Number_of_Successful_Grant\").isNull, 0).\n",
    "    otherwise(sum(\"Number_of_Successful_Grant\")).as(\"successes\"),\n",
    "  when(sum(\"Number_of_Unsuccessful_Grant\").isNull, 0).\n",
    "    otherwise(sum(\"Number_of_Unsuccessful_Grant\")).as(\"failures\")\n",
    ")\n",
    "\n",
    "grants.show()"
   ]
  },
  {
   "cell_type": "code",
   "execution_count": 3,
   "metadata": {
    "attributes": {
     "classes": [
      "scala"
     ],
     "id": ""
    }
   },
   "outputs": [
    {
     "data": {
      "text/plain": [
       "value_band_indexer = strIdx_ab937ee321a1\n",
       "category_indexer = strIdx_a7ee8aecd7b7\n",
       "label_indexer = strIdx_34b08f0eb3e5\n"
      ]
     },
     "metadata": {},
     "output_type": "display_data",
     "source": "user"
    },
    {
     "data": {
      "text/plain": [
       "strIdx_34b08f0eb3e5"
      ]
     },
     "execution_count": 3,
     "metadata": {},
     "output_type": "execute_result"
    }
   ],
   "source": [
    "\n",
    "import org.apache.spark.ml.feature.StringIndexer\n",
    "\n",
    "val value_band_indexer = new StringIndexer().\n",
    "  setInputCol(\"Value_Band\").\n",
    "  setOutputCol(\"Value_index\").\n",
    "  fit(grants)\n",
    "  \n",
    "val category_indexer = new StringIndexer().\n",
    "  setInputCol(\"Category_Code\").\n",
    "  setOutputCol(\"Category_index\").\n",
    "  fit(grants)\n",
    "  \n",
    "val label_indexer = new StringIndexer().\n",
    "  setInputCol(\"Grant_Status\").\n",
    "  setOutputCol(\"status\").\n",
    "  fit(grants)\n",
    "\n"
   ]
  },
  {
   "cell_type": "code",
   "execution_count": 4,
   "metadata": {
    "attributes": {
     "classes": [
      "scala"
     ],
     "id": ""
    }
   },
   "outputs": [
    {
     "data": {
      "text/plain": [
       "assembler = vecAssembler_886323b772bb\n"
      ]
     },
     "metadata": {},
     "output_type": "display_data",
     "source": "user"
    },
    {
     "data": {
      "text/plain": [
       "vecAssembler_886323b772bb"
      ]
     },
     "execution_count": 4,
     "metadata": {},
     "output_type": "execute_result"
    }
   ],
   "source": [
    "import org.apache.spark.ml.feature.VectorAssembler\n",
    "\n",
    "val assembler = new VectorAssembler().\n",
    "  setInputCols(Array(\n",
    "    \"Value_index\"\n",
    "    ,\"Category_index\"\n",
    "    ,\"PHDs\"\n",
    "    ,\"paperscore\"\n",
    "    ,\"teamsize\"\n",
    "    ,\"successes\"\n",
    "    ,\"failures\"\n",
    "  )).setOutputCol(\"assembled\")\n"
   ]
  },
  {
   "cell_type": "code",
   "execution_count": 5,
   "metadata": {
    "attributes": {
     "classes": [
      "scala"
     ],
     "id": ""
    }
   },
   "outputs": [
    {
     "data": {
      "text/plain": [
       "rf = rfc_675b8c755cfa\n",
       "pipeline = pipeline_ee8657cc3c2b\n"
      ]
     },
     "metadata": {},
     "output_type": "display_data",
     "source": "user"
    },
    {
     "data": {
      "text/plain": [
       "pipeline_ee8657cc3c2b"
      ]
     },
     "execution_count": 5,
     "metadata": {},
     "output_type": "execute_result"
    }
   ],
   "source": [
    "import org.apache.spark.ml.classification.RandomForestClassifier\n",
    "import org.apache.spark.ml.classification.RandomForestClassificationModel\n",
    "\n",
    "val rf = new RandomForestClassifier().\n",
    "  setFeaturesCol(\"assembled\").\n",
    "  setLabelCol(\"status\").\n",
    "  setSeed(42)\n",
    "\n",
    "import org.apache.spark.ml.Pipeline\n",
    "val pipeline = new Pipeline().setStages(Array(\n",
    "    value_band_indexer,\n",
    "    category_indexer,\n",
    "    label_indexer,\n",
    "    assembler,\n",
    "    rf)\n",
    "  )"
   ]
  },
  {
   "cell_type": "code",
   "execution_count": 6,
   "metadata": {
    "attributes": {
     "classes": [
      "scala"
     ],
     "id": ""
    }
   },
   "outputs": [
    {
     "data": {
      "text/plain": [
       "auc_eval = binEval_e838ff231c7d\n",
       "tr = [Grant_Application_ID: int, Grant_Status: int ... 7 more fields]\n",
       "te = [Grant_Application_ID: int, Grant_Status: int ... 7 more fields]\n",
       "training = [Grant_Application_ID: int, Grant_Status: int ... 7 more fields]\n",
       "test = [Grant_Application_ID: int, Grant_Status: int ... 7 more fields]\n",
       "model = pipeline_ee8657cc3c2b\n",
       "pipeline_results = [Grant_Application_ID: int, Grant_Status: int ... 14 mo...\n"
      ]
     },
     "metadata": {},
     "output_type": "display_data",
     "source": "user"
    },
    {
     "data": {
      "text/plain": [
       "[Grant_Application_ID: int, Grant_Status: int ... 14 mo..."
      ]
     },
     "execution_count": 6,
     "metadata": {},
     "output_type": "execute_result"
    }
   ],
   "source": [
    "import org.apache.spark.ml.evaluation.BinaryClassificationEvaluator\n",
    "val auc_eval = new BinaryClassificationEvaluator().\n",
    "  setLabelCol(\"status\").\n",
    "  setRawPredictionCol(\"rawPrediction\")\n",
    "\n",
    "auc_eval.getMetricName\n",
    "\n",
    "val tr = grants.filter(\"Grant_Application_ID < 6635\")\n",
    "val te = grants.filter(\"Grant_Application_ID >= 6635\")\n",
    "val training = tr.na.fill(0, Seq(\"PHDs\"))\n",
    "val test = te.na.fill(0, Seq(\"PHDs\"))\n",
    "\n",
    "val model = pipeline.fit(training)\n",
    "val pipeline_results = model.transform(test)\n",
    "auc_eval.evaluate(pipeline_results)\n",
    "\n",
    "rf.extractParamMap\n"
   ]
  },
  {
   "cell_type": "code",
   "execution_count": 7,
   "metadata": {
    "attributes": {
     "classes": [
      "scala"
     ],
     "id": ""
    }
   },
   "outputs": [
    {
     "data": {
      "text/plain": [
       "paramGrid = \n"
      ]
     },
     "metadata": {},
     "output_type": "display_data",
     "source": "user"
    },
    {
     "data": {
      "text/plain": [
       "Array({\n",
       "\trfc_675b8c755cfa-maxDepth: 2,\n",
       "\trfc_675b8c755cfa-numTrees: 1\n",
       "}, {\n",
       "\trfc_675b8c755cfa-maxDepth: 2,\n",
       "\trfc_675b8c755cfa-numTrees: 20\n",
       "}, {\n",
       "\trfc_675b8c755cfa-maxDepth: 5,\n",
       "\trfc_675b8c755cfa-numTrees: 1\n",
       "}, {\n",
       "\trfc_675b8c755cfa-maxDepth: 5,\n",
       "\trfc_675b8c755cfa-numTrees: 20\n",
       "})\n"
      ]
     },
     "metadata": {},
     "output_type": "display_data",
     "source": "user"
    }
   ],
   "source": [
    "import org.apache.spark.ml.tuning.ParamGridBuilder\n",
    "\n",
    "val paramGrid = new ParamGridBuilder().\n",
    "  addGrid(rf.maxDepth, Array(2, 5)).\n",
    "  addGrid(rf.numTrees, Array(1, 20)).\n",
    "  build()"
   ]
  },
  {
   "cell_type": "code",
   "execution_count": 8,
   "metadata": {
    "attributes": {
     "classes": [
      "scala"
     ],
     "id": ""
    }
   },
   "outputs": [
    {
     "data": {
      "text/plain": [
       "cv = cv_d06aa2c9db65\n",
       "cvModel = cv_d06aa2c9db65\n",
       "cv_results = [Grant_Application_ID: int, Grant_Status: int ... 14 more fields]\n"
      ]
     },
     "metadata": {},
     "output_type": "display_data",
     "source": "user"
    },
    {
     "data": {
      "text/plain": [
       "Array(0.6955369282458457, 0.8616780229567591, 0.9009147301701629, 0.9190615325206639)"
      ]
     },
     "execution_count": 8,
     "metadata": {},
     "output_type": "execute_result"
    }
   ],
   "source": [
    "import org.apache.spark.ml.tuning.CrossValidator\n",
    "// this value should be 3 for setNumFolds\n",
    "val cv = new CrossValidator().\n",
    "  setEstimator(pipeline).\n",
    "  setEvaluator(auc_eval).\n",
    "  setEstimatorParamMaps(paramGrid).\n",
    "  setNumFolds(2)\n",
    "\n",
    "val cvModel = cv.fit(training)\n",
    "\n",
    "val cv_results = cvModel.transform(test)\n",
    "cvModel.avgMetrics"
   ]
  },
  {
   "cell_type": "markdown",
   "metadata": {},
   "source": [
    "### Finding the Winning Parameters"
   ]
  },
  {
   "cell_type": "code",
   "execution_count": 9,
   "metadata": {
    "attributes": {
     "classes": [
      "scala"
     ],
     "id": ""
    }
   },
   "outputs": [
    {
     "data": {
      "text/plain": [
       "defined class BestParamMapCrossValidatorModel\n"
      ]
     },
     "metadata": {},
     "output_type": "display_data",
     "source": "user"
    }
   ],
   "source": [
    "import org.apache.spark.ml.param.ParamMap\n",
    "import org.apache.spark.ml.tuning.CrossValidatorModel\n",
    "\n",
    "implicit class BestParamMapCrossValidatorModel(cvModel: CrossValidatorModel)\n",
    "{\n",
    "  def bestEstimatorParamMap: ParamMap = cvModel.getEstimatorParamMaps.zip(cvModel.avgMetrics).maxBy(_._2)._1\n",
    "}"
   ]
  },
  {
   "cell_type": "markdown",
   "metadata": {},
   "source": [
    "### Using bestEstimatorParamMap"
   ]
  },
  {
   "cell_type": "code",
   "execution_count": 10,
   "metadata": {
    "attributes": {
     "classes": [
      "scala"
     ],
     "id": ""
    }
   },
   "outputs": [
    {
     "name": "stdout",
     "output_type": "stream",
     "text": [
      "{\n",
      "\trfc_675b8c755cfa-maxDepth: 5,\n",
      "\trfc_675b8c755cfa-numTrees: 20\n",
      "}\n"
     ]
    }
   ],
   "source": [
    "\n",
    "println(cvModel.bestEstimatorParamMap)\n"
   ]
  },
  {
   "cell_type": "markdown",
   "metadata": {},
   "source": [
    "### Best Model"
   ]
  },
  {
   "cell_type": "code",
   "execution_count": 11,
   "metadata": {
    "attributes": {
     "classes": [
      "scala"
     ],
     "id": ""
    }
   },
   "outputs": [
    {
     "data": {
      "text/plain": [
       "bestPipelineModel = pipeline_ee8657cc3c2b\n"
      ]
     },
     "metadata": {},
     "output_type": "display_data",
     "source": "user"
    },
    {
     "data": {
      "text/plain": [
       "Array(strIdx_ab937ee321a1, strIdx_a7ee8aecd7b7, strIdx_34b08f0eb3e5, vecAssembler_886323b772bb, RandomForestClassificationModel (uid=rfc_675b8c755cfa) with 20 trees)"
      ]
     },
     "execution_count": 11,
     "metadata": {},
     "output_type": "execute_result"
    }
   ],
   "source": [
    "val bestPipelineModel = cvModel.bestModel.asInstanceOf[org.apache.spark.ml.PipelineModel]\n",
    "bestPipelineModel.stages"
   ]
  },
  {
   "cell_type": "markdown",
   "metadata": {},
   "source": [
    "### Extracting the Winning Classifier"
   ]
  },
  {
   "cell_type": "code",
   "execution_count": 12,
   "metadata": {
    "attributes": {
     "classes": [
      "scala"
     ],
     "id": ""
    }
   },
   "outputs": [
    {
     "data": {
      "text/plain": [
       "bestRandomForest = RandomForestClassificationModel (uid=rfc_675b8c755cfa) with 20 trees\n"
      ]
     },
     "metadata": {},
     "output_type": "display_data",
     "source": "user"
    },
    {
     "data": {
      "text/plain": [
       "\"RandomForestClassificationModel (uid=rfc_675b8c755cfa) with 20 trees\n",
       "  Tree 0 (weight 1.0):\n",
       "    If (feature 6 <= 0.5)\n",
       "     If (feature 2 <= 0.5)\n",
       "      If (feature 5 <= 0.5)\n",
       "       If (feature 1 in {0.0,1.0,2.0,4.0,5.0,6.0,7.0,8.0,9.0,11.0})\n",
       "        If (feature 3 <= 6.5)\n",
       "         Predict: 0.0\n",
       "        Else (feature 3 > 6.5)\n",
       "         Predict: 1.0\n",
       "       Else (feature 1 not in {0.0,1.0,2.0,4.0,5.0,6.0,7.0,8.0,9.0,11.0})\n",
       "        Predict: 1.0\n",
       "      Else (feature 5 > 0.5)\n",
       "       If (feature 0 in {2.0,3.0,4.0,5.0,6.0,7.0,8.0,10.0})\n",
       "        Predict: 1.0\n",
       "       Else (feature 0 not in {2.0,3.0,4.0,5.0,6.0,7.0,8.0,10.0})\n",
       "       ...\n"
      ]
     },
     "metadata": {},
     "output_type": "display_data",
     "source": "user"
    }
   ],
   "source": [
    "val bestRandomForest = bestPipelineModel.stages(4).asInstanceOf[RandomForestClassificationModel]\n",
    "bestRandomForest.toDebugString"
   ]
  },
  {
   "cell_type": "markdown",
   "metadata": {},
   "source": [
    "### totalNumNodes"
   ]
  },
  {
   "cell_type": "code",
   "execution_count": 13,
   "metadata": {
    "attributes": {
     "classes": [
      "scala"
     ],
     "id": ""
    }
   },
   "outputs": [
    {
     "data": {
      "text/plain": [
       "756"
      ]
     },
     "execution_count": 13,
     "metadata": {},
     "output_type": "execute_result"
    }
   ],
   "source": [
    "bestRandomForest.totalNumNodes"
   ]
  },
  {
   "cell_type": "markdown",
   "metadata": {},
   "source": [
    "### Feature Importances"
   ]
  },
  {
   "cell_type": "code",
   "execution_count": null,
   "metadata": {
    "attributes": {
     "classes": [
      "scala"
     ],
     "id": ""
    }
   },
   "outputs": [],
   "source": [
    "bestRandomForest.featureImportances"
   ]
  },
  {
   "cell_type": "markdown",
   "metadata": {},
   "source": [
    "### Wrapping Up\n",
    "\n",
    "* Using the default parameters, we had an area under the ROC curve of 0.909\n",
    "* After a grid search, we got that up to 0.926\n",
    "* Running the grid search on a cluster was a real timesaver\n",
    "* Not all of our features proved very useful; maybe you can do better!\n",
    "\n",
    "### Module Summary\n",
    "\n",
    "* Having completed this module about Predicting Grant Applications, you should be able to:\n",
    "  - Understand how to fit together the functions available in Spark's machine learning libraries to solve real problems\n",
    "  - Fit models in a fraction of the time, using a Spark cluster\n",
    "\n",
    "\n",
    "### About the Authors\n",
    "\n",
    "[Petro Verkhogliad](https://www.linkedin.com/in/vpetro) is Consulting Manager at Lightbend. He holds a Masters degree in Computer Science with specialization in Intelligent Systems. He is passionate about functional programming and applications of AI."
   ]
  }
 ],
 "metadata": {
  "kernelspec": {
   "display_name": "Apache Toree - Scala",
   "language": "scala",
   "name": "apache_toree_scala"
  },
  "language_info": {
   "codemirror_mode": "text/x-scala",
   "file_extension": ".scala",
   "mimetype": "text/x-scala",
   "name": "scala",
   "pygments_lexer": "scala",
   "version": "2.11.12"
  }
 },
 "nbformat": 4,
 "nbformat_minor": 4
}
