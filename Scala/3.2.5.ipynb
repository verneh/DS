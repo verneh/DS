{
 "cells": [
  {
   "cell_type": "markdown",
   "metadata": {},
   "source": [
    "<a href=\"https://cocl.us/Data_Science_with_Scalla_top\"><img src = \"https://s3-api.us-geo.objectstorage.softlayer.net/cf-courses-data/CognitiveClass/SC0103EN/adds/Data_Science_with_Scalla_notebook_top.png\" width = 750, align = \"center\"></a>\n",
    " <br/>\n",
    "<a><img src=\"https://ibm.box.com/shared/static/ugcqz6ohbvff804xp84y4kqnvvk3bq1g.png\" width=\"200\" align=\"center\"></a>\"\n",
    "\n",
    "# Module 2: Preparing Data \n",
    "\n",
    "## Identifying Outliers\n",
    "\n",
    "### Lesson Objectives\n",
    "\n",
    "After completing this lesson, you should be able to:\n",
    "\n",
    "- Compute the inverse of covariance matrix given of a dataset\n",
    "-\tCompute Mahalanobis Distance for all elements in a dataset\n",
    "-\tRemove outliers from a dataset\n",
    "\n",
    "\n",
    "## Mahalanobis Distance \n",
    "\n",
    "-\tMulti-dimensional generalization of measuring how many standard deviations a point is away from the mean\n",
    "-\tMeasured along each Principal Component axis \n",
    "-\tUnitless and scale-invariant \n",
    "-\tTakes into account the correlations of the dataset\n",
    "-\tUsed to detect outliers"
   ]
  },
  {
   "cell_type": "code",
   "execution_count": 1,
   "metadata": {
    "attributes": {
     "classes": [
      "scala"
     ],
     "id": ""
    }
   },
   "outputs": [
    {
     "data": {
      "text/plain": [
       "spark = org.apache.spark.sql.SparkSession@375f378b\n"
      ]
     },
     "metadata": {},
     "output_type": "display_data",
     "source": "user"
    },
    {
     "data": {
      "text/plain": [
       "org.apache.spark.sql.SparkSession@375f378b"
      ]
     },
     "execution_count": 1,
     "metadata": {},
     "output_type": "execute_result"
    }
   ],
   "source": [
    "import org.apache.spark.sql.SparkSession\n",
    "val spark = SparkSession.builder().getOrCreate()\n",
    "import spark.implicits._\n",
    "\n",
    "import org.apache.spark.sql.functions._\n",
    "import  org.apache.spark.mllib.linalg.{Vector, Vectors}\n",
    "import  org.apache.spark.ml.feature.StandardScaler\n",
    "import  org.apache.spark.ml.feature.VectorAssembler \n",
    "import org.apache.spark.mllib.util.MLUtils\n"
   ]
  },
  {
   "cell_type": "code",
   "execution_count": 2,
   "metadata": {
    "attributes": {
     "classes": [
      "scala"
     ],
     "id": ""
    }
   },
   "outputs": [
    {
     "data": {
      "text/plain": [
       "dfRandom = [id: bigint, uniform: double ... 2 more fields]\n",
       "assembler = vecAssembler_02e163db81ca\n",
       "dfVec = [id: bigint, uniform: double ... 3 more fields]\n"
      ]
     },
     "metadata": {},
     "output_type": "display_data",
     "source": "user"
    },
    {
     "data": {
      "text/plain": [
       "[id: bigint, uniform: double ... 3 more fields]"
      ]
     },
     "execution_count": 2,
     "metadata": {},
     "output_type": "execute_result"
    }
   ],
   "source": [
    "// Continuing from Previous Example \n",
    "\n",
    "val  dfRandom = spark.range(0, 10).select(\"id\").\n",
    " withColumn(\"uniform\", rand(10L)).\n",
    " withColumn(\"normal1\", randn(10L)).\n",
    " withColumn(\"normal2\", randn(11L))\n",
    "\n",
    "val  assembler = new VectorAssembler().\n",
    " setInputCols(Array(\"uniform\",\"normal1\",\"normal2\")).\n",
    " setOutputCol(\"features\")\n",
    "\n",
    "val dfVec = MLUtils.convertVectorColumnsFromML(assembler.transform(dfRandom))"
   ]
  },
  {
   "cell_type": "code",
   "execution_count": 3,
   "metadata": {
    "attributes": {
     "classes": [
      "scala"
     ],
     "id": ""
    }
   },
   "outputs": [
    {
     "name": "stdout",
     "output_type": "stream",
     "text": [
      "+---+--------------------+\n",
      "| id|            features|\n",
      "+---+--------------------+\n",
      "|  0|[0.41371264720975...|\n",
      "|  1|[0.73117192818966...|\n",
      "|  2|[0.90317011551182...|\n",
      "|  3|[0.09430205113458...|\n",
      "|  4|[0.38340505276222...|\n",
      "|  5|[0.55692461355235...|\n",
      "|  6|[0.49774414066138...|\n",
      "|  7|[0.20766661062014...|\n",
      "|  8|[0.95719194065089...|\n",
      "|  9|[0.74293954612044...|\n",
      "+---+--------------------+\n",
      "\n",
      "+---+--------------------+\n",
      "| id|            features|\n",
      "+---+--------------------+\n",
      "| 10|       [3.0,3.0,3.0]|\n",
      "|  9|[0.74293954612044...|\n",
      "|  8|[0.95719194065089...|\n",
      "|  7|[0.20766661062014...|\n",
      "|  6|[0.49774414066138...|\n",
      "+---+--------------------+\n",
      "only showing top 5 rows\n",
      "\n"
     ]
    },
    {
     "data": {
      "text/plain": [
       "dfOutlier = [id: bigint, features: vector]\n"
      ]
     },
     "metadata": {},
     "output_type": "display_data",
     "source": "user"
    },
    {
     "data": {
      "text/plain": [
       "warning: there was one deprecation warning; re-run with -deprecation for details\n"
      ]
     },
     "metadata": {},
     "output_type": "display_data",
     "source": "user"
    },
    {
     "data": {
      "text/plain": [
       "[id: bigint, features: vector]"
      ]
     },
     "execution_count": 3,
     "metadata": {},
     "output_type": "execute_result"
    }
   ],
   "source": [
    "// Continuing from the Previous Example\n",
    "dfVec.select(\"id\",\"features\").show()\n",
    "\n",
    "// An Example with Outliers \n",
    "val dfOutlier = dfVec.select(\"id\",\"features\").unionAll(spark.createDataFrame(Seq((10,Vectors.dense(3, 3, 3)))))\n",
    "dfOutlier.sort(dfOutlier(\"id\").desc).show(5)"
   ]
  },
  {
   "cell_type": "code",
   "execution_count": 4,
   "metadata": {
    "attributes": {
     "classes": [
      "scala"
     ],
     "id": ""
    }
   },
   "outputs": [
    {
     "name": "stdout",
     "output_type": "stream",
     "text": [
      "+---+--------------------+\n",
      "| id|          scaledFeat|\n",
      "+---+--------------------+\n",
      "| 10|[2.83077635345669...|\n",
      "|  9|[-0.0364814207361...|\n",
      "|  8|[0.23569420610668...|\n",
      "+---+--------------------+\n",
      "only showing top 3 rows\n",
      "\n"
     ]
    },
    {
     "data": {
      "text/plain": [
       "scaler = stdScal_84c9dd6c5b36\n",
       "scalerModel = stdScal_84c9dd6c5b36\n",
       "dfScaled = [id: bigint, scaledFeat: vector]\n"
      ]
     },
     "metadata": {},
     "output_type": "display_data",
     "source": "user"
    },
    {
     "data": {
      "text/plain": [
       "[id: bigint, scaledFeat: vector]"
      ]
     },
     "execution_count": 4,
     "metadata": {},
     "output_type": "execute_result"
    }
   ],
   "source": [
    "// An Example with Outliers \n",
    "\n",
    "val scaler = new StandardScaler().\n",
    " setInputCol(\"features\").setOutputCol(\"scaledFeat\").\n",
    " setWithStd(true).setWithMean(true)\n",
    "\n",
    "val scalerModel = scaler.fit(MLUtils.convertVectorColumnsToML(dfOutlier.select(\"id\",\"features\")))\n",
    "\n",
    "val dfScaled = scalerModel.transform(MLUtils.convertVectorColumnsToML(dfOutlier)).select(\"id\",\"scaledFeat\")\n",
    "dfScaled.sort(dfScaled(\"id\").desc).show(3)"
   ]
  },
  {
   "cell_type": "code",
   "execution_count": 6,
   "metadata": {
    "attributes": {
     "classes": [
      "scala"
     ],
     "id": ""
    }
   },
   "outputs": [
    {
     "data": {
      "text/plain": [
       "rddVec = MapPartitionsRDD[63] at map at <console>:64\n",
       "colCov = \n",
       "invColCovB = \n"
      ]
     },
     "metadata": {},
     "output_type": "display_data",
     "source": "user"
    },
    {
     "data": {
      "text/plain": [
       "1.0                  0.48885755212288634  0.5651391787484287\n",
       "0.48885755212288634  1.0                  0.26406564567048074\n",
       "0.5651391787484287   0.26406564567048074  1.0\n",
       "1.7965335033552017   -0.6558803463974368   -0.8420960015261783\n",
       "-0.6558803463974368  1.314406990367565     0.023573949735077922\n",
       "-0.8420960015261783  0.023573949735077922  1.469676372472043\n"
      ]
     },
     "metadata": {},
     "output_type": "display_data",
     "source": "user"
    }
   ],
   "source": [
    "import  org.apache.spark.mllib.stat.Statistics\n",
    "\n",
    "import  breeze.linalg._\n",
    "\n",
    "val  rddVec = MLUtils.convertVectorColumnsFromML(dfScaled.select(\"scaledFeat\")).rdd.map(_(0).asInstanceOf[org.apache.spark.mllib.linalg.Vector])\n",
    "\n",
    "val  colCov = Statistics.corr(rddVec)\n",
    "val  invColCovB = inv(new DenseMatrix(3, 3, colCov.toArray))"
   ]
  },
  {
   "cell_type": "code",
   "execution_count": 7,
   "metadata": {
    "attributes": {
     "classes": [
      "scala"
     ],
     "id": ""
    }
   },
   "outputs": [
    {
     "data": {
      "text/plain": [
       "mahalanobis = UserDefinedFunction(<function1>,DoubleType,Some(List(org.apache.spark.ml.linalg.VectorUDT@3bfc3ba7)))\n",
       "dfMahalanobis = [id: bigint, scaledFeat: vector ... 1 more field]\n"
      ]
     },
     "metadata": {},
     "output_type": "display_data",
     "source": "user"
    },
    {
     "data": {
      "text/plain": [
       "[id: bigint, scaledFeat: vector ... 1 more field]"
      ]
     },
     "execution_count": 7,
     "metadata": {},
     "output_type": "execute_result"
    }
   ],
   "source": [
    "// Computing Mahalanobis Distance \n",
    "\n",
    "val mahalanobis = udf[Double, org.apache.spark.ml.linalg.Vector]{ v =>\n",
    " val k = v.toArray\n",
    " val vB = new DenseVector(k);\n",
    " vB.t * invColCovB * vB\n",
    "}\n",
    "\n",
    "val dfMahalanobis = dfScaled.withColumn(\"mahalanobis\", mahalanobis(dfScaled(\"scaledFeat\")))"
   ]
  },
  {
   "cell_type": "code",
   "execution_count": 8,
   "metadata": {
    "attributes": {
     "classes": [
      "scala"
     ],
     "id": ""
    }
   },
   "outputs": [
    {
     "name": "stdout",
     "output_type": "stream",
     "text": [
      "+---+--------------------+------------------+\n",
      "| id|          scaledFeat|       mahalanobis|\n",
      "+---+--------------------+------------------+\n",
      "|  0|[-0.4547149615137...| 0.395213334194827|\n",
      "|  1|[-0.0514304195269...|1.0136570223400254|\n",
      "|  2|[0.16706755596984...| 3.683608028817502|\n",
      "|  3|[-0.8604783575193...|2.9395558419372585|\n",
      "|  4|[-0.4932162279053...|0.3414104330535219|\n",
      "|  5|[-0.2727855749315...| 2.186702930869009|\n",
      "|  6|[-0.3479655155863...| 2.979766249119513|\n",
      "|  7|[-0.7164656378138...| 2.658093077061608|\n",
      "|  8|[0.23569420610668...|2.9571704842712463|\n",
      "|  9|[-0.0364814207361...|2.1515995051504926|\n",
      "| 10|[2.83077635345669...| 8.693223093184995|\n",
      "+---+--------------------+------------------+\n",
      "\n"
     ]
    }
   ],
   "source": [
    "// Computing Mahalanobis Distance \n",
    "dfMahalanobis.show()"
   ]
  },
  {
   "cell_type": "code",
   "execution_count": 9,
   "metadata": {
    "attributes": {
     "classes": [
      "scala"
     ],
     "id": ""
    }
   },
   "outputs": [
    {
     "name": "stdout",
     "output_type": "stream",
     "text": [
      "+---+--------------------+-----------------+\n",
      "| id|          scaledFeat|      mahalanobis|\n",
      "+---+--------------------+-----------------+\n",
      "| 10|[2.83077635345669...|8.693223093184995|\n",
      "|  2|[0.16706755596984...|3.683608028817502|\n",
      "+---+--------------------+-----------------+\n",
      "only showing top 2 rows\n",
      "\n"
     ]
    },
    {
     "data": {
      "text/plain": [
       "ids = Array([10], [2], [6], [8], [3], [7], [5], [9], [1], [0], [4])\n",
       "idOutliers = Array(10, 2)\n"
      ]
     },
     "metadata": {},
     "output_type": "display_data",
     "source": "user"
    },
    {
     "data": {
      "text/plain": [
       "Array(10, 2)"
      ]
     },
     "execution_count": 9,
     "metadata": {},
     "output_type": "execute_result"
    }
   ],
   "source": [
    "// Removing Outliers \n",
    "\n",
    "dfMahalanobis.sort(dfMahalanobis(\"mahalanobis\").desc).show(2)\n",
    "\n",
    "val ids = dfMahalanobis.select(\"id\",\"mahalanobis\").sort(dfMahalanobis(\"mahalanobis\").desc).drop(\"mahalanobis\").collect() \n",
    "\n",
    "val idOutliers = ids.map(_(0).asInstanceOf[Long]).slice(0,2)"
   ]
  },
  {
   "cell_type": "markdown",
   "metadata": {},
   "source": [
    "## Removing Outliers"
   ]
  },
  {
   "cell_type": "code",
   "execution_count": 10,
   "metadata": {
    "attributes": {
     "classes": [
      "scala"
     ],
     "id": ""
    }
   },
   "outputs": [
    {
     "name": "stdout",
     "output_type": "stream",
     "text": [
      "+---+--------------------+\n",
      "| id|            features|\n",
      "+---+--------------------+\n",
      "|  0|[0.41371264720975...|\n",
      "|  1|[0.73117192818966...|\n",
      "|  3|[0.09430205113458...|\n",
      "|  4|[0.38340505276222...|\n",
      "|  5|[0.55692461355235...|\n",
      "|  6|[0.49774414066138...|\n",
      "|  7|[0.20766661062014...|\n",
      "|  8|[0.95719194065089...|\n",
      "|  9|[0.74293954612044...|\n",
      "+---+--------------------+\n",
      "\n"
     ]
    }
   ],
   "source": [
    "dfOutlier.filter(\"id not in (10, 2)\").show()"
   ]
  },
  {
   "cell_type": "markdown",
   "metadata": {},
   "source": [
    "## Lesson Summary\n",
    "\n",
    "- Having completed this lesson, you should be able to:\n",
    "-\tCompute the inverse of covariance matrix given of a dataset \n",
    "-\tCompute Mahalanobis Distance for all elements in a dataset\n",
    "-\tRemove outliers from a dataset\n",
    "\n",
    "### About the Authors\n",
    "\n",
    "[Petro Verkhogliad](https://www.linkedin.com/in/vpetro) is Consulting Manager at Lightbend. He holds a Masters degree in Computer Science with specialization in Intelligent Systems. He is passionate about functional programming and applications of AI."
   ]
  },
  {
   "cell_type": "code",
   "execution_count": null,
   "metadata": {},
   "outputs": [],
   "source": []
  }
 ],
 "metadata": {
  "kernelspec": {
   "display_name": "Apache Toree - Scala",
   "language": "scala",
   "name": "apache_toree_scala"
  },
  "language_info": {
   "codemirror_mode": "text/x-scala",
   "file_extension": ".scala",
   "mimetype": "text/x-scala",
   "name": "scala",
   "pygments_lexer": "scala",
   "version": "2.11.12"
  }
 },
 "nbformat": 4,
 "nbformat_minor": 4
}
