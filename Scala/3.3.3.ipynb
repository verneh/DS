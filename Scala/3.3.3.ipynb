{
 "cells": [
  {
   "cell_type": "markdown",
   "metadata": {},
   "source": [
    "<a href=\"https://cocl.us/Data_Science_with_Scalla_top\"><img src = \"https://s3-api.us-geo.objectstorage.softlayer.net/cf-courses-data/CognitiveClass/SC0103EN/adds/Data_Science_with_Scalla_notebook_top.png\" width = 750, align = \"center\"></a>\n",
    " <br/>\n",
    "<a><img src=\"https://ibm.box.com/shared/static/ugcqz6ohbvff804xp84y4kqnvvk3bq1g.png\" width=\"200\" align=\"center\"></a>\"\n",
    "\n",
    "# Module 3: Feature Engineering\n",
    "\n",
    "## Using Explode, User Defined Functions, and Pivot\n",
    "\n",
    "\n",
    "### Lesson Objectives: \n",
    "\n",
    "- After completing this lesson, you should be able to use these methods on DataFrames:\n",
    "-\t`explode()`\n",
    "-\tUser Defined Functions \n",
    "-\t`pivot()`\n",
    "\n",
    "\n",
    "\n",
    "### How Can We Turn Sales Data Into A Report"
   ]
  },
  {
   "cell_type": "code",
   "execution_count": 1,
   "metadata": {
    "attributes": {
     "classes": [
      "scala"
     ],
     "id": ""
    }
   },
   "outputs": [
    {
     "data": {
      "text/plain": [
       "spark = org.apache.spark.sql.SparkSession@15c181c0\n"
      ]
     },
     "metadata": {},
     "output_type": "display_data",
     "source": "user"
    },
    {
     "data": {
      "text/plain": [
       "org.apache.spark.sql.SparkSession@15c181c0"
      ]
     },
     "execution_count": 1,
     "metadata": {},
     "output_type": "execute_result"
    }
   ],
   "source": [
    "import org.apache.spark.sql.SparkSession\n",
    "val spark = SparkSession.builder().getOrCreate()\n",
    "import spark.implicits._\n",
    "import org.apache.spark.sql.functions._"
   ]
  },
  {
   "cell_type": "code",
   "execution_count": 2,
   "metadata": {
    "attributes": {
     "classes": [
      "scala"
     ],
     "id": ""
    }
   },
   "outputs": [
    {
     "data": {
      "text/plain": [
       "defined class Sales\n"
      ]
     },
     "metadata": {},
     "output_type": "display_data",
     "source": "user"
    }
   ],
   "source": [
    "// Setting Up the Example\n",
    "\n",
    "case class Sales( id: Int, account: String, year: String, commission: Int, sales_reps: Seq[String])\n"
   ]
  },
  {
   "cell_type": "code",
   "execution_count": 3,
   "metadata": {
    "attributes": {
     "classes": [
      "scala"
     ],
     "id": ""
    }
   },
   "outputs": [
    {
     "name": "stdout",
     "output_type": "stream",
     "text": [
      "+---+-------+----+----------+-------------+\n",
      "| id|account|year|commission|   sales_reps|\n",
      "+---+-------+----+----------+-------------+\n",
      "|  1|   Acme|2013|      1000|   [Jim, Tom]|\n",
      "|  2|  Lumos|2013|      1100|  [Fred, Ann]|\n",
      "|  3|   Acme|2014|      2800|        [Jim]|\n",
      "|  4|  Lumos|2014|      4200|[Fred, Sally]|\n",
      "+---+-------+----+----------+-------------+\n",
      "\n"
     ]
    },
    {
     "data": {
      "text/plain": [
       "sales = [id: int, account: string ... 3 more fields]\n"
      ]
     },
     "metadata": {},
     "output_type": "display_data",
     "source": "user"
    },
    {
     "data": {
      "text/plain": [
       "[id: int, account: string ... 3 more fields]"
      ]
     },
     "execution_count": 3,
     "metadata": {},
     "output_type": "execute_result"
    }
   ],
   "source": [
    "val sales = spark.createDataFrame(Seq(\n",
    "  Sales(1, \"Acme\", \"2013\", 1000, Seq(\"Jim\", \"Tom\")),\n",
    "  Sales(2, \"Lumos\", \"2013\", 1100, Seq(\"Fred\", \"Ann\")),\n",
    "  Sales(3, \"Acme\", \"2014\", 2800, Seq(\"Jim\")),\n",
    "  Sales(4, \"Lumos\", \"2014\", 4200, Seq(\"Fred\", \"Sally\"))\n",
    "))\n",
    "sales.show()"
   ]
  },
  {
   "cell_type": "markdown",
   "metadata": {},
   "source": [
    "## explode()"
   ]
  },
  {
   "cell_type": "code",
   "execution_count": 4,
   "metadata": {
    "attributes": {
     "classes": [
      "scala"
     ],
     "id": ""
    }
   },
   "outputs": [
    {
     "name": "stdout",
     "output_type": "stream",
     "text": [
      "+---+-------+----+----------+---------+\n",
      "| id|account|year|commission|sales_rep|\n",
      "+---+-------+----+----------+---------+\n",
      "|  1|   Acme|2013|      1000|      Jim|\n",
      "|  1|   Acme|2013|      1000|      Tom|\n",
      "|  2|  Lumos|2013|      1100|     Fred|\n",
      "|  2|  Lumos|2013|      1100|      Ann|\n",
      "|  3|   Acme|2014|      2800|      Jim|\n",
      "|  4|  Lumos|2014|      4200|     Fred|\n",
      "|  4|  Lumos|2014|      4200|    Sally|\n",
      "+---+-------+----+----------+---------+\n",
      "\n"
     ]
    }
   ],
   "source": [
    "sales.select( $\"id\", $\"account\", $\"year\", $\"commission\", explode($\"sales_reps\") as(\"sales_rep\")).show()"
   ]
  },
  {
   "cell_type": "markdown",
   "metadata": {},
   "source": [
    "## User Defined Functions"
   ]
  },
  {
   "cell_type": "code",
   "execution_count": 5,
   "metadata": {
    "attributes": {
     "classes": [
      "scala"
     ],
     "id": ""
    }
   },
   "outputs": [
    {
     "data": {
      "text/plain": [
       "len = > Int = <function1>\n",
       "column_len = UserDefinedFunction(<function1>,IntegerType,Some(List(ArrayType(StringType,true))))\n"
      ]
     },
     "metadata": {},
     "output_type": "display_data",
     "source": "user"
    },
    {
     "data": {
      "text/plain": [
       "UserDefinedFunction(<function1>,IntegerType,Some(List(ArrayType(StringType,true))))"
      ]
     },
     "execution_count": 5,
     "metadata": {},
     "output_type": "execute_result"
    }
   ],
   "source": [
    "val len: (Seq[String] => Int) = (arg: Seq[String]) => {arg.length}\n",
    "val column_len = udf(len)\n"
   ]
  },
  {
   "cell_type": "code",
   "execution_count": 6,
   "metadata": {
    "attributes": {
     "classes": [
      "scala"
     ],
     "id": ""
    }
   },
   "outputs": [
    {
     "name": "stdout",
     "output_type": "stream",
     "text": [
      "+---+-------+----+----------+------+---------+\n",
      "| id|account|year|commission| share|sales_rep|\n",
      "+---+-------+----+----------+------+---------+\n",
      "|  1|   Acme|2013|      1000| 500.0|      Jim|\n",
      "|  1|   Acme|2013|      1000| 500.0|      Tom|\n",
      "|  2|  Lumos|2013|      1100| 550.0|     Fred|\n",
      "|  2|  Lumos|2013|      1100| 550.0|      Ann|\n",
      "|  3|   Acme|2014|      2800|2800.0|      Jim|\n",
      "|  4|  Lumos|2014|      4200|2100.0|     Fred|\n",
      "|  4|  Lumos|2014|      4200|2100.0|    Sally|\n",
      "+---+-------+----+----------+------+---------+\n",
      "\n"
     ]
    },
    {
     "data": {
      "text/plain": [
       "exploded = [id: int, account: string ... 4 more fields]\n"
      ]
     },
     "metadata": {},
     "output_type": "display_data",
     "source": "user"
    },
    {
     "data": {
      "text/plain": [
       "[id: int, account: string ... 4 more fields]"
      ]
     },
     "execution_count": 6,
     "metadata": {},
     "output_type": "execute_result"
    }
   ],
   "source": [
    "val exploded = sales.select( $\"id\", $\"account\", $\"year\", $\"commission\", ($\"commission\" / column_len($\"sales_reps\")).as(\"share\"), explode($\"sales_reps\").as(\"sales_rep\"))\n",
    "exploded.show()"
   ]
  },
  {
   "cell_type": "markdown",
   "metadata": {},
   "source": [
    "## pivot()"
   ]
  },
  {
   "cell_type": "code",
   "execution_count": 7,
   "metadata": {
    "attributes": {
     "classes": [
      "scala"
     ],
     "id": ""
    }
   },
   "outputs": [
    {
     "data": {
      "text/plain": [
       "Array([Ann,550.0,null], [Fred,550.0,2100.0], [Jim,500.0,2800.0], [Sally,null,2100.0], [Tom,500.0,null])"
      ]
     },
     "execution_count": 7,
     "metadata": {},
     "output_type": "execute_result"
    }
   ],
   "source": [
    "exploded.groupBy($\"sales_rep\").pivot(\"year\").agg(sum(\"share\")).orderBy(\"sales_rep\").collect"
   ]
  },
  {
   "cell_type": "code",
   "execution_count": 8,
   "metadata": {
    "attributes": {
     "classes": [
      "scala"
     ],
     "id": ""
    }
   },
   "outputs": [
    {
     "data": {
      "text/plain": [
       "Array([Acme,Jim,500.0,2800.0], [Acme,Tom,500.0,null], [Lumos,Ann,550.0,null], [Lumos,Fred,550.0,2100.0], [Lumos,Sally,null,2100.0])"
      ]
     },
     "execution_count": 8,
     "metadata": {},
     "output_type": "execute_result"
    }
   ],
   "source": [
    "exploded.groupBy($\"account\", $\"sales_rep\").pivot(\"year\").agg(sum(\"share\")).orderBy(\"account\", \"sales_rep\").collect"
   ]
  },
  {
   "cell_type": "markdown",
   "metadata": {},
   "source": [
    "### Lesson Summary\n",
    "\n",
    "Having completed this lesson, you should understand the role of\n",
    "\n",
    "-\t`explode()`\n",
    "-\tUser Defined Functions \n",
    "-\t`pivot()`\n",
    "\n",
    "\n",
    "### About the Authors\n",
    "\n",
    "[Petro Verkhogliad](https://www.linkedin.com/in/vpetro) is Consulting Manager at Lightbend. He holds a Masters degree in Computer Science with specialization in Intelligent Systems. He is passionate about functional programming and applications of AI."
   ]
  },
  {
   "cell_type": "code",
   "execution_count": null,
   "metadata": {},
   "outputs": [],
   "source": []
  }
 ],
 "metadata": {
  "kernelspec": {
   "display_name": "Apache Toree - Scala",
   "language": "scala",
   "name": "apache_toree_scala"
  },
  "language_info": {
   "codemirror_mode": "text/x-scala",
   "file_extension": ".scala",
   "mimetype": "text/x-scala",
   "name": "scala",
   "pygments_lexer": "scala",
   "version": "2.11.12"
  }
 },
 "nbformat": 4,
 "nbformat_minor": 4
}
