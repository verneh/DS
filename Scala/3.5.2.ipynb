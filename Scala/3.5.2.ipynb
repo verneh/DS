{
 "cells": [
  {
   "cell_type": "markdown",
   "metadata": {},
   "source": [
    "<a href=\"https://cocl.us/Data_Science_with_Scalla_top\"><img src = \"https://s3-api.us-geo.objectstorage.softlayer.net/cf-courses-data/CognitiveClass/SC0103EN/adds/Data_Science_with_Scalla_notebook_top.png\" width = 750, align = \"center\"></a>\n",
    " <br/>\n",
    "<a><img src=\"https://ibm.box.com/shared/static/ugcqz6ohbvff804xp84y4kqnvvk3bq1g.png\" width=\"200\" align=\"center\"></a>\"\n",
    "\n",
    "# Module 5: Pipeline and Grid Search\n",
    "\n",
    "## Predicting Grant Applications: Creating Features\n",
    "\n",
    "### Lesson Objectives\n",
    "\n",
    "* After completing this lesson, you should be able to:\n",
    "  - Create features for your own datasets\n",
    "  - Learn about and set relevant model parameters\n",
    "  \n",
    "### Overall Plan of Attack\n",
    "\n",
    "* Make some of the data more useful by adding some columns to the dataset that re-encode a few fields\n",
    "* Using groupBy on the Grant_Application_ID, aggregate/summarize the data about researchers\n",
    "* When necessary, create StringINdexers for the categorical features\n",
    "\n",
    "### Re-encode some data"
   ]
  },
  {
   "cell_type": "code",
   "execution_count": 1,
   "metadata": {
    "attributes": {
     "classes": [
      "scala"
     ],
     "id": ""
    }
   },
   "outputs": [
    {
     "data": {
      "text/plain": [
       "spark = org.apache.spark.sql.SparkSession@6d4fe7b0\n"
      ]
     },
     "metadata": {},
     "output_type": "display_data",
     "source": "user"
    },
    {
     "data": {
      "text/plain": [
       "org.apache.spark.sql.SparkSession@6d4fe7b0"
      ]
     },
     "execution_count": 1,
     "metadata": {},
     "output_type": "execute_result"
    }
   ],
   "source": [
    "import org.apache.spark.sql.SparkSession\n",
    "val spark = SparkSession.builder().getOrCreate()\n",
    "import spark.implicits._\n",
    "import org.apache.spark.sql.functions._"
   ]
  },
  {
   "cell_type": "code",
   "execution_count": 2,
   "metadata": {
    "attributes": {
     "classes": [
      "scala"
     ],
     "id": ""
    }
   },
   "outputs": [
    {
     "name": "stdout",
     "output_type": "stream",
     "text": [
      "+--------------------+----------+---------------+---------+--------------+---------+--------------------+-------------+----------------+-------------+--------+----------+--------+-----------------------------------+--------------------------+----------------------------+----+----+----+----+------------+------------+--------------------+-------------------+\n",
      "|Grant_Application_ID| RFCD_Code|RFCD_Percentage| SEO_Code|SEO_Percentage|Person_ID|                Role|Year_of_Birth|Country_of_Birth|Home_Language| Dept_No|Faculty_No|With_PHD|No_of_Years_in_Uni_at_Time_of_Grant|Number_of_Successful_Grant|Number_of_Unsuccessful_Grant|  A2|   A|   B|   C|Grant_Status|Sponsor_Code| Contract_Value_Band|Grant_Category_Code|\n",
      "+--------------------+----------+---------------+---------+--------------+---------+--------------------+-------------+----------------+-------------+--------+----------+--------+-----------------------------------+--------------------------+----------------------------+----+----+----+----+------------+------------+--------------------+-------------------+\n",
      "|                   1|RFCD280199|          100.0|SEO700299|         100.0|    40572|  CHIEF_INVESTIGATOR|         1965|     AsiaPacific|    OtherLang|Dept3073| Faculty31|    null|                        DurationLT0|                         0|                           0|   4|   2|   0|   0|           1|  SponsorUnk|  ContractValueBandA|        GrantCatUnk|\n",
      "|                   2|RFCD280103|           30.0|SEO700103|          50.0|     9067|  CHIEF_INVESTIGATOR|         1960|       Australia|         null|Dept2538| Faculty25|     Yes|                       DurationGT15|                         0|                           0|   6|  12|   2|   2|           1|   Sponsor2B|  ContractValueBandB|        GrantCat10A|\n",
      "|                   3|RFCD321004|           60.0|SEO730105|          60.0|     5967|  CHIEF_INVESTIGATOR|         1955|       Australia|         null|Dept2923| Faculty25|     Yes|                      Duration5to10|                         0|                           0|   0|   3|   5|   2|           1|  Sponsor29A|  ContractValueBandA|        GrantCat10B|\n",
      "|                   3|      null|           null|     null|          null|     null|EXT_CHIEF_INVESTI...|         null|            null|         null|    null|      null|    null|                        DurationUnk|                      null|                        null|null|null|null|null|           1|  Sponsor29A|  ContractValueBandA|        GrantCat10B|\n",
      "|                   3|      null|           null|     null|          null|     null|EXT_CHIEF_INVESTI...|         null|            null|         null|    null|      null|    null|                        DurationUnk|                      null|                        null|null|null|null|null|           1|  Sponsor29A|  ContractValueBandA|        GrantCat10B|\n",
      "|                   3|RFCD321216|           40.0|SEO730207|          40.0|    27307|  CHIEF_INVESTIGATOR|         1950|       Australia|         null|Dept2923| Faculty25|    null|                        DurationLT0|                         0|                           0|   0|   0|   0|   0|           1|  Sponsor29A|  ContractValueBandA|        GrantCat10B|\n",
      "|                   3|      null|           null|     null|          null|     null|EXT_CHIEF_INVESTI...|         null|            null|         null|    null|      null|    null|                        DurationUnk|                      null|                        null|null|null|null|null|           1|  Sponsor29A|  ContractValueBandA|        GrantCat10B|\n",
      "|                   3|      null|           null|     null|          null|    79652|  CHIEF_INVESTIGATOR|         1950|     AsiaPacific|         null|Dept2498| Faculty25|     Yes|                       DurationGT15|                         0|                           0|   1|   3|   3|   3|           1|  Sponsor29A|  ContractValueBandA|        GrantCat10B|\n",
      "|                   3|      null|           null|     null|          null|    11667|DELEGATED_RESEARCHER|         1950|       Australia|         null|Dept2548| Faculty25|    null|                       DurationGT15|                         0|                           0|   6|  14|  12|   2|           1|  Sponsor29A|  ContractValueBandA|        GrantCat10B|\n",
      "|                   4|RFCD270602|           50.0|SEO730106|          70.0|    78782|PRINCIPAL_SUPERVISOR|         1955|       Australia|         null|Dept2678| Faculty25|     Yes|                      Duration5to10|                         0|                           0|   0|   3|  13|   3|           1|  Sponsor40D|  ContractValueBandC|        GrantCat10B|\n",
      "|                   4|      null|           null|     null|          null|     null|EXT_CHIEF_INVESTI...|         null|            null|         null|    null|      null|    null|                        DurationUnk|                      null|                        null|null|null|null|null|           1|  Sponsor40D|  ContractValueBandC|        GrantCat10B|\n",
      "|                   4|      null|           null|     null|          null|     null|EXT_CHIEF_INVESTI...|         null|            null|         null|    null|      null|    null|                        DurationUnk|                      null|                        null|null|null|null|null|           1|  Sponsor40D|  ContractValueBandC|        GrantCat10B|\n",
      "|                   4|RFCD320602|           50.0|SEO730201|          30.0|    55337|  CHIEF_INVESTIGATOR|         1975|       Australia|         null|Dept2678| Faculty25|     Yes|                       Duration0to5|                         0|                           0|   0|   0|   0|   0|           1|  Sponsor40D|  ContractValueBandC|        GrantCat10B|\n",
      "|                   4|      null|           null|     null|          null|     null|EXT_CHIEF_INVESTI...|         null|            null|         null|    null|      null|    null|                        DurationUnk|                      null|                        null|null|null|null|null|           1|  Sponsor40D|  ContractValueBandC|        GrantCat10B|\n",
      "|                   4|      null|           null|     null|          null|     null|STUD_CHIEF_INVEST...|         null|            null|         null|    null|      null|    null|                        DurationUnk|                      null|                        null|null|null|null|null|           1|  Sponsor40D|  ContractValueBandC|        GrantCat10B|\n",
      "|                   5|RFCD260500|           34.0|SEO770199|         100.0|    13042|  CHIEF_INVESTIGATOR|         1965|   WesternEurope|         null|Dept2153| Faculty19|     Yes|                      Duration5to10|                         0|                           0|   3|   0|   1|   0|           0|  Sponsor59C|  ContractValueBandA|        GrantCat10A|\n",
      "|                   6|RFCD321204|          100.0|SEO730211|         100.0|   301472|  CHIEF_INVESTIGATOR|         1950|       Australia|         null|Dept2533| Faculty25|     Yes|                       Duration0to5|                         2|                           0|   7|  27|  27|   6|           1|   Sponsor4D|ContractValueBandUnk|        GrantCat10A|\n",
      "|                   7|RFCD270401|           20.0|     null|          null|    79742|  CHIEF_INVESTIGATOR|         1950|    GreatBritain|         null|Dept3028| Faculty31|    null|                        DurationLT0|                         0|                           0|   0|   7|  12|   4|           0|   Sponsor2B|ContractValueBandUnk|        GrantCat10A|\n",
      "|                   7|      null|           null|     null|          null|     null|EXT_CHIEF_INVESTI...|         null|            null|         null|    null|      null|    null|                        DurationUnk|                      null|                        null|null|null|null|null|           0|   Sponsor2B|ContractValueBandUnk|        GrantCat10A|\n",
      "|                   7|RFCD270203|           30.0|SEO770706|          40.0|    82602|  CHIEF_INVESTIGATOR|         1960|       Australia|         null|Dept3028| Faculty31|     Yes|                     Duration10to15|                         0|                           1|   0|   0|   0|   0|          0|   Sponsor2B|ContractValueBandUnk|        GrantCat10A|\n",
      "+--------------------+----------+---------------+---------+--------------+---------+--------------------+-------------+----------------+-------------+--------+----------+--------+-----------------------------------+--------------------------+----------------------------+----+----+----+----+------------+------------+--------------------+-------------------+\n",
      "only showing top 20 rows\n",
      "\n"
     ]
    },
    {
     "data": {
      "text/plain": [
       "data = [Grant_Application_ID: int, RFCD_Code: string ... 22 more fields]\n"
      ]
     },
     "metadata": {},
     "output_type": "display_data",
     "source": "user"
    },
    {
     "data": {
      "text/plain": [
       "[Grant_Application_ID: int, RFCD_Code: string ... 22 more fields]"
      ]
     },
     "execution_count": 2,
     "metadata": {},
     "output_type": "execute_result"
    }
   ],
   "source": [
    "val data = spark.read.\n",
    "  format(\"com.databricks.spark.csv\").\n",
    "  option(\"delimiter\", \"\\t\").\n",
    "  option(\"header\", \"true\").\n",
    "  option(\"inferSchema\", \"true\").\n",
    "  load(\"/resources/data/grantsPeople.csv\")\n",
    "\n",
    "data.show()"
   ]
  },
  {
   "cell_type": "code",
   "execution_count": 3,
   "metadata": {
    "attributes": {
     "classes": [
      "scala"
     ],
     "id": ""
    }
   },
   "outputs": [
    {
     "name": "stdout",
     "output_type": "stream",
     "text": [
      "+--------------------+----------+---------------+---------+--------------+---------+--------------------+-------------+----------------+-------------+--------+----------+--------+-----------------------------------+--------------------------+----------------------------+----+----+----+----+------------+------------+--------------------+-------------------+\n",
      "|Grant_Application_ID| RFCD_Code|RFCD_Percentage| SEO_Code|SEO_Percentage|Person_ID|                Role|Year_of_Birth|Country_of_Birth|Home_Language| Dept_No|Faculty_No|With_PHD|No_of_Years_in_Uni_at_Time_of_Grant|Number_of_Successful_Grant|Number_of_Unsuccessful_Grant|  A2|   A|   B|   C|Grant_Status|Sponsor_Code| Contract_Value_Band|Grant_Category_Code|\n",
      "+--------------------+----------+---------------+---------+--------------+---------+--------------------+-------------+----------------+-------------+--------+----------+--------+-----------------------------------+--------------------------+----------------------------+----+----+----+----+------------+------------+--------------------+-------------------+\n",
      "|                   1|RFCD280199|          100.0|SEO700299|         100.0|    40572|  CHIEF_INVESTIGATOR|         1965|     AsiaPacific|    OtherLang|Dept3073| Faculty31|    null|                        DurationLT0|                         0|                           0|   4|   2|   0|   0|           1|  SponsorUnk|  ContractValueBandA|        GrantCatUnk|\n",
      "|                   2|RFCD280103|           30.0|SEO700103|          50.0|     9067|  CHIEF_INVESTIGATOR|         1960|       Australia|         null|Dept2538| Faculty25|     Yes|                       DurationGT15|                         0|                           0|   6|  12|   2|   2|           1|   Sponsor2B|  ContractValueBandB|        GrantCat10A|\n",
      "|                   3|RFCD321004|           60.0|SEO730105|          60.0|     5967|  CHIEF_INVESTIGATOR|         1955|       Australia|         null|Dept2923| Faculty25|     Yes|                      Duration5to10|                         0|                           0|   0|   3|   5|   2|           1|  Sponsor29A|  ContractValueBandA|        GrantCat10B|\n",
      "|                   3|      null|           null|     null|          null|     null|EXT_CHIEF_INVESTI...|         null|            null|         null|    null|      null|    null|                        DurationUnk|                      null|                        null|null|null|null|null|           1|  Sponsor29A|  ContractValueBandA|        GrantCat10B|\n",
      "|                   3|      null|           null|     null|          null|     null|EXT_CHIEF_INVESTI...|         null|            null|         null|    null|      null|    null|                        DurationUnk|                      null|                        null|null|null|null|null|           1|  Sponsor29A|  ContractValueBandA|        GrantCat10B|\n",
      "|                   3|RFCD321216|           40.0|SEO730207|          40.0|    27307|  CHIEF_INVESTIGATOR|         1950|       Australia|         null|Dept2923| Faculty25|    null|                        DurationLT0|                         0|                           0|   0|   0|   0|   0|           1|  Sponsor29A|  ContractValueBandA|        GrantCat10B|\n",
      "|                   3|      null|           null|     null|          null|     null|EXT_CHIEF_INVESTI...|         null|            null|         null|    null|      null|    null|                        DurationUnk|                      null|                        null|null|null|null|null|           1|  Sponsor29A|  ContractValueBandA|        GrantCat10B|\n",
      "|                   3|      null|           null|     null|          null|    79652|  CHIEF_INVESTIGATOR|         1950|     AsiaPacific|         null|Dept2498| Faculty25|     Yes|                       DurationGT15|                         0|                           0|   1|   3|   3|   3|           1|  Sponsor29A|  ContractValueBandA|        GrantCat10B|\n",
      "|                   3|      null|           null|     null|          null|    11667|DELEGATED_RESEARCHER|         1950|       Australia|         null|Dept2548| Faculty25|    null|                       DurationGT15|                         0|                           0|   6|  14|  12|   2|           1|  Sponsor29A|  ContractValueBandA|        GrantCat10B|\n",
      "|                   4|RFCD270602|           50.0|SEO730106|          70.0|    78782|PRINCIPAL_SUPERVISOR|         1955|       Australia|         null|Dept2678| Faculty25|     Yes|                      Duration5to10|                         0|                           0|   0|   3|  13|   3|           1|  Sponsor40D|  ContractValueBandC|        GrantCat10B|\n",
      "|                   4|      null|           null|     null|          null|     null|EXT_CHIEF_INVESTI...|         null|            null|         null|    null|      null|    null|                        DurationUnk|                      null|                        null|null|null|null|null|           1|  Sponsor40D|  ContractValueBandC|        GrantCat10B|\n",
      "|                   4|      null|           null|     null|          null|     null|EXT_CHIEF_INVESTI...|         null|            null|         null|    null|      null|    null|                        DurationUnk|                      null|                        null|null|null|null|null|           1|  Sponsor40D|  ContractValueBandC|        GrantCat10B|\n",
      "|                   4|RFCD320602|           50.0|SEO730201|          30.0|    55337|  CHIEF_INVESTIGATOR|         1975|       Australia|         null|Dept2678| Faculty25|     Yes|                       Duration0to5|                         0|                           0|   0|   0|   0|   0|           1|  Sponsor40D|  ContractValueBandC|        GrantCat10B|\n",
      "|                   4|      null|           null|     null|          null|     null|EXT_CHIEF_INVESTI...|         null|            null|         null|    null|      null|    null|                        DurationUnk|                      null|                        null|null|null|null|null|           1|  Sponsor40D|  ContractValueBandC|        GrantCat10B|\n",
      "|                   4|      null|           null|     null|          null|     null|STUD_CHIEF_INVEST...|         null|            null|         null|    null|      null|    null|                        DurationUnk|                      null|                        null|null|null|null|null|           1|  Sponsor40D|  ContractValueBandC|        GrantCat10B|\n",
      "|                   5|RFCD260500|           34.0|SEO770199|         100.0|    13042|  CHIEF_INVESTIGATOR|         1965|   WesternEurope|         null|Dept2153| Faculty19|     Yes|                      Duration5to10|                         0|                           0|   3|   0|   1|   0|           0|  Sponsor59C|  ContractValueBandA|        GrantCat10A|\n",
      "|                   6|RFCD321204|          100.0|SEO730211|         100.0|   301472|  CHIEF_INVESTIGATOR|         1950|       Australia|         null|Dept2533| Faculty25|     Yes|                       Duration0to5|                         2|                           0|   7|  27|  27|   6|           1|   Sponsor4D|ContractValueBandUnk|        GrantCat10A|\n",
      "|                   7|RFCD270401|           20.0|     null|          null|    79742|  CHIEF_INVESTIGATOR|         1950|    GreatBritain|         null|Dept3028| Faculty31|    null|                        DurationLT0|                         0|                           0|   0|   7|  12|   4|           0|   Sponsor2B|ContractValueBandUnk|        GrantCat10A|\n",
      "|                   7|      null|           null|     null|          null|     null|EXT_CHIEF_INVESTI...|         null|            null|         null|    null|      null|    null|                        DurationUnk|                      null|                        null|null|null|null|null|           0|   Sponsor2B|ContractValueBandUnk|        GrantCat10A|\n",
      "|                   7|RFCD270203|           30.0|SEO770706|          40.0|    82602|  CHIEF_INVESTIGATOR|         1960|       Australia|         null|Dept3028| Faculty31|     Yes|                     Duration10to15|                         0|                           1|   0|   0|   0|   0|           0|   Sponsor2B|ContractValueBandUnk|        GrantCat10A|\n",
      "+--------------------+----------+---------------+---------+--------------+---------+--------------------+-------------+----------------+-------------+--------+----------+--------+-----------------------------------+--------------------------+----------------------------+----+----+----+----+------------+------------+--------------------+-------------------+\n",
      "only showing top 20 rows\n",
      "\n"
     ]
    },
    {
     "data": {
      "text/plain": [
       "researchers = [Grant_Application_ID: int, RFCD_Code: string ... 25 more fields]\n"
      ]
     },
     "metadata": {},
     "output_type": "display_data",
     "source": "user"
    },
    {
     "data": {
      "text/plain": [
       "[Grant_Application_ID: int, RFCD_Code: string ... 25 more fields]"
      ]
     },
     "execution_count": 3,
     "metadata": {},
     "output_type": "execute_result"
    }
   ],
   "source": [
    "val researchers = data.\n",
    "  withColumn (\"phd\", data(\"With_PHD\").equalTo(\"Yes\").cast(\"Int\")).\n",
    "  withColumn (\"CI\", data(\"Role\").equalTo(\"CHIEF_INVESTIGATOR\").cast(\"Int\")).\n",
    "  withColumn(\"paperscore\", data(\"A2\") * 4 + data(\"A\") * 3)\n",
    "data.show()"
   ]
  },
  {
   "cell_type": "markdown",
   "metadata": {},
   "source": [
    "### Summarize Team Data"
   ]
  },
  {
   "cell_type": "code",
   "execution_count": 4,
   "metadata": {
    "attributes": {
     "classes": [
      "scala"
     ],
     "id": ""
    }
   },
   "outputs": [
    {
     "name": "stdout",
     "output_type": "stream",
     "text": [
      "+--------------------+------------+-------------+--------------------+----+----------+--------+---------+--------+\n",
      "|Grant_Application_ID|Grant_Status|Category_Code|          Value_Band|PHDs|paperscore|teamsize|successes|failures|\n",
      "+--------------------+------------+-------------+--------------------+----+----------+--------+---------+--------+\n",
      "|                 148|           0|  GrantCat30B|ContractValueBandUnk|null|         6|       1|        0|       1|\n",
      "|                 463|           1|  GrantCat30C|ContractValueBandUnk|null|         0|       1|        1|       0|\n",
      "|                 471|           0|  GrantCat30B|  ContractValueBandA|   1|       127|       2|        1|       5|\n",
      "|                 496|           0|  GrantCat30B|  ContractValueBandA|null|         0|       1|        1|       3|\n",
      "|                 833|           1|  GrantCat10A|  ContractValueBandF|null|         0|       1|        0|       0|\n",
      "|                1088|           1|  GrantCat50A|  ContractValueBandA|   1|        11|       1|        1|       0|\n",
      "|                1238|           1|  GrantCatUnk|  ContractValueBandA|   1|         6|       1|        0|       0|\n",
      "|                1342|           1|  GrantCat10A|  ContractValueBandE|   1|        51|       3|        3|       3|\n",
      "|                1580|           0|  GrantCat10B|ContractValueBandUnk|   2|        72|       3|        1|       2|\n",
      "|                1591|           1|  GrantCatUnk|ContractValueBandUnk|null|        39|       1|        1|       0|\n",
      "|                1645|           0|  GrantCat30D|  ContractValueBandB|null|         0|       1|        0|       0|\n",
      "|                1829|           1|  GrantCatUnk|  ContractValueBandA|   1|         4|       1|        0|       0|\n",
      "|                1959|           1|  GrantCat30B|  ContractValueBandA|null|         0|       1|        1|       0|\n",
      "|                2122|           1|  GrantCatUnk|ContractValueBandUnk|   1|        14|       1|        0|       0|\n",
      "|                2142|           1|  GrantCatUnk|ContractValueBandUnk|   1|        19|       1|        0|       1|\n",
      "|                2366|           0|  GrantCat10A|ContractValueBandUnk|null|         3|       2|        0|       3|\n",
      "|                2659|           1|  GrantCat30A|  ContractValueBandA|   1|       165|       1|        5|       6|\n",
      "|                2866|           1|  GrantCat20C|ContractValueBandUnk|null|         0|       2|        0|       0|\n",
      "|                3175|           0|  GrantCat50A|  ContractValueBandA|   1|         0|       1|        0|       3|\n",
      "|                3749|           0|  GrantCat10A|ContractValueBandUnk|   1|        18|       1|        0|       1|\n",
      "+--------------------+------------+-------------+--------------------+----+----------+--------+---------+--------+\n",
      "only showing top 20 rows\n",
      "\n"
     ]
    },
    {
     "data": {
      "text/plain": [
       "grants = [Grant_Application_ID: int, Grant_Status: int ... 7 more fields]\n"
      ]
     },
     "metadata": {},
     "output_type": "display_data",
     "source": "user"
    },
    {
     "data": {
      "text/plain": [
       "[Grant_Application_ID: int, Grant_Status: int ... 7 more fields]"
      ]
     },
     "execution_count": 4,
     "metadata": {},
     "output_type": "execute_result"
    }
   ],
   "source": [
    "val grants = researchers.groupBy(\"Grant_Application_ID\").agg(\n",
    "  max(\"Grant_Status\").as(\"Grant_Status\"),\n",
    "  max(\"Grant_Category_Code\").as(\"Category_Code\"),\n",
    "  max(\"Contract_Value_Band\").as(\"Value_Band\"),\n",
    "  sum(\"phd\").as(\"PHDs\"),\n",
    "  when(max(expr(\"paperscore * CI\")).isNull, 0).\n",
    "    otherwise(max(expr(\"paperscore * CI\"))).as(\"paperscore\"),\n",
    "  count(\"*\").as(\"teamsize\"),\n",
    "  when(sum(\"Number_of_Successful_Grant\").isNull, 0).\n",
    "    otherwise(sum(\"Number_of_Successful_Grant\")).as(\"successes\"),\n",
    "  when(sum(\"Number_of_Unsuccessful_Grant\").isNull, 0).\n",
    "    otherwise(sum(\"Number_of_Unsuccessful_Grant\")).as(\"failures\")\n",
    ")\n",
    "\n",
    "grants.show()"
   ]
  },
  {
   "cell_type": "markdown",
   "metadata": {},
   "source": [
    "### Handle Categorical Features"
   ]
  },
  {
   "cell_type": "code",
   "execution_count": null,
   "metadata": {
    "attributes": {
     "classes": [
      "scala"
     ],
     "id": ""
    }
   },
   "outputs": [],
   "source": [
    "\n",
    "import org.apache.spark.ml.feature.StringIndexer\n",
    "\n",
    "val value_band_indexer = new StringIndexer().\n",
    "  setInputCol(\"Value_Band\").\n",
    "  setOutputCol(\"Value_index\").\n",
    "  fit(grants)\n",
    "  \n",
    "val category_indexer = new StringIndexer().\n",
    "  setInputCol(\"Category_Code\").\n",
    "  setOutputCol(\"Category_index\").\n",
    "  fit(grants)\n",
    "  \n",
    "val label_indexer = new StringIndexer().\n",
    "  setInputCol(\"Grant_Status\").\n",
    "  setOutputCol(\"status\").\n",
    "  fit(grants)\n"
   ]
  },
  {
   "cell_type": "markdown",
   "metadata": {},
   "source": [
    "### Gather the Features into a Vector"
   ]
  },
  {
   "cell_type": "code",
   "execution_count": null,
   "metadata": {
    "attributes": {
     "classes": [
      "scala"
     ],
     "id": ""
    }
   },
   "outputs": [],
   "source": [
    "\n",
    "import org.apache.spark.ml.feature.VectorAssembler\n",
    "\n",
    "val assembler = new VectorAssembler().\n",
    "  setInputCols(Array(\n",
    "    \"Value_index\"\n",
    "    ,\"Category_index\"\n",
    "    ,\"PHDs\"\n",
    "    ,\"paperscore\"\n",
    "    ,\"teamsize\"\n",
    "    ,\"successes\"\n",
    "    ,\"failures\"\n",
    "  )).\n",
    "  setOutputCol(\"assembled\")\n",
    "  "
   ]
  },
  {
   "cell_type": "markdown",
   "metadata": {},
   "source": [
    "### Setup a Classifier"
   ]
  },
  {
   "cell_type": "code",
   "execution_count": null,
   "metadata": {
    "attributes": {
     "classes": [
      "scala"
     ],
     "id": ""
    }
   },
   "outputs": [],
   "source": [
    "\n",
    "import org.apache.spark.ml.classification.RandomForestClassifier\n",
    "import org.apache.spark.ml.classification.RandomForestClassificationModel\n",
    "\n",
    "val rf = new RandomForestClassifier().\n",
    "  setFeaturesCol(\"assembled\").\n",
    "  setLabelCol(\"status\").\n",
    "  setSeed(42)"
   ]
  },
  {
   "cell_type": "markdown",
   "metadata": {},
   "source": [
    "### About the Authors\n",
    "\n",
    "[Petro Verkhogliad](https://www.linkedin.com/in/vpetro) is Consulting Manager at Lightbend. He holds a Masters degree in Computer Science with specialization in Intelligent Systems. He is passionate about functional programming and applications of AI."
   ]
  },
  {
   "cell_type": "code",
   "execution_count": null,
   "metadata": {},
   "outputs": [],
   "source": []
  }
 ],
 "metadata": {
  "kernelspec": {
   "display_name": "Apache Toree - Scala",
   "language": "scala",
   "name": "apache_toree_scala"
  },
  "language_info": {
   "codemirror_mode": "text/x-scala",
   "file_extension": ".scala",
   "mimetype": "text/x-scala",
   "name": "scala",
   "pygments_lexer": "scala",
   "version": "2.11.12"
  }
 },
 "nbformat": 4,
 "nbformat_minor": 4
}
