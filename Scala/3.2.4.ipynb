{
 "cells": [
  {
   "cell_type": "markdown",
   "metadata": {},
   "source": [
    "<a href=\"https://cocl.us/Data_Science_with_Scalla_top\"><img src = \"https://s3-api.us-geo.objectstorage.softlayer.net/cf-courses-data/CognitiveClass/SC0103EN/adds/Data_Science_with_Scalla_notebook_top.png\" width = 750, align = \"center\"></a>\n",
    " <br/>\n",
    "<a><img src=\"https://ibm.box.com/shared/static/ugcqz6ohbvff804xp84y4kqnvvk3bq1g.png\" width=\"200\" align=\"center\"></a>\"\n",
    "\n",
    "# Module 2: Preparing Data - Data Normalization\n",
    "\n",
    "## Data Normalization \n",
    "\n",
    "### Lesson Objectives\n",
    "\n",
    "-\tAfter completing this lesson, you should be able to: \n",
    "-\tNormalize a dataset to have unit p-norm\n",
    "-\tNormalize a dataset to have unit standard deviation and zero mean \n",
    "-\tNormalize a dataset to have given minimum and maximum values \n",
    "\n",
    "\n",
    "## Normalizer\n",
    "\n",
    "-\tA Transformer which transforms a dataset of Vector rows, normalizing each Vector to have unit norm\n",
    "-\tTakes a parameter P, which specifies the p-norm used for normalization (p=2 by default)\n",
    "- Standardize input data and improve the behavior of learning algorithms"
   ]
  },
  {
   "cell_type": "code",
   "execution_count": 1,
   "metadata": {
    "attributes": {
     "classes": [
      "scala"
     ],
     "id": ""
    }
   },
   "outputs": [
    {
     "data": {
      "text/plain": [
       "spark = org.apache.spark.sql.SparkSession@5b0dfc3a\n"
      ]
     },
     "metadata": {},
     "output_type": "display_data",
     "source": "user"
    },
    {
     "data": {
      "text/plain": [
       "org.apache.spark.sql.SparkSession@5b0dfc3a"
      ]
     },
     "execution_count": 1,
     "metadata": {},
     "output_type": "execute_result"
    }
   ],
   "source": [
    "import org.apache.spark.sql.SparkSession\n",
    "val spark = SparkSession.builder().getOrCreate()\n",
    "import spark.implicits._"
   ]
  },
  {
   "cell_type": "code",
   "execution_count": 2,
   "metadata": {
    "attributes": {
     "classes": [
      "scala"
     ],
     "id": ""
    }
   },
   "outputs": [
    {
     "name": "stdout",
     "output_type": "stream",
     "text": [
      "65089...|\n",
      "|  9|[0.74293954612044...|\n",
      "+---+--------------------+\n",
      ".|\n",
      "|  6|[0.49774414066138...|\n",
      "|  7|[0.20766661062014...|\n",
      "|  8|[0.957191940+---+--------------------+\n",
      "| id|            features|\n",
      "+---+--------------------+\n",
      "|  0|[0.41371264720975...|\n",
      "|  1|[0.73117192818966...|\n",
      "|  2|[0.90317011551182...|\n",
      "|  3|[0.09430205113458...|\n",
      "|  4|[0.38340505276222...|\n",
      "|  5|[0.55692461355235.."
     ]
    },
    {
     "data": {
      "text/plain": [
       "dfRandom = [id: bigint, uniform: double ... 2 more fields]\n",
       "assembler = vecAssembler_0521049567b9\n",
       "dfVec = [id: bigint, uniform: double ... 3 more fields]\n"
      ]
     },
     "metadata": {},
     "output_type": "display_data",
     "source": "user"
    },
    {
     "data": {
      "text/plain": [
       "[id: bigint, uniform: double ... 3 more fields]"
      ]
     },
     "execution_count": 2,
     "metadata": {},
     "output_type": "execute_result"
    }
   ],
   "source": [
    "// Continuing from Previous Example \n",
    "\n",
    "import  org.apache.spark.ml.feature.VectorAssembler\n",
    "\n",
    "import  org.apache.spark.sql.functions._\n",
    "\n",
    "val dfRandom = spark.range(0, 10).select(\"id\").\n",
    " withColumn(\"uniform\", rand(10L)).\n",
    " withColumn(\"normal1\", randn(10L)).\n",
    " withColumn(\"normal2\", randn(11L))\n",
    "\n",
    "val assembler = new  VectorAssembler().\n",
    " setInputCols(Array(\"uniform\",\"normal1\",\"normal2\")).\n",
    " setOutputCol(\"features\")\n",
    "\n",
    "val dfVec = assembler.transform(dfRandom)\n",
    "\n",
    "\n",
    "// Continuing from Previous Example \n",
    "\n",
    "dfVec.select(\"id\",\"features\").show()\n",
    " "
   ]
  },
  {
   "cell_type": "code",
   "execution_count": 3,
   "metadata": {
    "attributes": {
     "classes": [
      "scala"
     ],
     "id": ""
    }
   },
   "outputs": [
    {
     "name": "stdout",
     "output_type": "stream",
     "text": [
      "+---+--------------------+--------------------+\n",
      "| id|            features|          scaledFeat|\n",
      "+---+--------------------+--------------------+\n",
      "|  0|[0.41371264720975...|[0.32886636983701...|\n",
      "|  1|[0.73117192818966...|[0.27877135762286...|\n",
      "|  2|[0.90317011551182...|[0.25890910071782...|\n",
      "|  3|[0.09430205113458...|[0.05377997899531...|\n",
      "|  4|[0.38340505276222...|[0.37943492319386...|\n",
      "+---+--------------------+--------------------+\n",
      "only showing top 5 rows\n",
      "\n"
     ]
    },
    {
     "data": {
      "text/plain": [
       "scaler1 = normalizer_dd3b903b7e9f\n"
      ]
     },
     "metadata": {},
     "output_type": "display_data",
     "source": "user"
    },
    {
     "data": {
      "text/plain": [
       "normalizer_dd3b903b7e9f"
      ]
     },
     "execution_count": 3,
     "metadata": {},
     "output_type": "execute_result"
    }
   ],
   "source": [
    "\n",
    "// A Simple Normalizer \n",
    "\n",
    "import  org.apache.spark.ml.feature.Normalizer\n",
    "\n",
    "val scaler1 = new Normalizer().setInputCol(\"features\").setOutputCol(\"scaledFeat\").setP(1.0)\n",
    "scaler1.transform(dfVec.select(\"id\",\"features\")).show(5)"
   ]
  },
  {
   "cell_type": "markdown",
   "metadata": {},
   "source": [
    "## Standard Scaler\n",
    "\n",
    "-\tA Model which can be fit on a dataset to produce a `StandardScalerModel`\n",
    "-\tA Transformer which transforms a dataset of `Vector` rows, normalizing each feature to have unit standard deviation and/or zero mean\n",
    "- Takes two parameters:\n",
    "\t-\t`withStd`: scales the data to unit standard deviation (default: true)\n",
    "\t-\t`withMean`: centers the data with mean before scaling (default: false)\n",
    "-\tIt builds a dense output, sparse inputs will raise an exception\n",
    "-\tIf the standard deviation of a feature is zero, it returns 0.0 in the Vector for that feature"
   ]
  },
  {
   "cell_type": "code",
   "execution_count": 4,
   "metadata": {
    "attributes": {
     "classes": [
      "scala"
     ],
     "id": ""
    }
   },
   "outputs": [
    {
     "name": "stdout",
     "output_type": "stream",
     "text": [
      "+---+--------------------+--------------------+\n",
      "| id|            features|          scaledFeat|\n",
      "+---+--------------------+--------------------+\n",
      "|  0|[0.41371264720975...|[-0.4729388314297...|\n",
      "|  1|[0.73117192818966...|[0.63829334795154...|\n",
      "|  2|[0.90317011551182...|[1.24035456335428...|\n",
      "|  3|[0.09430205113458...|[-1.5910013801084...|\n",
      "|  4|[0.38340505276222...|[-0.5790273166231...|\n",
      "+---+--------------------+--------------------+\n",
      "only showing top 5 rows\n",
      "\n"
     ]
    },
    {
     "data": {
      "text/plain": [
       "scaler2 = stdScal_c77eee923b7c\n",
       "scaler2Model = stdScal_c77eee923b7c\n"
      ]
     },
     "metadata": {},
     "output_type": "display_data",
     "source": "user"
    },
    {
     "data": {
      "text/plain": [
       "stdScal_c77eee923b7c"
      ]
     },
     "execution_count": 4,
     "metadata": {},
     "output_type": "execute_result"
    }
   ],
   "source": [
    "// A Simple Standard Scaler \n",
    "\n",
    "import  org.apache.spark.ml.feature.StandardScaler\n",
    "\n",
    "val  scaler2 = new StandardScaler().\n",
    " setInputCol(\"features\"). setOutputCol(\"scaledFeat\").\n",
    " setWithStd(true). setWithMean(true)\n",
    "\n",
    "val  scaler2Model = scaler2.fit(dfVec.select(\"id\",\"features\"))\n",
    "scaler2Model.transform(dfVec.select(\"id\",\"features\")).show(5)"
   ]
  },
  {
   "cell_type": "markdown",
   "metadata": {},
   "source": [
    "## MinMax Scaler \n",
    "\n",
    "-\tA Model which can be fit on a dataset to produce a `MinMaxScalerModel`\n",
    "-\tA Transformer which transforms a dataset of `Vector` rows, rescaling each feature to a specific range (often `[0,1]`)\n",
    "-\tTakes two parameters: \n",
    "\t-\tmin: lower bound after transformation, shared by all features (default:0.0)\n",
    "\t-\tmax: upper bound after transformation, shared by all features (default: 1.0)\n",
    "-\tSince zero values are likely to be transformed to non-zero values, sparse inputs may result in dense outputs"
   ]
  },
  {
   "cell_type": "code",
   "execution_count": 5,
   "metadata": {
    "attributes": {
     "classes": [
      "scala"
     ],
     "id": ""
    }
   },
   "outputs": [
    {
     "name": "stdout",
     "output_type": "stream",
     "text": [
      "+---+--------------------+--------------------+\n",
      "| id|            features|          scaledFeat|\n",
      "+---+--------------------+--------------------+\n",
      "|  0|[0.41371264720975...|[-0.2596724102209...|\n",
      "|  1|[0.73117192818966...|[0.47613243541900...|\n",
      "|  2|[0.90317011551182...|[0.87478860096656...|\n",
      "|  3|[0.09430205113458...|[-1.0,0.696622594...|\n",
      "|  4|[0.38340505276222...|[-0.3299191353610...|\n",
      "+---+--------------------+--------------------+\n",
      "only showing top 5 rows\n",
      "\n"
     ]
    },
    {
     "data": {
      "text/plain": [
       "scaler3 = minMaxScal_e14ede390120\n",
       "scaler3Model = minMaxScal_e14ede390120\n"
      ]
     },
     "metadata": {},
     "output_type": "display_data",
     "source": "user"
    },
    {
     "data": {
      "text/plain": [
       "minMaxScal_e14ede390120"
      ]
     },
     "execution_count": 5,
     "metadata": {},
     "output_type": "execute_result"
    }
   ],
   "source": [
    "\n",
    "// A Simple MinMax Scaler \n",
    "import  org.apache.spark.ml.feature.MinMaxScaler \n",
    "\n",
    "val scaler3 = new MinMaxScaler().\n",
    " setInputCol(\"features\").setOutputCol(\"scaledFeat\").\n",
    " setMin(-1.0).setMax(1.0)\n",
    "\n",
    "val scaler3Model = scaler3.fit(dfVec.select(\"id\",\"features\"))\n",
    "scaler3Model.transform(dfVec.select(\"id\",\"features\")).show(5)"
   ]
  },
  {
   "cell_type": "markdown",
   "metadata": {},
   "source": [
    "## Lesson Summary \n",
    "\n",
    "-\tHaving completed this lesson, you should be able to: \n",
    "- Normalize a dataset to have unit p-norm\n",
    "-\tNormalize a dataset to have unit standard deviation and zero mean\n",
    "-\tNormalize a dataset to have given minimum and maximum values\n",
    "\n",
    "### About the Authors\n",
    "\n",
    "[Petro Verkhogliad](https://www.linkedin.com/in/vpetro) is Consulting Manager at Lightbend. He holds a Masters degree in Computer Science with specialization in Intelligent Systems. He is passionate about functional programming and applications of AI."
   ]
  }
 ],
 "metadata": {
  "kernelspec": {
   "display_name": "Apache Toree - Scala",
   "language": "scala",
   "name": "apache_toree_scala"
  },
  "language_info": {
   "codemirror_mode": "text/x-scala",
   "file_extension": ".scala",
   "mimetype": "text/x-scala",
   "name": "scala",
   "pygments_lexer": "scala",
   "version": "2.11.12"
  }
 },
 "nbformat": 4,
 "nbformat_minor": 4
}
