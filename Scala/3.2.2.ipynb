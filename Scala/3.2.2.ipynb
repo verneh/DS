{
 "cells": [
  {
   "cell_type": "markdown",
   "metadata": {},
   "source": [
    "<a href=\"https://cocl.us/Data_Science_with_Scalla_top\"><img src = \"https://s3-api.us-geo.objectstorage.softlayer.net/cf-courses-data/CognitiveClass/SC0103EN/adds/Data_Science_with_Scalla_notebook_top.png\" width = 750, align = \"center\"></a>\n",
    " <br/>\n",
    "<a><img src=\"https://ibm.box.com/shared/static/ugcqz6ohbvff804xp84y4kqnvvk3bq1g.png\" width=\"200\" align=\"center\"></a>\"\n",
    "\n",
    "# Module 2: Preparing Data\n",
    "\n",
    "## Handling Missing Data and Imputing Values\n",
    "\n",
    "### Lesson Objectives \n",
    "\n",
    "-\tAfter completing this lesson, you should be able to: \n",
    "- Drop records according to different criteria\n",
    "-\tFill missing data according to different criteria\n",
    "-\tDrop duplicate records\n",
    "\n",
    "\n",
    "## DataFrame NA Functions \n",
    "\n",
    "-\tThe `na` method of DataFrames provides functionality for working with missing data \n",
    "- Returns an instance of `DataFrameNAFunctions`\n",
    "-\tThe following methods are available: \n",
    "  -\t`drop`, for dropping rows containing NaN or null values \n",
    "  -\t`fill`, for replacing NaN or null values \n",
    "  -\t`replace`,  for replacing values matching specified keys"
   ]
  },
  {
   "cell_type": "code",
   "execution_count": 1,
   "metadata": {
    "attributes": {
     "classes": [
      "scala"
     ],
     "id": ""
    }
   },
   "outputs": [
    {
     "data": {
      "text/plain": [
       "spark = org.apache.spark.sql.SparkSession@5666b81c\n"
      ]
     },
     "metadata": {},
     "output_type": "display_data",
     "source": "user"
    },
    {
     "data": {
      "text/plain": [
       "org.apache.spark.sql.SparkSession@5666b81c"
      ]
     },
     "execution_count": 1,
     "metadata": {},
     "output_type": "execute_result"
    }
   ],
   "source": [
    "import org.apache.spark.sql.SparkSession\n",
    "val spark = SparkSession.builder().getOrCreate()\n",
    "import spark.implicits._\n",
    "import org.apache.spark.sql.functions._"
   ]
  },
  {
   "cell_type": "code",
   "execution_count": 2,
   "metadata": {
    "attributes": {
     "classes": [
      "scala"
     ],
     "id": ""
    }
   },
   "outputs": [
    {
     "name": "stdout",
     "output_type": "stream",
     "text": [
      "+---+-------------------+--------------------+\n",
      "| id|            uniform|           nanNormal|\n",
      "+---+-------------------+--------------------+\n",
      "|  0|0.41371264720975787| -0.5877482396744728|\n",
      "|  1|                NaN|                 NaN|\n",
      "|  2|                NaN|  -2.087434531229601|\n",
      "|  3|0.09430205113458567|                 NaN|\n",
      "|  4|0.38340505276222947|-0.01130602009482...|\n",
      "|  5|                NaN| -1.4651299919940128|\n",
      "|  6| 0.4977441406613893| -1.1978785320746455|\n",
      "|  7| 0.2076666106201438|                 NaN|\n",
      "|  8|                NaN|   0.851458707097714|\n",
      "|  9|                NaN|                 NaN|\n",
      "+---+-------------------+--------------------+\n",
      "\n"
     ]
    },
    {
     "data": {
      "text/plain": [
       "df = [id: bigint, uniform: double ... 1 more field]\n",
       "halfTonNaN = UserDefinedFunction(<function1>,DoubleType,Some(List(DoubleType)))\n",
       "oneToNaN = UserDefinedFunction(<function1>,DoubleType,Some(List(DoubleType)))\n",
       "dfnan = [id: bigint, uniform: double ... 1 more field]\n"
      ]
     },
     "metadata": {},
     "output_type": "display_data",
     "source": "user"
    },
    {
     "data": {
      "text/plain": [
       "[id: bigint, uniform: double ... 1 more field]"
      ]
     },
     "execution_count": 2,
     "metadata": {},
     "output_type": "execute_result"
    }
   ],
   "source": [
    "val df = spark.range(0, 10).select(\"id\").\n",
    "    withColumn(\"uniform\", rand(10L)).withColumn(\"normal\", randn(10L))\n",
    "\n",
    "val halfTonNaN = udf[Double, Double] (x => if (x > 0.5) Double.NaN else x)\n",
    "\n",
    "val oneToNaN = udf[Double, Double] (x => if (x > 1.0) Double.NaN else x) \n",
    "\n",
    "val dfnan = df.withColumn(\"nanUniform\", halfTonNaN(df(\"uniform\"))).\n",
    "    withColumn(\"nanNormal\", oneToNaN(df(\"normal\"))).drop(\"uniform\"). \n",
    "    withColumnRenamed(\"nanUniform\", \"uniform\").drop(\"normal\"). \n",
    "    withColumnRenamed(\"nanNoemal\", \"normal\")\n",
    "\n",
    "dfnan.show()"
   ]
  },
  {
   "cell_type": "markdown",
   "metadata": {},
   "source": [
    "## DataFrame NA Functions - drop \n",
    "\n",
    "-\t`drop` is used for dropping rows containing `NaN` or `null` values according to a criteria \n",
    "-\tSeveral implementations available:\n",
    "  -\t`drop(minNonNulls, cols)`\n",
    "  -\t`drop(minNonNulls)`\n",
    "  -\t`drop(how,cols)`\n",
    "  - `drop(cols)`\n",
    "  -\t`drop(how)`\n",
    "  -\t`drop()`\n",
    "-\t`cols` is an `Array` or `Seq` of column names\n",
    "- how should be equal any or all"
   ]
  },
  {
   "cell_type": "code",
   "execution_count": 3,
   "metadata": {
    "attributes": {
     "classes": [
      "scala"
     ],
     "id": ""
    }
   },
   "outputs": [
    {
     "name": "stdout",
     "output_type": "stream",
     "text": [
      "+---+-------------------+--------------------+\n",
      "| id|            uniform|           nanNormal|\n",
      "+---+-------------------+--------------------+\n",
      "|  0|0.41371264720975787| -0.5877482396744728|\n",
      "|  4|0.38340505276222947|-0.01130602009482...|\n",
      "|  6| 0.4977441406613893| -1.1978785320746455|\n",
      "+---+-------------------+--------------------+\n",
      "\n"
     ]
    }
   ],
   "source": [
    "// Dropping Rows With minNonNulls Argument \n",
    "dfnan.na.drop(minNonNulls = 3).show()"
   ]
  },
  {
   "cell_type": "code",
   "execution_count": 4,
   "metadata": {
    "attributes": {
     "classes": [
      "scala"
     ],
     "id": ""
    }
   },
   "outputs": [
    {
     "name": "stdout",
     "output_type": "stream",
     "text": [
      "+---+-------------------+--------------------+\n",
      "| id|            uniform|           nanNormal|\n",
      "+---+-------------------+--------------------+\n",
      "|  0|0.41371264720975787| -0.5877482396744728|\n",
      "|  2|                NaN|  -2.087434531229601|\n",
      "|  3|0.09430205113458567|                 NaN|\n",
      "|  4|0.38340505276222947|-0.01130602009482...|\n",
      "|  5|                NaN| -1.4651299919940128|\n",
      "|  6| 0.4977441406613893| -1.1978785320746455|\n",
      "|  7| 0.2076666106201438|                 NaN|\n",
      "|  8|                NaN|   0.851458707097714|\n",
      "+---+-------------------+--------------------+\n",
      "\n"
     ]
    }
   ],
   "source": [
    "// Dropping Rows With How Argument \n",
    "dfnan.na.drop(\"all\", Array(\"uniform\", \"nanNormal\")).show()"
   ]
  },
  {
   "cell_type": "code",
   "execution_count": 5,
   "metadata": {
    "attributes": {
     "classes": [
      "scala"
     ],
     "id": ""
    }
   },
   "outputs": [
    {
     "name": "stdout",
     "output_type": "stream",
     "text": [
      "+---+-------------------+--------------------+\n",
      "| id|            uniform|           nanNormal|\n",
      "+---+-------------------+--------------------+\n",
      "|  0|0.41371264720975787| -0.5877482396744728|\n",
      "|  4|0.38340505276222947|-0.01130602009482...|\n",
      "|  6| 0.4977441406613893| -1.1978785320746455|\n",
      "+---+-------------------+--------------------+\n",
      "\n"
     ]
    }
   ],
   "source": [
    "// Dropping Rows With How Argument \n",
    "dfnan.na.drop(\"any\", Array(\"uniform\", \"nanNormal\")).show()"
   ]
  },
  {
   "cell_type": "markdown",
   "metadata": {},
   "source": [
    "## DataFrame NA Functions - fill \n",
    "\n",
    "-\t`fill` is used for replacing NaN or null values according to a criteria\n",
    "-\tSeveral implementations available:\n",
    "  - `fill(valueMap)`\n",
    "  -\t`fill(value,cols)`\n",
    "  -\t`fill(value)`"
   ]
  },
  {
   "cell_type": "code",
   "execution_count": null,
   "metadata": {
    "attributes": {
     "classes": [
      "scala"
     ],
     "id": ""
    }
   },
   "outputs": [
    {
     "name": "stdout",
     "output_type": "stream",
     "text": [
      "+---+-------------------+--------------------+\n",
      "| id|            uniform|           nanNormal|\n",
      "+---+-------------------+--------------------+\n",
      "|  0|0.41371264720975787| -0.5877482396744728|\n",
      "|  1|                0.0|                 0.0|\n",
      "|  2|                0.0|  -2.087434531229601|\n",
      "|  3|0.09430205113458567|                 0.0|\n",
      "|  4|0.38340505276222947|-0.01130602009482...|\n",
      "|  5|                0.0| -1.4651299919940128|\n",
      "|  6| 0.4977441406613893| -1.1978785320746455|\n",
      "|  7| 0.2076666106201438|                 0.0|\n",
      "|  8|                0.0|   0.851458707097714|\n",
      "|  9|                0.0|                 0.0|\n",
      "+---+-------------------+--------------------+\n",
      "\n",
      "+---+-------------------+--------------------+\n",
      "| id|            uniform|           nanNormal|\n",
      "+---+-------------------+--------------------+\n",
      "|  0|0.41371264720975787| -0.5877482396744728|\n",
      "|  1| 0.3193661004776212|                 NaN|\n",
      "|  2| 0.3193661004776212|  -2.087434531229601|\n",
      "|  3|0.09430205113458567|                 NaN|\n",
      "|  4|0.38340505276222947|-0.01130602009482...|\n",
      "+---+-------------------+--------------------+\n",
      "only showing top 5 rows\n",
      "\n",
      "+---+-------------------+--------------------+\n",
      "| id|            uniform|           nanNormal|\n",
      "+---+-------------------+--------------------+\n",
      "|  0|0.41371264720975787| -0.5877482396744728|\n",
      "|  1| 0.4316206135444589| -0.5989775972813159|\n",
      "|  2| 0.4316206135444589|  -2.087434531229601|\n",
      "|  3|0.09430205113458567| -0.5989775972813159|\n",
      "|  4|0.38340505276222947|-0.01130602009482...|\n",
      "+---+-------------------+--------------------+\n",
      "only showing top 5 rows\n",
      "\n"
     ]
    }
   ],
   "source": [
    "// Filling Missing Data By Column Type\n",
    "dfnan.na.fill(0.0).show()   \n",
    "\n",
    "// Filling Missing Data With Column Defaults \n",
    "val uniformMean = dfnan.filter(\"uniform <> 'NaN'\").groupBy().agg(mean(\"uniform\")).first()(0)\n",
    "\n",
    "dfnan.na.fill(Map(\"uniform\" -> uniformMean)).show(5)\n",
    "\n",
    "// Filling Missing Data With Column Defaults \n",
    "val dfCols = dfnan.columns.drop(1)\n",
    "\n",
    "val dfMeans = dfnan.na.drop().groupBy().\n",
    "agg(mean(\"uniform\"), mean(\"nanNormal\")).first().toSeq\n",
    "\n",
    "val meansMap = (dfCols.zip(dfMeans)).toMap\n",
    "dfnan.na.fill(meansMap).show(5)"
   ]
  },
  {
   "cell_type": "markdown",
   "metadata": {},
   "source": [
    "## DataFrame NA Functions - replace \n",
    "\n",
    "-\t`replace` is used for replacing values matching specified keys\n",
    "-\t`cols` argument may be a single column name or an array\n",
    "-\treplacement argument is a map: \n",
    "  -\t`key` is the value to be matched \n",
    "  -\t`value` is the replacement value itself"
   ]
  },
  {
   "cell_type": "code",
   "execution_count": null,
   "metadata": {
    "attributes": {
     "classes": [
      "scala"
     ],
     "id": ""
    }
   },
   "outputs": [],
   "source": [
    "//Replacing Values in a DataFrame \n",
    "\n",
    "dfnan.na.replace(\"uniform\", Map(Double.NaN -> 0.0)).show()"
   ]
  },
  {
   "cell_type": "markdown",
   "metadata": {},
   "source": [
    "## Duplicates\n",
    "\n",
    "-\t`dropDuplicates` is a `DataFrame` method \n",
    "-\tUsed to remove duplicate rows\n",
    "-\tMay specify a subset of columns to check for duplicates"
   ]
  },
  {
   "cell_type": "code",
   "execution_count": null,
   "metadata": {
    "attributes": {
     "classes": [
      "scala"
     ],
     "id": ""
    }
   },
   "outputs": [],
   "source": [
    "// Dropping Duplicate Rows \n",
    "val dfDuplicates = df.unionAll(sc.parallelize(Seq((10,1,1),(11,1,1))).toDF())\n",
    "\n",
    "// Dropping Duplicate Rows \n",
    "val dfCols = dfnan.withColumnRenamed(\"nanNormal\", \"normal\").columns\n",
    "\n",
    "dfDuplicates.dropDuplicates(dfCols).show()"
   ]
  },
  {
   "cell_type": "markdown",
   "metadata": {},
   "source": [
    "## Lesson Summary\n",
    "\n",
    "-\tHaving completed this lesson, you should be able to: \n",
    "- Drop records according to different criteria\n",
    "-\tFill missing data according to different criteria\n",
    "-\tDrop duplicate records\n",
    "\n",
    "### About the Authors\n",
    "\n",
    "[Petro Verkhogliad](https://www.linkedin.com/in/vpetro) is Consulting Manager at Lightbend. He holds a Masters degree in Computer Science with specialization in Intelligent Systems. He is passionate about functional programming and applications of AI."
   ]
  },
  {
   "cell_type": "code",
   "execution_count": null,
   "metadata": {},
   "outputs": [],
   "source": []
  }
 ],
 "metadata": {
  "kernelspec": {
   "display_name": "Apache Toree - Scala",
   "language": "scala",
   "name": "apache_toree_scala"
  },
  "language_info": {
   "codemirror_mode": "text/x-scala",
   "file_extension": ".scala",
   "mimetype": "text/x-scala",
   "name": "scala",
   "pygments_lexer": "scala",
   "version": "2.11.12"
  }
 },
 "nbformat": 4,
 "nbformat_minor": 4
}
