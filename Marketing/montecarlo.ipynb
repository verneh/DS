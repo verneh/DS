{
  "nbformat": 4,
  "nbformat_minor": 0,
  "metadata": {
    "colab": {
      "name": "montecarlo.ipynb",
      "provenance": []
    },
    "kernelspec": {
      "name": "python3",
      "display_name": "Python 3"
    },
    "language_info": {
      "name": "python"
    }
  },
  "cells": [
    {
      "cell_type": "markdown",
      "source": [
        "# montecarlo simulation"
      ],
      "metadata": {
        "id": "w7sacOEIWC0z"
      }
    },
    {
      "cell_type": "markdown",
      "source": [
        "Understanding montecarlo -> https://pbpython.com/monte-carlo.html"
      ],
      "metadata": {
        "id": "mKUkfYR1e93Z"
      }
    },
    {
      "cell_type": "code",
      "execution_count": 1,
      "metadata": {
        "id": "CWZZE-FsV2kq"
      },
      "outputs": [],
      "source": [
        "import pandas as pd\n",
        "import numpy as np\n",
        "import seaborn as sns\n",
        "\n",
        "sns.set_style('whitegrid')"
      ]
    },
    {
      "cell_type": "markdown",
      "source": [
        "Assume that our historical percent to target performance is centered around a a mean of 100% and standard deviation of 10%."
      ],
      "metadata": {
        "id": "UhePJCS5WSXl"
      }
    },
    {
      "cell_type": "code",
      "source": [
        "avg = 1\n",
        "std_dev = .1\n",
        "num_reps = 500\n",
        "num_simulations = 1000"
      ],
      "metadata": {
        "id": "j5gWT1hfWSkN"
      },
      "execution_count": 2,
      "outputs": []
    },
    {
      "cell_type": "markdown",
      "source": [
        "Now we can use numpy to generate a list of percentages that will replicate our historical normal distribution."
      ],
      "metadata": {
        "id": "OZSHEzDTWth3"
      }
    },
    {
      "cell_type": "code",
      "source": [
        "pct_to_target = np.random.normal(avg, std_dev, num_reps).round(2)"
      ],
      "metadata": {
        "id": "rCPMq_UOWqA1"
      },
      "execution_count": 3,
      "outputs": []
    },
    {
      "cell_type": "code",
      "source": [
        "pct_to_target"
      ],
      "metadata": {
        "colab": {
          "base_uri": "https://localhost:8080/"
        },
        "id": "SKDBN-_IWu1Z",
        "outputId": "53112aac-8d4f-4462-e274-832278c16fbb"
      },
      "execution_count": 4,
      "outputs": [
        {
          "output_type": "execute_result",
          "data": {
            "text/plain": [
              "array([1.06, 0.98, 0.97, 0.87, 1.12, 1.11, 1.  , 1.01, 0.96, 1.02, 1.05,\n",
              "       1.02, 0.9 , 0.89, 0.89, 1.13, 1.07, 1.04, 1.05, 1.06, 0.87, 0.99,\n",
              "       0.95, 1.03, 0.82, 0.79, 0.86, 0.84, 1.12, 1.02, 0.87, 0.94, 0.99,\n",
              "       1.09, 1.13, 0.92, 0.93, 0.95, 1.18, 0.96, 1.17, 1.07, 1.05, 0.94,\n",
              "       1.11, 0.94, 0.92, 1.1 , 0.92, 0.99, 0.92, 1.06, 1.02, 0.71, 1.1 ,\n",
              "       1.04, 0.9 , 0.83, 0.99, 0.92, 1.12, 0.87, 0.86, 1.01, 0.87, 1.  ,\n",
              "       0.91, 1.01, 1.08, 1.05, 1.07, 1.06, 0.97, 0.99, 1.05, 1.05, 0.98,\n",
              "       0.99, 0.92, 0.86, 1.1 , 1.11, 0.97, 0.94, 1.08, 1.04, 1.05, 0.94,\n",
              "       0.9 , 0.96, 1.06, 0.89, 0.92, 1.11, 0.92, 1.07, 1.04, 1.01, 0.97,\n",
              "       1.01, 1.09, 0.96, 0.89, 1.21, 1.14, 1.19, 1.15, 0.95, 1.21, 0.93,\n",
              "       0.9 , 1.01, 1.04, 0.93, 0.88, 1.06, 1.  , 0.93, 1.11, 1.18, 0.93,\n",
              "       0.99, 0.94, 0.84, 0.77, 1.1 , 1.06, 1.04, 0.97, 1.14, 1.09, 0.99,\n",
              "       1.11, 1.13, 1.09, 1.31, 1.13, 0.97, 0.97, 1.15, 0.93, 0.95, 0.98,\n",
              "       1.04, 1.15, 1.1 , 0.92, 1.13, 1.07, 0.83, 1.08, 0.94, 1.05, 1.06,\n",
              "       1.04, 1.1 , 0.97, 1.02, 1.04, 0.96, 0.85, 0.98, 1.05, 0.77, 1.01,\n",
              "       0.98, 0.99, 1.05, 1.11, 1.01, 1.03, 1.01, 1.02, 1.13, 0.97, 0.97,\n",
              "       0.99, 0.91, 0.98, 0.99, 1.03, 0.99, 1.16, 0.94, 1.01, 0.98, 1.04,\n",
              "       1.02, 0.93, 0.96, 1.08, 0.94, 1.05, 0.95, 1.07, 1.01, 0.99, 0.91,\n",
              "       1.08, 0.96, 0.88, 1.05, 1.06, 0.92, 0.97, 0.99, 1.05, 1.02, 0.97,\n",
              "       0.95, 0.96, 1.  , 1.07, 1.  , 1.03, 0.91, 1.09, 1.19, 1.08, 1.05,\n",
              "       1.05, 0.97, 0.96, 1.04, 1.06, 1.08, 0.82, 0.98, 1.05, 0.95, 0.85,\n",
              "       0.95, 0.95, 1.03, 0.92, 1.13, 1.02, 1.01, 0.97, 1.1 , 1.14, 0.91,\n",
              "       0.92, 0.93, 0.94, 0.85, 1.17, 0.96, 0.92, 1.03, 0.95, 1.09, 0.94,\n",
              "       1.11, 0.86, 0.85, 1.23, 0.86, 0.82, 0.89, 0.94, 0.91, 0.98, 0.92,\n",
              "       0.99, 0.87, 1.23, 0.74, 1.13, 1.16, 0.98, 1.07, 0.99, 0.87, 1.  ,\n",
              "       1.09, 1.  , 0.88, 1.01, 0.9 , 0.8 , 0.81, 1.14, 0.83, 0.89, 1.04,\n",
              "       1.03, 0.94, 1.06, 1.05, 1.17, 1.  , 1.09, 1.14, 0.9 , 1.1 , 1.16,\n",
              "       0.93, 1.02, 0.89, 0.95, 0.99, 0.94, 1.13, 1.16, 1.18, 1.18, 0.96,\n",
              "       0.83, 1.16, 1.12, 0.89, 0.93, 1.06, 0.85, 1.13, 1.13, 0.87, 0.8 ,\n",
              "       1.05, 1.06, 1.02, 1.08, 1.1 , 1.03, 0.89, 1.09, 1.05, 1.08, 1.01,\n",
              "       0.9 , 0.91, 0.93, 1.06, 0.94, 0.97, 0.97, 1.1 , 0.81, 1.03, 1.03,\n",
              "       0.99, 1.06, 1.02, 1.07, 0.98, 1.03, 0.95, 0.92, 0.88, 0.9 , 1.12,\n",
              "       1.18, 0.86, 0.99, 0.89, 1.01, 1.1 , 1.04, 0.97, 1.01, 0.94, 0.94,\n",
              "       0.9 , 0.97, 0.98, 1.14, 0.99, 0.94, 0.94, 0.8 , 0.98, 1.02, 1.07,\n",
              "       1.04, 1.02, 0.99, 0.91, 0.94, 0.71, 0.99, 1.01, 1.08, 1.04, 0.89,\n",
              "       1.09, 1.17, 0.96, 1.03, 1.04, 0.88, 0.94, 0.99, 0.96, 0.94, 1.02,\n",
              "       1.02, 0.99, 0.88, 1.09, 1.05, 1.01, 1.14, 0.95, 1.03, 0.95, 1.11,\n",
              "       0.98, 1.04, 0.86, 1.16, 1.  , 0.91, 1.01, 0.93, 1.15, 1.09, 1.11,\n",
              "       1.13, 1.13, 0.86, 1.09, 0.87, 1.02, 0.91, 1.18, 1.09, 0.88, 1.06,\n",
              "       0.98, 1.05, 0.82, 0.91, 1.02, 0.88, 0.99, 0.82, 0.88, 1.14, 0.97,\n",
              "       0.93, 0.9 , 0.89, 0.91, 1.15, 0.97, 0.96, 1.04, 1.04, 0.91, 0.97,\n",
              "       0.84, 0.95, 1.06, 1.08, 0.93, 1.07, 1.  , 0.99, 1.04, 1.02, 1.2 ,\n",
              "       0.94, 1.11, 0.98, 1.04, 1.21, 1.13, 0.9 , 0.97, 0.98, 1.01, 1.15,\n",
              "       0.96, 1.28, 1.01, 1.04, 1.02, 0.92, 1.02, 1.05, 0.83, 0.98, 0.91,\n",
              "       0.93, 1.04, 1.1 , 1.15, 0.97, 1.  , 1.09, 1.11, 0.99, 0.96, 0.77,\n",
              "       1.04, 0.99, 0.97, 1.  , 1.04])"
            ]
          },
          "metadata": {},
          "execution_count": 4
        }
      ]
    },
    {
      "cell_type": "code",
      "source": [
        "sales_target_values = [75_000, 100_000, 200_000, 300_000, 400_000, 500_000]\n",
        "sales_target_prob = [.3, .3, .2, .1, .05, .05]\n",
        "sales_target = np.random.choice(sales_target_values, num_reps, p=sales_target_prob)"
      ],
      "metadata": {
        "id": "XdBK2qYZW2RN"
      },
      "execution_count": 5,
      "outputs": []
    },
    {
      "cell_type": "code",
      "source": [
        "df = pd.DataFrame(index=range(num_reps), data={'Pct_To_Target': pct_to_target,\n",
        "                                               'Sales_Target': sales_target})\n",
        "\n",
        "df['Sales'] = df['Pct_To_Target'] * df['Sales_Target']"
      ],
      "metadata": {
        "id": "733Z3lBSXk0u"
      },
      "execution_count": 6,
      "outputs": []
    },
    {
      "cell_type": "code",
      "source": [
        "# Simple histogram to confirm distribution looks as expected\n",
        "df['Pct_To_Target'].plot(kind='hist', title='Historical % to Target Distribution')"
      ],
      "metadata": {
        "colab": {
          "base_uri": "https://localhost:8080/",
          "height": 298
        },
        "id": "rTnz3SE_f2-K",
        "outputId": "a6b3bc1d-3440-48fb-ffab-c557ee92c86a"
      },
      "execution_count": 12,
      "outputs": [
        {
          "output_type": "execute_result",
          "data": {
            "text/plain": [
              "<matplotlib.axes._subplots.AxesSubplot at 0x7f705055f790>"
            ]
          },
          "metadata": {},
          "execution_count": 12
        },
        {
          "output_type": "display_data",
          "data": {
            "text/plain": [
              "<Figure size 432x288 with 1 Axes>"
            ],
            "image/png": "[encoded data removed]"
          },
          "metadata": {
            "needs_background": "light"
          }
        }
      ]
    },
    {
      "cell_type": "code",
      "source": [
        "# Look at the sales target distribution\n",
        "df['Sales_Target'].plot(kind='hist', title='Historical Sales Target Distribution')"
      ],
      "metadata": {
        "colab": {
          "base_uri": "https://localhost:8080/",
          "height": 298
        },
        "id": "JN3Aok8qf8Uc",
        "outputId": "4fd4dd75-6cea-433c-996e-88deb8c75631"
      },
      "execution_count": 13,
      "outputs": [
        {
          "output_type": "execute_result",
          "data": {
            "text/plain": [
              "<matplotlib.axes._subplots.AxesSubplot at 0x7f7050449690>"
            ]
          },
          "metadata": {},
          "execution_count": 13
        },
        {
          "output_type": "display_data",
          "data": {
            "text/plain": [
              "<Figure size 432x288 with 1 Axes>"
            ],
            "image/png": "[encoded data removed]"
          },
          "metadata": {
            "needs_background": "light"
          }
        }
      ]
    },
    {
      "cell_type": "code",
      "source": [
        "def calc_commission_rate(x):\n",
        "    \"\"\" Return the commission rate based on the table:\n",
        "    0-90% = 2%\n",
        "    91-99% = 3%\n",
        "    >= 100 = 4%\n",
        "    \"\"\"\n",
        "    if x <= .90:\n",
        "        return .02\n",
        "    if x <= .99:\n",
        "        return .03\n",
        "    else:\n",
        "        return .04"
      ],
      "metadata": {
        "id": "YtZzdQXgccm8"
      },
      "execution_count": 7,
      "outputs": []
    },
    {
      "cell_type": "code",
      "source": [
        "df['Commission_Rate'] = df['Pct_To_Target'].apply(calc_commission_rate)\n",
        "df['Commission_Amount'] = df['Commission_Rate'] * df['Sales']"
      ],
      "metadata": {
        "id": "TMDamwlNc6ni"
      },
      "execution_count": 8,
      "outputs": []
    },
    {
      "cell_type": "code",
      "source": [
        "# Define a list to keep all the results from each simulation that we want to analyze\n",
        "all_stats = []\n",
        "\n",
        "# Loop through many simulations\n",
        "for i in range(num_simulations):\n",
        "\n",
        "    # Choose random inputs for the sales targets and percent to target\n",
        "    sales_target = np.random.choice(sales_target_values, num_reps, p=sales_target_prob)\n",
        "    pct_to_target = np.random.normal(avg, std_dev, num_reps).round(2)\n",
        "\n",
        "    # Build the dataframe based on the inputs and number of reps\n",
        "    df = pd.DataFrame(index=range(num_reps), data={'Pct_To_Target': pct_to_target,\n",
        "                                                   'Sales_Target': sales_target})\n",
        "\n",
        "    # Back into the sales number using the percent to target rate\n",
        "    df['Sales'] = df['Pct_To_Target'] * df['Sales_Target']\n",
        "\n",
        "    # Determine the commissions rate and calculate it\n",
        "    df['Commission_Rate'] = df['Pct_To_Target'].apply(calc_commission_rate)\n",
        "    df['Commission_Amount'] = df['Commission_Rate'] * df['Sales']\n",
        "\n",
        "    # We want to track sales,commission amounts and sales targets over all the simulations\n",
        "    all_stats.append([df['Sales'].sum().round(0),\n",
        "                      df['Commission_Amount'].sum().round(0),\n",
        "                      df['Sales_Target'].sum().round(0)])"
      ],
      "metadata": {
        "id": "75RcR8U7c-uV"
      },
      "execution_count": 9,
      "outputs": []
    },
    {
      "cell_type": "code",
      "source": [
        "results_df = pd.DataFrame.from_records(all_stats, columns=['Sales',\n",
        "                                                           'Commission_Amount',\n",
        "                                                           'Sales_Target'])"
      ],
      "metadata": {
        "id": "eGQAe_eydKWt"
      },
      "execution_count": 10,
      "outputs": []
    },
    {
      "cell_type": "code",
      "source": [
        "results_df.describe().style.format('{:,}')"
      ],
      "metadata": {
        "colab": {
          "base_uri": "https://localhost:8080/",
          "height": 300
        },
        "id": "dnWmTlyqdNu2",
        "outputId": "1a7638ed-cfb8-4639-de24-c34b5259bdbf"
      },
      "execution_count": 11,
      "outputs": [
        {
          "output_type": "execute_result",
          "data": {
            "text/plain": [
              "<pandas.io.formats.style.Styler at 0x7f7050adf450>"
            ],
            "text/html": [
              "<style type=\"text/css\">\n",
              "</style>\n",
              "<table id=\"T_8245f_\" class=\"dataframe\">\n",
              "  <thead>\n",
              "    <tr>\n",
              "      <th class=\"blank level0\" >&nbsp;</th>\n",
              "      <th class=\"col_heading level0 col0\" >Sales</th>\n",
              "      <th class=\"col_heading level0 col1\" >Commission_Amount</th>\n",
              "      <th class=\"col_heading level0 col2\" >Sales_Target</th>\n",
              "    </tr>\n",
              "  </thead>\n",
              "  <tbody>\n",
              "    <tr>\n",
              "      <th id=\"T_8245f_level0_row0\" class=\"row_heading level0 row0\" >count</th>\n",
              "      <td id=\"T_8245f_row0_col0\" class=\"data row0 col0\" >1,000.0</td>\n",
              "      <td id=\"T_8245f_row0_col1\" class=\"data row0 col1\" >1,000.0</td>\n",
              "      <td id=\"T_8245f_row0_col2\" class=\"data row0 col2\" >1,000.0</td>\n",
              "    </tr>\n",
              "    <tr>\n",
              "      <th id=\"T_8245f_level0_row1\" class=\"row_heading level0 row1\" >mean</th>\n",
              "      <td id=\"T_8245f_row1_col0\" class=\"data row1 col0\" >83,629,383.5</td>\n",
              "      <td id=\"T_8245f_row1_col1\" class=\"data row1 col1\" >2,853,543.488</td>\n",
              "      <td id=\"T_8245f_row1_col2\" class=\"data row1 col2\" >83,644,000.0</td>\n",
              "    </tr>\n",
              "    <tr>\n",
              "      <th id=\"T_8245f_level0_row2\" class=\"row_heading level0 row2\" >std</th>\n",
              "      <td id=\"T_8245f_row2_col0\" class=\"data row2 col0\" >2,839,927.576068601</td>\n",
              "      <td id=\"T_8245f_row2_col1\" class=\"data row2 col1\" >105,942.3461413791</td>\n",
              "      <td id=\"T_8245f_row2_col2\" class=\"data row2 col2\" >2,803,725.8476228784</td>\n",
              "    </tr>\n",
              "    <tr>\n",
              "      <th id=\"T_8245f_level0_row3\" class=\"row_heading level0 row3\" >min</th>\n",
              "      <td id=\"T_8245f_row3_col0\" class=\"data row3 col0\" >74,853,500.0</td>\n",
              "      <td id=\"T_8245f_row3_col1\" class=\"data row3 col1\" >2,527,720.0</td>\n",
              "      <td id=\"T_8245f_row3_col2\" class=\"data row3 col2\" >75,225,000.0</td>\n",
              "    </tr>\n",
              "    <tr>\n",
              "      <th id=\"T_8245f_level0_row4\" class=\"row_heading level0 row4\" >25%</th>\n",
              "      <td id=\"T_8245f_row4_col0\" class=\"data row4 col0\" >81,616,687.5</td>\n",
              "      <td id=\"T_8245f_row4_col1\" class=\"data row4 col1\" >2,782,656.0</td>\n",
              "      <td id=\"T_8245f_row4_col2\" class=\"data row4 col2\" >81,750,000.0</td>\n",
              "    </tr>\n",
              "    <tr>\n",
              "      <th id=\"T_8245f_level0_row5\" class=\"row_heading level0 row5\" >50%</th>\n",
              "      <td id=\"T_8245f_row5_col0\" class=\"data row5 col0\" >83,612,125.0</td>\n",
              "      <td id=\"T_8245f_row5_col1\" class=\"data row5 col1\" >2,850,823.5</td>\n",
              "      <td id=\"T_8245f_row5_col2\" class=\"data row5 col2\" >83,550,000.0</td>\n",
              "    </tr>\n",
              "    <tr>\n",
              "      <th id=\"T_8245f_level0_row6\" class=\"row_heading level0 row6\" >75%</th>\n",
              "      <td id=\"T_8245f_row6_col0\" class=\"data row6 col0\" >85,493,562.5</td>\n",
              "      <td id=\"T_8245f_row6_col1\" class=\"data row6 col1\" >2,923,719.5</td>\n",
              "      <td id=\"T_8245f_row6_col2\" class=\"data row6 col2\" >85,425,000.0</td>\n",
              "    </tr>\n",
              "    <tr>\n",
              "      <th id=\"T_8245f_level0_row7\" class=\"row_heading level0 row7\" >max</th>\n",
              "      <td id=\"T_8245f_row7_col0\" class=\"data row7 col0\" >91,411,250.0</td>\n",
              "      <td id=\"T_8245f_row7_col1\" class=\"data row7 col1\" >3,172,010.0</td>\n",
              "      <td id=\"T_8245f_row7_col2\" class=\"data row7 col2\" >92,125,000.0</td>\n",
              "    </tr>\n",
              "  </tbody>\n",
              "</table>\n"
            ]
          },
          "metadata": {},
          "execution_count": 11
        }
      ]
    },
    {
      "cell_type": "code",
      "source": [
        "results_df['Commission_Amount'].plot(kind='hist', title=\"Total Commission Amount\")"
      ],
      "metadata": {
        "colab": {
          "base_uri": "https://localhost:8080/",
          "height": 311
        },
        "id": "ycTJ-IX8dQGr",
        "outputId": "79406eb7-aebf-44b1-e723-8a567d8fc7c7"
      },
      "execution_count": 14,
      "outputs": [
        {
          "output_type": "execute_result",
          "data": {
            "text/plain": [
              "<matplotlib.axes._subplots.AxesSubplot at 0x7f704ff78e90>"
            ]
          },
          "metadata": {},
          "execution_count": 14
        },
        {
          "output_type": "display_data",
          "data": {
            "text/plain": [
              "<Figure size 432x288 with 1 Axes>"
            ],
            "image/png": "[encoded data removed]"
          },
          "metadata": {
            "needs_background": "light"
          }
        }
      ]
    },
    {
      "cell_type": "code",
      "source": [
        "results_df['Sales'].plot(kind='hist')"
      ],
      "metadata": {
        "colab": {
          "base_uri": "https://localhost:8080/",
          "height": 295
        },
        "id": "QZueYUaqgFL5",
        "outputId": "ce44317d-017d-492b-e12b-694ea39c8aa8"
      },
      "execution_count": 15,
      "outputs": [
        {
          "output_type": "execute_result",
          "data": {
            "text/plain": [
              "<matplotlib.axes._subplots.AxesSubplot at 0x7f704fea6990>"
            ]
          },
          "metadata": {},
          "execution_count": 15
        },
        {
          "output_type": "display_data",
          "data": {
            "text/plain": [
              "<Figure size 432x288 with 1 Axes>"
            ],
            "image/png": "[encoded data removed]"
          },
          "metadata": {
            "needs_background": "light"
          }
        }
      ]
    }
  ]
}