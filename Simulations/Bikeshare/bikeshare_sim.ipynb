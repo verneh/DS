{
  "nbformat": 4,
  "nbformat_minor": 0,
  "metadata": {
    "colab": {
      "name": "bikeshare_sim.ipynb",
      "provenance": [],
      "authorship_tag": "ABX9TyMmIYFObXEwhq3C77L5vryC",
      "include_colab_link": true
    },
    "kernelspec": {
      "name": "python3",
      "display_name": "Python 3"
    }
  },
  "cells": [
    {
      "cell_type": "markdown",
      "metadata": {
        "id": "view-in-github",
        "colab_type": "text"
      },
      "source": [
        "<a href=\"https://colab.research.google.com/github/verneh/datasci/blob/master/bikeshare_sim.ipynb\" target=\"_parent\"><img src=\"https://colab.research.google.com/assets/colab-badge.svg\" alt=\"Open In Colab\"/></a>"
      ]
    },
    {
      "cell_type": "code",
      "metadata": {
        "id": "YYh_DhuhUVKm",
        "colab_type": "code",
        "colab": {
          "base_uri": "https://localhost:8080/",
          "height": 676
        },
        "outputId": "29bf4835-a552-4e4b-f657-32d3dcb822ee"
      },
      "source": [
        "!pip install pint pip yapf scipy numpy matplotlib pandas seaborn sympy beautifulsoup4 lxml html5lib modsimpy tables"
      ],
      "execution_count": 1,
      "outputs": [
        {
          "output_type": "stream",
          "text": [
            "Collecting pint\n",
            "\u001b[?25l  Downloading https://files.pythonhosted.org/packages/9d/db/7a2204b03c22069839958df5723eb2718d50c33052e0da84c9a83de14ea4/Pint-0.11-py2.py3-none-any.whl (186kB)\n",
            "\u001b[K     |████████████████████████████████| 194kB 3.4MB/s \n",
            "\u001b[?25hRequirement already satisfied: pip in /usr/local/lib/python3.6/dist-packages (19.3.1)\n",
            "Collecting yapf\n",
            "\u001b[?25l  Downloading https://files.pythonhosted.org/packages/c1/5d/d84677fe852bc5e091739acda444a9b6700ffc6b11a21b00dd244c8caef0/yapf-0.30.0-py2.py3-none-any.whl (190kB)\n",
            "\u001b[K     |████████████████████████████████| 194kB 9.8MB/s \n",
            "\u001b[?25hRequirement already satisfied: scipy in /usr/local/lib/python3.6/dist-packages (1.4.1)\n",
            "Requirement already satisfied: numpy in /usr/local/lib/python3.6/dist-packages (1.18.3)\n",
            "Requirement already satisfied: matplotlib in /usr/local/lib/python3.6/dist-packages (3.2.1)\n",
            "Requirement already satisfied: pandas in /usr/local/lib/python3.6/dist-packages (1.0.3)\n",
            "Requirement already satisfied: seaborn in /usr/local/lib/python3.6/dist-packages (0.10.1)\n",
            "Requirement already satisfied: sympy in /usr/local/lib/python3.6/dist-packages (1.1.1)\n",
            "Requirement already satisfied: beautifulsoup4 in /usr/local/lib/python3.6/dist-packages (4.6.3)\n",
            "Requirement already satisfied: lxml in /usr/local/lib/python3.6/dist-packages (4.2.6)\n",
            "Requirement already satisfied: html5lib in /usr/local/lib/python3.6/dist-packages (1.0.1)\n",
            "Collecting modsimpy\n",
            "  Downloading https://files.pythonhosted.org/packages/ee/ef/c170df0ee5311cda90a10fc71d1610b9a1cb2241fadbf04bf0f57ff161e9/modsimpy-1.1.3.tar.gz\n",
            "Requirement already satisfied: tables in /usr/local/lib/python3.6/dist-packages (3.4.4)\n",
            "Requirement already satisfied: setuptools in /usr/local/lib/python3.6/dist-packages (from pint) (46.1.3)\n",
            "Requirement already satisfied: pyparsing!=2.0.4,!=2.1.2,!=2.1.6,>=2.0.1 in /usr/local/lib/python3.6/dist-packages (from matplotlib) (2.4.7)\n",
            "Requirement already satisfied: kiwisolver>=1.0.1 in /usr/local/lib/python3.6/dist-packages (from matplotlib) (1.2.0)\n",
            "Requirement already satisfied: cycler>=0.10 in /usr/local/lib/python3.6/dist-packages (from matplotlib) (0.10.0)\n",
            "Requirement already satisfied: python-dateutil>=2.1 in /usr/local/lib/python3.6/dist-packages (from matplotlib) (2.8.1)\n",
            "Requirement already satisfied: pytz>=2017.2 in /usr/local/lib/python3.6/dist-packages (from pandas) (2018.9)\n",
            "Requirement already satisfied: mpmath>=0.19 in /usr/local/lib/python3.6/dist-packages (from sympy) (1.1.0)\n",
            "Requirement already satisfied: six>=1.9 in /usr/local/lib/python3.6/dist-packages (from html5lib) (1.12.0)\n",
            "Requirement already satisfied: webencodings in /usr/local/lib/python3.6/dist-packages (from html5lib) (0.5.1)\n",
            "Requirement already satisfied: numexpr>=2.5.2 in /usr/local/lib/python3.6/dist-packages (from tables) (2.7.1)\n",
            "Building wheels for collected packages: modsimpy\n",
            "  Building wheel for modsimpy (setup.py) ... \u001b[?25l\u001b[?25hdone\n",
            "  Created wheel for modsimpy: filename=modsimpy-1.1.3-cp36-none-any.whl size=20356 sha256=0c3a9a5145a45f4b3ea8828531e415b1b79f74c88b8be1306ad1f7618b426abd\n",
            "  Stored in directory: /root/.cache/pip/wheels/59/34/ac/e82f103fbfb5d961b1a4d2b8e89bb6629a4c0b242e5373cbfa\n",
            "Successfully built modsimpy\n",
            "Installing collected packages: pint, yapf, modsimpy\n",
            "Successfully installed modsimpy-1.1.3 pint-0.11 yapf-0.30.0\n"
          ],
          "name": "stdout"
        }
      ]
    },
    {
      "cell_type": "code",
      "metadata": {
        "id": "IBryLPjuT_QM",
        "colab_type": "code",
        "colab": {
          "base_uri": "https://localhost:8080/",
          "height": 72
        },
        "outputId": "18b180d7-00ab-4bf4-9906-bb8c25d1a12f"
      },
      "source": [
        "# import functions from the modsim library\n",
        "from modsim import *\n",
        "\n",
        "# set the random number generator. so our data remains the same.\n",
        "np.random.seed(49)"
      ],
      "execution_count": 2,
      "outputs": [
        {
          "output_type": "stream",
          "text": [
            "/usr/local/lib/python3.6/dist-packages/statsmodels/tools/_testing.py:19: FutureWarning: pandas.util.testing is deprecated. Use the functions in the public API at pandas.testing instead.\n",
            "  import pandas.util.testing as tm\n"
          ],
          "name": "stderr"
        }
      ]
    },
    {
      "cell_type": "markdown",
      "metadata": {
        "id": "0HbKkk-ddHre",
        "colab_type": "text"
      },
      "source": [
        "We're simulating a bikeshare system from two locations. 'dap' and 'padilla' which are based in the Ortigas CBD."
      ]
    },
    {
      "cell_type": "markdown",
      "metadata": {
        "id": "ObN4OOY1Wile",
        "colab_type": "text"
      },
      "source": [
        "**Functions**"
      ]
    },
    {
      "cell_type": "code",
      "metadata": {
        "id": "LM-pAxFiUNbd",
        "colab_type": "code",
        "colab": {}
      },
      "source": [
        "# simulate probability of arrival.\n",
        "def step(state, p1, p2):\n",
        "\n",
        "    # state.clock += 1\n",
        "\n",
        "    if flip(p1):\n",
        "        bike_to_padilla(state)\n",
        "        # print('Moving to Padilla')\n",
        "        \n",
        "    if flip(p2):\n",
        "        bike_to_dap(state)\n",
        "        # print('Moving to Dap')\n",
        "\n",
        "# move bike from dap to padilla. value of empty is the\n",
        "# number of unhappy customers in a location.\n",
        "def bike_to_padilla(state):\n",
        "\n",
        "    if state.dap == 0:\n",
        "        state.dap_empty +=1\n",
        "        return\n",
        "    state.dap -=1\n",
        "    state.padilla +=1        \n",
        "\n",
        "# move bike from padilla to dap.\n",
        "def bike_to_dap(state):\n",
        "\n",
        "    if state.padilla == 0:\n",
        "        state.padilla_empty +=1\n",
        "        return\n",
        "    state.padilla -=1\n",
        "    state.dap +=1  \n",
        "\n",
        "def decorate_bikeshare():\n",
        "\n",
        "    decorate(title='Dap-Padilla Bikeshare',\n",
        "         xlabel='Time Step (minutes)',\n",
        "         ylabel='Number of Bikes') \n",
        "\n",
        "# number of time steps -> num_steps. we remove state in the argument on the final parts of the code.\n",
        "def run_simulation(p1, p2, num_steps):\n",
        "\n",
        "    # dap = TimeSeries()\n",
        "    # padilla = TimeSeries()\n",
        "\n",
        "    state = State(dap=10, padilla=2, \n",
        "                  dap_empty=0, padilla_empty=0)\n",
        "\n",
        "    for i in range(num_steps):\n",
        "        step(state, p1, p2)\n",
        "        # dap[i] = state.dap\n",
        "        # padilla[i] = state.padilla\n",
        "\n",
        "    return state    \n",
        "\n",
        "    # plot(dap, label='Dap')\n",
        "    # plot(padilla, label='Padilla')\n"
      ],
      "execution_count": 0,
      "outputs": []
    },
    {
      "cell_type": "markdown",
      "metadata": {
        "id": "QwwrgH4LZXAW",
        "colab_type": "text"
      },
      "source": [
        "**Function Tests**"
      ]
    },
    {
      "cell_type": "markdown",
      "metadata": {
        "id": "hBKLRls6bZ1w",
        "colab_type": "text"
      },
      "source": [
        "Initial state that indicate the number of bikes on each location as well as two different states."
      ]
    },
    {
      "cell_type": "code",
      "metadata": {
        "id": "fbDBRbOsZIGJ",
        "colab_type": "code",
        "colab": {}
      },
      "source": [
        "bikeshare_01 = State(dap=7, padilla=3)\n",
        "bikeshare_02 = State(dap=3, padilla=7)"
      ],
      "execution_count": 0,
      "outputs": []
    },
    {
      "cell_type": "markdown",
      "metadata": {
        "id": "ZrujfuSwbc_1",
        "colab_type": "text"
      },
      "source": [
        "Which state to work on?"
      ]
    },
    {
      "cell_type": "code",
      "metadata": {
        "id": "wf5iIuxdZZ5f",
        "colab_type": "code",
        "colab": {}
      },
      "source": [
        "bike_to_dap(bikeshare_01)\n",
        "bike_to_padilla(bikeshare_02)"
      ],
      "execution_count": 0,
      "outputs": []
    },
    {
      "cell_type": "code",
      "metadata": {
        "id": "YIR2Dy0eawxI",
        "colab_type": "code",
        "outputId": "531bdb83-68a4-4d9b-d5ab-054080ef7c86",
        "colab": {
          "base_uri": "https://localhost:8080/",
          "height": 107
        }
      },
      "source": [
        "bikeshare_01"
      ],
      "execution_count": 6,
      "outputs": [
        {
          "output_type": "execute_result",
          "data": {
            "text/html": [
              "<div>\n",
              "<style scoped>\n",
              "    .dataframe tbody tr th:only-of-type {\n",
              "        vertical-align: middle;\n",
              "    }\n",
              "\n",
              "    .dataframe tbody tr th {\n",
              "        vertical-align: top;\n",
              "    }\n",
              "\n",
              "    .dataframe thead th {\n",
              "        text-align: right;\n",
              "    }\n",
              "</style>\n",
              "<table border=\"1\" class=\"dataframe\">\n",
              "  <thead>\n",
              "    <tr style=\"text-align: right;\">\n",
              "      <th></th>\n",
              "      <th>values</th>\n",
              "    </tr>\n",
              "  </thead>\n",
              "  <tbody>\n",
              "    <tr>\n",
              "      <th>dap</th>\n",
              "      <td>8</td>\n",
              "    </tr>\n",
              "    <tr>\n",
              "      <th>padilla</th>\n",
              "      <td>2</td>\n",
              "    </tr>\n",
              "  </tbody>\n",
              "</table>\n",
              "</div>"
            ],
            "text/plain": [
              "dap        8\n",
              "padilla    2\n",
              "dtype: int64"
            ]
          },
          "metadata": {
            "tags": []
          },
          "execution_count": 6
        }
      ]
    },
    {
      "cell_type": "code",
      "metadata": {
        "id": "DMKuiFhwbOVP",
        "colab_type": "code",
        "outputId": "fef7d233-9565-4784-c3c2-8d62caa91ed8",
        "colab": {
          "base_uri": "https://localhost:8080/",
          "height": 107
        }
      },
      "source": [
        "bikeshare_02"
      ],
      "execution_count": 7,
      "outputs": [
        {
          "output_type": "execute_result",
          "data": {
            "text/html": [
              "<div>\n",
              "<style scoped>\n",
              "    .dataframe tbody tr th:only-of-type {\n",
              "        vertical-align: middle;\n",
              "    }\n",
              "\n",
              "    .dataframe tbody tr th {\n",
              "        vertical-align: top;\n",
              "    }\n",
              "\n",
              "    .dataframe thead th {\n",
              "        text-align: right;\n",
              "    }\n",
              "</style>\n",
              "<table border=\"1\" class=\"dataframe\">\n",
              "  <thead>\n",
              "    <tr style=\"text-align: right;\">\n",
              "      <th></th>\n",
              "      <th>values</th>\n",
              "    </tr>\n",
              "  </thead>\n",
              "  <tbody>\n",
              "    <tr>\n",
              "      <th>dap</th>\n",
              "      <td>2</td>\n",
              "    </tr>\n",
              "    <tr>\n",
              "      <th>padilla</th>\n",
              "      <td>8</td>\n",
              "    </tr>\n",
              "  </tbody>\n",
              "</table>\n",
              "</div>"
            ],
            "text/plain": [
              "dap        2\n",
              "padilla    8\n",
              "dtype: int64"
            ]
          },
          "metadata": {
            "tags": []
          },
          "execution_count": 7
        }
      ]
    },
    {
      "cell_type": "markdown",
      "metadata": {
        "id": "rSzeOKAdc52o",
        "colab_type": "text"
      },
      "source": [
        "**Metrics for running simulation**"
      ]
    },
    {
      "cell_type": "markdown",
      "metadata": {
        "id": "sWfeZp8YfEj9",
        "colab_type": "text"
      },
      "source": [
        "Time to evaluate if the metrics for this design is good or not."
      ]
    },
    {
      "cell_type": "code",
      "metadata": {
        "id": "a2gdu6EDc9nJ",
        "colab_type": "code",
        "colab": {}
      },
      "source": [
        "new = State(dap=8, padilla=4, dap_empty=0, padilla_empty=0)"
      ],
      "execution_count": 0,
      "outputs": []
    },
    {
      "cell_type": "code",
      "metadata": {
        "id": "3bHvtqgmfgFi",
        "colab_type": "code",
        "outputId": "fe084daf-04e0-4ff5-8a87-5ffda03cd756",
        "colab": {
          "base_uri": "https://localhost:8080/",
          "height": 287
        }
      },
      "source": [
        "run_simulation(new, 0.4, 0.2, 60)\n",
        "decorate_bikeshare()"
      ],
      "execution_count": 14,
      "outputs": [
        {
          "output_type": "display_data",
          "data": {
            "image/png": "[encoded data removed]",
            "text/plain": [
              "<Figure size 432x288 with 1 Axes>"
            ]
          },
          "metadata": {
            "tags": []
          }
        }
      ]
    },
    {
      "cell_type": "markdown",
      "metadata": {
        "id": "neJVOWYxjhA6",
        "colab_type": "text"
      },
      "source": [
        "More bikes available for padilla. Less bikes available for Dap which leads to..."
      ]
    },
    {
      "cell_type": "markdown",
      "metadata": {
        "id": "19bxnAGsg_s9",
        "colab_type": "text"
      },
      "source": [
        "...our count of unhappy customers at each location. "
      ]
    },
    {
      "cell_type": "code",
      "metadata": {
        "id": "7_vF4305gYUM",
        "colab_type": "code",
        "outputId": "3bb0af06-9d17-4f01-f8e4-5c113f0c9771",
        "colab": {
          "base_uri": "https://localhost:8080/",
          "height": 34
        }
      },
      "source": [
        "new.dap_empty"
      ],
      "execution_count": 16,
      "outputs": [
        {
          "output_type": "execute_result",
          "data": {
            "text/plain": [
              "2"
            ]
          },
          "metadata": {
            "tags": []
          },
          "execution_count": 16
        }
      ]
    },
    {
      "cell_type": "code",
      "metadata": {
        "id": "ckSdh3IAg1rB",
        "colab_type": "code",
        "outputId": "23a9fcfe-bcdf-408b-99a4-95e3db232076",
        "colab": {
          "base_uri": "https://localhost:8080/",
          "height": 34
        }
      },
      "source": [
        "new.padilla_empty"
      ],
      "execution_count": 17,
      "outputs": [
        {
          "output_type": "execute_result",
          "data": {
            "text/plain": [
              "0"
            ]
          },
          "metadata": {
            "tags": []
          },
          "execution_count": 17
        }
      ]
    },
    {
      "cell_type": "markdown",
      "metadata": {
        "id": "9Fd8L6d3vxOt",
        "colab_type": "text"
      },
      "source": [
        "Suppose we want to add a clock to find out how many steps have elapsed."
      ]
    },
    {
      "cell_type": "code",
      "metadata": {
        "id": "Qxt4dDouv1Cw",
        "colab_type": "code",
        "colab": {}
      },
      "source": [
        "simulation = State(dap=10, padilla=2, \n",
        "                  dap_empty=0, padilla_empty=0,\n",
        "                  clock=0)"
      ],
      "execution_count": 0,
      "outputs": []
    },
    {
      "cell_type": "code",
      "metadata": {
        "id": "h3hMQW5Rwizp",
        "colab_type": "code",
        "outputId": "b8cfd7b1-dee6-456f-a417-368bdba95d44",
        "colab": {
          "base_uri": "https://localhost:8080/",
          "height": 287
        }
      },
      "source": [
        "run_simulation(simulation, 0.4, 0.2, 60)\n",
        "decorate_bikeshare()"
      ],
      "execution_count": 19,
      "outputs": [
        {
          "output_type": "display_data",
          "data": {
            "image/png": "[encoded data removed]",
            "text/plain": [
              "<Figure size 432x288 with 1 Axes>"
            ]
          },
          "metadata": {
            "tags": []
          }
        }
      ]
    },
    {
      "cell_type": "markdown",
      "metadata": {
        "id": "SoALTctjAMmc",
        "colab_type": "text"
      },
      "source": [
        "Less number of bikes available for Dap."
      ]
    },
    {
      "cell_type": "code",
      "metadata": {
        "id": "suG-MuW9wmzH",
        "colab_type": "code",
        "outputId": "87f01838-8fc6-4f9a-b115-47125fd46876",
        "colab": {
          "base_uri": "https://localhost:8080/",
          "height": 197
        }
      },
      "source": [
        "simulation"
      ],
      "execution_count": 20,
      "outputs": [
        {
          "output_type": "execute_result",
          "data": {
            "text/html": [
              "<div>\n",
              "<style scoped>\n",
              "    .dataframe tbody tr th:only-of-type {\n",
              "        vertical-align: middle;\n",
              "    }\n",
              "\n",
              "    .dataframe tbody tr th {\n",
              "        vertical-align: top;\n",
              "    }\n",
              "\n",
              "    .dataframe thead th {\n",
              "        text-align: right;\n",
              "    }\n",
              "</style>\n",
              "<table border=\"1\" class=\"dataframe\">\n",
              "  <thead>\n",
              "    <tr style=\"text-align: right;\">\n",
              "      <th></th>\n",
              "      <th>values</th>\n",
              "    </tr>\n",
              "  </thead>\n",
              "  <tbody>\n",
              "    <tr>\n",
              "      <th>dap</th>\n",
              "      <td>1</td>\n",
              "    </tr>\n",
              "    <tr>\n",
              "      <th>padilla</th>\n",
              "      <td>11</td>\n",
              "    </tr>\n",
              "    <tr>\n",
              "      <th>dap_empty</th>\n",
              "      <td>5</td>\n",
              "    </tr>\n",
              "    <tr>\n",
              "      <th>padilla_empty</th>\n",
              "      <td>0</td>\n",
              "    </tr>\n",
              "    <tr>\n",
              "      <th>clock</th>\n",
              "      <td>60</td>\n",
              "    </tr>\n",
              "  </tbody>\n",
              "</table>\n",
              "</div>"
            ],
            "text/plain": [
              "dap               1\n",
              "padilla          11\n",
              "dap_empty         5\n",
              "padilla_empty     0\n",
              "clock            60\n",
              "dtype: int64"
            ]
          },
          "metadata": {
            "tags": []
          },
          "execution_count": 20
        }
      ]
    },
    {
      "cell_type": "markdown",
      "metadata": {
        "id": "P9uzgfyz0XT7",
        "colab_type": "text"
      },
      "source": [
        "Another way of doing this would be to add state within function, remove state from argument and hide clock within function. We get this result..."
      ]
    },
    {
      "cell_type": "code",
      "metadata": {
        "id": "Lc95BnjGwsE3",
        "colab_type": "code",
        "colab": {
          "base_uri": "https://localhost:8080/",
          "height": 167
        },
        "outputId": "20784a89-4754-4a29-ab00-e59139319d09"
      },
      "source": [
        " state = run_simulation(0.4, 0.2, 60)\n",
        " state"
      ],
      "execution_count": 34,
      "outputs": [
        {
          "output_type": "execute_result",
          "data": {
            "text/html": [
              "<div>\n",
              "<style scoped>\n",
              "    .dataframe tbody tr th:only-of-type {\n",
              "        vertical-align: middle;\n",
              "    }\n",
              "\n",
              "    .dataframe tbody tr th {\n",
              "        vertical-align: top;\n",
              "    }\n",
              "\n",
              "    .dataframe thead th {\n",
              "        text-align: right;\n",
              "    }\n",
              "</style>\n",
              "<table border=\"1\" class=\"dataframe\">\n",
              "  <thead>\n",
              "    <tr style=\"text-align: right;\">\n",
              "      <th></th>\n",
              "      <th>values</th>\n",
              "    </tr>\n",
              "  </thead>\n",
              "  <tbody>\n",
              "    <tr>\n",
              "      <th>dap</th>\n",
              "      <td>0</td>\n",
              "    </tr>\n",
              "    <tr>\n",
              "      <th>padilla</th>\n",
              "      <td>12</td>\n",
              "    </tr>\n",
              "    <tr>\n",
              "      <th>dap_empty</th>\n",
              "      <td>3</td>\n",
              "    </tr>\n",
              "    <tr>\n",
              "      <th>padilla_empty</th>\n",
              "      <td>0</td>\n",
              "    </tr>\n",
              "  </tbody>\n",
              "</table>\n",
              "</div>"
            ],
            "text/plain": [
              "dap               0\n",
              "padilla          12\n",
              "dap_empty         3\n",
              "padilla_empty     0\n",
              "dtype: int64"
            ]
          },
          "metadata": {
            "tags": []
          },
          "execution_count": 34
        }
      ]
    },
    {
      "cell_type": "code",
      "metadata": {
        "id": "W88M5oJt0A0_",
        "colab_type": "code",
        "colab": {
          "base_uri": "https://localhost:8080/",
          "height": 34
        },
        "outputId": "8e15d07c-6917-4cce-9d17-7b78769b1e48"
      },
      "source": [
        "state.dap_empty"
      ],
      "execution_count": 35,
      "outputs": [
        {
          "output_type": "execute_result",
          "data": {
            "text/plain": [
              "3"
            ]
          },
          "metadata": {
            "tags": []
          },
          "execution_count": 35
        }
      ]
    },
    {
      "cell_type": "code",
      "metadata": {
        "id": "MvJk52Z_0tCK",
        "colab_type": "code",
        "colab": {
          "base_uri": "https://localhost:8080/",
          "height": 167
        },
        "outputId": "a046cde4-ae4e-4627-ba2c-5e292fe8b09b"
      },
      "source": [
        "state = run_simulation(0.2, 0.2, 60)\n",
        "state"
      ],
      "execution_count": 40,
      "outputs": [
        {
          "output_type": "execute_result",
          "data": {
            "text/html": [
              "<div>\n",
              "<style scoped>\n",
              "    .dataframe tbody tr th:only-of-type {\n",
              "        vertical-align: middle;\n",
              "    }\n",
              "\n",
              "    .dataframe tbody tr th {\n",
              "        vertical-align: top;\n",
              "    }\n",
              "\n",
              "    .dataframe thead th {\n",
              "        text-align: right;\n",
              "    }\n",
              "</style>\n",
              "<table border=\"1\" class=\"dataframe\">\n",
              "  <thead>\n",
              "    <tr style=\"text-align: right;\">\n",
              "      <th></th>\n",
              "      <th>values</th>\n",
              "    </tr>\n",
              "  </thead>\n",
              "  <tbody>\n",
              "    <tr>\n",
              "      <th>dap</th>\n",
              "      <td>7</td>\n",
              "    </tr>\n",
              "    <tr>\n",
              "      <th>padilla</th>\n",
              "      <td>5</td>\n",
              "    </tr>\n",
              "    <tr>\n",
              "      <th>dap_empty</th>\n",
              "      <td>0</td>\n",
              "    </tr>\n",
              "    <tr>\n",
              "      <th>padilla_empty</th>\n",
              "      <td>0</td>\n",
              "    </tr>\n",
              "  </tbody>\n",
              "</table>\n",
              "</div>"
            ],
            "text/plain": [
              "dap              7\n",
              "padilla          5\n",
              "dap_empty        0\n",
              "padilla_empty    0\n",
              "dtype: int64"
            ]
          },
          "metadata": {
            "tags": []
          },
          "execution_count": 40
        }
      ]
    },
    {
      "cell_type": "code",
      "metadata": {
        "id": "FeRScLnF1RRi",
        "colab_type": "code",
        "colab": {
          "base_uri": "https://localhost:8080/",
          "height": 167
        },
        "outputId": "e47c90f5-b932-4520-e7ea-6aa4ef70d6e7"
      },
      "source": [
        "state = run_simulation(0.6, 0.2, 60)\n",
        "state"
      ],
      "execution_count": 41,
      "outputs": [
        {
          "output_type": "execute_result",
          "data": {
            "text/html": [
              "<div>\n",
              "<style scoped>\n",
              "    .dataframe tbody tr th:only-of-type {\n",
              "        vertical-align: middle;\n",
              "    }\n",
              "\n",
              "    .dataframe tbody tr th {\n",
              "        vertical-align: top;\n",
              "    }\n",
              "\n",
              "    .dataframe thead th {\n",
              "        text-align: right;\n",
              "    }\n",
              "</style>\n",
              "<table border=\"1\" class=\"dataframe\">\n",
              "  <thead>\n",
              "    <tr style=\"text-align: right;\">\n",
              "      <th></th>\n",
              "      <th>values</th>\n",
              "    </tr>\n",
              "  </thead>\n",
              "  <tbody>\n",
              "    <tr>\n",
              "      <th>dap</th>\n",
              "      <td>1</td>\n",
              "    </tr>\n",
              "    <tr>\n",
              "      <th>padilla</th>\n",
              "      <td>11</td>\n",
              "    </tr>\n",
              "    <tr>\n",
              "      <th>dap_empty</th>\n",
              "      <td>9</td>\n",
              "    </tr>\n",
              "    <tr>\n",
              "      <th>padilla_empty</th>\n",
              "      <td>0</td>\n",
              "    </tr>\n",
              "  </tbody>\n",
              "</table>\n",
              "</div>"
            ],
            "text/plain": [
              "dap               1\n",
              "padilla          11\n",
              "dap_empty         9\n",
              "padilla_empty     0\n",
              "dtype: int64"
            ]
          },
          "metadata": {
            "tags": []
          },
          "execution_count": 41
        }
      ]
    },
    {
      "cell_type": "markdown",
      "metadata": {
        "id": "5hckGHTS1dTu",
        "colab_type": "text"
      },
      "source": [
        "So we know that if we assign higher probability for dap, the more we have unhappy customers waiting. The lower probability dap has, the more available bikes there are."
      ]
    },
    {
      "cell_type": "code",
      "metadata": {
        "id": "_0OW143r15_Q",
        "colab_type": "code",
        "colab": {}
      },
      "source": [
        "p2 = 0.2\n",
        "num_steps = 60\n",
        "p1_array = linspace(0, 1, 11)"
      ],
      "execution_count": 0,
      "outputs": []
    },
    {
      "cell_type": "code",
      "metadata": {
        "id": "8bXvz8K84L2J",
        "colab_type": "code",
        "colab": {
          "base_uri": "https://localhost:8080/",
          "height": 212
        },
        "outputId": "d5d66133-ca07-47d5-9f15-4ac6de5556cb"
      },
      "source": [
        "for p1 in p1_array:\n",
        "    state = run_simulation(p1, p2, num_steps)\n",
        "    print(p1, state.dap_empty)"
      ],
      "execution_count": 45,
      "outputs": [
        {
          "output_type": "stream",
          "text": [
            "0.0 0\n",
            "0.1 0\n",
            "0.2 0\n",
            "0.30000000000000004 0\n",
            "0.4 0\n",
            "0.5 8\n",
            "0.6000000000000001 26\n",
            "0.7000000000000001 20\n",
            "0.8 26\n",
            "0.9 32\n",
            "1.0 37\n"
          ],
          "name": "stdout"
        }
      ]
    },
    {
      "cell_type": "markdown",
      "metadata": {
        "id": "vw6uPT493_pl",
        "colab_type": "text"
      },
      "source": [
        "So what we are seeing here are the number of unhappy customers in the dap station based on the p1 array."
      ]
    },
    {
      "cell_type": "code",
      "metadata": {
        "id": "qFs3srhD42sc",
        "colab_type": "code",
        "colab": {}
      },
      "source": [
        "sweep = SweepSeries()\n",
        "\n",
        "for p1 in p1_array:\n",
        "    state = run_simulation(p1, p2, num_steps)\n",
        "    sweep[p1] = state.dap_empty"
      ],
      "execution_count": 0,
      "outputs": []
    },
    {
      "cell_type": "code",
      "metadata": {
        "id": "4Iz_-mtD5RsX",
        "colab_type": "code",
        "colab": {
          "base_uri": "https://localhost:8080/",
          "height": 287
        },
        "outputId": "ee0e6ba1-eeb3-4a5f-80e0-d529185d69d0"
      },
      "source": [
        "plot(sweep, label='Dap')\n",
        "\n",
        "decorate(title='Dap-Padilla Bikeshare',\n",
        "         xlabel='Arrival rate at Dap (p1 in customers/min)', \n",
        "         ylabel='Number of unhappy customers')"
      ],
      "execution_count": 47,
      "outputs": [
        {
          "output_type": "display_data",
          "data": {
            "image/png": "[encoded data removed]",
            "text/plain": [
              "<Figure size 432x288 with 1 Axes>"
            ]
          },
          "metadata": {
            "tags": []
          }
        }
      ]
    },
    {
      "cell_type": "markdown",
      "metadata": {
        "id": "g09TAi-j5idA",
        "colab_type": "text"
      },
      "source": [
        "So we used Sweep instead of print and plot the results. As we can see, there's a lot of unhappy customers when the arrival rate is high."
      ]
    },
    {
      "cell_type": "markdown",
      "metadata": {
        "id": "MHvIdNCv6oRT",
        "colab_type": "text"
      },
      "source": [
        "**Optimizing Sweep**"
      ]
    },
    {
      "cell_type": "code",
      "metadata": {
        "id": "2ZUU3NMg5YnM",
        "colab_type": "code",
        "colab": {}
      },
      "source": [
        "# to optimize sweep, we turn this into a function\n",
        "def sweep_p1(p1_array):\n",
        "    p2 = 0.2\n",
        "    num_steps = 60\n",
        "    sweep = SweepSeries()\n",
        "    \n",
        "    for p1 in p1_array:\n",
        "        state = run_simulation(p1, p2, num_steps)\n",
        "        sweep[p1] = state.dap_empty\n",
        "        \n",
        "    return sweep"
      ],
      "execution_count": 0,
      "outputs": []
    },
    {
      "cell_type": "code",
      "metadata": {
        "id": "ErqRYDYi63f7",
        "colab_type": "code",
        "colab": {
          "base_uri": "https://localhost:8080/",
          "height": 287
        },
        "outputId": "c4043dcb-82a6-4bee-dc07-439867d3c20c"
      },
      "source": [
        "p1_array = linspace(0, 1, 101)\n",
        "sweep = sweep_p1(p1_array)\n",
        "plot(sweep, 'bo', label='Dap')\n",
        "decorate(title='Padilla-Dap Bikeshare',\n",
        "         xlabel='Arrival rate at Dap (p1 in customers/min)', \n",
        "         ylabel='Number of unhappy customers')"
      ],
      "execution_count": 53,
      "outputs": [
        {
          "output_type": "display_data",
          "data": {
            "image/png": "[encoded data removed]",
            "text/plain": [
              "<Figure size 432x288 with 1 Axes>"
            ]
          },
          "metadata": {
            "tags": []
          }
        }
      ]
    },
    {
      "cell_type": "markdown",
      "metadata": {
        "id": "LkWu2PAH-oxL",
        "colab_type": "text"
      },
      "source": [
        "What about arrival to Padilla?"
      ]
    },
    {
      "cell_type": "code",
      "metadata": {
        "id": "AOuA6wdX7HFD",
        "colab_type": "code",
        "colab": {}
      },
      "source": [
        "def sweep_p2(p2_array):\n",
        "    p1 = 0.5\n",
        "    num_steps = 60\n",
        "    sweep = SweepSeries()\n",
        "    \n",
        "    for p2 in p2_array:\n",
        "        state = run_simulation(p1, p2, num_steps)\n",
        "        sweep[p2] = state.dap_empty\n",
        "        \n",
        "    return sweep"
      ],
      "execution_count": 0,
      "outputs": []
    },
    {
      "cell_type": "code",
      "metadata": {
        "id": "gXOPnl3U-vM-",
        "colab_type": "code",
        "colab": {
          "base_uri": "https://localhost:8080/",
          "height": 287
        },
        "outputId": "9fc5c840-953b-42b0-a1f4-38f2dc55e578"
      },
      "source": [
        "p2_array = linspace(0, 1, 101)\n",
        "sweep = sweep_p2(p2_array)\n",
        "plot(sweep, 'bo', label='Padilla', color='orange')\n",
        "\n",
        "decorate(title='Dap-Padilla Bikeshare',\n",
        "         xlabel='Arrival rate at Padilla (p2 in customers/min)', \n",
        "         ylabel='Number of unhappy customers')"
      ],
      "execution_count": 57,
      "outputs": [
        {
          "output_type": "display_data",
          "data": {
            "image/png": "[encoded data removed]",
            "text/plain": [
              "<Figure size 432x288 with 1 Axes>"
            ]
          },
          "metadata": {
            "tags": []
          }
        }
      ]
    },
    {
      "cell_type": "markdown",
      "metadata": {
        "id": "4NL62UJ3AT0A",
        "colab_type": "text"
      },
      "source": [
        "Longer we go, less number of unhappy customers."
      ]
    },
    {
      "cell_type": "markdown",
      "metadata": {
        "id": "Vwe0ku-wAqNq",
        "colab_type": "text"
      },
      "source": [
        "Simulations tend to be random and the results vary from one to another. To get a clearer picture, we need to run multiple simulations. "
      ]
    },
    {
      "cell_type": "code",
      "metadata": {
        "id": "XhE0er4x-8_S",
        "colab_type": "code",
        "colab": {}
      },
      "source": [
        "def run_multiple_simulations(p1, p2, num_steps, num_runs):\n",
        "    \n",
        "    results = TimeSeries()\n",
        "    \n",
        "    for i in range(num_runs):\n",
        "        state = run_simulation(p1, p2, num_steps)\n",
        "        results[i] = state.dap_empty + state.padilla_empty\n",
        "        \n",
        "    return results"
      ],
      "execution_count": 0,
      "outputs": []
    },
    {
      "cell_type": "markdown",
      "metadata": {
        "id": "g1TXrqjnC7dM",
        "colab_type": "text"
      },
      "source": [
        "We test our function with sample parameters."
      ]
    },
    {
      "cell_type": "code",
      "metadata": {
        "id": "bac72LnMChvJ",
        "colab_type": "code",
        "colab": {
          "base_uri": "https://localhost:8080/",
          "height": 347
        },
        "outputId": "c4413926-46e3-42cd-e524-5ffe7d3aa503"
      },
      "source": [
        "p1 = 0.3\n",
        "p2 = 0.3\n",
        "num_steps = 60\n",
        "num_runs = 10\n",
        "run_multiple_simulations(p1, p2, num_steps, num_runs)"
      ],
      "execution_count": 63,
      "outputs": [
        {
          "output_type": "execute_result",
          "data": {
            "text/html": [
              "<div>\n",
              "<style scoped>\n",
              "    .dataframe tbody tr th:only-of-type {\n",
              "        vertical-align: middle;\n",
              "    }\n",
              "\n",
              "    .dataframe tbody tr th {\n",
              "        vertical-align: top;\n",
              "    }\n",
              "\n",
              "    .dataframe thead th {\n",
              "        text-align: right;\n",
              "    }\n",
              "</style>\n",
              "<table border=\"1\" class=\"dataframe\">\n",
              "  <thead>\n",
              "    <tr style=\"text-align: right;\">\n",
              "      <th></th>\n",
              "      <th>values</th>\n",
              "    </tr>\n",
              "  </thead>\n",
              "  <tbody>\n",
              "    <tr>\n",
              "      <th>0</th>\n",
              "      <td>0</td>\n",
              "    </tr>\n",
              "    <tr>\n",
              "      <th>1</th>\n",
              "      <td>6</td>\n",
              "    </tr>\n",
              "    <tr>\n",
              "      <th>2</th>\n",
              "      <td>3</td>\n",
              "    </tr>\n",
              "    <tr>\n",
              "      <th>3</th>\n",
              "      <td>0</td>\n",
              "    </tr>\n",
              "    <tr>\n",
              "      <th>4</th>\n",
              "      <td>0</td>\n",
              "    </tr>\n",
              "    <tr>\n",
              "      <th>5</th>\n",
              "      <td>4</td>\n",
              "    </tr>\n",
              "    <tr>\n",
              "      <th>6</th>\n",
              "      <td>9</td>\n",
              "    </tr>\n",
              "    <tr>\n",
              "      <th>7</th>\n",
              "      <td>0</td>\n",
              "    </tr>\n",
              "    <tr>\n",
              "      <th>8</th>\n",
              "      <td>0</td>\n",
              "    </tr>\n",
              "    <tr>\n",
              "      <th>9</th>\n",
              "      <td>2</td>\n",
              "    </tr>\n",
              "  </tbody>\n",
              "</table>\n",
              "</div>"
            ],
            "text/plain": [
              "0    0\n",
              "1    6\n",
              "2    3\n",
              "3    0\n",
              "4    0\n",
              "5    4\n",
              "6    9\n",
              "7    0\n",
              "8    0\n",
              "9    2\n",
              "dtype: int64"
            ]
          },
          "metadata": {
            "tags": []
          },
          "execution_count": 63
        }
      ]
    },
    {
      "cell_type": "markdown",
      "metadata": {
        "id": "feU4axVmDp0o",
        "colab_type": "text"
      },
      "source": [
        "These are the total unhappy customers found at both locations."
      ]
    },
    {
      "cell_type": "code",
      "metadata": {
        "id": "20rQNhqyDn-d",
        "colab_type": "code",
        "colab": {
          "base_uri": "https://localhost:8080/",
          "height": 293
        },
        "outputId": "4b3a3170-93dc-4b66-9d9c-9dba51bf9132"
      },
      "source": [
        "# will need to reset this at sweep p1 array to see Dap's arrival rate!\n",
        "plot(sweep, label='total', color='green')\n",
        "    \n",
        "decorate(title='Dap-Padilla Bikeshare',\n",
        "         xlabel='Arrival rate at Padilla (p2 in customers/min)', \n",
        "         ylabel='Average total unhappy customers')"
      ],
      "execution_count": 66,
      "outputs": [
        {
          "output_type": "display_data",
          "data": {
            "image/png": "[encoded data removed]",
            "text/plain": [
              "<Figure size 432x288 with 1 Axes>"
            ]
          },
          "metadata": {
            "tags": []
          }
        }
      ]
    },
    {
      "cell_type": "markdown",
      "metadata": {
        "id": "sK_wAPBfI4rA",
        "colab_type": "text"
      },
      "source": [
        "On route to Padilla, we can see here that higher arrival rates occur within 0.0 - 0.4 customers/min."
      ]
    },
    {
      "cell_type": "code",
      "metadata": {
        "id": "jO1Evw6YF_XD",
        "colab_type": "code",
        "colab": {}
      },
      "source": [
        ""
      ],
      "execution_count": 0,
      "outputs": []
    }
  ]
}
