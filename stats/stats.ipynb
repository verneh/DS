{
  "nbformat": 4,
  "nbformat_minor": 0,
  "metadata": {
    "colab": {
      "name": "stats.ipynb",
      "provenance": []
    },
    "kernelspec": {
      "name": "python3",
      "display_name": "Python 3"
    },
    "language_info": {
      "name": "python"
    }
  },
  "cells": [
    {
      "cell_type": "markdown",
      "source": [
        "Stats exercises for Acalonia.com"
      ],
      "metadata": {
        "id": "qwGp0Mmw0WyK"
      }
    },
    {
      "cell_type": "markdown",
      "source": [
        "Resource: https://saileshdev.github.io/stats-prob/"
      ],
      "metadata": {
        "id": "Zs7nWI0uanJw"
      }
    },
    {
      "cell_type": "code",
      "execution_count": 1,
      "metadata": {
        "id": "Plb8WpVwr-gw"
      },
      "outputs": [],
      "source": [
        "# Import libraries\n",
        "from scipy.stats import binom\n",
        "from scipy.stats import poisson\n",
        "from scipy.stats import randint \n",
        "\n",
        "import matplotlib.pyplot as plt\n",
        "import numpy as np\n",
        "import pandas as pd\n",
        "import scipy.stats as stats\n",
        "import seaborn as sns\n",
        "\n",
        "import warnings\n",
        "warnings.filterwarnings(\"ignore\")"
      ]
    },
    {
      "cell_type": "markdown",
      "source": [
        "Using Python, create a plot of the probability mass function (i.e. the probabilities of individual outcomes) for the following distributions."
      ],
      "metadata": {
        "id": "nxhBuj-Pt6oo"
      }
    },
    {
      "cell_type": "markdown",
      "source": [
        "(a) Discrete uniform distribution with  (i.e. with outcomes  equally likely), with non-zero PMF values"
      ],
      "metadata": {
        "id": "Y_wGq1YnulfI"
      }
    },
    {
      "cell_type": "code",
      "source": [
        "outcomes = [1,2,3,4,5,6]\n",
        "df = pd.DataFrame(outcomes,columns=['Outcomes'])\n",
        "probabilities = df['Outcomes'].value_counts(normalize=True)    \n",
        "plt.bar(probabilities.index, probabilities.values)\n",
        "plt.show()"
      ],
      "metadata": {
        "colab": {
          "base_uri": "https://localhost:8080/",
          "height": 265
        },
        "id": "VTKWwoqVuc89",
        "outputId": "9cf2acb8-20bb-4c32-c60f-c07567a4c35e"
      },
      "execution_count": 2,
      "outputs": [
        {
          "output_type": "display_data",
          "data": {
            "text/plain": [
              "<Figure size 432x288 with 1 Axes>"
            ],
            "image/png": "[encoded data removed]"
          },
          "metadata": {
            "needs_background": "light"
          }
        }
      ]
    },
    {
      "cell_type": "markdown",
      "source": [
        "(b) Binomial distribution with p = 0.3, n = 10 with non-zero PMF values. "
      ],
      "metadata": {
        "id": "knAVJ9VcvO_A"
      }
    },
    {
      "cell_type": "code",
      "source": [
        "n = 10\n",
        "p = 0.3\n",
        "\n",
        "# defining list of r values\n",
        "r_values = list(range(n + 1))\n",
        "# list of pmf values\n",
        "dist = [binom.pmf(r, n, p) for r in r_values]\n",
        "# plotting the graph \n",
        "plt.bar(r_values, dist)\n",
        "plt.show()"
      ],
      "metadata": {
        "colab": {
          "base_uri": "https://localhost:8080/",
          "height": 265
        },
        "id": "iIMsjhuTu4sJ",
        "outputId": "d112456e-c65c-472c-d829-e7dc14468e92"
      },
      "execution_count": 3,
      "outputs": [
        {
          "output_type": "display_data",
          "data": {
            "text/plain": [
              "<Figure size 432x288 with 1 Axes>"
            ],
            "image/png": "[encoded data removed]"
          },
          "metadata": {
            "needs_background": "light"
          }
        }
      ]
    },
    {
      "cell_type": "markdown",
      "source": [
        "c) Poisson distribution with lambda = 5, with non-zero PMF values."
      ],
      "metadata": {
        "id": "YPfEKFfdw81q"
      }
    },
    {
      "cell_type": "code",
      "source": [
        "# We assume that we are using n of previous item ... \n",
        "# We replace r_values with outcomes for size.\n",
        "# r_values for probabilities.index. \n",
        "lmbda = 5\n",
        "\n",
        "p_dist = poisson.rvs(mu=lmbda, size=len(r_values))\n",
        "plt.bar(r_values, p_dist);"
      ],
      "metadata": {
        "colab": {
          "base_uri": "https://localhost:8080/",
          "height": 265
        },
        "id": "Er1w2RaVw4Av",
        "outputId": "4159053d-f10b-41cd-b0ca-bc488c033e9a"
      },
      "execution_count": 4,
      "outputs": [
        {
          "output_type": "display_data",
          "data": {
            "text/plain": [
              "<Figure size 432x288 with 1 Axes>"
            ],
            "image/png": "[encoded data removed]"
          },
          "metadata": {
            "needs_background": "light"
          }
        }
      ]
    },
    {
      "cell_type": "markdown",
      "source": [
        "Do the histograms match the shapes of the distribution? "
      ],
      "metadata": {
        "id": "IR3PvKL-1eIi"
      }
    },
    {
      "cell_type": "code",
      "source": [
        "# another test...\n",
        "values = np.random.uniform(1, 6, 1000000)\n",
        "# generates 1000000 points of unifrom distribution between -10 and 10\n",
        "# 6 is the number of buckets for the histogram.\n",
        "plt.hist(values, edgecolor='k', bins=6)\n",
        "plt.show();"
      ],
      "metadata": {
        "colab": {
          "base_uri": "https://localhost:8080/",
          "height": 265
        },
        "id": "TK6Quf17Tv_f",
        "outputId": "9b9f042a-0d12-432a-f6ad-92f85b3e644f"
      },
      "execution_count": 5,
      "outputs": [
        {
          "output_type": "display_data",
          "data": {
            "text/plain": [
              "<Figure size 432x288 with 1 Axes>"
            ],
            "image/png": "[encoded data removed]"
          },
          "metadata": {
            "needs_background": "light"
          }
        }
      ]
    },
    {
      "cell_type": "markdown",
      "source": [
        "This makes more sense."
      ],
      "metadata": {
        "id": "ejYx3joRUDUP"
      }
    },
    {
      "cell_type": "code",
      "source": [
        "b_1 = stats.binom(n=10,p=0.3)\n",
        "b_1.rvs(size=1000000,random_state=42)\n",
        "\n",
        "# sample pmf for one value.\n",
        "b_1.pmf(2)"
      ],
      "metadata": {
        "id": "fIA5dkNthcOl",
        "colab": {
          "base_uri": "https://localhost:8080/"
        },
        "outputId": "ed40a3f5-283e-485c-b091-0219abbac04f"
      },
      "execution_count": 6,
      "outputs": [
        {
          "output_type": "execute_result",
          "data": {
            "text/plain": [
              "0.2334744405"
            ]
          },
          "metadata": {},
          "execution_count": 6
        }
      ]
    },
    {
      "cell_type": "code",
      "source": [
        "# this is our range.\n",
        "t=np.arange(0,11)\n",
        "t\n",
        "\n",
        "# plot\n",
        "plt.scatter(t,b_1.pmf(t),label=\"PMF\",color=\"Orange\")\n",
        "plt.title(\"Binomial Distribution\")\n",
        "plt.ylabel(\"Density\")\n",
        "plt.xticks(t)\n",
        "plt.legend()\n",
        "plt.show();"
      ],
      "metadata": {
        "colab": {
          "base_uri": "https://localhost:8080/",
          "height": 281
        },
        "id": "rS5cZ7RiMtGe",
        "outputId": "b8c86cc5-7281-48e7-fbb9-360e02a55f94"
      },
      "execution_count": 7,
      "outputs": [
        {
          "output_type": "display_data",
          "data": {
            "text/plain": [
              "<Figure size 432x288 with 1 Axes>"
            ],
            "image/png": "[encoded data removed]"
          },
          "metadata": {
            "needs_background": "light"
          }
        }
      ]
    },
    {
      "cell_type": "markdown",
      "source": [
        "but what we need is a hist so..."
      ],
      "metadata": {
        "id": "Ckz6SLacPd8T"
      }
    },
    {
      "cell_type": "code",
      "source": [
        "b_1_sample=b_1.rvs(size=1000000,random_state=42)\n",
        "# rwidth=0.75,\n",
        "plt.hist(b_1_sample,bins=11,range=(0,11),density=True,align='left', edgecolor='k', label=\"Samples\",alpha=0.75)\n",
        "plt.title(\"Binomial Distribution (Hist)\")\n",
        "plt.ylabel(\"Density\")\n",
        "plt.legend()\n",
        "plt.xticks(t)\n",
        "plt.show()"
      ],
      "metadata": {
        "colab": {
          "base_uri": "https://localhost:8080/",
          "height": 281
        },
        "id": "9pPjxParO3f9",
        "outputId": "af9678d0-20ed-46d8-e650-9b3f34449019"
      },
      "execution_count": 8,
      "outputs": [
        {
          "output_type": "display_data",
          "data": {
            "text/plain": [
              "<Figure size 432x288 with 1 Axes>"
            ],
            "image/png": "[encoded data removed]"
          },
          "metadata": {
            "needs_background": "light"
          }
        }
      ]
    },
    {
      "cell_type": "code",
      "source": [
        "poisson = stats.poisson(mu=5)\n",
        "p_sample = poisson.rvs(size=1000000,random_state=42)\n",
        "# end = np.max(p_sample)+1 \n",
        "end = 11\n",
        "t=np.arange(0,end)\n",
        "plt.hist(p_sample, bins=end,range=(0,end), density=True,align='left', edgecolor='k',label=\"Samples\", alpha=0.75)\n",
        "plt.title(\"Poisson Distribution (Hist)\")\n",
        "plt.ylabel(\"Density\")\n",
        "plt.legend()\n",
        "plt.xticks(t)\n",
        "plt.show()"
      ],
      "metadata": {
        "colab": {
          "base_uri": "https://localhost:8080/",
          "height": 281
        },
        "id": "dn2Iadm6QL7F",
        "outputId": "16fd921a-f024-41b7-ea5a-d56195220564"
      },
      "execution_count": 9,
      "outputs": [
        {
          "output_type": "display_data",
          "data": {
            "text/plain": [
              "<Figure size 432x288 with 1 Axes>"
            ],
            "image/png": "[encoded data removed]"
          },
          "metadata": {
            "needs_background": "light"
          }
        }
      ]
    },
    {
      "cell_type": "markdown",
      "source": [
        "Poisson of 1 mil values is the same with original distribution. What happens if x = 4..."
      ],
      "metadata": {
        "id": "7KixhtYPaedy"
      }
    },
    {
      "cell_type": "code",
      "source": [
        "# if x = 4\n",
        "outcomes_ = [1,2,3,4]\n",
        "df_ = pd.DataFrame(outcomes_,columns=['Outcomes'])\n",
        "probabilities_ = df_['Outcomes'].value_counts(normalize=True)    \n",
        "plt.bar(probabilities_.index, probabilities_.values)\n",
        "plt.show()"
      ],
      "metadata": {
        "id": "sqZirOVIaSsc",
        "colab": {
          "base_uri": "https://localhost:8080/",
          "height": 265
        },
        "outputId": "77f9da07-a3b1-47b3-a195-43dce53b1d83"
      },
      "execution_count": 10,
      "outputs": [
        {
          "output_type": "display_data",
          "data": {
            "text/plain": [
              "<Figure size 432x288 with 1 Axes>"
            ],
            "image/png": "[encoded data removed]"
          },
          "metadata": {
            "needs_background": "light"
          }
        }
      ]
    },
    {
      "cell_type": "code",
      "source": [
        "# another test...\n",
        "values_ = np.random.uniform(1, 4, 1000000)\n",
        "# generates 1000000 points of unifrom distribution between -10 and 10\n",
        "# 6 is the number of buckets for the histogram.\n",
        "plt.hist(values_, edgecolor='k', bins=4)\n",
        "plt.show();"
      ],
      "metadata": {
        "colab": {
          "base_uri": "https://localhost:8080/",
          "height": 265
        },
        "id": "fzMvCmz0QJng",
        "outputId": "d8f42801-9d48-4965-cfae-c45a78d7e7d2"
      },
      "execution_count": 11,
      "outputs": [
        {
          "output_type": "display_data",
          "data": {
            "text/plain": [
              "<Figure size 432x288 with 1 Axes>"
            ],
            "image/png": "[encoded data removed]"
          },
          "metadata": {
            "needs_background": "light"
          }
        }
      ]
    },
    {
      "cell_type": "code",
      "source": [
        "# From a binom perspective.\n",
        "n = 3\n",
        "p = 0.3\n",
        "\n",
        "# defining list of r values\n",
        "r_values = list(range(n + 1))\n",
        "# list of pmf values\n",
        "dist = [binom.pmf(r, n, p) for r in r_values]\n",
        "# plotting the graph \n",
        "plt.bar(r_values, dist)\n",
        "plt.show()"
      ],
      "metadata": {
        "colab": {
          "base_uri": "https://localhost:8080/",
          "height": 265
        },
        "id": "nWtxj46EQQdw",
        "outputId": "7589e967-8111-44f0-9ce7-14962a2b64f0"
      },
      "execution_count": 12,
      "outputs": [
        {
          "output_type": "display_data",
          "data": {
            "text/plain": [
              "<Figure size 432x288 with 1 Axes>"
            ],
            "image/png": "[encoded data removed]"
          },
          "metadata": {
            "needs_background": "light"
          }
        }
      ]
    },
    {
      "cell_type": "code",
      "source": [
        "# version 2\n",
        "b_4 = stats.binom(n=4,p=0.3)\n",
        "b_4.rvs(size=1000000,random_state=42)\n",
        "\n",
        "# sample pmf for one value.\n",
        "b_4.pmf(2)\n",
        "\n",
        "# this is our range.\n",
        "t=np.arange(0,4)\n",
        "t\n",
        "\n",
        "# plot\n",
        "plt.scatter(t,b_4.pmf(t),label=\"PMF\",color=\"Orange\")\n",
        "plt.title(\"Binomial Distribution\")\n",
        "plt.ylabel(\"Density\")\n",
        "plt.xticks(t)\n",
        "plt.legend()\n",
        "plt.show();"
      ],
      "metadata": {
        "colab": {
          "base_uri": "https://localhost:8080/",
          "height": 281
        },
        "id": "r4bjJJuaWXRF",
        "outputId": "2057f2bb-9bb9-4413-8974-271387235cc4"
      },
      "execution_count": 13,
      "outputs": [
        {
          "output_type": "display_data",
          "data": {
            "text/plain": [
              "<Figure size 432x288 with 1 Axes>"
            ],
            "image/png": "[encoded data removed]"
          },
          "metadata": {
            "needs_background": "light"
          }
        }
      ]
    },
    {
      "cell_type": "code",
      "source": [
        "b_4_sample=b_4.rvs(size=1000000,random_state=42)\n",
        "# rwidth=0.75,\n",
        "plt.hist(b_4_sample,bins=4,range=(0,4),density=True,align='left', edgecolor='k', label=\"Samples\",alpha=0.75)\n",
        "plt.title(\"Binomial Distribution (Hist)\")\n",
        "plt.ylabel(\"Density\")\n",
        "plt.legend()\n",
        "plt.xticks(t)\n",
        "plt.show()"
      ],
      "metadata": {
        "colab": {
          "base_uri": "https://localhost:8080/",
          "height": 281
        },
        "id": "iYb4tZwOWmaa",
        "outputId": "506c7fa0-d7c3-4180-a95d-bc6c2a8ba098"
      },
      "execution_count": 14,
      "outputs": [
        {
          "output_type": "display_data",
          "data": {
            "text/plain": [
              "<Figure size 432x288 with 1 Axes>"
            ],
            "image/png": "[encoded data removed]"
          },
          "metadata": {
            "needs_background": "light"
          }
        }
      ]
    },
    {
      "cell_type": "code",
      "source": [
        "# poisson at 4.\n",
        "poisson = stats.poisson(mu=5)\n",
        "p_sample = poisson.rvs(size=1000000,random_state=42) \n",
        "end = 4\n",
        "t=np.arange(0,end)\n",
        "plt.hist(p_sample, bins=end,range=(0,end), density=True,align='left', edgecolor='k',label=\"Samples\", alpha=0.75)\n",
        "plt.title(\"Poisson Distribution (Hist)\")\n",
        "plt.ylabel(\"Density\")\n",
        "plt.legend()\n",
        "plt.xticks(t)\n",
        "plt.show()"
      ],
      "metadata": {
        "colab": {
          "base_uri": "https://localhost:8080/",
          "height": 281
        },
        "id": "j65k1A_Y5X0i",
        "outputId": "1a2cf421-4812-4759-e3b3-af763c07647b"
      },
      "execution_count": 16,
      "outputs": [
        {
          "output_type": "display_data",
          "data": {
            "text/plain": [
              "<Figure size 432x288 with 1 Axes>"
            ],
            "image/png": "[encoded data removed]"
          },
          "metadata": {
            "needs_background": "light"
          }
        }
      ]
    },
    {
      "cell_type": "code",
      "source": [
        ""
      ],
      "metadata": {
        "id": "sCdNKXc25hL7"
      },
      "execution_count": null,
      "outputs": []
    }
  ]
}