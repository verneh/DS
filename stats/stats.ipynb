{
  "nbformat": 4,
  "nbformat_minor": 0,
  "metadata": {
    "colab": {
      "name": "stats.ipynb",
      "provenance": []
    },
    "kernelspec": {
      "name": "python3",
      "display_name": "Python 3"
    },
    "language_info": {
      "name": "python"
    }
  },
  "cells": [
    {
      "cell_type": "markdown",
      "source": [
        "Stats exercises for Acalonia.com"
      ],
      "metadata": {
        "id": "qwGp0Mmw0WyK"
      }
    },
    {
      "cell_type": "code",
      "execution_count": 10,
      "metadata": {
        "id": "Plb8WpVwr-gw"
      },
      "outputs": [],
      "source": [
        "# Import libraries\n",
        "from scipy.stats import binom\n",
        "from scipy.stats import poisson\n",
        "\n",
        "import matplotlib.pyplot as plt\n",
        "import pandas as pd\n",
        "import seaborn as sns\n",
        "\n",
        "import warnings\n",
        "warnings.filterwarnings(\"ignore\")"
      ]
    },
    {
      "cell_type": "markdown",
      "source": [
        "Using Python, create a plot of the probability mass function (i.e. the probabilities of individual outcomes) for the following distributions."
      ],
      "metadata": {
        "id": "nxhBuj-Pt6oo"
      }
    },
    {
      "cell_type": "markdown",
      "source": [
        "(a) Discrete uniform distribution with  (i.e. with outcomes  equally likely), with non-zero PMF values"
      ],
      "metadata": {
        "id": "Y_wGq1YnulfI"
      }
    },
    {
      "cell_type": "code",
      "source": [
        "outcomes = [1,2,3,4,5,6]\n",
        "df = pd.DataFrame(outcomes,columns=['Outcomes'])\n",
        "probabilities = df['Outcomes'].value_counts(normalize=True)    \n",
        "plt.bar(probabilities.index, probabilities.values)\n",
        "plt.show()"
      ],
      "metadata": {
        "colab": {
          "base_uri": "https://localhost:8080/",
          "height": 265
        },
        "id": "VTKWwoqVuc89",
        "outputId": "9439e0ff-7271-455e-a74c-a3bdb3293210"
      },
      "execution_count": 9,
      "outputs": [
        {
          "output_type": "display_data",
          "data": {
            "text/plain": [
              "<Figure size 432x288 with 1 Axes>"
            ],
            "image/png": "[encoded data removed]"
          },
          "metadata": {
            "needs_background": "light"
          }
        }
      ]
    },
    {
      "cell_type": "markdown",
      "source": [
        "(b) Binomial distribution with p = 0.3, n = 10 with non-zero PMF values. "
      ],
      "metadata": {
        "id": "knAVJ9VcvO_A"
      }
    },
    {
      "cell_type": "code",
      "source": [
        "n = 10\n",
        "p = 0.3\n",
        "\n",
        "# defining list of r values\n",
        "r_values = list(range(n + 1))\n",
        "# list of pmf values\n",
        "dist = [binom.pmf(r, n, p) for r in r_values]\n",
        "# plotting the graph \n",
        "plt.bar(r_values, dist)\n",
        "plt.show()"
      ],
      "metadata": {
        "colab": {
          "base_uri": "https://localhost:8080/",
          "height": 265
        },
        "id": "iIMsjhuTu4sJ",
        "outputId": "e9768e38-8527-48bb-adda-c9a021eab8c4"
      },
      "execution_count": 8,
      "outputs": [
        {
          "output_type": "display_data",
          "data": {
            "text/plain": [
              "<Figure size 432x288 with 1 Axes>"
            ],
            "image/png": "[encoded data removed]"
          },
          "metadata": {
            "needs_background": "light"
          }
        }
      ]
    },
    {
      "cell_type": "markdown",
      "source": [
        "c) Poisson distribution with lambda = 5, with non-zero PMF values."
      ],
      "metadata": {
        "id": "YPfEKFfdw81q"
      }
    },
    {
      "cell_type": "code",
      "source": [
        "# We assume that we are using n of previous item ... \n",
        "# We replace r_values with outcomes for size.\n",
        "# r_values for probabilities.index. \n",
        "lmbda = 5\n",
        "\n",
        "p_dist = poisson.rvs(mu=lmbda, size=len(r_values))\n",
        "plt.bar(r_values, p_dist)"
      ],
      "metadata": {
        "colab": {
          "base_uri": "https://localhost:8080/",
          "height": 282
        },
        "id": "Er1w2RaVw4Av",
        "outputId": "1d475572-87b5-4341-da98-7e4777566897"
      },
      "execution_count": 22,
      "outputs": [
        {
          "output_type": "execute_result",
          "data": {
            "text/plain": [
              "<BarContainer object of 11 artists>"
            ]
          },
          "metadata": {},
          "execution_count": 22
        },
        {
          "output_type": "display_data",
          "data": {
            "text/plain": [
              "<Figure size 432x288 with 1 Axes>"
            ],
            "image/png": "[encoded data removed]"
          },
          "metadata": {
            "needs_background": "light"
          }
        }
      ]
    },
    {
      "cell_type": "code",
      "source": [
        ""
      ],
      "metadata": {
        "id": "fskODyDqyhwA"
      },
      "execution_count": null,
      "outputs": []
    }
  ]
}