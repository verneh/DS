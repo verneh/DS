{
  "nbformat": 4,
  "nbformat_minor": 0,
  "metadata": {
    "kernelspec": {
      "display_name": "Python 3",
      "language": "python",
      "name": "python3"
    },
    "language_info": {
      "codemirror_mode": {
        "name": "ipython",
        "version": 3
      },
      "file_extension": ".py",
      "mimetype": "text/x-python",
      "name": "python",
      "nbconvert_exporter": "python",
      "pygments_lexer": "ipython3",
      "version": "3.6.5"
    },
    "colab": {
      "name": "mnist_with_keras_verne.ipynb",
      "provenance": [],
      "include_colab_link": true
    },
    "accelerator": "TPU"
  },
  "cells": [
    {
      "cell_type": "markdown",
      "metadata": {
        "id": "view-in-github",
        "colab_type": "text"
      },
      "source": [
        "<a href=\"https://colab.research.google.com/github/verneh/datasci/blob/master/mnist_with_keras_verne.ipynb\" target=\"_parent\"><img src=\"https://colab.research.google.com/assets/colab-badge.svg\" alt=\"Open In Colab\"/></a>"
      ]
    },
    {
      "cell_type": "markdown",
      "metadata": {
        "id": "gF2ahKvSO9sU",
        "colab_type": "text"
      },
      "source": [
        "# MNIST digits classification with Keras\n",
        "\n",
        "This is part of the Deep Learning Coursera course by National Research University Higher School of Economics. Slightly tweaked to make it work."
      ]
    },
    {
      "cell_type": "code",
      "metadata": {
        "id": "BYGG-e9GO9sO",
        "colab_type": "code",
        "colab": {
          "base_uri": "https://localhost:8080/",
          "height": 34
        },
        "outputId": "87b1cf7d-0e71-4a60-c1f7-baff876e8c7c"
      },
      "source": [
        "# set tf 1.x for colab\n",
        "%tensorflow_version 1.x"
      ],
      "execution_count": 1,
      "outputs": [
        {
          "output_type": "stream",
          "text": [
            "TensorFlow 1.x selected.\n"
          ],
          "name": "stdout"
        }
      ]
    },
    {
      "cell_type": "code",
      "metadata": {
        "id": "BmlouDS2Pryw",
        "colab_type": "code",
        "colab": {
          "base_uri": "https://localhost:8080/",
          "height": 230
        },
        "outputId": "76cc9f3a-3714-453d-d1a7-add58a4a9cf4"
      },
      "source": [
        "! shred -u setup_google_colab.py\n",
        "! wget https://raw.githubusercontent.com/hse-aml/intro-to-dl/master/setup_google_colab.py -O setup_google_colab.py\n",
        "import setup_google_colab\n",
        "# please, uncomment the week you're working on\n",
        "setup_google_colab.setup_week1()\n",
        "# setup_google_colab.setup_week2()\n",
        "# setup_google_colab.setup_week2_honor()\n",
        "# setup_google_colab.setup_week3()\n",
        "# setup_google_colab.setup_week4()\n",
        "# setup_google_colab.setup_week5()\n",
        "# setup_google_colab.setup_week6()"
      ],
      "execution_count": 1,
      "outputs": [
        {
          "output_type": "stream",
          "text": [
            "shred: setup_google_colab.py: failed to open for writing: No such file or directory\n",
            "--2020-04-23 19:46:19--  https://raw.githubusercontent.com/hse-aml/intro-to-dl/master/setup_google_colab.py\n",
            "Resolving raw.githubusercontent.com (raw.githubusercontent.com)... 151.101.0.133, 151.101.64.133, 151.101.128.133, ...\n",
            "Connecting to raw.githubusercontent.com (raw.githubusercontent.com)|151.101.0.133|:443... connected.\n",
            "HTTP request sent, awaiting response... 200 OK\n",
            "Length: 3636 (3.6K) [text/plain]\n",
            "Saving to: ‘setup_google_colab.py’\n",
            "\n",
            "setup_google_colab. 100%[===================>]   3.55K  --.-KB/s    in 0s      \n",
            "\n",
            "2020-04-23 19:46:20 (57.1 MB/s) - ‘setup_google_colab.py’ saved [3636/3636]\n",
            "\n"
          ],
          "name": "stdout"
        }
      ]
    },
    {
      "cell_type": "code",
      "metadata": {
        "id": "x1avUyksO9sW",
        "colab_type": "code",
        "colab": {
          "base_uri": "https://localhost:8080/",
          "height": 70
        },
        "outputId": "eb6189d5-bbc7-4110-dcbf-9062457f46da"
      },
      "source": [
        "import numpy as np\n",
        "from sklearn.metrics import accuracy_score\n",
        "from matplotlib import pyplot as plt\n",
        "%matplotlib inline\n",
        "import tensorflow as tf\n",
        "print(\"We're using TF\", tf.__version__)\n",
        "import keras\n",
        "print(\"We are using Keras\", keras.__version__)\n",
        "\n",
        "import sys\n",
        "sys.path.append(\"../..\")\n",
        "import keras_utils\n",
        "from keras_utils import reset_tf_session"
      ],
      "execution_count": 2,
      "outputs": [
        {
          "output_type": "stream",
          "text": [
            "We're using TF 1.15.2\n"
          ],
          "name": "stdout"
        },
        {
          "output_type": "stream",
          "text": [
            "Using TensorFlow backend.\n"
          ],
          "name": "stderr"
        },
        {
          "output_type": "stream",
          "text": [
            "We are using Keras 2.0.6\n"
          ],
          "name": "stdout"
        }
      ]
    },
    {
      "cell_type": "code",
      "metadata": {
        "id": "2R0Mk8o7oUQf",
        "colab_type": "code",
        "colab": {}
      },
      "source": [
        "from keras.datasets import mnist\n",
        "from keras.models import Sequential, load_model\n",
        "from keras.layers.core import Dense, Dropout, Activation\n",
        "from keras.utils import np_utils"
      ],
      "execution_count": 0,
      "outputs": []
    },
    {
      "cell_type": "markdown",
      "metadata": {
        "id": "2WIjpGHPO9sa",
        "colab_type": "text"
      },
      "source": [
        "# Look at the data\n",
        "\n",
        "In this task we have 60000 28x28 images of digits from 0 to 9.\n",
        "We will train a classifier on this data."
      ]
    },
    {
      "cell_type": "code",
      "metadata": {
        "id": "vZL20bQZO9sb",
        "colab_type": "code",
        "colab": {}
      },
      "source": [
        "(X_train, y_train), (X_test, y_test) = mnist.load_data()"
      ],
      "execution_count": 0,
      "outputs": []
    },
    {
      "cell_type": "code",
      "metadata": {
        "id": "Pt3A6vZ_O9sg",
        "colab_type": "code",
        "colab": {
          "base_uri": "https://localhost:8080/",
          "height": 691
        },
        "outputId": "0e4a2167-c1e7-4383-dd30-397792e17c84"
      },
      "source": [
        "# X contains rgb values divided by 255\n",
        "print(\"X_train [shape %s] sample patch:\\n\" % (str(X_train.shape)), X_train[1, 15:20, 5:10])\n",
        "print(\"A closeup of a sample patch:\")\n",
        "plt.imshow(X_train[1, 15:20, 5:10], cmap=\"Oranges\")\n",
        "plt.show()\n",
        "print(\"And the whole sample:\")\n",
        "plt.imshow(X_train[1], cmap=\"Oranges\")\n",
        "plt.show()\n",
        "print(\"y_train [shape %s] 10 samples:\\n\" % (str(y_train.shape)), y_train[:10])"
      ],
      "execution_count": 101,
      "outputs": [
        {
          "output_type": "stream",
          "text": [
            "X_train [shape (60000, 28, 28)] sample patch:\n",
            " [[  0  76 246 252 112]\n",
            " [  0  85 252 230  25]\n",
            " [  0  85 252 223   0]\n",
            " [  0  85 252 145   0]\n",
            " [  0  86 253 225   0]]\n",
            "A closeup of a sample patch:\n"
          ],
          "name": "stdout"
        },
        {
          "output_type": "display_data",
          "data": {
            "image/png": "[encoded data removed]",
            "text/plain": [
              "<Figure size 432x288 with 1 Axes>"
            ]
          },
          "metadata": {
            "tags": [],
            "needs_background": "light"
          }
        },
        {
          "output_type": "stream",
          "text": [
            "And the whole sample:\n"
          ],
          "name": "stdout"
        },
        {
          "output_type": "display_data",
          "data": {
            "image/png": "[encoded data removed]",
            "text/plain": [
              "<Figure size 432x288 with 1 Axes>"
            ]
          },
          "metadata": {
            "tags": [],
            "needs_background": "light"
          }
        },
        {
          "output_type": "stream",
          "text": [
            "y_train [shape (60000,)] 10 samples:\n",
            " [5 0 4 1 9 2 1 3 1 4]\n"
          ],
          "name": "stdout"
        }
      ]
    },
    {
      "cell_type": "code",
      "metadata": {
        "id": "gF6HFnHqO9tA",
        "colab_type": "code",
        "colab": {
          "base_uri": "https://localhost:8080/",
          "height": 551
        },
        "outputId": "08c7dcb6-8dda-4e18-d411-bd27382ad6e0"
      },
      "source": [
        "# let's see all the digits.\n",
        "# https://nextjournal.com/gkoehler/digit-recognition-with-keras\n",
        "fig = plt.figure()\n",
        "for i in range(9):\n",
        "  plt.subplot(3,3,i+1)\n",
        "  plt.tight_layout()\n",
        "  plt.imshow(X_train[i], cmap='Oranges', interpolation='none')\n",
        "  plt.title(\"Digit: {}\".format(y_train[i]))\n",
        "  plt.xticks([])\n",
        "  plt.yticks([])\n",
        "fig"
      ],
      "execution_count": 102,
      "outputs": [
        {
          "output_type": "execute_result",
          "data": {
            "image/png": "[encoded data removed]",
            "text/plain": [
              "<Figure size 432x288 with 9 Axes>"
            ]
          },
          "metadata": {
            "tags": []
          },
          "execution_count": 102
        },
        {
          "output_type": "display_data",
          "data": {
            "image/png": "[encoded data removed]",
            "text/plain": [
              "<Figure size 432x288 with 9 Axes>"
            ]
          },
          "metadata": {
            "tags": []
          }
        }
      ]
    },
    {
      "cell_type": "code",
      "metadata": {
        "id": "ZnwislVUO9sl",
        "colab_type": "code",
        "colab": {
          "base_uri": "https://localhost:8080/",
          "height": 52
        },
        "outputId": "8f3e489f-8c6d-4313-b201-6796f2035c2c"
      },
      "source": [
        "# flatten images\n",
        "X_train_flat = X_train.reshape((X_train.shape[0], -1))\n",
        "print(X_train_flat.shape)\n",
        "\n",
        "X_test_flat = X_test.reshape((X_test.shape[0], -1))\n",
        "print(X_test_flat.shape)"
      ],
      "execution_count": 103,
      "outputs": [
        {
          "output_type": "stream",
          "text": [
            "(60000, 784)\n",
            "(10000, 784)\n"
          ],
          "name": "stdout"
        }
      ]
    },
    {
      "cell_type": "code",
      "metadata": {
        "id": "R-T1qu6CO9sp",
        "colab_type": "code",
        "colab": {
          "base_uri": "https://localhost:8080/",
          "height": 87
        },
        "outputId": "0158e21f-3b2e-428d-c365-7ca2143096e1"
      },
      "source": [
        "# one-hot encode the target\n",
        "y_train_oh = keras.utils.to_categorical(y_train, 10)\n",
        "y_test_oh = keras.utils.to_categorical(y_test, 10)\n",
        "\n",
        "print(y_train_oh.shape)\n",
        "print(y_train_oh[:3], y_train[:3])"
      ],
      "execution_count": 104,
      "outputs": [
        {
          "output_type": "stream",
          "text": [
            "(60000, 10)\n",
            "[[0. 0. 0. 0. 0. 1. 0. 0. 0. 0.]\n",
            " [1. 0. 0. 0. 0. 0. 0. 0. 0. 0.]\n",
            " [0. 0. 0. 0. 1. 0. 0. 0. 0. 0.]] [5 0 4]\n"
          ],
          "name": "stdout"
        }
      ]
    },
    {
      "cell_type": "code",
      "metadata": {
        "id": "Nui47V4WO9sv",
        "colab_type": "code",
        "colab": {}
      },
      "source": [
        "# we still need to clear a graph though\n",
        "s = reset_tf_session()\n",
        "\n",
        "model = Sequential()  # it is a feed-forward network without loops like in RNN\n",
        "model.add(Dense(512, input_shape=(784,)))  # the first layer must specify the input shape (replacing placeholders)\n",
        "model.add(Activation('tanh'))\n",
        "model.add(Dropout(0.2))\n",
        "\n",
        "model.add(Dense(512))\n",
        "model.add(Activation('tanh'))\n",
        "model.add(Dropout(0.2))\n",
        "\n",
        "model.add(Dense(10))\n",
        "model.add(Activation('softmax'))"
      ],
      "execution_count": 0,
      "outputs": []
    },
    {
      "cell_type": "code",
      "metadata": {
        "id": "oi0g6rCBO9sz",
        "colab_type": "code",
        "colab": {
          "base_uri": "https://localhost:8080/",
          "height": 425
        },
        "outputId": "0fa3115f-179e-4f49-8a95-7462f798956b"
      },
      "source": [
        "# you can look at all layers and parameter count\n",
        "model.summary()"
      ],
      "execution_count": 106,
      "outputs": [
        {
          "output_type": "stream",
          "text": [
            "_________________________________________________________________\n",
            "Layer (type)                 Output Shape              Param #   \n",
            "=================================================================\n",
            "dense_1 (Dense)              (None, 512)               401920    \n",
            "_________________________________________________________________\n",
            "activation_1 (Activation)    (None, 512)               0         \n",
            "_________________________________________________________________\n",
            "dropout_1 (Dropout)          (None, 512)               0         \n",
            "_________________________________________________________________\n",
            "dense_2 (Dense)              (None, 512)               262656    \n",
            "_________________________________________________________________\n",
            "activation_2 (Activation)    (None, 512)               0         \n",
            "_________________________________________________________________\n",
            "dropout_2 (Dropout)          (None, 512)               0         \n",
            "_________________________________________________________________\n",
            "dense_3 (Dense)              (None, 10)                5130      \n",
            "_________________________________________________________________\n",
            "activation_3 (Activation)    (None, 10)                0         \n",
            "=================================================================\n",
            "Total params: 669,706\n",
            "Trainable params: 669,706\n",
            "Non-trainable params: 0\n",
            "_________________________________________________________________\n"
          ],
          "name": "stdout"
        }
      ]
    },
    {
      "cell_type": "code",
      "metadata": {
        "id": "HJZBREF_O9s3",
        "colab_type": "code",
        "colab": {}
      },
      "source": [
        "# now we \"compile\" the model specifying the loss and optimizer. \n",
        "# since this is multiclassification, we're going to run tanh and softmax, adagrad\n",
        "# overview of optimizers = https://ruder.io/optimizing-gradient-descent/index.html#whichoptimizertouse\n",
        "# from keras import optimizers\n",
        "# sgd = optimizers.SGD(lr=0.01, decay=1e-6, momentum=0.9, nesterov=True)\n",
        "\n",
        "model.compile(\n",
        "    loss='categorical_crossentropy', # this is our cross-entropy\n",
        "    optimizer='adagrad',\n",
        "    metrics=['accuracy']  # report accuracy during training\n",
        ")"
      ],
      "execution_count": 0,
      "outputs": []
    },
    {
      "cell_type": "code",
      "metadata": {
        "id": "mYoF2Zo8O9s8",
        "colab_type": "code",
        "colab": {
          "base_uri": "https://localhost:8080/",
          "height": 1000
        },
        "outputId": "e269d211-39d9-42d2-d6b0-2d1631d1516c"
      },
      "source": [
        "# and now we can fit the model with model.fit()\n",
        "# and we don't have to write loops and batching manually as in TensorFlow\n",
        "model.fit(\n",
        "    X_train_flat, \n",
        "    y_train_oh,\n",
        "    batch_size=512, \n",
        "    epochs=40,\n",
        "    validation_data=(X_test_flat, y_test_oh),\n",
        "    callbacks=[keras_utils.TqdmProgressCallback()],\n",
        "    verbose=2\n",
        ")"
      ],
      "execution_count": 108,
      "outputs": [
        {
          "output_type": "stream",
          "text": [
            "Train on 60000 samples, validate on 10000 samples\n",
            "\n",
            "Epoch 1/40\n",
            "Epoch 1/40\n",
            "**************************************************\n",
            "loss: 0.8061; acc: 0.8042; val_loss: 0.3119; val_acc: 0.9017\n",
            "5s - loss: 0.8085 - acc: 0.8039 - val_loss: 0.3119 - val_acc: 0.9017\n",
            "\n",
            "Epoch 2/40\n",
            "Epoch 2/40\n",
            "**************************************************\n",
            "loss: 0.3115; acc: 0.9029; val_loss: 0.2419; val_acc: 0.9276\n",
            "5s - loss: 0.3114 - acc: 0.9028 - val_loss: 0.2419 - val_acc: 0.9276\n",
            "\n",
            "Epoch 3/40\n",
            "Epoch 3/40\n",
            "**************************************************\n",
            "loss: 0.2675; acc: 0.9173; val_loss: 0.2043; val_acc: 0.9375\n",
            "5s - loss: 0.2679 - acc: 0.9173 - val_loss: 0.2043 - val_acc: 0.9375\n",
            "\n",
            "Epoch 4/40\n",
            "Epoch 4/40\n",
            "**************************************************\n",
            "loss: 0.2384; acc: 0.9272; val_loss: 0.1863; val_acc: 0.9441\n",
            "5s - loss: 0.2378 - acc: 0.9272 - val_loss: 0.1863 - val_acc: 0.9441\n",
            "\n",
            "Epoch 5/40\n",
            "Epoch 5/40\n",
            "**************************************************\n",
            "loss: 0.2161; acc: 0.9330; val_loss: 0.1915; val_acc: 0.9431\n",
            "5s - loss: 0.2157 - acc: 0.9331 - val_loss: 0.1915 - val_acc: 0.9431\n",
            "\n",
            "Epoch 6/40\n",
            "Epoch 6/40\n",
            "**************************************************\n",
            "loss: 0.2020; acc: 0.9378; val_loss: 0.1608; val_acc: 0.9497\n",
            "5s - loss: 0.2022 - acc: 0.9378 - val_loss: 0.1608 - val_acc: 0.9497\n",
            "\n",
            "Epoch 7/40\n",
            "Epoch 7/40\n",
            "**************************************************\n",
            "loss: 0.1889; acc: 0.9408; val_loss: 0.1629; val_acc: 0.9506\n",
            "5s - loss: 0.1881 - acc: 0.9410 - val_loss: 0.1629 - val_acc: 0.9506\n",
            "\n",
            "Epoch 8/40\n",
            "Epoch 8/40\n",
            "**************************************************\n",
            "loss: 0.1777; acc: 0.9452; val_loss: 0.1440; val_acc: 0.9557\n",
            "5s - loss: 0.1775 - acc: 0.9452 - val_loss: 0.1440 - val_acc: 0.9557\n",
            "\n",
            "Epoch 9/40\n",
            "Epoch 9/40\n",
            "**************************************************\n",
            "loss: 0.1647; acc: 0.9495; val_loss: 0.1406; val_acc: 0.9568\n",
            "5s - loss: 0.1652 - acc: 0.9493 - val_loss: 0.1406 - val_acc: 0.9568\n",
            "\n",
            "Epoch 10/40\n",
            "Epoch 10/40\n",
            "**************************************************\n",
            "loss: 0.1590; acc: 0.9507; val_loss: 0.1341; val_acc: 0.9587\n",
            "5s - loss: 0.1589 - acc: 0.9507 - val_loss: 0.1341 - val_acc: 0.9587\n",
            "\n",
            "Epoch 11/40\n",
            "Epoch 11/40\n",
            "**************************************************\n",
            "loss: 0.1529; acc: 0.9524; val_loss: 0.1481; val_acc: 0.9539\n",
            "5s - loss: 0.1525 - acc: 0.9527 - val_loss: 0.1481 - val_acc: 0.9539\n",
            "\n",
            "Epoch 12/40\n",
            "Epoch 12/40\n",
            "**************************************************\n",
            "loss: 0.1460; acc: 0.9550; val_loss: 0.1279; val_acc: 0.9615\n",
            "5s - loss: 0.1461 - acc: 0.9549 - val_loss: 0.1279 - val_acc: 0.9615\n",
            "\n",
            "Epoch 13/40\n",
            "Epoch 13/40\n",
            "**************************************************\n",
            "loss: 0.1404; acc: 0.9568; val_loss: 0.1255; val_acc: 0.9613\n",
            "5s - loss: 0.1405 - acc: 0.9568 - val_loss: 0.1255 - val_acc: 0.9613\n",
            "\n",
            "Epoch 14/40\n",
            "Epoch 14/40\n",
            "**************************************************\n",
            "loss: 0.1357; acc: 0.9575; val_loss: 0.1245; val_acc: 0.9616\n",
            "5s - loss: 0.1355 - acc: 0.9575 - val_loss: 0.1245 - val_acc: 0.9616\n",
            "\n",
            "Epoch 15/40\n",
            "Epoch 15/40\n",
            "**************************************************\n",
            "loss: 0.1353; acc: 0.9577; val_loss: 0.1162; val_acc: 0.9647\n",
            "5s - loss: 0.1355 - acc: 0.9576 - val_loss: 0.1162 - val_acc: 0.9647\n",
            "\n",
            "Epoch 16/40\n",
            "Epoch 16/40\n",
            "**************************************************\n",
            "loss: 0.1291; acc: 0.9599; val_loss: 0.1171; val_acc: 0.9637\n",
            "5s - loss: 0.1288 - acc: 0.9599 - val_loss: 0.1171 - val_acc: 0.9637\n",
            "\n",
            "Epoch 17/40\n",
            "Epoch 17/40\n",
            "**************************************************\n",
            "loss: 0.1246; acc: 0.9605; val_loss: 0.1144; val_acc: 0.9640\n",
            "5s - loss: 0.1249 - acc: 0.9605 - val_loss: 0.1144 - val_acc: 0.9640\n",
            "\n",
            "Epoch 18/40\n",
            "Epoch 18/40\n",
            "**************************************************\n",
            "loss: 0.1225; acc: 0.9609; val_loss: 0.1084; val_acc: 0.9663\n",
            "5s - loss: 0.1223 - acc: 0.9609 - val_loss: 0.1084 - val_acc: 0.9663\n",
            "\n",
            "Epoch 19/40\n",
            "Epoch 19/40\n",
            "**************************************************\n",
            "loss: 0.1154; acc: 0.9640; val_loss: 0.1074; val_acc: 0.9666\n",
            "5s - loss: 0.1154 - acc: 0.9643 - val_loss: 0.1074 - val_acc: 0.9666\n",
            "\n",
            "Epoch 20/40\n",
            "Epoch 20/40\n",
            "**************************************************\n",
            "loss: 0.1148; acc: 0.9644; val_loss: 0.1066; val_acc: 0.9669\n",
            "5s - loss: 0.1143 - acc: 0.9647 - val_loss: 0.1066 - val_acc: 0.9669\n",
            "\n",
            "Epoch 21/40\n",
            "Epoch 21/40\n",
            "**************************************************\n",
            "loss: 0.1084; acc: 0.9665; val_loss: 0.1065; val_acc: 0.9694\n",
            "5s - loss: 0.1089 - acc: 0.9663 - val_loss: 0.1065 - val_acc: 0.9694\n",
            "\n",
            "Epoch 22/40\n",
            "Epoch 22/40\n",
            "**************************************************\n",
            "loss: 0.1067; acc: 0.9664; val_loss: 0.1065; val_acc: 0.9676\n",
            "5s - loss: 0.1067 - acc: 0.9664 - val_loss: 0.1065 - val_acc: 0.9676\n",
            "\n",
            "Epoch 23/40\n",
            "Epoch 23/40\n",
            "**************************************************\n",
            "loss: 0.1057; acc: 0.9665; val_loss: 0.1033; val_acc: 0.9682\n",
            "5s - loss: 0.1053 - acc: 0.9667 - val_loss: 0.1033 - val_acc: 0.9682\n",
            "\n",
            "Epoch 24/40\n",
            "Epoch 24/40\n",
            "**************************************************\n",
            "loss: 0.1033; acc: 0.9675; val_loss: 0.1015; val_acc: 0.9685\n",
            "5s - loss: 0.1035 - acc: 0.9674 - val_loss: 0.1015 - val_acc: 0.9685\n",
            "\n",
            "Epoch 25/40\n",
            "Epoch 25/40\n",
            "**************************************************\n",
            "loss: 0.0985; acc: 0.9684; val_loss: 0.1018; val_acc: 0.9707\n",
            "5s - loss: 0.0983 - acc: 0.9686 - val_loss: 0.1018 - val_acc: 0.9707\n",
            "\n",
            "Epoch 26/40\n",
            "Epoch 26/40\n",
            "**************************************************\n",
            "loss: 0.0956; acc: 0.9701; val_loss: 0.0984; val_acc: 0.9705\n",
            "5s - loss: 0.0960 - acc: 0.9700 - val_loss: 0.0984 - val_acc: 0.9705\n",
            "\n",
            "Epoch 27/40\n",
            "Epoch 27/40\n",
            "**************************************************\n",
            "loss: 0.0944; acc: 0.9694; val_loss: 0.1006; val_acc: 0.9694\n",
            "5s - loss: 0.0946 - acc: 0.9694 - val_loss: 0.1006 - val_acc: 0.9694\n",
            "\n",
            "Epoch 28/40\n",
            "Epoch 28/40\n",
            "**************************************************\n",
            "loss: 0.0915; acc: 0.9710; val_loss: 0.0981; val_acc: 0.9699\n",
            "5s - loss: 0.0916 - acc: 0.9711 - val_loss: 0.0981 - val_acc: 0.9699\n",
            "\n",
            "Epoch 29/40\n",
            "Epoch 29/40\n",
            "**************************************************\n",
            "loss: 0.0891; acc: 0.9720; val_loss: 0.0961; val_acc: 0.9697\n",
            "5s - loss: 0.0891 - acc: 0.9719 - val_loss: 0.0961 - val_acc: 0.9697\n",
            "\n",
            "Epoch 30/40\n",
            "Epoch 30/40\n",
            "**************************************************\n",
            "loss: 0.0880; acc: 0.9722; val_loss: 0.0970; val_acc: 0.9717\n",
            "5s - loss: 0.0882 - acc: 0.9721 - val_loss: 0.0970 - val_acc: 0.9717\n",
            "\n",
            "Epoch 31/40\n",
            "Epoch 31/40\n",
            "**************************************************\n",
            "loss: 0.0857; acc: 0.9726; val_loss: 0.0915; val_acc: 0.9707\n",
            "5s - loss: 0.0860 - acc: 0.9725 - val_loss: 0.0915 - val_acc: 0.9707\n",
            "\n",
            "Epoch 32/40\n",
            "Epoch 32/40\n",
            "**************************************************\n",
            "loss: 0.0845; acc: 0.9737; val_loss: 0.0917; val_acc: 0.9702\n",
            "5s - loss: 0.0843 - acc: 0.9737 - val_loss: 0.0917 - val_acc: 0.9702\n",
            "\n",
            "Epoch 33/40\n",
            "Epoch 33/40\n",
            "**************************************************\n",
            "loss: 0.0841; acc: 0.9730; val_loss: 0.0895; val_acc: 0.9717\n",
            "5s - loss: 0.0842 - acc: 0.9729 - val_loss: 0.0895 - val_acc: 0.9717\n",
            "\n",
            "Epoch 34/40\n",
            "Epoch 34/40\n",
            "**************************************************\n",
            "loss: 0.0810; acc: 0.9741; val_loss: 0.0918; val_acc: 0.9694\n",
            "5s - loss: 0.0809 - acc: 0.9741 - val_loss: 0.0918 - val_acc: 0.9694\n",
            "\n",
            "Epoch 35/40\n",
            "Epoch 35/40\n",
            "**************************************************\n",
            "loss: 0.0794; acc: 0.9742; val_loss: 0.0926; val_acc: 0.9703\n",
            "5s - loss: 0.0794 - acc: 0.9742 - val_loss: 0.0926 - val_acc: 0.9703\n",
            "\n",
            "Epoch 36/40\n",
            "Epoch 36/40\n",
            "**************************************************\n",
            "loss: 0.0780; acc: 0.9750; val_loss: 0.0901; val_acc: 0.9722\n",
            "5s - loss: 0.0782 - acc: 0.9750 - val_loss: 0.0901 - val_acc: 0.9722\n",
            "\n",
            "Epoch 37/40\n",
            "Epoch 37/40\n",
            "**************************************************\n",
            "loss: 0.0757; acc: 0.9757; val_loss: 0.0879; val_acc: 0.9725\n",
            "5s - loss: 0.0752 - acc: 0.9758 - val_loss: 0.0879 - val_acc: 0.9725\n",
            "\n",
            "Epoch 38/40\n",
            "Epoch 38/40\n",
            "**************************************************\n",
            "loss: 0.0727; acc: 0.9770; val_loss: 0.0897; val_acc: 0.9721\n",
            "5s - loss: 0.0727 - acc: 0.9770 - val_loss: 0.0897 - val_acc: 0.9721\n",
            "\n",
            "Epoch 39/40\n",
            "Epoch 39/40\n",
            "**************************************************\n",
            "loss: 0.0705; acc: 0.9781; val_loss: 0.0904; val_acc: 0.9720\n",
            "5s - loss: 0.0706 - acc: 0.9782 - val_loss: 0.0904 - val_acc: 0.9720\n",
            "\n",
            "Epoch 40/40\n",
            "Epoch 40/40\n",
            "**************************************************\n",
            "loss: 0.0730; acc: 0.9770; val_loss: 0.0885; val_acc: 0.9730\n",
            "5s - loss: 0.0717 - acc: 0.9771 - val_loss: 0.0885 - val_acc: 0.9730\n"
          ],
          "name": "stdout"
        },
        {
          "output_type": "execute_result",
          "data": {
            "text/plain": [
              "<keras.callbacks.History at 0x7fc88a0a9ac8>"
            ]
          },
          "metadata": {
            "tags": []
          },
          "execution_count": 108
        }
      ]
    },
    {
      "cell_type": "markdown",
      "metadata": {
        "id": "QM-eSNwCO9s_",
        "colab_type": "text"
      },
      "source": [
        "# Some notes we can do to play around with this.\n",
        "\n",
        "Here are some tips on what you could do:\n",
        "\n",
        " * __Network size__\n",
        "   * More neurons, \n",
        "   * More layers, ([docs](https://keras.io/))\n",
        "\n",
        "   * Other nonlinearities in the hidden layers\n",
        "     * tanh, relu, leaky relu, etc\n",
        "   * Larger networks may take more epochs to train, so don't discard your net just because it could didn't beat the baseline in 5 epochs.\n",
        "\n",
        "\n",
        " * __Early Stopping__\n",
        "   * Training for 100 epochs regardless of anything is probably a bad idea.\n",
        "   * Some networks converge over 5 epochs, others - over 500.\n",
        "   * Way to go: stop when validation score is 10 iterations past maximum\n",
        "     \n",
        "\n",
        " * __Faster optimization__\n",
        "   * rmsprop, nesterov_momentum, adam, adagrad and so on.\n",
        "     * Converge faster and sometimes reach better optima\n",
        "     * It might make sense to tweak learning rate/momentum, other learning parameters, batch size and number of epochs\n",
        "\n",
        "\n",
        " * __Regularize__ to prevent overfitting\n",
        "   * Add some L2 weight norm to the loss function, theano will do the rest\n",
        "     * Can be done manually or via - https://keras.io/regularizers/\n",
        "   \n",
        "   \n",
        " * __Data augmemntation__ - getting 5x as large dataset for free is a great deal\n",
        "   * https://keras.io/preprocessing/image/\n",
        "   * Zoom-in+slice = move\n",
        "   * Rotate+zoom(to remove black stripes)\n",
        "   * any other perturbations\n",
        "   * Simple way to do that (if you have PIL/Image): \n",
        "     * ```from scipy.misc import imrotate,imresize```\n",
        "     * and a few slicing\n",
        "   * Stay realistic. There's usually no point in flipping dogs upside down as that is not the way you usually see them."
      ]
    },
    {
      "cell_type": "code",
      "metadata": {
        "id": "swdOFTAp-4lx",
        "colab_type": "code",
        "colab": {}
      },
      "source": [
        ""
      ],
      "execution_count": 0,
      "outputs": []
    }
  ]
}