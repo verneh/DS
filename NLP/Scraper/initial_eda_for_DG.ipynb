{
  "nbformat": 4,
  "nbformat_minor": 0,
  "metadata": {
    "colab": {
      "name": "initial eda for DG.ipynb",
      "provenance": []
    },
    "kernelspec": {
      "name": "python3",
      "display_name": "Python 3"
    }
  },
  "cells": [
    {
      "cell_type": "markdown",
      "metadata": {
        "id": "LKmVLlF_Evl5"
      },
      "source": [
        "Import"
      ]
    },
    {
      "cell_type": "code",
      "metadata": {
        "id": "wMXhhlbQDczg"
      },
      "source": [
        "from fastai import *\n",
        "from fastai.vision import *\n",
        "import pandas as pd\n",
        "import numpy as np\n",
        "import time"
      ],
      "execution_count": 38,
      "outputs": []
    },
    {
      "cell_type": "markdown",
      "metadata": {
        "id": "hFH738mdE-Tp"
      },
      "source": [
        "Load"
      ]
    },
    {
      "cell_type": "code",
      "metadata": {
        "id": "Cs6tF1VAFWaq",
        "outputId": "4083764e-fb67-4f46-f771-ee523f04950d",
        "colab": {
          "base_uri": "https://localhost:8080/",
          "height": 34
        }
      },
      "source": [
        "from google.colab import drive\n",
        "drive.mount('/content/drive')"
      ],
      "execution_count": 3,
      "outputs": [
        {
          "output_type": "stream",
          "text": [
            "Mounted at /content/drive\n"
          ],
          "name": "stdout"
        }
      ]
    },
    {
      "cell_type": "code",
      "metadata": {
        "id": "nCg6kr4cFcN3"
      },
      "source": [
        "path = Path('drive/My Drive/Colab Notebooks/tweepy/')"
      ],
      "execution_count": 8,
      "outputs": []
    },
    {
      "cell_type": "code",
      "metadata": {
        "id": "GyQlLTNVEyyj",
        "outputId": "4d5b6093-a73e-40cc-db7a-6a049035bd2a",
        "colab": {
          "base_uri": "https://localhost:8080/",
          "height": 279
        }
      },
      "source": [
        "df = pd.read_csv(path/'tweets.csv')\n",
        "df.head()"
      ],
      "execution_count": 10,
      "outputs": [
        {
          "output_type": "execute_result",
          "data": {
            "text/html": [
              "<div>\n",
              "<style scoped>\n",
              "    .dataframe tbody tr th:only-of-type {\n",
              "        vertical-align: middle;\n",
              "    }\n",
              "\n",
              "    .dataframe tbody tr th {\n",
              "        vertical-align: top;\n",
              "    }\n",
              "\n",
              "    .dataframe thead th {\n",
              "        text-align: right;\n",
              "    }\n",
              "</style>\n",
              "<table border=\"1\" class=\"dataframe\">\n",
              "  <thead>\n",
              "    <tr style=\"text-align: right;\">\n",
              "      <th></th>\n",
              "      <th>created_at</th>\n",
              "      <th>tweet_id</th>\n",
              "      <th>tweet_text</th>\n",
              "      <th>screen_name</th>\n",
              "      <th>name</th>\n",
              "      <th>account_creation_date</th>\n",
              "      <th>urls</th>\n",
              "      <th>location</th>\n",
              "      <th>description</th>\n",
              "    </tr>\n",
              "  </thead>\n",
              "  <tbody>\n",
              "    <tr>\n",
              "      <th>0</th>\n",
              "      <td>2020-10-10 05:41:16</td>\n",
              "      <td>1314803161400446977</td>\n",
              "      <td>@thesashaprofit Because he called for a screen...</td>\n",
              "      <td>TheNextBlGThing</td>\n",
              "      <td>Sasha Banks ̶S̶i̶t̶h̶ Simp Lord</td>\n",
              "      <td>Wed Jun 23 01:28:50 +0000 2010</td>\n",
              "      <td>[]</td>\n",
              "      <td>LA</td>\n",
              "      <td>Frank. 26. 🇵🇭. tweets about sasha banks, wrass...</td>\n",
              "    </tr>\n",
              "    <tr>\n",
              "      <th>1</th>\n",
              "      <td>2020-10-10 05:41:15</td>\n",
              "      <td>1314803159374594050</td>\n",
              "      <td>RT @LakeShowYo: if Danny Green would’ve shot a...</td>\n",
              "      <td>lucaszapata__</td>\n",
              "      <td>lucas</td>\n",
              "      <td>Sat Sep 24 03:16:29 +0000 2016</td>\n",
              "      <td>[]</td>\n",
              "      <td>California, USA</td>\n",
              "      <td>married to @blurriess &amp; @vicnipple is my banner 🥰</td>\n",
              "    </tr>\n",
              "    <tr>\n",
              "      <th>2</th>\n",
              "      <td>2020-10-10 05:41:15</td>\n",
              "      <td>1314803159034929152</td>\n",
              "      <td>RT @mldiffley: Nobody:\\n\\nDanny Green: https:/...</td>\n",
              "      <td>MrC_Reality</td>\n",
              "      <td>Yeng Badness</td>\n",
              "      <td>Thu Dec 15 15:18:12 +0000 2011</td>\n",
              "      <td>[]</td>\n",
              "      <td>The Moon</td>\n",
              "      <td>NaN</td>\n",
              "    </tr>\n",
              "    <tr>\n",
              "      <th>3</th>\n",
              "      <td>2020-10-10 05:41:15</td>\n",
              "      <td>1314803158682603520</td>\n",
              "      <td>RT @seb_lco: Yo solo digo que Jordan no se la ...</td>\n",
              "      <td>Jesus13JE</td>\n",
              "      <td>Jesús A.Especier</td>\n",
              "      <td>Sun Apr 07 22:37:21 +0000 2013</td>\n",
              "      <td>[]</td>\n",
              "      <td>Guarenas Edo Miranda Venezuela</td>\n",
              "      <td>Mi Dios Padre Primero. Nací en Los Llanos De A...</td>\n",
              "    </tr>\n",
              "    <tr>\n",
              "      <th>4</th>\n",
              "      <td>2020-10-10 05:41:15</td>\n",
              "      <td>1314803158644936704</td>\n",
              "      <td>Danny green hit the shot we not talkin bout shit</td>\n",
              "      <td>shocklitosway</td>\n",
              "      <td>Shockaveli</td>\n",
              "      <td>Sun May 09 23:11:35 +0000 2010</td>\n",
              "      <td>[]</td>\n",
              "      <td>NaN</td>\n",
              "      <td>NaN</td>\n",
              "    </tr>\n",
              "  </tbody>\n",
              "</table>\n",
              "</div>"
            ],
            "text/plain": [
              "            created_at  ...                                        description\n",
              "0  2020-10-10 05:41:16  ...  Frank. 26. 🇵🇭. tweets about sasha banks, wrass...\n",
              "1  2020-10-10 05:41:15  ...  married to @blurriess & @vicnipple is my banner 🥰\n",
              "2  2020-10-10 05:41:15  ...                                                NaN\n",
              "3  2020-10-10 05:41:15  ...  Mi Dios Padre Primero. Nací en Los Llanos De A...\n",
              "4  2020-10-10 05:41:15  ...                                                NaN\n",
              "\n",
              "[5 rows x 9 columns]"
            ]
          },
          "metadata": {
            "tags": []
          },
          "execution_count": 10
        }
      ]
    },
    {
      "cell_type": "code",
      "metadata": {
        "id": "bTNubdXGFGl-",
        "outputId": "a7a3ef56-d177-4a9e-bbe3-b17490b48c3e",
        "colab": {
          "base_uri": "https://localhost:8080/",
          "height": 34
        }
      },
      "source": [
        "df.shape[0]"
      ],
      "execution_count": 11,
      "outputs": [
        {
          "output_type": "execute_result",
          "data": {
            "text/plain": [
              "1000"
            ]
          },
          "metadata": {
            "tags": []
          },
          "execution_count": 11
        }
      ]
    },
    {
      "cell_type": "code",
      "metadata": {
        "id": "1gNfuS9QJpdy",
        "outputId": "e2a8de52-3b17-43ef-a85e-2cf6d537ef0e",
        "colab": {
          "base_uri": "https://localhost:8080/",
          "height": 343
        }
      },
      "source": [
        "df.screen_name.value_counts().head(10).reset_index().rename(columns={'index':'screen_name', 'screen_name':'frequency'})"
      ],
      "execution_count": 52,
      "outputs": [
        {
          "output_type": "execute_result",
          "data": {
            "text/html": [
              "<div>\n",
              "<style scoped>\n",
              "    .dataframe tbody tr th:only-of-type {\n",
              "        vertical-align: middle;\n",
              "    }\n",
              "\n",
              "    .dataframe tbody tr th {\n",
              "        vertical-align: top;\n",
              "    }\n",
              "\n",
              "    .dataframe thead th {\n",
              "        text-align: right;\n",
              "    }\n",
              "</style>\n",
              "<table border=\"1\" class=\"dataframe\">\n",
              "  <thead>\n",
              "    <tr style=\"text-align: right;\">\n",
              "      <th></th>\n",
              "      <th>screen_name</th>\n",
              "      <th>frequency</th>\n",
              "    </tr>\n",
              "  </thead>\n",
              "  <tbody>\n",
              "    <tr>\n",
              "      <th>0</th>\n",
              "      <td>DennisNderitu_</td>\n",
              "      <td>12</td>\n",
              "    </tr>\n",
              "    <tr>\n",
              "      <th>1</th>\n",
              "      <td>CholoG1119</td>\n",
              "      <td>4</td>\n",
              "    </tr>\n",
              "    <tr>\n",
              "      <th>2</th>\n",
              "      <td>rafertheprince</td>\n",
              "      <td>4</td>\n",
              "    </tr>\n",
              "    <tr>\n",
              "      <th>3</th>\n",
              "      <td>ShawnTapiru</td>\n",
              "      <td>3</td>\n",
              "    </tr>\n",
              "    <tr>\n",
              "      <th>4</th>\n",
              "      <td>row_atk</td>\n",
              "      <td>3</td>\n",
              "    </tr>\n",
              "    <tr>\n",
              "      <th>5</th>\n",
              "      <td>anonshiti</td>\n",
              "      <td>3</td>\n",
              "    </tr>\n",
              "    <tr>\n",
              "      <th>6</th>\n",
              "      <td>StillCush</td>\n",
              "      <td>3</td>\n",
              "    </tr>\n",
              "    <tr>\n",
              "      <th>7</th>\n",
              "      <td>zaddyass</td>\n",
              "      <td>3</td>\n",
              "    </tr>\n",
              "    <tr>\n",
              "      <th>8</th>\n",
              "      <td>Daif_23</td>\n",
              "      <td>3</td>\n",
              "    </tr>\n",
              "    <tr>\n",
              "      <th>9</th>\n",
              "      <td>GSWRevenge2021</td>\n",
              "      <td>3</td>\n",
              "    </tr>\n",
              "  </tbody>\n",
              "</table>\n",
              "</div>"
            ],
            "text/plain": [
              "      screen_name  frequency\n",
              "0  DennisNderitu_         12\n",
              "1      CholoG1119          4\n",
              "2  rafertheprince          4\n",
              "3     ShawnTapiru          3\n",
              "4         row_atk          3\n",
              "5       anonshiti          3\n",
              "6       StillCush          3\n",
              "7        zaddyass          3\n",
              "8         Daif_23          3\n",
              "9  GSWRevenge2021          3"
            ]
          },
          "metadata": {
            "tags": []
          },
          "execution_count": 52
        }
      ]
    },
    {
      "cell_type": "markdown",
      "metadata": {
        "id": "xulPQ3-MSvOx"
      },
      "source": [
        "Top accounts that have tweeted."
      ]
    },
    {
      "cell_type": "code",
      "metadata": {
        "id": "GMPDtCBfGCry",
        "outputId": "bf8df422-2460-44a5-a845-cf48507afd3e",
        "colab": {
          "base_uri": "https://localhost:8080/",
          "height": 343
        }
      },
      "source": [
        "df.tweet_text.value_counts().head(10).reset_index()"
      ],
      "execution_count": 15,
      "outputs": [
        {
          "output_type": "execute_result",
          "data": {
            "text/html": [
              "<div>\n",
              "<style scoped>\n",
              "    .dataframe tbody tr th:only-of-type {\n",
              "        vertical-align: middle;\n",
              "    }\n",
              "\n",
              "    .dataframe tbody tr th {\n",
              "        vertical-align: top;\n",
              "    }\n",
              "\n",
              "    .dataframe thead th {\n",
              "        text-align: right;\n",
              "    }\n",
              "</style>\n",
              "<table border=\"1\" class=\"dataframe\">\n",
              "  <thead>\n",
              "    <tr style=\"text-align: right;\">\n",
              "      <th></th>\n",
              "      <th>index</th>\n",
              "      <th>tweet_text</th>\n",
              "    </tr>\n",
              "  </thead>\n",
              "  <tbody>\n",
              "    <tr>\n",
              "      <th>0</th>\n",
              "      <td>RT @7Dniggah: Danny Green: its okay we’ll get ...</td>\n",
              "      <td>27</td>\n",
              "    </tr>\n",
              "    <tr>\n",
              "      <th>1</th>\n",
              "      <td>RT @BleacherReport: “I trusted him, we trusted...</td>\n",
              "      <td>25</td>\n",
              "    </tr>\n",
              "    <tr>\n",
              "      <th>2</th>\n",
              "      <td>RT @LakeShowYo: if Danny Green would’ve shot a...</td>\n",
              "      <td>25</td>\n",
              "    </tr>\n",
              "    <tr>\n",
              "      <th>3</th>\n",
              "      <td>RT @LakeShowYo: When I die I want DANNY GREEN ...</td>\n",
              "      <td>22</td>\n",
              "    </tr>\n",
              "    <tr>\n",
              "      <th>4</th>\n",
              "      <td>RT @LakeShowYo: i’m here in Orlando and just s...</td>\n",
              "      <td>18</td>\n",
              "    </tr>\n",
              "    <tr>\n",
              "      <th>5</th>\n",
              "      <td>RT @LonerMike_: The rim watchin Danny green sp...</td>\n",
              "      <td>17</td>\n",
              "    </tr>\n",
              "    <tr>\n",
              "      <th>6</th>\n",
              "      <td>RT @ramonashelburne: Danny Green missed his St...</td>\n",
              "      <td>15</td>\n",
              "    </tr>\n",
              "    <tr>\n",
              "      <th>7</th>\n",
              "      <td>RT @30SECVlDEOS: *Danny Green with a wide open...</td>\n",
              "      <td>15</td>\n",
              "    </tr>\n",
              "    <tr>\n",
              "      <th>8</th>\n",
              "      <td>RT @RamiahBalenYT: @BleacherReport Danny green...</td>\n",
              "      <td>13</td>\n",
              "    </tr>\n",
              "    <tr>\n",
              "      <th>9</th>\n",
              "      <td>RT @Jah2Solid: If Danny Green shot Tupac he’d ...</td>\n",
              "      <td>12</td>\n",
              "    </tr>\n",
              "  </tbody>\n",
              "</table>\n",
              "</div>"
            ],
            "text/plain": [
              "                                               index  tweet_text\n",
              "0  RT @7Dniggah: Danny Green: its okay we’ll get ...          27\n",
              "1  RT @BleacherReport: “I trusted him, we trusted...          25\n",
              "2  RT @LakeShowYo: if Danny Green would’ve shot a...          25\n",
              "3  RT @LakeShowYo: When I die I want DANNY GREEN ...          22\n",
              "4  RT @LakeShowYo: i’m here in Orlando and just s...          18\n",
              "5  RT @LonerMike_: The rim watchin Danny green sp...          17\n",
              "6  RT @ramonashelburne: Danny Green missed his St...          15\n",
              "7  RT @30SECVlDEOS: *Danny Green with a wide open...          15\n",
              "8  RT @RamiahBalenYT: @BleacherReport Danny green...          13\n",
              "9  RT @Jah2Solid: If Danny Green shot Tupac he’d ...          12"
            ]
          },
          "metadata": {
            "tags": []
          },
          "execution_count": 15
        }
      ]
    },
    {
      "cell_type": "markdown",
      "metadata": {
        "id": "KxpSMnF5MFTT"
      },
      "source": [
        "Top 10 retweeted tweets include 7Dniggah (Content Creator), Bleacher Report, Ramona Shelburne and LakeShowYo."
      ]
    },
    {
      "cell_type": "code",
      "metadata": {
        "id": "9Eoi7RTqGqyH"
      },
      "source": [
        "df['account_creation_date_month'] = (pd.to_datetime(pd.to_datetime(df.account_creation_date)\n",
        "                                                     .apply(lambda x: x.strftime('%Y-%m'))))"
      ],
      "execution_count": 16,
      "outputs": []
    },
    {
      "cell_type": "code",
      "metadata": {
        "id": "TQdOj3SBG_Bw"
      },
      "source": [
        "accounts = df.copy()\n",
        "accounts = accounts.drop_duplicates(['screen_name'], keep='first')"
      ],
      "execution_count": 18,
      "outputs": []
    },
    {
      "cell_type": "code",
      "metadata": {
        "id": "Eb3qlamhHJEP",
        "outputId": "c74a5506-ee99-4383-ee86-2e00edc2dcf7",
        "colab": {
          "base_uri": "https://localhost:8080/",
          "height": 34
        }
      },
      "source": [
        "accounts.shape[0]"
      ],
      "execution_count": 19,
      "outputs": [
        {
          "output_type": "execute_result",
          "data": {
            "text/plain": [
              "890"
            ]
          },
          "metadata": {
            "tags": []
          },
          "execution_count": 19
        }
      ]
    },
    {
      "cell_type": "code",
      "metadata": {
        "id": "9wspukRHHOpR",
        "outputId": "cf7a08d9-e0cc-4b30-bbec-10cd6b32dda8",
        "colab": {
          "base_uri": "https://localhost:8080/",
          "height": 202
        }
      },
      "source": [
        "accounts.account_creation_date_month.value_counts().head(10)"
      ],
      "execution_count": 20,
      "outputs": [
        {
          "output_type": "execute_result",
          "data": {
            "text/plain": [
              "2015-04-01    14\n",
              "2011-01-01    13\n",
              "2019-07-01    13\n",
              "2014-12-01    12\n",
              "2014-07-01    12\n",
              "2012-06-01    12\n",
              "2013-06-01    12\n",
              "2020-08-01    12\n",
              "2012-08-01    11\n",
              "2011-08-01    11\n",
              "Name: account_creation_date_month, dtype: int64"
            ]
          },
          "metadata": {
            "tags": []
          },
          "execution_count": 20
        }
      ]
    },
    {
      "cell_type": "markdown",
      "metadata": {
        "id": "oCJ8Y4D1HjiQ"
      },
      "source": [
        "As old as 9 years old and as young as an account created two months ago."
      ]
    },
    {
      "cell_type": "code",
      "metadata": {
        "id": "6vsAwgHuHR-3"
      },
      "source": [
        "# regex to strip hashtags.\n",
        "import ast\n",
        "import re\n",
        "df['hashtags'] = df['tweet_text'].apply(lambda x: str(re.findall(r\"#(\\w+)\", str(x))))"
      ],
      "execution_count": 39,
      "outputs": []
    },
    {
      "cell_type": "code",
      "metadata": {
        "id": "YLZ_dXPJIBIr"
      },
      "source": [
        "def hashtags(col):\n",
        "    \n",
        "    col = col.apply(lambda x: ast.literal_eval(x))\n",
        "    \n",
        "    def mapper(s):\n",
        "        all_vals = list()\n",
        "\n",
        "        for l in s:\n",
        "            [all_vals.append(x.lower()) for x in l]\n",
        "\n",
        "        all_vals.sort()\n",
        "        return all_vals\n",
        "\n",
        "    def reducer(l):\n",
        "        all_counts = dict()\n",
        "        prev = l[0]\n",
        "        count = 0\n",
        "\n",
        "        for x in l:\n",
        "            if x == prev:\n",
        "                count = count + 1\n",
        "            else:\n",
        "                all_counts[prev] = count\n",
        "                prev = x\n",
        "                count = 1      \n",
        "\n",
        "        all_counts[prev] = count\n",
        "\n",
        "        return all_counts\n",
        "    \n",
        "    mapped = mapper(col)\n",
        "    reduced = reducer(mapped)\n",
        "    reduced = dict(sorted(reduced.items(), key=lambda x: x[1], reverse=True))\n",
        "    \n",
        "    df = pd.DataFrame(list(reduced.items()), columns=['hashtag', 'number']).head(20).sort_values('number', ascending=True)\n",
        "    return df"
      ],
      "execution_count": 40,
      "outputs": []
    },
    {
      "cell_type": "code",
      "metadata": {
        "id": "0G92no42IGtO"
      },
      "source": [
        "def bar_chart(tags, number, title):\n",
        "    plt.figure(figsize=(10,5))\n",
        "    plt.barh(tags, number)\n",
        "    plt.title(title)\n",
        "    plt.xlabel('Number of times, the hashtag appeared')\n",
        "    plt.show();"
      ],
      "execution_count": 48,
      "outputs": []
    },
    {
      "cell_type": "code",
      "metadata": {
        "id": "7wCdWhtZIJMR"
      },
      "source": [
        "new = df[df.hashtags.map(lambda x: len(x) >= 1)]\n",
        "tags = hashtags(new.hashtags)"
      ],
      "execution_count": 49,
      "outputs": []
    },
    {
      "cell_type": "code",
      "metadata": {
        "id": "_wiZ1mkEIPmu",
        "outputId": "3068d001-2337-4276-e17d-00d07869c2a6",
        "colab": {
          "base_uri": "https://localhost:8080/",
          "height": 350
        }
      },
      "source": [
        "bar_chart(tags.hashtag, tags.number, 'Top Hashtags for Danny Green')"
      ],
      "execution_count": 51,
      "outputs": [
        {
          "output_type": "display_data",
          "data": {
            "image/png": "[encoded data removed]",
            "text/plain": [
              "<Figure size 720x360 with 1 Axes>"
            ]
          },
          "metadata": {
            "tags": [],
            "needs_background": "light"
          }
        }
      ]
    },
    {
      "cell_type": "markdown",
      "metadata": {
        "id": "SryUMPfdNB0q"
      },
      "source": [
        "Wasn't that bad. Still related to the NBA Finals except for the show - The Haunting of Bly Manor (Netflix)."
      ]
    },
    {
      "cell_type": "code",
      "metadata": {
        "id": "lZWv8iWxT9fC"
      },
      "source": [
        "df['urls'] = df.urls.apply(lambda x: ast.literal_eval(x))"
      ],
      "execution_count": 53,
      "outputs": []
    },
    {
      "cell_type": "code",
      "metadata": {
        "id": "5_QBQ0dFT_my"
      },
      "source": [
        "df = df[df.urls.map(lambda x: len(x) >= 1)]"
      ],
      "execution_count": 54,
      "outputs": []
    },
    {
      "cell_type": "code",
      "metadata": {
        "id": "UYi4JcCpUCqF",
        "outputId": "5f2bc046-5c70-458a-8eea-28fa7f5d962c",
        "colab": {
          "base_uri": "https://localhost:8080/",
          "height": 343
        }
      },
      "source": [
        "def unpack(row):\n",
        "    array = []\n",
        "    for i in row['urls']:\n",
        "        array.append(i['expanded_url'])\n",
        "    return array\n",
        "\n",
        "\"\"\"create a new column using your function which contains the extracted url or urls\"\"\"\n",
        "df['expanded_urls'] = df.apply(unpack, axis=1)\n",
        "\n",
        "\"\"\"function that takes the list of urls in each row, aggregates them, and then returns the top 10 links from your dataset\"\"\"\n",
        "def urls(col):\n",
        "    \n",
        "    def mapper(s):\n",
        "        all_vals = list()\n",
        "\n",
        "        for l in s:\n",
        "            [all_vals.append(x) for x in l]\n",
        "\n",
        "        all_vals.sort()\n",
        "        return all_vals\n",
        "\n",
        "    def reducer(l):\n",
        "        all_counts = dict()\n",
        "        prev = l[0]\n",
        "        count = 0\n",
        "\n",
        "        for x in l:\n",
        "            if x == prev:\n",
        "                count = count + 1\n",
        "            else:\n",
        "                all_counts[prev] = count\n",
        "                prev = x\n",
        "                count = 1      \n",
        "\n",
        "        all_counts[prev] = count\n",
        "\n",
        "        return all_counts\n",
        "    \n",
        "    mapped = mapper(col)\n",
        "    reduced = reducer(mapped)\n",
        "    reduced = dict(sorted(reduced.items(), key=lambda x: x[1], reverse=True))\n",
        "    \n",
        "    df = pd.DataFrame(list(reduced.items()), columns=['url', 'number']).head(10).sort_values('number', ascending=False)\n",
        "    return df\n",
        "    \n",
        "\"\"\"use the function on the column that houses your extracted_urls to get the top 10 urls\"\"\"\n",
        "urls(df.expanded_urls)"
      ],
      "execution_count": 55,
      "outputs": [
        {
          "output_type": "execute_result",
          "data": {
            "text/html": [
              "<div>\n",
              "<style scoped>\n",
              "    .dataframe tbody tr th:only-of-type {\n",
              "        vertical-align: middle;\n",
              "    }\n",
              "\n",
              "    .dataframe tbody tr th {\n",
              "        vertical-align: top;\n",
              "    }\n",
              "\n",
              "    .dataframe thead th {\n",
              "        text-align: right;\n",
              "    }\n",
              "</style>\n",
              "<table border=\"1\" class=\"dataframe\">\n",
              "  <thead>\n",
              "    <tr style=\"text-align: right;\">\n",
              "      <th></th>\n",
              "      <th>url</th>\n",
              "      <th>number</th>\n",
              "    </tr>\n",
              "  </thead>\n",
              "  <tbody>\n",
              "    <tr>\n",
              "      <th>0</th>\n",
              "      <td>https://amzn.to/2Fk9TY8</td>\n",
              "      <td>8</td>\n",
              "    </tr>\n",
              "    <tr>\n",
              "      <th>1</th>\n",
              "      <td>https://fadeawayworld.net/2020/10/10/lakers-fa...</td>\n",
              "      <td>2</td>\n",
              "    </tr>\n",
              "    <tr>\n",
              "      <th>2</th>\n",
              "      <td>https://www.change.org/p/the-los-angeles-laker...</td>\n",
              "      <td>2</td>\n",
              "    </tr>\n",
              "    <tr>\n",
              "      <th>3</th>\n",
              "      <td>http://cmplx.co/yqWjUIc</td>\n",
              "      <td>1</td>\n",
              "    </tr>\n",
              "    <tr>\n",
              "      <th>4</th>\n",
              "      <td>https://twitter.com/BleacherReport/status/1314...</td>\n",
              "      <td>1</td>\n",
              "    </tr>\n",
              "    <tr>\n",
              "      <th>5</th>\n",
              "      <td>https://twitter.com/LaJethroJenkins/status/131...</td>\n",
              "      <td>1</td>\n",
              "    </tr>\n",
              "    <tr>\n",
              "      <th>6</th>\n",
              "      <td>https://twitter.com/NBAdabad/status/1314773466...</td>\n",
              "      <td>1</td>\n",
              "    </tr>\n",
              "    <tr>\n",
              "      <th>7</th>\n",
              "      <td>https://twitter.com/OlivingstonTV/status/13147...</td>\n",
              "      <td>1</td>\n",
              "    </tr>\n",
              "    <tr>\n",
              "      <th>8</th>\n",
              "      <td>https://twitter.com/barstoolsports/status/1314...</td>\n",
              "      <td>1</td>\n",
              "    </tr>\n",
              "    <tr>\n",
              "      <th>9</th>\n",
              "      <td>https://twitter.com/barterr7/status/1314788506...</td>\n",
              "      <td>1</td>\n",
              "    </tr>\n",
              "  </tbody>\n",
              "</table>\n",
              "</div>"
            ],
            "text/plain": [
              "                                                 url  number\n",
              "0                            https://amzn.to/2Fk9TY8       8\n",
              "1  https://fadeawayworld.net/2020/10/10/lakers-fa...       2\n",
              "2  https://www.change.org/p/the-los-angeles-laker...       2\n",
              "3                            http://cmplx.co/yqWjUIc       1\n",
              "4  https://twitter.com/BleacherReport/status/1314...       1\n",
              "5  https://twitter.com/LaJethroJenkins/status/131...       1\n",
              "6  https://twitter.com/NBAdabad/status/1314773466...       1\n",
              "7  https://twitter.com/OlivingstonTV/status/13147...       1\n",
              "8  https://twitter.com/barstoolsports/status/1314...       1\n",
              "9  https://twitter.com/barterr7/status/1314788506...       1"
            ]
          },
          "metadata": {
            "tags": []
          },
          "execution_count": 55
        }
      ]
    },
    {
      "cell_type": "markdown",
      "metadata": {
        "id": "MnyvIhDgUL_5"
      },
      "source": [
        "Remarks:\n",
        "\n",
        "* In terms of what URLs are connected to the tweets, got to love the rubbermaid trash can amazon ad as the top URL being linked. This is probably to imply  Danny Green's performance tonight. \n",
        "\n",
        "* Fadeawayworld.net has an article that talks about Laker fans all over that are \"pissed\" at Danny Green missing the clutch three pointer.\n",
        "\n",
        "* There's also a change.org petition for him to be off the squad."
      ]
    },
    {
      "cell_type": "code",
      "metadata": {
        "id": "UcKfeyS3WR6k"
      },
      "source": [
        ""
      ],
      "execution_count": null,
      "outputs": []
    }
  ]
}