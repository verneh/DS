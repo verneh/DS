{
  "nbformat": 4,
  "nbformat_minor": 0,
  "metadata": {
    "colab": {
      "name": "simpy-bottling.ipynb",
      "provenance": [],
      "collapsed_sections": [],
      "authorship_tag": "ABX9TyNoGNWOl7BKQ13h6hQiYt85",
      "include_colab_link": true
    },
    "kernelspec": {
      "name": "python3",
      "display_name": "Python 3"
    }
  },
  "cells": [
    {
      "cell_type": "markdown",
      "metadata": {
        "id": "view-in-github",
        "colab_type": "text"
      },
      "source": [
        "<a href=\"https://colab.research.google.com/github/verneh/verneh.github.io/blob/master/simpy_bottling.ipynb\" target=\"_parent\"><img src=\"https://colab.research.google.com/assets/colab-badge.svg\" alt=\"Open In Colab\"/></a>"
      ]
    },
    {
      "cell_type": "markdown",
      "metadata": {
        "id": "YD7EyOie4rvw",
        "colab_type": "text"
      },
      "source": [
        "**Small Sample Simulation for Bottling Factory Machine**\n"
      ]
    },
    {
      "cell_type": "markdown",
      "metadata": {
        "id": "DsAbdaWf6_jL",
        "colab_type": "text"
      },
      "source": [
        "Credit goes to Paul Grogan's works on *SimPy*. We are under the assumption that everything starts at the same time for this small scale bottling company."
      ]
    },
    {
      "cell_type": "code",
      "metadata": {
        "id": "8WuqNE7hHJGc",
        "colab_type": "code",
        "colab": {
          "base_uri": "https://localhost:8080/",
          "height": 34
        },
        "outputId": "7b073cc4-47b4-4882-9b85-b1c8dc55f9a6"
      },
      "source": [
        "!pip install simpy"
      ],
      "execution_count": 364,
      "outputs": [
        {
          "output_type": "stream",
          "text": [
            "Requirement already satisfied: simpy in /usr/local/lib/python3.6/dist-packages (4.0.0)\n"
          ],
          "name": "stdout"
        }
      ]
    },
    {
      "cell_type": "code",
      "metadata": {
        "id": "KgJkNFAlG-yv",
        "colab_type": "code",
        "colab": {}
      },
      "source": [
        "import simpy\n",
        "import numpy as np"
      ],
      "execution_count": 0,
      "outputs": []
    },
    {
      "cell_type": "code",
      "metadata": {
        "id": "k6M1pH4zHEa_",
        "colab_type": "code",
        "colab": {}
      },
      "source": [
        "def factory_run(env, staff, spares):\n",
        "    \n",
        "    global cost\n",
        "    cost = 0.0\n",
        "\n",
        "    # we need to manage the machines. so we have 2 running at the moment.\n",
        "    for i in range(2):\n",
        "      env.process(operate_machine(env, staff, spares))\n",
        "\n",
        "    # recurring loop of costs incurred from staff and cost of machine. value converted to PHP.\n",
        "    # 250 per hour for an engineer. assuming that the machine for a small scale bottling facility costs 833 per day.\n",
        "    while True:\n",
        "      cost += 250*8*staff.capacity + 833*spares.capacity\n",
        "      yield env.timeout(8.0)\n",
        "\n",
        "def operate_machine(env, staff, cans):      \n",
        "    \n",
        "    global cost\n",
        "\n",
        "    while True:\n",
        "      yield env.timeout(time_to_failure())\n",
        "      t_broken = env.now\n",
        "      print('{:.2f} machine broke'.format(t_broken))\n",
        "      # repair machine and log time.\n",
        "      # putting this statement means we don't have to wait for the repair, we just launch it.\n",
        "      env.process(repair_machine(env, staff, spares))\n",
        "      yield spares.get(1)\n",
        "      t_replaced = env.now\n",
        "      print('{:.2f} machine replaced'.format(t_replaced))\n",
        "      cost += 550*(t_replaced - t_broken) # 550 is the cost per hour of not having the machine \n",
        "\n",
        "# determine distribution of hours to complete repair.\n",
        "def generate_repair_time():\n",
        "    return np.random.uniform(9, 11)    \n",
        "\n",
        "\n",
        "# breaks every x. in our case every 10 days.\n",
        "def time_to_failure():\n",
        "    return np.random.uniform(240, 480)\n",
        "\n",
        "# define repair machine. put back cans from our pool of cans.\n",
        "def repair_machine(env, staff, spares): \n",
        "    with staff.request() as request:\n",
        "      yield request\n",
        "      yield env.timeout(generate_repair_time())\n",
        "      yield spares.put(1)\n",
        "    print('{:.2f} machine repaired'.format(env.now))  \n",
        "\n",
        "\n"
      ],
      "execution_count": 0,
      "outputs": []
    },
    {
      "cell_type": "code",
      "metadata": {
        "id": "MwgByBKAC4A7",
        "colab_type": "code",
        "colab": {}
      },
      "source": [
        "# generate data for plotting\n",
        "observation_times = []\n",
        "observation_cost = []\n",
        "number_of_spares = []"
      ],
      "execution_count": 0,
      "outputs": []
    },
    {
      "cell_type": "code",
      "metadata": {
        "id": "wXgdh_jaF2OT",
        "colab_type": "code",
        "colab": {}
      },
      "source": [
        "def observe(env, cans):\n",
        "  while True:\n",
        "    observation_times.append(env.now)\n",
        "    # be careful to define global cost. for this type of simulation it works fine.\n",
        "    observation_cost.append(cost)\n",
        "    number_of_spares.append(spares.level) # to know how many levels of spares are available.\n",
        "    yield env.timeout(1.0) # process monitor takes place every one hour.\n"
      ],
      "execution_count": 0,
      "outputs": []
    },
    {
      "cell_type": "code",
      "metadata": {
        "id": "cmq2w2Ig4iNF",
        "colab_type": "code",
        "colab": {}
      },
      "source": [
        "np.random.seed(42)"
      ],
      "execution_count": 0,
      "outputs": []
    },
    {
      "cell_type": "code",
      "metadata": {
        "id": "nqMHVpz_5Q11",
        "colab_type": "code",
        "colab": {}
      },
      "source": [
        "env = simpy.Environment()"
      ],
      "execution_count": 0,
      "outputs": []
    },
    {
      "cell_type": "code",
      "metadata": {
        "id": "RfLJDTZF4ody",
        "colab_type": "code",
        "colab": {}
      },
      "source": [
        "staff = simpy.Resource(env, capacity=3)"
      ],
      "execution_count": 0,
      "outputs": []
    },
    {
      "cell_type": "code",
      "metadata": {
        "id": "5U4Y6L-Z5MIu",
        "colab_type": "code",
        "colab": {}
      },
      "source": [
        "# we are assuming that there are 2 spare machines. \n",
        "spares = simpy.Container(env, init=2, capacity=2)"
      ],
      "execution_count": 0,
      "outputs": []
    },
    {
      "cell_type": "code",
      "metadata": {
        "id": "C4UG4JSeJpin",
        "colab_type": "code",
        "colab": {
          "base_uri": "https://localhost:8080/",
          "height": 34
        },
        "outputId": "13d11726-f752-426d-8076-4d4af17284f5"
      },
      "source": [
        "env.process(factory_run(env, staff, spares))"
      ],
      "execution_count": 373,
      "outputs": [
        {
          "output_type": "execute_result",
          "data": {
            "text/plain": [
              "<Process(factory_run) object at 0x7f5d172f0780>"
            ]
          },
          "metadata": {
            "tags": []
          },
          "execution_count": 373
        }
      ]
    },
    {
      "cell_type": "code",
      "metadata": {
        "id": "2mdjzK1lJbqg",
        "colab_type": "code",
        "colab": {
          "base_uri": "https://localhost:8080/",
          "height": 34
        },
        "outputId": "e249ca0b-379c-452d-f672-d76f4e2e2bfe"
      },
      "source": [
        "env.process(observe(env, spares))"
      ],
      "execution_count": 374,
      "outputs": [
        {
          "output_type": "execute_result",
          "data": {
            "text/plain": [
              "<Process(observe) object at 0x7f5d172f0978>"
            ]
          },
          "metadata": {
            "tags": []
          },
          "execution_count": 374
        }
      ]
    },
    {
      "cell_type": "code",
      "metadata": {
        "id": "8F9-C3UYkDAc",
        "colab_type": "code",
        "colab": {
          "base_uri": "https://localhost:8080/",
          "height": 923
        },
        "outputId": "bb033a1d-8a2e-4863-93a3-9c3ea0722efd"
      },
      "source": [
        "# the assumption is that the machines run for 12 hours a day. the numbers reflected here is based on weeks. \n",
        "# we chose a random period within week 10 - 20 (240 - 480).\n",
        "env.run(until=12*5*52)"
      ],
      "execution_count": 375,
      "outputs": [
        {
          "output_type": "stream",
          "text": [
            "329.89 machine broke\n",
            "329.89 machine replaced\n",
            "340.09 machine repaired\n",
            "468.17 machine broke\n",
            "468.17 machine replaced\n",
            "477.48 machine repaired\n",
            "745.57 machine broke\n",
            "745.57 machine replaced\n",
            "745.62 machine broke\n",
            "745.62 machine replaced\n",
            "756.03 machine repaired\n",
            "756.30 machine repaired\n",
            "999.51 machine broke\n",
            "999.51 machine replaced\n",
            "1010.45 machine repaired\n",
            "1129.88 machine broke\n",
            "1129.88 machine replaced\n",
            "1139.31 machine repaired\n",
            "1244.45 machine broke\n",
            "1244.45 machine replaced\n",
            "1253.82 machine repaired\n",
            "1528.09 machine broke\n",
            "1528.09 machine replaced\n",
            "1538.14 machine repaired\n",
            "1569.67 machine broke\n",
            "1569.67 machine replaced\n",
            "1579.25 machine repaired\n",
            "1841.10 machine broke\n",
            "1841.10 machine replaced\n",
            "1850.38 machine repaired\n",
            "1913.34 machine broke\n",
            "1913.34 machine replaced\n",
            "1923.07 machine repaired\n",
            "2223.45 machine broke\n",
            "2223.45 machine replaced\n",
            "2227.95 machine broke\n",
            "2227.95 machine replaced\n",
            "2234.02 machine repaired\n",
            "2237.98 machine repaired\n",
            "2515.87 machine broke\n",
            "2515.87 machine replaced\n",
            "2524.96 machine repaired\n",
            "2572.91 machine broke\n",
            "2572.91 machine replaced\n",
            "2582.25 machine repaired\n",
            "2898.05 machine broke\n",
            "2898.05 machine replaced\n",
            "2908.95 machine repaired\n",
            "2958.72 machine broke\n",
            "2958.72 machine replaced\n",
            "2969.34 machine repaired\n"
          ],
          "name": "stdout"
        }
      ]
    },
    {
      "cell_type": "code",
      "metadata": {
        "id": "J1YiXo5NKHUC",
        "colab_type": "code",
        "colab": {}
      },
      "source": [
        "number_of_spares"
      ],
      "execution_count": 0,
      "outputs": []
    },
    {
      "cell_type": "code",
      "metadata": {
        "id": "oqpAIgEUKLAP",
        "colab_type": "code",
        "colab": {
          "base_uri": "https://localhost:8080/",
          "height": 34
        },
        "outputId": "3dd4c54f-6323-4ef3-8975-a9c36809fcde"
      },
      "source": [
        "observation_cost[-1]"
      ],
      "execution_count": 382,
      "outputs": [
        {
          "output_type": "execute_result",
          "data": {
            "text/plain": [
              "2989740.0"
            ]
          },
          "metadata": {
            "tags": []
          },
          "execution_count": 382
        }
      ]
    },
    {
      "cell_type": "markdown",
      "metadata": {
        "id": "bwG_X0GUkPQ5",
        "colab_type": "text"
      },
      "source": [
        "This is our final cost."
      ]
    },
    {
      "cell_type": "code",
      "metadata": {
        "id": "4aL3K9hpQ7Mh",
        "colab_type": "code",
        "colab": {
          "base_uri": "https://localhost:8080/",
          "height": 296
        },
        "outputId": "5646b9a7-67d3-42a4-caf9-0346bf4950ba"
      },
      "source": [
        "import matplotlib.pyplot as plt\n",
        "\n",
        "plt.figure()\n",
        "plt.step(observation_times, number_of_spares, where='post')\n",
        "plt.xlabel(\"number of hours\")\n",
        "plt.ylabel(\"spares\")"
      ],
      "execution_count": 378,
      "outputs": [
        {
          "output_type": "execute_result",
          "data": {
            "text/plain": [
              "Text(0, 0.5, 'spares')"
            ]
          },
          "metadata": {
            "tags": []
          },
          "execution_count": 378
        },
        {
          "output_type": "display_data",
          "data": {
            "image/png": "[encoded data removed]",
            "text/plain": [
              "<Figure size 432x288 with 1 Axes>"
            ]
          },
          "metadata": {
            "tags": [],
            "needs_background": "light"
          }
        }
      ]
    },
    {
      "cell_type": "markdown",
      "metadata": {
        "id": "yR74y1rWc7sO",
        "colab_type": "text"
      },
      "source": [
        "So in around hours 750 and 2250 hours (30 and 94 days respectively), we are out of spare machines, but it will still be replenished as soon as its available."
      ]
    },
    {
      "cell_type": "code",
      "metadata": {
        "id": "kX9Y8RzWdbs-",
        "colab_type": "code",
        "colab": {
          "base_uri": "https://localhost:8080/",
          "height": 307
        },
        "outputId": "886daea2-9779-4232-96a0-bb445101770e"
      },
      "source": [
        "\n",
        "plt.figure()\n",
        "plt.step(observation_times, observation_cost, where='post')\n",
        "plt.xlabel(\"number of hours\")\n",
        "plt.ylabel(\"cost\")"
      ],
      "execution_count": 381,
      "outputs": [
        {
          "output_type": "execute_result",
          "data": {
            "text/plain": [
              "Text(0, 0.5, 'cost')"
            ]
          },
          "metadata": {
            "tags": []
          },
          "execution_count": 381
        },
        {
          "output_type": "display_data",
          "data": {
            "image/png": "[encoded data removed]",
            "text/plain": [
              "<Figure size 432x288 with 1 Axes>"
            ]
          },
          "metadata": {
            "tags": [],
            "needs_background": "light"
          }
        }
      ]
    }
  ]
}
