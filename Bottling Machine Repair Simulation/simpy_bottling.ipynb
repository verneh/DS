{
  "nbformat": 4,
  "nbformat_minor": 0,
  "metadata": {
    "colab": {
      "name": "simpy-bottling.ipynb",
      "provenance": [],
      "collapsed_sections": []
    },
    "kernelspec": {
      "name": "python3",
      "display_name": "Python 3"
    }
  },
  "cells": [
    {
      "cell_type": "markdown",
      "metadata": {
        "id": "YD7EyOie4rvw",
        "colab_type": "text"
      },
      "source": [
        "**Small Sample Simulation for Bottling Factory Machine**\n"
      ]
    },
    {
      "cell_type": "markdown",
      "metadata": {
        "id": "DsAbdaWf6_jL",
        "colab_type": "text"
      },
      "source": [
        "Credit goes to Paul Grogan's works on *SimPy*. We are under the assumption that everything starts at the same time for this small scale bottling company."
      ]
    },
    {
      "cell_type": "code",
      "metadata": {
        "id": "8WuqNE7hHJGc",
        "colab_type": "code",
        "outputId": "d1373570-3964-448c-8e09-4dddcb65886b",
        "colab": {
          "base_uri": "https://localhost:8080/",
          "height": 34
        }
      },
      "source": [
        "!pip install simpy"
      ],
      "execution_count": 17,
      "outputs": [
        {
          "output_type": "stream",
          "text": [
            "Requirement already satisfied: simpy in /usr/local/lib/python3.6/dist-packages (4.0.0)\n"
          ],
          "name": "stdout"
        }
      ]
    },
    {
      "cell_type": "code",
      "metadata": {
        "id": "KgJkNFAlG-yv",
        "colab_type": "code",
        "colab": {}
      },
      "source": [
        "import simpy\n",
        "import numpy as np"
      ],
      "execution_count": 0,
      "outputs": []
    },
    {
      "cell_type": "code",
      "metadata": {
        "id": "k6M1pH4zHEa_",
        "colab_type": "code",
        "colab": {}
      },
      "source": [
        "def factory_run(env, staff, spares):\n",
        "    \n",
        "    global cost\n",
        "    cost = 0.0\n",
        "\n",
        "    # we need to manage the machines. so we have 2 running at the moment.\n",
        "    for i in range(2):\n",
        "      env.process(operate_machine(env, staff, spares))\n",
        "\n",
        "    # recurring loop of costs incurred from staff and cost of machine. value converted to PHP.\n",
        "    # 250 per hour for an engineer who work for 6 hours and we have two. we are assuming that the machine for a small scale bottling facility costs 833 per day.\n",
        "    while True:\n",
        "      cost += 250*6*staff.capacity + 833*spares.capacity\n",
        "      yield env.timeout(8.0)\n",
        "\n",
        "def operate_machine(env, staff, cans):      \n",
        "    \n",
        "    global cost\n",
        "\n",
        "    while True:\n",
        "      yield env.timeout(time_to_failure())\n",
        "      t_broken = env.now\n",
        "      print('{:.2f} machine broke'.format(t_broken))\n",
        "      # repair machine and log time.\n",
        "      # putting this statement means we don't have to wait for the repair, we just launch it.\n",
        "      env.process(repair_machine(env, staff, spares))\n",
        "      yield spares.get(1)\n",
        "      t_replaced = env.now\n",
        "      print('{:.2f} machine replaced'.format(t_replaced))\n",
        "      cost += 550*(t_replaced - t_broken) # 550 is the cost per hour of not having the machine \n",
        "\n",
        "# determine distribution of hours to complete repair.\n",
        "def generate_repair_time():\n",
        "    return np.random.uniform(9, 11)    \n",
        "\n",
        "\n",
        "# breaks every x. in our case every 10 days.\n",
        "def time_to_failure():\n",
        "    return np.random.uniform(240, 480)\n",
        "\n",
        "# define repair machine. put back cans from our pool of cans.\n",
        "def repair_machine(env, staff, spares): \n",
        "    with staff.request() as request:\n",
        "      yield request\n",
        "      yield env.timeout(generate_repair_time())\n",
        "      yield spares.put(1)\n",
        "    print('{:.2f} machine repaired'.format(env.now))  \n",
        "\n",
        "\n"
      ],
      "execution_count": 0,
      "outputs": []
    },
    {
      "cell_type": "code",
      "metadata": {
        "id": "MwgByBKAC4A7",
        "colab_type": "code",
        "colab": {}
      },
      "source": [
        "# generate data for plotting\n",
        "observation_times = []\n",
        "observation_cost = []\n",
        "number_of_spares = []"
      ],
      "execution_count": 0,
      "outputs": []
    },
    {
      "cell_type": "code",
      "metadata": {
        "id": "wXgdh_jaF2OT",
        "colab_type": "code",
        "colab": {}
      },
      "source": [
        "def observe(env, cans):\n",
        "  while True:\n",
        "    observation_times.append(env.now)\n",
        "    # be careful to define global cost. for this type of simulation it works fine.\n",
        "    observation_cost.append(cost)\n",
        "    number_of_spares.append(spares.level) # to know how many levels of spares are available.\n",
        "    yield env.timeout(1.0) # process monitor takes place every one hour.\n"
      ],
      "execution_count": 0,
      "outputs": []
    },
    {
      "cell_type": "code",
      "metadata": {
        "id": "cmq2w2Ig4iNF",
        "colab_type": "code",
        "colab": {}
      },
      "source": [
        "np.random.seed(42)"
      ],
      "execution_count": 0,
      "outputs": []
    },
    {
      "cell_type": "code",
      "metadata": {
        "id": "nqMHVpz_5Q11",
        "colab_type": "code",
        "colab": {}
      },
      "source": [
        "env = simpy.Environment()"
      ],
      "execution_count": 0,
      "outputs": []
    },
    {
      "cell_type": "code",
      "metadata": {
        "id": "RfLJDTZF4ody",
        "colab_type": "code",
        "colab": {}
      },
      "source": [
        "staff = simpy.Resource(env, capacity=2)"
      ],
      "execution_count": 0,
      "outputs": []
    },
    {
      "cell_type": "code",
      "metadata": {
        "id": "5U4Y6L-Z5MIu",
        "colab_type": "code",
        "colab": {}
      },
      "source": [
        "# we are assuming that there are 2 spare machines. \n",
        "spares = simpy.Container(env, init=2, capacity=2)"
      ],
      "execution_count": 0,
      "outputs": []
    },
    {
      "cell_type": "code",
      "metadata": {
        "id": "C4UG4JSeJpin",
        "colab_type": "code",
        "outputId": "7d156c46-f2ac-46e8-cc46-e4e5511aec17",
        "colab": {
          "base_uri": "https://localhost:8080/",
          "height": 34
        }
      },
      "source": [
        "env.process(factory_run(env, staff, spares))"
      ],
      "execution_count": 26,
      "outputs": [
        {
          "output_type": "execute_result",
          "data": {
            "text/plain": [
              "<Process(factory_run) object at 0x7f51c2c44be0>"
            ]
          },
          "metadata": {
            "tags": []
          },
          "execution_count": 26
        }
      ]
    },
    {
      "cell_type": "code",
      "metadata": {
        "id": "2mdjzK1lJbqg",
        "colab_type": "code",
        "outputId": "219c0269-b599-4b1a-e969-0eff7251109f",
        "colab": {
          "base_uri": "https://localhost:8080/",
          "height": 34
        }
      },
      "source": [
        "env.process(observe(env, spares))"
      ],
      "execution_count": 27,
      "outputs": [
        {
          "output_type": "execute_result",
          "data": {
            "text/plain": [
              "<Process(observe) object at 0x7f51c2c44358>"
            ]
          },
          "metadata": {
            "tags": []
          },
          "execution_count": 27
        }
      ]
    },
    {
      "cell_type": "code",
      "metadata": {
        "id": "8F9-C3UYkDAc",
        "colab_type": "code",
        "outputId": "8901b0ba-440d-491c-bdcf-5824feaed352",
        "colab": {
          "base_uri": "https://localhost:8080/",
          "height": 923
        }
      },
      "source": [
        "# the assumption is that the machines run for 12 hours a day. the numbers reflected here is based on weeks. \n",
        "# we chose a random period within week 10 - 20 (240 - 480).\n",
        "env.run(until=12*5*52)"
      ],
      "execution_count": 28,
      "outputs": [
        {
          "output_type": "stream",
          "text": [
            "329.89 machine broke\n",
            "329.89 machine replaced\n",
            "340.09 machine repaired\n",
            "468.17 machine broke\n",
            "468.17 machine replaced\n",
            "477.48 machine repaired\n",
            "745.57 machine broke\n",
            "745.57 machine replaced\n",
            "745.62 machine broke\n",
            "745.62 machine replaced\n",
            "756.03 machine repaired\n",
            "756.30 machine repaired\n",
            "999.51 machine broke\n",
            "999.51 machine replaced\n",
            "1010.45 machine repaired\n",
            "1129.88 machine broke\n",
            "1129.88 machine replaced\n",
            "1139.31 machine repaired\n",
            "1244.45 machine broke\n",
            "1244.45 machine replaced\n",
            "1253.82 machine repaired\n",
            "1528.09 machine broke\n",
            "1528.09 machine replaced\n",
            "1538.14 machine repaired\n",
            "1569.67 machine broke\n",
            "1569.67 machine replaced\n",
            "1579.25 machine repaired\n",
            "1841.10 machine broke\n",
            "1841.10 machine replaced\n",
            "1850.38 machine repaired\n",
            "1913.34 machine broke\n",
            "1913.34 machine replaced\n",
            "1923.07 machine repaired\n",
            "2223.45 machine broke\n",
            "2223.45 machine replaced\n",
            "2227.95 machine broke\n",
            "2227.95 machine replaced\n",
            "2234.02 machine repaired\n",
            "2237.98 machine repaired\n",
            "2515.87 machine broke\n",
            "2515.87 machine replaced\n",
            "2524.96 machine repaired\n",
            "2572.91 machine broke\n",
            "2572.91 machine replaced\n",
            "2582.25 machine repaired\n",
            "2898.05 machine broke\n",
            "2898.05 machine replaced\n",
            "2908.95 machine repaired\n",
            "2958.72 machine broke\n",
            "2958.72 machine replaced\n",
            "2969.34 machine repaired\n"
          ],
          "name": "stdout"
        }
      ]
    },
    {
      "cell_type": "code",
      "metadata": {
        "id": "oqpAIgEUKLAP",
        "colab_type": "code",
        "outputId": "9826118a-6ba3-49d7-d55b-9c0c0c449eea",
        "colab": {
          "base_uri": "https://localhost:8080/",
          "height": 34
        }
      },
      "source": [
        "observation_cost[-1]"
      ],
      "execution_count": 30,
      "outputs": [
        {
          "output_type": "execute_result",
          "data": {
            "text/plain": [
              "1819740.0"
            ]
          },
          "metadata": {
            "tags": []
          },
          "execution_count": 30
        }
      ]
    },
    {
      "cell_type": "markdown",
      "metadata": {
        "id": "bwG_X0GUkPQ5",
        "colab_type": "text"
      },
      "source": [
        "This is our final cost."
      ]
    },
    {
      "cell_type": "code",
      "metadata": {
        "id": "4aL3K9hpQ7Mh",
        "colab_type": "code",
        "outputId": "5e571c97-89f2-464d-d4cc-f8174a66ee1e",
        "colab": {
          "base_uri": "https://localhost:8080/",
          "height": 296
        }
      },
      "source": [
        "import matplotlib.pyplot as plt\n",
        "\n",
        "plt.figure()\n",
        "plt.step(observation_times, number_of_spares, where='post')\n",
        "plt.xlabel(\"number of hours\")\n",
        "plt.ylabel(\"spares\")"
      ],
      "execution_count": 31,
      "outputs": [
        {
          "output_type": "execute_result",
          "data": {
            "text/plain": [
              "Text(0, 0.5, 'spares')"
            ]
          },
          "metadata": {
            "tags": []
          },
          "execution_count": 31
        },
        {
          "output_type": "display_data",
          "data": {
            "image/png": "[encoded data removed]",
            "text/plain": [
              "<Figure size 432x288 with 1 Axes>"
            ]
          },
          "metadata": {
            "tags": [],
            "needs_background": "light"
          }
        }
      ]
    },
    {
      "cell_type": "markdown",
      "metadata": {
        "id": "yR74y1rWc7sO",
        "colab_type": "text"
      },
      "source": [
        "So in around hours 750 and 2250 hours (30 and 94 days respectively), we are out of spare machines, but it will still be replenished as soon as its available."
      ]
    },
    {
      "cell_type": "code",
      "metadata": {
        "id": "kX9Y8RzWdbs-",
        "colab_type": "code",
        "outputId": "c4405c8e-5e62-4b9a-95a0-81c012ee0659",
        "colab": {
          "base_uri": "https://localhost:8080/",
          "height": 307
        }
      },
      "source": [
        "\n",
        "plt.figure()\n",
        "plt.step(observation_times, observation_cost, where='post')\n",
        "plt.xlabel(\"number of hours\")\n",
        "plt.ylabel(\"cost\")"
      ],
      "execution_count": 32,
      "outputs": [
        {
          "output_type": "execute_result",
          "data": {
            "text/plain": [
              "Text(0, 0.5, 'cost')"
            ]
          },
          "metadata": {
            "tags": []
          },
          "execution_count": 32
        },
        {
          "output_type": "display_data",
          "data": {
            "image/png": "[encoded data removed]",
            "text/plain": [
              "<Figure size 432x288 with 1 Axes>"
            ]
          },
          "metadata": {
            "tags": [],
            "needs_background": "light"
          }
        }
      ]
    }
  ]
}